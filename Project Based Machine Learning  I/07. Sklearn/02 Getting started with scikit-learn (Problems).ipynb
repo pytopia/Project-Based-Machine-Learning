{
 "cells": [
  {
   "cell_type": "markdown",
   "id": "2f5ee8ef-f2ba-46f5-a304-2622e41cecaa",
   "metadata": {
    "tags": []
   },
   "source": [
    "# <img src=\"../../images/logos/ml-logo.png\" width=\"23\"/> Getting started with scikit-learn (Problems)"
   ]
  },
  {
   "cell_type": "markdown",
   "id": "262e9d4e-4e94-439d-a7b6-c4b84b1b49d3",
   "metadata": {},
   "source": [
    "**Question:**  \n",
    "What is an **estimator** in scikit-learn?\n",
    "\n",
    "1. A function for converting pandas DataFrames to numpy arrays.\n",
    "2. A tool for splitting a dataset into training and test sets.\n",
    "3. A built-in machine learning algorithm or model.\n",
    "4. A metric for evaluating the performance of a machine learning model.\n",
    "\n",
    "**Answer:**  3"
   ]
  },
  {
   "cell_type": "markdown",
   "id": "62e8dd8d-9b70-4a39-b19a-7c84ca5adebd",
   "metadata": {},
   "source": [
    "---"
   ]
  },
  {
   "cell_type": "markdown",
   "id": "cdc7e236-c651-4250-b3ef-09fb0235fdab",
   "metadata": {},
   "source": [
    "**Question:**  \n",
    "Which of the following methods is used to fit data to an estimator in scikit-learn?\n",
    "1. `predict()`\n",
    "2. `fit()`\n",
    "3. `transform()`\n",
    "4. `score()`\n",
    "\n",
    "**Answer:**  2"
   ]
  },
  {
   "cell_type": "markdown",
   "id": "cb294a9d-ae7f-45e0-a294-ffbc1217c557",
   "metadata": {},
   "source": [
    "---"
   ]
  },
  {
   "cell_type": "markdown",
   "id": "add97dd2-9381-4e0f-8b21-286d44d99c36",
   "metadata": {},
   "source": [
    "**Question:**  \n",
    "Which of the following is **NOT** true regarding the inputs generally accepted by the `fit()` method in scikit-learn?\n",
    "\n",
    "1. It accepts the samples matrix **X** which samples are represented as rows and features are represented as columns.\n",
    "2. It accepts the target values **y** which are real numbers for regression tasks, or integers for classification.\n",
    "3. For unsupervized learning tasks, **y** need to be specified.\n",
    "4. **y** is usually 1d array where the i_th entry corresponds to the target of the i_th sample (row) of **X**.\n",
    "\n",
    "**Answer:**  3"
   ]
  },
  {
   "cell_type": "markdown",
   "id": "b62e4562-2248-416c-8ca0-ca4ab4d639dc",
   "metadata": {},
   "source": [
    "---"
   ]
  },
  {
   "cell_type": "markdown",
   "id": "046b075f-9eaa-4871-93c7-ce0c2287f179",
   "metadata": {},
   "source": [
    "**Question:**  \n",
    "Which of the following methods is used to **predict** new data in scikit-learn?\n",
    "\n",
    "1. `transform()`\n",
    "2. `score()`\n",
    "3. `fit()`\n",
    "4. `predict()`\n",
    "\n",
    "**Answer:**  4"
   ]
  },
  {
   "cell_type": "markdown",
   "id": "eeaa57eb-0520-402b-b3b2-0f8c52ef7592",
   "metadata": {},
   "source": [
    "---"
   ]
  },
  {
   "cell_type": "markdown",
   "id": "a6db55e5-ffa9-4bc2-83ce-e35c79ba4171",
   "metadata": {},
   "source": [
    "**Question:**  \n",
    "What is the difference between **estimator** and **transformer** objects in scikit-learn?\n",
    "\n",
    "1. Estimators are used for feature transformation, while transformers are used for model training.\n",
    "2. Estimators are used for model training, while transformers are used for feature transformation.\n",
    "3. Estimators and transformers are the same thing and can be used interchangeably.\n",
    "4. Estimators and transformers are both used for model training.\n",
    "\n",
    "**Answer:**  2"
   ]
  },
  {
   "cell_type": "markdown",
   "id": "3b98c483-5f5c-4e39-9ffb-8fe6ba9bcd75",
   "metadata": {},
   "source": [
    "---"
   ]
  },
  {
   "cell_type": "markdown",
   "id": "a10032f4-d213-456c-9e7c-1b09f28ab7c1",
   "metadata": {},
   "source": [
    "**Question:**  \n",
    "Which of the following is true regarding estimators and transformers in scikit-learn?\n",
    "\n",
    "1. Estimators have `predict()` method but transformers have `transform()` method.\n",
    "1. Estimators have `transform()` method but transformers have `predict()` method.\n",
    "1. Both estimators and transformers have `predict()` method.\n",
    "1. Both estimators and transformers have `transform()` method.\n",
    "\n",
    "**Answer:** 1"
   ]
  },
  {
   "cell_type": "markdown",
   "id": "117fc3d0-bbd0-4c77-8fd7-4a10dd59329e",
   "metadata": {},
   "source": [
    "---"
   ]
  },
  {
   "cell_type": "markdown",
   "id": "5dfdab81-798d-4742-b45a-a1d559ba40a6",
   "metadata": {},
   "source": [
    "**Question:**  \n",
    "What is the use of the `fit_transform()` method in scikit-learn?\n",
    "\n",
    "1. To fit a model to training data and transform input features.\n",
    "2. To fit a transformer to training data and transform input features.\n",
    "3. To transform input features using a pre-trained transformer.\n",
    "4. To evaluate the performance of a model on a test set.\n",
    "\n",
    "**Answer:**  2"
   ]
  },
  {
   "cell_type": "markdown",
   "id": "54c47583-a664-4018-aa78-2f75e563ab4e",
   "metadata": {},
   "source": [
    "---"
   ]
  },
  {
   "cell_type": "markdown",
   "id": "d38802b9-7cab-42bf-9817-fce49897e91a",
   "metadata": {},
   "source": [
    "**Question:**  \n",
    "Which of the following is **NOT** a best practice in scikit-learn?\n",
    "1. Using `fit()` method with training data.\n",
    "2. Using `fit_transform()` method with training data.\n",
    "3. Using `transform()` method with test data.\n",
    "4. Using `fit_transform()` method with test data.\n",
    "\n",
    "**Answer:**  4"
   ]
  },
  {
   "cell_type": "markdown",
   "id": "c11cb276-1a52-4b89-baa2-9e76f85a6456",
   "metadata": {},
   "source": [
    "---"
   ]
  },
  {
   "cell_type": "markdown",
   "id": "7c7267e1-0fc4-4bf6-8b40-318b11dff4c0",
   "metadata": {},
   "source": [
    "**Question:**  \n",
    "What is the use of a **pipeline** in scikit-learn?\n",
    "\n",
    "1. To combine multiple transformers into a single transformer.\n",
    "2. To combine multiple estimators into a single estimator.\n",
    "3. To combine transformers and estimators into a single workflow.\n",
    "4. To evaluate the performance of multiple models on a test data.\n",
    "\n",
    "**Answer:**  3"
   ]
  },
  {
   "cell_type": "markdown",
   "id": "a81211d8-4266-45f1-a7d2-bee13149f1d9",
   "metadata": {},
   "source": [
    "---"
   ]
  },
  {
   "cell_type": "markdown",
   "id": "a34151d4-7fb6-4095-bee0-8d82d302f95a",
   "metadata": {},
   "source": [
    "**Question:**  \n",
    "What does the `train_test_split()` function do in scikit-learn?\n",
    "\n",
    "1. Splits a dataset into training and testing subsets.\n",
    "2. Splits a dataset into multiple training and testing subsets.\n",
    "3. Fits a model to training data and evaluates its performance on test data.\n",
    "4. Applies a transformation to input features and target variables.\n",
    "\n",
    "**Answer:**  1"
   ]
  },
  {
   "cell_type": "markdown",
   "id": "ffc63e94-5cc6-4d1e-8708-125261205e70",
   "metadata": {},
   "source": [
    "---"
   ]
  },
  {
   "cell_type": "markdown",
   "id": "d7a0efa7-e872-447f-86fe-2ebc6e17ae43",
   "metadata": {},
   "source": [
    "**Question:**  \n",
    "What is the use of the `accuracy_score()` function in scikit-learn?\n",
    "\n",
    "1. To evaluate the performance of a regression model on test data.\n",
    "2. To evaluate the performance of a classification model on test data.\n",
    "3. To perform feature selection on input data.\n",
    "4. To apply a transformation to input features.\n",
    "\n",
    "**Answer:** 2 "
   ]
  },
  {
   "cell_type": "markdown",
   "id": "31c6cfd2-021d-431a-99a8-198c31635ef5",
   "metadata": {},
   "source": [
    "---"
   ]
  },
  {
   "cell_type": "markdown",
   "id": "ff7dfc57-4ba4-4302-b452-e1c9531b392e",
   "metadata": {},
   "source": [
    "**Question:**  \n",
    "How does the `cross_validate()` function work in scikit-learn?\n",
    "\n",
    "1. Trains a model on multiple subsets of the training data and evaluates its performance on a validation set.\n",
    "2. Splits a dataset into training and testing subsets multiple times.\n",
    "3. Applies a transformation to input features and target variables multiple times.\n",
    "4. Evaluates the performance of a model on a test set multiple times.\n",
    "\n",
    "**Answer:**  1"
   ]
  },
  {
   "cell_type": "markdown",
   "id": "5a6cb28a-6da7-45bd-a0d2-1df46e8c0072",
   "metadata": {},
   "source": [
    "---"
   ]
  },
  {
   "cell_type": "markdown",
   "id": "b2d09b72-5cbd-49ed-bcd9-d01ef4679cb9",
   "metadata": {},
   "source": [
    "**Question:**  \n",
    "What are the **hyperparameters** of estimators in scikit-learn?\n",
    "\n",
    "1. Parameters that determine the type of estimator to use.\n",
    "2. Parameters that are learned from training data.\n",
    "3. Parameters that are used to evaluate the performance of the estimator.\n",
    "4. Parameters that can be set by the user before training the estimator.\n",
    "\n",
    "**Answer:** 4 "
   ]
  },
  {
   "cell_type": "markdown",
   "id": "8cda3fe4-4933-410e-8f7c-4d61f6e3d39e",
   "metadata": {},
   "source": [
    "---"
   ]
  },
  {
   "cell_type": "markdown",
   "id": "44282239-0b3b-440f-85ed-b7f5bdf2968d",
   "metadata": {},
   "source": [
    "**Question:**  \n",
    "Which of the following statements about **hyperparameters** in scikit-learn is true?\n",
    "\n",
    "1. Hyperparameters are learned from the training data.\n",
    "2. Hyperparameters are used to evaluate the performance of the estimator.\n",
    "3. The generalization power of an estimator often critically depends on a few hyperparameters.\n",
    "4. Hyperparameters are only used in unsupervised learning.\n",
    "\n",
    "**Answer:**  3"
   ]
  },
  {
   "cell_type": "markdown",
   "id": "284a6b04-8d07-409f-8ddf-5b34f798ea56",
   "metadata": {},
   "source": [
    "---"
   ]
  },
  {
   "cell_type": "markdown",
   "id": "394a3d03-50e8-4aa5-af7c-140e12fe5b1c",
   "metadata": {},
   "source": [
    "**Question:**  \n",
    "What is the use of the `RandomizedSearchCV()` class in scikit-learn?\n",
    "\n",
    "1. To perform cross-validation on a dataset.\n",
    "2. To search for the best hyperparameters of an estimator using random search.\n",
    "3. To fit a model to training data and evaluate its performance on test data.\n",
    "4. To apply a transformation to input features and target variables.\n",
    "\n",
    "**Answer:**  2"
   ]
  },
  {
   "cell_type": "markdown",
   "id": "9235527b-2d72-420b-98e7-449fde514a49",
   "metadata": {},
   "source": [
    "---"
   ]
  }
 ],
 "metadata": {
  "kernelspec": {
   "display_name": "Python 3 (ipykernel)",
   "language": "python",
   "name": "python3"
  },
  "language_info": {
   "codemirror_mode": {
    "name": "ipython",
    "version": 3
   },
   "file_extension": ".py",
   "mimetype": "text/x-python",
   "name": "python",
   "nbconvert_exporter": "python",
   "pygments_lexer": "ipython3",
   "version": "3.9.16"
  }
 },
 "nbformat": 4,
 "nbformat_minor": 5
}
