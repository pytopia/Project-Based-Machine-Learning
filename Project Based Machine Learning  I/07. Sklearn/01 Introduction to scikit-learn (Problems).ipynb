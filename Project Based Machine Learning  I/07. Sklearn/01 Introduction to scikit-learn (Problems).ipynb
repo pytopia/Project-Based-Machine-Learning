{
 "cells": [
  {
   "cell_type": "markdown",
   "id": "2f5ee8ef-f2ba-46f5-a304-2622e41cecaa",
   "metadata": {
    "tags": []
   },
   "source": [
    "# <img src=\"../../images/logos/ml-logo.png\" width=\"23\"/> Introduction to scikit-learn (Problems)"
   ]
  },
  {
   "cell_type": "markdown",
   "id": "19422f19-f337-4ff1-99a9-02071f6d09db",
   "metadata": {},
   "source": [
    "**Question:**  \n",
    "What is scikit-learn?\n",
    "\n",
    "1. A popular open-source machine learning library for Python that provides a wide range of tools for data analysis, modeling, and evaluation.\n",
    "2. A software for creating neural networks and deep learning models.\n",
    "3. A programming language for data analysis and visualization.\n",
    "4. A database management system for big data.\n",
    "\n",
    "**Answer:**  1"
   ]
  },
  {
   "cell_type": "markdown",
   "id": "0b4e6652-31ab-4faf-b9d8-26ba187ec0de",
   "metadata": {},
   "source": [
    "---"
   ]
  },
  {
   "cell_type": "markdown",
   "id": "46498276-bd76-4734-97d3-98dff982f22f",
   "metadata": {},
   "source": [
    "**Question:**  \n",
    "Which of the following is supported by scikit-learn?\n",
    "\n",
    "1. Unsupervised learning\n",
    "2. Model selection and evaluation\n",
    "3. Supervised learning\n",
    "4. All of the above\n",
    "\n",
    "**Answer:**  4"
   ]
  },
  {
   "cell_type": "markdown",
   "id": "2a9bc602-ea38-4002-beea-375335c3efe3",
   "metadata": {},
   "source": [
    "---"
   ]
  },
  {
   "cell_type": "markdown",
   "id": "49bf0463-0b08-4a9d-9b3e-4fba42e81463",
   "metadata": {},
   "source": [
    "**Question:**  \n",
    "Which of the following is supported by scikit-learn?\n",
    "\n",
    "1. Reinforcement learning\n",
    "2. Deep learning\n",
    "3. Unsupervised learning\n",
    "4. All of the above\n",
    "\n",
    "**Answer:**  3"
   ]
  },
  {
   "cell_type": "markdown",
   "id": "d5be3495-3368-454f-8650-5cad75504277",
   "metadata": {},
   "source": [
    "---"
   ]
  },
  {
   "cell_type": "markdown",
   "id": "b38ad6f0-d50c-45b3-abec-59f025ed8e94",
   "metadata": {},
   "source": [
    "**Question:**  \n",
    "Which of the following is true about scikit-learn library?\n",
    "\n",
    "1. It provides tools for splitting a dataset into training and test sets.\n",
    "2. It provides a convenient and consistent API for loading datasets.\n",
    "3. It provides a wide range of algorithms and tools for learning from data and making predictions.\n",
    "4. All of the above\n",
    "\n",
    "**Answer:** 4"
   ]
  },
  {
   "cell_type": "markdown",
   "id": "9565eb6a-df4b-4684-820f-26030e7c3fc9",
   "metadata": {},
   "source": [
    "---"
   ]
  },
  {
   "cell_type": "markdown",
   "id": "699f5983-64c4-4e8f-a725-efc6144947ba",
   "metadata": {},
   "source": [
    "**Question:**  \n",
    "Which of the following statements is **NOT** true regarding scikit-learn and pandas DataFrames?\n",
    "\n",
    "1. Scikit-learn provides direct support for pandas DataFrames.\n",
    "2. Pandas DataFrames are not compatible with scikit-learn.\n",
    "3. Scikit-learn provides some tools for converting pandas DataFrames to numpy arrays.\n",
    "4. Scikit-learn provides direct support for numpy arrays and array-like objects.\n",
    "\n",
    "**Answer:**  1"
   ]
  },
  {
   "cell_type": "markdown",
   "id": "eabdf332-4e5c-462c-9c07-b8e8bd3da822",
   "metadata": {},
   "source": [
    "---"
   ]
  }
 ],
 "metadata": {
  "kernelspec": {
   "display_name": "Python 3 (ipykernel)",
   "language": "python",
   "name": "python3"
  },
  "language_info": {
   "codemirror_mode": {
    "name": "ipython",
    "version": 3
   },
   "file_extension": ".py",
   "mimetype": "text/x-python",
   "name": "python",
   "nbconvert_exporter": "python",
   "pygments_lexer": "ipython3",
   "version": "3.9.16"
  }
 },
 "nbformat": 4,
 "nbformat_minor": 5
}
