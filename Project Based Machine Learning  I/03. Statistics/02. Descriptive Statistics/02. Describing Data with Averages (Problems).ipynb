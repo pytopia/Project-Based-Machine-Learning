{
 "cells": [
  {
   "cell_type": "markdown",
   "id": "1f1e31f7-6817-4dec-b871-99b8085bd489",
   "metadata": {},
   "source": [
    "<img src=\"../../../images/banners/descriptive-statistics.png\" width=\"600\"/>"
   ]
  },
  {
   "cell_type": "markdown",
   "id": "strange-situation",
   "metadata": {},
   "source": [
    "# <img src=\"../../../images/logos/statistics-logo.jpeg\" width=\"27\"/> Describing Data with Averages (Problems)"
   ]
  },
  {
   "cell_type": "markdown",
   "id": "c3dc2c86-1f1a-455c-9c98-99eb9defa216",
   "metadata": {},
   "source": [
    "**Question:**  \n",
    "Which of the following is not an average in statistics?\n",
    "1. Range\n",
    "2. Mean\n",
    "3. Median\n",
    "4. Mode\n",
    "\n",
    "**Answer:**  1"
   ]
  },
  {
   "cell_type": "markdown",
   "id": "8af0564a-32b9-4e81-ae8e-f1f7af23508a",
   "metadata": {},
   "source": [
    "---"
   ]
  },
  {
   "cell_type": "markdown",
   "id": "5d185131-b9b8-43cd-a75f-e1593a51f41c",
   "metadata": {},
   "source": [
    "**Question:**  \n",
    "What is the median in statistics?\n",
    "1. The value that occurs most frequently in a dataset\n",
    "2. The middle value when the data is arranged in order\n",
    "3. The arithmetic average of all the values in a dataset\n",
    "4. The difference between the maximum and minimum values in a dataset\n",
    "\n",
    "**Answer:**  2"
   ]
  },
  {
   "cell_type": "markdown",
   "id": "4690b2d7-7463-4f6c-82e0-82d9ec6d0ed3",
   "metadata": {},
   "source": [
    "---"
   ]
  },
  {
   "cell_type": "markdown",
   "id": "c4cc9fe2-3259-4e50-bf9e-08d4291c9b35",
   "metadata": {},
   "source": [
    "**Question:**  \n",
    "What is the mode in statistics?\n",
    "1. The value that occurs most frequently in a dataset\n",
    "2. The arithmetic average of all the values in a dataset\n",
    "3. The middle value when the data is arranged in order\n",
    "4. The difference between the maximum and minimum values in a dataset\n",
    "\n",
    "**Answer:**  1"
   ]
  },
  {
   "cell_type": "markdown",
   "id": "18000793-a47e-45ea-8eec-9eacc19f8170",
   "metadata": {},
   "source": [
    "---"
   ]
  },
  {
   "cell_type": "markdown",
   "id": "3bed2bb9-c73d-46a3-90af-451c3cfb0c9e",
   "metadata": {},
   "source": [
    "**Question:**  \n",
    "Which symbols usually describe population characteristics?\n",
    "1. English letters\n",
    "2. Arabic numerals\n",
    "3. Greek letters\n",
    "4. Chinese characters\n",
    "\n",
    "**Answer:**  3"
   ]
  },
  {
   "cell_type": "markdown",
   "id": "b840ee1d-27b2-42ae-abf9-fa2dd470c54c",
   "metadata": {},
   "source": [
    "---"
   ]
  },
  {
   "cell_type": "markdown",
   "id": "bdcc3320-76af-45cc-8ff9-e36101040a6c",
   "metadata": {},
   "source": [
    "**Question:**  \n",
    "In which kind of frequency distributions are the mean, median, and mode similar?\n",
    "1. Normal distributions\n",
    "2. Skewed distributions\n",
    "3. Bimodal distributions\n",
    "4. None of the above\n",
    "\n",
    "**Answer:** 1 "
   ]
  },
  {
   "cell_type": "markdown",
   "id": "140b6bb2-a50e-453c-87ef-4bb6986b4fd6",
   "metadata": {},
   "source": [
    "---"
   ]
  },
  {
   "cell_type": "markdown",
   "id": "ab74fbf0-dc06-4e8f-ac19-68b740e42a28",
   "metadata": {},
   "source": [
    "**Question:**  \n",
    "Which kind of frequency distribution exhibits a mean that exceeds the median?\n",
    "1. Positively skewed distribution\n",
    "2. Negatively skewed distribution\n",
    "3. Symmetrical distribution\n",
    "4. Bimodal distribution\n",
    "\n",
    "**Answer:**  1"
   ]
  },
  {
   "cell_type": "markdown",
   "id": "49d7e514-c75c-4dce-b4e2-c5adf2527aef",
   "metadata": {},
   "source": [
    "---"
   ]
  },
  {
   "cell_type": "markdown",
   "id": "65fbde3c-6b4d-4ee9-82b6-89d75ffb5fb7",
   "metadata": {},
   "source": [
    "**Question:**  \n",
    "Which of the following is not correct about using averages for qualitative and ranked data?\n",
    "1. Mode is always appropriate\n",
    "2. Median is sometimes appropriate\n",
    "3. Mean is sometimes appropriate\n",
    "4. Mean is always inappropriate\n",
    "\n",
    "**Answer:**  3"
   ]
  },
  {
   "cell_type": "markdown",
   "id": "81b3e103-ba29-43f6-9923-8fda6d92e288",
   "metadata": {},
   "source": [
    "---"
   ]
  },
  {
   "cell_type": "markdown",
   "id": "16265965-8b1c-4ce7-a021-c2c45940f0bd",
   "metadata": {},
   "source": [
    "**Question:**  \n",
    "Given a ranked data with relative frequency, how do you calculate the median?\n",
    "1. Take the middle value of the ranked data\n",
    "2. Calculate the cumulative frequency and find the value that corresponds to the middle position\n",
    "3. Take the average of the highest and lowest values\n",
    "4. Take the value with the highest relative frequency\n",
    "\n",
    "**Answer:**  2"
   ]
  },
  {
   "cell_type": "markdown",
   "id": "e3e6e742-cae1-453b-9507-c0bd2d9616cf",
   "metadata": {},
   "source": [
    "---"
   ]
  },
  {
   "cell_type": "markdown",
   "id": "0c1c0097-d423-4934-b3ab-f9b86ec16ac3",
   "metadata": {},
   "source": [
    "**Question:**  \n",
    "Which of the following is the median of the given ranked data and relative frequencies?\n",
    "```\n",
    "data = {\n",
    "    'rank1': 0.15,\n",
    "    'rank2': 0.20,\n",
    "    'rank3': 0.10,\n",
    "    'rank4': 0.30,\n",
    "    'rank5': 0.25,\n",
    "}\n",
    "```\n",
    "1. rank2\n",
    "2. rank3\n",
    "3. rank4\n",
    "4. rank5\n",
    "\n",
    "**Answer:**  3\n",
    "\n",
    "Because the cumulative relative frequencies of the data is as follows and the location of the 50th percentile is rank4\n",
    "```\n",
    "cumulative = {\n",
    "    'rank1': 0.15,\n",
    "    'rank2': 0.35,\n",
    "    'rank3': 0.45,\n",
    "    'rank4': 0.75,\n",
    "    'rank5': 1.00,\n",
    "}\n",
    "```"
   ]
  },
  {
   "cell_type": "markdown",
   "id": "166afa2b-214f-4ad0-be3e-ef228b8e12be",
   "metadata": {},
   "source": [
    "---"
   ]
  }
 ],
 "metadata": {
  "kernelspec": {
   "display_name": "Python 3 (ipykernel)",
   "language": "python",
   "name": "python3"
  },
  "language_info": {
   "codemirror_mode": {
    "name": "ipython",
    "version": 3
   },
   "file_extension": ".py",
   "mimetype": "text/x-python",
   "name": "python",
   "nbconvert_exporter": "python",
   "pygments_lexer": "ipython3",
   "version": "3.9.16"
  }
 },
 "nbformat": 4,
 "nbformat_minor": 5
}
