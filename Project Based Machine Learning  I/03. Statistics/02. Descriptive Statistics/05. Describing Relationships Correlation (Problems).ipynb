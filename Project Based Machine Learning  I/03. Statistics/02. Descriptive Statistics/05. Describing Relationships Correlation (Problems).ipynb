{
 "cells": [
  {
   "cell_type": "markdown",
   "id": "6b977d44-e0b5-431f-87d5-3e20eef4336c",
   "metadata": {},
   "source": [
    "<img src=\"../../../images/banners/descriptive-statistics.png\" width=\"600\"/>"
   ]
  },
  {
   "cell_type": "markdown",
   "id": "still-coach",
   "metadata": {},
   "source": [
    "# <img src=\"../../../images/logos/statistics-logo.jpeg\" width=\"27\"/> Describing Relationships: Correlation (Problems)"
   ]
  },
  {
   "cell_type": "markdown",
   "id": "f5bca9b3-6142-4739-a098-f72e3bab3b77",
   "metadata": {},
   "source": [
    "**Question:**  \n",
    "What term is used to describe the relationship between two variables if pairs of scores tend to occupy similar relative positions (high with high and low with low) in their respective distributions?\n",
    "1. Positive correlation\n",
    "2. Negative correlation\n",
    "3. No correlation\n",
    "4. Perfect correlation\n",
    "\n",
    "**Answer:**  1"
   ]
  },
  {
   "cell_type": "markdown",
   "id": "420b5e16-3b17-488d-9b66-30e2b6ffa447",
   "metadata": {},
   "source": [
    "---"
   ]
  },
  {
   "cell_type": "markdown",
   "id": "eb32999c-2f38-4351-ad22-3b49a58b39f4",
   "metadata": {},
   "source": [
    "**Question:**  \n",
    "Which of the following statements is not true about the relationships between two variables?\n",
    "1. A dot cluster that has a slope from the lower left to the upper right reflects a positive relationship.\n",
    "2. A dot cluster that has a slope from the upper left to the lower right reflects a negative relationship.\n",
    "3. A dot cluster that lacks any apparent slope reflects little or no relationship.\n",
    "4. All of the above are true\n",
    "\n",
    "**Answer:**  4"
   ]
  },
  {
   "cell_type": "markdown",
   "id": "53f17755-1756-49ab-81a0-c7795e7b903e",
   "metadata": {},
   "source": [
    "---"
   ]
  },
  {
   "cell_type": "markdown",
   "id": "f5c22b05-b8ec-4e7c-a4fa-891d40973b9d",
   "metadata": {},
   "source": [
    "**Question:**  \n",
    "What is a perfect relationship between two variables in statistics?\n",
    "1. A relationship where the two variables have a correlation coefficient of 0.5\n",
    "2. A relationship where the two variables have a correlation coefficient of 1\n",
    "3. A relationship where the two variables have a correlation coefficient of 0.3\n",
    "4. A relationship where the two variables have a correlation coefficient of 0\n",
    "\n",
    "**Answer:**  2"
   ]
  },
  {
   "cell_type": "markdown",
   "id": "732962f8-d860-45de-95de-307e84d8c534",
   "metadata": {},
   "source": [
    "---"
   ]
  },
  {
   "cell_type": "markdown",
   "id": "eef4ea78-a965-4e74-94f3-36644f891546",
   "metadata": {},
   "source": [
    "**Question:**  \n",
    "What does the correlation coefficient measure?\n",
    "1. The strength of the relationship between two variables\n",
    "2. The direction of the relationship between two variables\n",
    "3. Both the strength and direction of the relationship between two variables\n",
    "4. The difference between two variables\n",
    "\n",
    "**Answer:**  3"
   ]
  },
  {
   "cell_type": "markdown",
   "id": "fe99c648-7fe8-466a-a03d-52b05784ae4f",
   "metadata": {},
   "source": [
    "---"
   ]
  },
  {
   "cell_type": "markdown",
   "id": "44542c21-70c1-4667-851e-b02fef94e685",
   "metadata": {},
   "source": [
    "**Question:**  \n",
    "What does the sign and magnitude of the correlation coefficient indicate?\n",
    "1. The sign indicates the direction of the relationship, and the magnitude indicates the strength of the relationship\n",
    "2. The sign indicates the strength of the relationship, and the magnitude indicates the direction of the relationship\n",
    "3. The sign indicates the presence or absence of a relationship, and the magnitude indicates the degree of variability in the data\n",
    "4. The sign and magnitude both indicate the degree of variability in the data\n",
    "\n",
    "**Answer:** 1 "
   ]
  },
  {
   "cell_type": "markdown",
   "id": "d4828720-3806-4a06-804a-d9e7951fda9e",
   "metadata": {},
   "source": [
    "---"
   ]
  },
  {
   "cell_type": "markdown",
   "id": "b28fee69-991e-4d2a-afca-a21a6a5b30e6",
   "metadata": {},
   "source": [
    "**Question:**  \n",
    "What does the correlation coefficient measure, and what is the range of its values?\n",
    "1. The difference between two variables, with a range of -1 to +1\n",
    "2. The direction of the relationship between two variables, with a range of 0 to 1\n",
    "3. The strength of the linear relationship between two variables, with a range of -1 to +1\n",
    "4. The proportion or percentage of a perfect relationship between two variables, with a range of -1 to +1\n",
    "\n",
    "**Answer:**  3"
   ]
  },
  {
   "cell_type": "markdown",
   "id": "45d47f4d-bf7b-41a9-807a-0b60dd8b8877",
   "metadata": {},
   "source": [
    "---"
   ]
  },
  {
   "cell_type": "markdown",
   "id": "17fdee26-1656-465d-9431-11a27a41593d",
   "metadata": {},
   "source": [
    "**Question:**  \n",
    "What is the relationship between the correlation coefficient (r) and the units of measurement for the original X and Y scores?\n",
    "1. The value of r depends on the units of measurement for the original X and Y scores.\n",
    "2. The value of r is independent of the units of measurement for the original X and Y scores.\n",
    "3. The value of r is affected only by the units of measurement for the X scores, but not the Y scores.\n",
    "4. The value of r is affected only by the units of measurement for the Y scores, but not the X scores.\n",
    "\n",
    "**Answer:**  2"
   ]
  },
  {
   "cell_type": "markdown",
   "id": "e9673b39-1bf6-49e2-90ea-38232512fe64",
   "metadata": {},
   "source": [
    "---"
   ]
  },
  {
   "cell_type": "markdown",
   "id": "c096b861-2f42-44f9-b89a-3c93e6014e4e",
   "metadata": {},
   "source": [
    "**Question:**  \n",
    "Which of the following descriptions best describes the strength of a correlation coefficient (r) value of 0.8?\n",
    "1. No correlation\n",
    "2. Weak correlation\n",
    "3. Moderate correlation\n",
    "4. Strong correlation\n",
    "\n",
    "**Answer:**  4"
   ]
  },
  {
   "cell_type": "markdown",
   "id": "70ad7609-413d-46f7-b5f6-45d340427f19",
   "metadata": {},
   "source": [
    "---"
   ]
  },
  {
   "cell_type": "markdown",
   "id": "3bc59675-1087-4513-aff3-c308ac595d2c",
   "metadata": {},
   "source": [
    "**Question:**  \n",
    "Which of the following statements is true regarding the relationship between the correlation coefficient (r) and cause-effect relationships?\n",
    "1. A high correlation coefficient always indicates a cause-effect relationship between two variables.\n",
    "2. A low correlation coefficient always indicates a lack of cause-effect relationship between two variables.\n",
    "3. The correlation coefficient can provide information about the presence of a cause-effect relationship between two variables.\n",
    "4. A correlation coefficient, regardless of size, never provides information about whether an observed relationship reflects a simple cause-effect relationship.\n",
    "\n",
    "**Answer:**  4"
   ]
  },
  {
   "cell_type": "markdown",
   "id": "1fc3f5be-93e0-4456-828b-1f63b6399cc6",
   "metadata": {},
   "source": [
    "---"
   ]
  }
 ],
 "metadata": {
  "kernelspec": {
   "display_name": "Python 3 (ipykernel)",
   "language": "python",
   "name": "python3"
  },
  "language_info": {
   "codemirror_mode": {
    "name": "ipython",
    "version": 3
   },
   "file_extension": ".py",
   "mimetype": "text/x-python",
   "name": "python",
   "nbconvert_exporter": "python",
   "pygments_lexer": "ipython3",
   "version": "3.9.16"
  }
 },
 "nbformat": 4,
 "nbformat_minor": 5
}
