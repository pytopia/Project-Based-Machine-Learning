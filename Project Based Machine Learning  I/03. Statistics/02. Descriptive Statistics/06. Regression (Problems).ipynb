{
 "cells": [
  {
   "cell_type": "markdown",
   "id": "fd393ca0-eef4-42a4-ad13-524c5f050b99",
   "metadata": {},
   "source": [
    "<img src=\"../../../images/banners/descriptive-statistics.png\" width=\"600\"/>"
   ]
  },
  {
   "cell_type": "markdown",
   "id": "4523d39a-22b9-4a08-89c1-92fe35aa7760",
   "metadata": {},
   "source": [
    "# <img src=\"../../../images/logos/statistics-logo.jpeg\" width=\"27\"/> Describing Relationships: Correlation (Problems)"
   ]
  },
  {
   "cell_type": "markdown",
   "id": "7fced51f-55d6-4fb7-927e-e5e257260775",
   "metadata": {},
   "source": [
    "**Question:**  \n",
    "Which of the following statements best describes the regression line?\n",
    "\n",
    "1. A line that connects the mean of the independent variable to the mean of the dependent variable.\n",
    "2. A line that connects the maximum values of the independent and dependent variables.\n",
    "3. A line that connects the minimum values of the independent and dependent variables.\n",
    "4. A line that best fits the relationship between the independent and dependent variables. \n",
    "\n",
    "**Answer:**  4"
   ]
  },
  {
   "cell_type": "markdown",
   "id": "c89c79ed-0a06-4040-910f-e5ce45f43b0a",
   "metadata": {},
   "source": [
    "---"
   ]
  },
  {
   "cell_type": "markdown",
   "id": "806dfc29-201c-4278-a4f9-6b1ff7a47a88",
   "metadata": {},
   "source": [
    "**Question:**  \n",
    "Which of the following statements best describes the least squares regression line?\n",
    "\n",
    "1. A line that connects the mean of the independent variable to the mean of the dependent variable.\n",
    "2. A line that minimizes the sum of the squared distances between the observed data points and the predicted values.\n",
    "3. A line that connects the maximum values of the independent and dependent variables.\n",
    "4. A line that connects the minimum values of the independent and dependent variables.\n",
    "\n",
    "**Answer:**  2"
   ]
  },
  {
   "cell_type": "markdown",
   "id": "1fcf462d-7285-43c3-a674-fef8ed39b360",
   "metadata": {},
   "source": [
    "---"
   ]
  },
  {
   "cell_type": "markdown",
   "id": "b3e063de-29ff-427b-b2a5-f8ac377303eb",
   "metadata": {},
   "source": [
    "**Question:**  \n",
    "Which of the following formulas represents the slope (b) and intercept (a) of the least squares regression line?\n",
    "\n",
    "- `r` is the correlation coefficient between the two variables\n",
    "- `Sy` is the standard deviation of the dependent variable\n",
    "- `Sx` is the standard deviation of the independent variable\n",
    "- `ȳ` is the mean of the dependent variable\n",
    "- `x̄` is the mean of the independent variable\n",
    "\n",
    "1. b = r * (Sy / Sx), a = ȳ - b * x̄\n",
    "2. b = r * (Sx / Sy), a = ȳ - b * x̄\n",
    "3. a = r * (Sy / Sx), b = ȳ - a * x̄\n",
    "4. a = r * (Sx / Sy), b = ȳ - a * x̄\n",
    "\n",
    "**Answer:**  1"
   ]
  },
  {
   "cell_type": "markdown",
   "id": "515942b6-6460-4e52-a2fb-5063f71dd528",
   "metadata": {},
   "source": [
    "---"
   ]
  },
  {
   "cell_type": "markdown",
   "id": "8249b5c1-8079-40b4-b948-9830e1b2e260",
   "metadata": {},
   "source": [
    "**Question:**  \n",
    "Which of the following formulas represents the standard error of estimate (**definition formula**)?\n",
    "\n",
    "1. $ S_{y|x} = \\sqrt{\\frac{\\sum(Y - \\hat{Y})}{n-2}} $\n",
    "2. $ S_{y|x} = \\sqrt{\\frac{\\sum(Y - \\hat{Y})^2}{n-2}} $\n",
    "3. $ S_{y|x} = \\sqrt{\\frac{\\sum(Y - \\hat{Y})^2}{n}} $\n",
    "4. $ S_{y|x} = \\sqrt{\\frac{\\sum(Y - \\hat{Y})^2}{n}} $\n",
    "\n",
    "**Answer:**  2"
   ]
  },
  {
   "cell_type": "markdown",
   "id": "7a456574-71b7-491d-af11-ecff2ef79a44",
   "metadata": {},
   "source": [
    "---"
   ]
  },
  {
   "cell_type": "markdown",
   "id": "4055b0ea-dce5-4920-80aa-b7f620608834",
   "metadata": {},
   "source": [
    "**Question:**  \n",
    "Which of the following formulas represents the standard error of estimate (**computation formula**)?\n",
    "\n",
    "1. $ S_{y|x} = \\sqrt{\\frac{SS_y(1-r^2)}{n-2}} $\n",
    "2. $ S_{y|x} = \\sqrt{\\frac{SS_y(1-r^2)}{n}} $\n",
    "3. $ S_{y|x} = \\sqrt{\\frac{SS_y(1-r)}{n-2}} $\n",
    "4. $ S_{y|x} = \\sqrt{\\frac{SS_y(1-r)}{n}} $\n",
    "\n",
    "**Answer:**  1"
   ]
  },
  {
   "cell_type": "markdown",
   "id": "e289cac0-ff22-4b03-9b5c-f224002f86e9",
   "metadata": {},
   "source": [
    "---"
   ]
  },
  {
   "cell_type": "markdown",
   "id": "c77df610-845a-416a-8b7c-a721ba9d7bde",
   "metadata": {},
   "source": [
    "**Question:**  \n",
    "Which of the following statements best describes the role of the term, n-2, in the formula for the standard error of the estimate in simple linear regression?\n",
    "\n",
    "1. It reflects the number of data points used to fit the regression line.\n",
    "2. It reflects the number of predictors included in the regression model.\n",
    "3. It reflects the total number of degrees of freedom in the data set.\n",
    "4. It reflects the loss of two degrees of freedom because any straight line, including the regression line, can be made to coincide with two data points.\n",
    "\n",
    "**Answer:**  4"
   ]
  },
  {
   "cell_type": "markdown",
   "id": "a0ffbb53-768e-4622-884c-82b5a5a1303d",
   "metadata": {},
   "source": [
    "---"
   ]
  },
  {
   "cell_type": "markdown",
   "id": "59662776-c1a0-4c71-bee0-441393f66eac",
   "metadata": {},
   "source": [
    "**Question:**  \n",
    "Which of the following statements best describes an assumption of the least squares regression line?\n",
    "\n",
    "1. The relationship between the independent and dependent variables is linear.\n",
    "2. The independent variable is normally distributed.\n",
    "3. The dependent variable is normally distributed.\n",
    "4. The standard error of the residuals is constant across all values of the independent variable.\n",
    "\n",
    "**Answer:**  1"
   ]
  },
  {
   "cell_type": "markdown",
   "id": "a2c91631-2090-4b1e-9b0c-cef0846fb47f",
   "metadata": {},
   "source": [
    "---"
   ]
  },
  {
   "cell_type": "markdown",
   "id": "71ff93d1-43fa-4b29-a055-655f78be1ad8",
   "metadata": {},
   "source": [
    "**Question:**  \n",
    "Which of the following statements best describes the role of the squared correlation coefficient ($r^2$) in regression analysis?\n",
    "\n",
    "1. It indicates the proportion or percent of predictable variability\n",
    "2. It provides a measure of the skewness of the independent variable.\n",
    "3. It provides a measure of the predictive accuracy of the regression line.\n",
    "4. Both 1 and 3\n",
    "\n",
    "**Answer:**  4"
   ]
  },
  {
   "cell_type": "markdown",
   "id": "da678ad3-439e-4866-8f1d-67d448d6888b",
   "metadata": {},
   "source": [
    "---"
   ]
  },
  {
   "cell_type": "markdown",
   "id": "944100e2-d699-449e-a2b6-cee39fa11298",
   "metadata": {},
   "source": [
    "**Question:**  \n",
    "Which of the following statements best describes \"Repetitive Prediction of the Mean\" in regression analysis?\n",
    "1. It refers to the process of repeatedly predicting the mean value of the dependent variable using different values of the independent variable.\n",
    "2. It refers to the process of repeatedly estimating the slope and intercept of the regression line using different subsets of the data.\n",
    "3. It refers to the process of repeatedly predicting the same value of the dependent variable using the same value of the independent variable.\n",
    "4. It refers to the process of repeatedly testing the statistical significance of the regression model using different levels of alpha.\n",
    "\n",
    "**Answer:**  1"
   ]
  },
  {
   "cell_type": "markdown",
   "id": "d9321e90-d578-4324-9718-570f96768698",
   "metadata": {},
   "source": [
    "---"
   ]
  },
  {
   "cell_type": "markdown",
   "id": "870b5164-05bd-4cf4-8cd4-30bc9fc732e8",
   "metadata": {},
   "source": [
    "**Question:**  \n",
    "Which of the following is true about squared correlation coefficient ($r^2$) in regression analysis?\n",
    "1. It does not apply to individual scores\n",
    "2. Values of $r^2$ larger than about 0.25 are most unlikely.\n",
    "3. It does not ensure cause-effect.\n",
    "4. All of the above\n",
    "\n",
    "**Answer:**  4"
   ]
  },
  {
   "cell_type": "markdown",
   "id": "83b8d3b3-cf14-4cf7-80a9-118914f016d0",
   "metadata": {},
   "source": [
    "---"
   ]
  },
  {
   "cell_type": "markdown",
   "id": "39f0a16e-8300-4335-843b-01b71c2f2ac0",
   "metadata": {},
   "source": [
    "**Question:**  \n",
    "Which of the following statements best describes the concept of \"regression toward the mean\" in regression analysis?\n",
    "\n",
    "1. It refers to the tendency of the dependent variable to increase as the independent variable increases.\n",
    "2. It refers to the tendency of the independent variable to increase as the dependent variable increases.\n",
    "3. It refers to the tendency of extreme values of the dependent variable to be closer to the mean value in a subsequent measurement.\n",
    "4. It refers to the tendency of the regression line to slope downward as the independent variable increases.\n",
    "\n",
    "**Answer:** 3"
   ]
  },
  {
   "cell_type": "markdown",
   "id": "a3dc6220-3b8b-45e8-bf92-0783b1ef9b6b",
   "metadata": {},
   "source": [
    "---"
   ]
  },
  {
   "cell_type": "markdown",
   "id": "4613f9e9-27c8-4b02-ba97-4cd74796ec95",
   "metadata": {},
   "source": [
    "**Question:**  \n",
    "Which of the following statements best describes the concept of \"regression fallacy\" in statistical analysis?\n",
    "\n",
    "1. It refers to the mistaken belief that a correlation between two variables implies a causal relationship.\n",
    "2. It refers to the tendency of extreme values of the dependent variable to be closer to the mean value in a subsequent measurement.\n",
    "3. It refers to the tendency of the dependent variable to increase as the independent variable increases.\n",
    "4. It refers to the tendency of the regression line to slope downward as the independent variable increases.\n",
    "\n",
    "**Answer:** 1 "
   ]
  },
  {
   "cell_type": "markdown",
   "id": "ea416271-aa1e-498f-9117-0b3968bd84e5",
   "metadata": {},
   "source": [
    "---"
   ]
  }
 ],
 "metadata": {
  "kernelspec": {
   "display_name": "Python 3 (ipykernel)",
   "language": "python",
   "name": "python3"
  },
  "language_info": {
   "codemirror_mode": {
    "name": "ipython",
    "version": 3
   },
   "file_extension": ".py",
   "mimetype": "text/x-python",
   "name": "python",
   "nbconvert_exporter": "python",
   "pygments_lexer": "ipython3",
   "version": "3.9.16"
  }
 },
 "nbformat": 4,
 "nbformat_minor": 5
}
