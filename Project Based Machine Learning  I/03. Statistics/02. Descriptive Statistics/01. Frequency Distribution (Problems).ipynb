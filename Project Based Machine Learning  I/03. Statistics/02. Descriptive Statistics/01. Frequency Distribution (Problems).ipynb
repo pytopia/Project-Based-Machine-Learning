{
 "cells": [
  {
   "cell_type": "markdown",
   "id": "c80fccd5-5621-455f-8584-f4abf5e22d82",
   "metadata": {},
   "source": [
    "<img src=\"../../../images/banners/descriptive-statistics.png\" width=\"600\"/>"
   ]
  },
  {
   "cell_type": "markdown",
   "id": "d63b2fac-58ee-468b-9834-40483fdc2658",
   "metadata": {},
   "source": [
    "# <img src=\"../../../images/logos/statistics-logo.jpeg\" width=\"27\"/> Frequency Distribution (Problems)"
   ]
  },
  {
   "cell_type": "markdown",
   "id": "983556bf-5047-4092-a81e-ceabf5400281",
   "metadata": {},
   "source": [
    "**Question:**  \n",
    "What is a collection of observations produced by sorting observations into classes and showing their frequency of occurrence in each class?\n",
    "1. A measure of the variability of a data set.\n",
    "2. A way to calculate the mean of a data set.\n",
    "3. A frequency distribution.\n",
    "4. A measure of the relationship between two variables.\n",
    "\n",
    "**Answer:**  3"
   ]
  },
  {
   "cell_type": "markdown",
   "id": "c69d6158-4a6e-4720-a72c-f79bf90327bf",
   "metadata": {},
   "source": [
    "---"
   ]
  },
  {
   "cell_type": "markdown",
   "id": "26a90c4a-822e-4b97-ac2e-c282f44b1cc6",
   "metadata": {},
   "source": [
    "**Question:**  \n",
    "Which of the following is not an **essential** guideline for sorting observations into classes to see the frequency distribution?\n",
    "1. Each observation should be included in one, and only one, class.\n",
    "2. All classes should have both an upper boundary and a lower boundary.\n",
    "3. List all classes, even those with zero frequencies.\n",
    "4. All classes should have equal intervals.\n",
    "\n",
    "**Answer:**  2"
   ]
  },
  {
   "cell_type": "markdown",
   "id": "659d5a04-782f-4c2b-baf8-fd65e8346946",
   "metadata": {},
   "source": [
    "---"
   ]
  },
  {
   "cell_type": "markdown",
   "id": "8aefcabe-8a03-4f66-9ab2-0393a2f87e5b",
   "metadata": {},
   "source": [
    "**Question:**  \n",
    "Which of the following could be a definition of an outlier data point in a dataset?\n",
    "1. A data point that is within the normal range of values for the dataset\n",
    "2. A data point that is at the exact center of the dataset\n",
    "3. A data point that is located at the maximum value of the dataset\n",
    "4. A data point that is far away from the other data points in the dataset\n",
    "\n",
    "**Answer:**  4"
   ]
  },
  {
   "cell_type": "markdown",
   "id": "4c6e4774-e695-4e90-b2d4-ffe5e8d2f6db",
   "metadata": {},
   "source": [
    "---"
   ]
  },
  {
   "cell_type": "markdown",
   "id": "2575034d-cb14-4d80-ac92-4a3b6d804d42",
   "metadata": {},
   "source": [
    "**Question:**  \n",
    "Which of the following is not an advantage of outlier data?\n",
    "1. It can provide insight into unusual phenomena or errors in data collection.\n",
    "2. It can help improve the accuracy and precision of statistical analyses.\n",
    "3. It can lead to the discovery of new trends or relationships in the data.\n",
    "4. It can make it easier to visualize the distribution of the data.\n",
    "\n",
    "**Answer:**  4"
   ]
  },
  {
   "cell_type": "markdown",
   "id": "ac9b1c42-ca87-4fe1-816d-eebb1bc9336a",
   "metadata": {},
   "source": [
    "---"
   ]
  },
  {
   "cell_type": "markdown",
   "id": "541f5d2b-dd23-4600-9daa-a46bc8e365ad",
   "metadata": {},
   "source": [
    "**Question:**  \n",
    "What do relative frequency distributions show?\n",
    "1. The total frequency of each class in a distribution.\n",
    "2. The frequency of each class as a percentage of the total number of classes.\n",
    "3. The frequency of each class as a part or fraction of the total frequency for the entire distribution.\n",
    "4. The frequency of each class as a ratio to the maximum value in the distribution.\n",
    "\n",
    "**Answer:**  3"
   ]
  },
  {
   "cell_type": "markdown",
   "id": "bbad5404-82b7-4c38-ba78-14f80de00aa0",
   "metadata": {},
   "source": [
    "---"
   ]
  },
  {
   "cell_type": "markdown",
   "id": "cfeb0e5c-0e57-464e-936b-1cb4c8a7aee5",
   "metadata": {},
   "source": [
    "**Question:**  \n",
    "What is a cumulative frequency distribution?\n",
    "1. A distribution that shows the total frequency of observations up to a certain value or class interval\n",
    "2. A distribution that shows the frequency of each class as a fraction of the total frequency for the entire distribution\n",
    "3. A distribution that shows the frequency of each class as a percentage of the total number of observations in the dataset\n",
    "4. A distribution that shows the difference between the highest and lowest values in each class\n",
    "\n",
    "**Answer:**  1"
   ]
  },
  {
   "cell_type": "markdown",
   "id": "26c16ab7-974c-40ea-b5e5-1164649c1b95",
   "metadata": {},
   "source": [
    "---"
   ]
  },
  {
   "cell_type": "markdown",
   "id": "a0fadf39-586a-40e3-bbe8-5a23583da242",
   "metadata": {},
   "source": [
    "**Question:**  \n",
    "What is a typical shape of frequency distribution?\n",
    "1. Normal distribution\n",
    "2. Bimodal distribution\n",
    "3. Positively/Negatively skewed distribution\n",
    "4. All of the above\n",
    "\n",
    "**Answer:**  4"
   ]
  },
  {
   "cell_type": "markdown",
   "id": "2e7d278e-13df-4642-b982-1dec0f5708ec",
   "metadata": {},
   "source": [
    "---"
   ]
  }
 ],
 "metadata": {
  "kernelspec": {
   "display_name": "Python 3 (ipykernel)",
   "language": "python",
   "name": "python3"
  },
  "language_info": {
   "codemirror_mode": {
    "name": "ipython",
    "version": 3
   },
   "file_extension": ".py",
   "mimetype": "text/x-python",
   "name": "python",
   "nbconvert_exporter": "python",
   "pygments_lexer": "ipython3",
   "version": "3.9.16"
  }
 },
 "nbformat": 4,
 "nbformat_minor": 5
}
