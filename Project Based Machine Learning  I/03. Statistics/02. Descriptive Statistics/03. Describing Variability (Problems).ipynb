{
 "cells": [
  {
   "cell_type": "markdown",
   "id": "93de31a6-c0fb-4ded-9a16-5db031472ae1",
   "metadata": {},
   "source": [
    "<img src=\"../../../images/banners/descriptive-statistics.png\" width=\"600\"/>"
   ]
  },
  {
   "cell_type": "markdown",
   "id": "weird-maryland",
   "metadata": {},
   "source": [
    "# <img src=\"../../../images/logos/statistics-logo.jpeg\" width=\"27\"/> Describing Variability (Problems)"
   ]
  },
  {
   "cell_type": "markdown",
   "id": "7ab874c6-0125-4462-9f9e-262ca4b68861",
   "metadata": {},
   "source": [
    "**Question:**  \n",
    "Which of the following is not a measure of variability?\n",
    "1. Range\n",
    "2. Variance\n",
    "3. Mean\n",
    "4. Standard deviation\n",
    "\n",
    "**Answer:** 3 "
   ]
  },
  {
   "cell_type": "markdown",
   "id": "ac046243-aca2-4fe8-a460-0a15747161bc",
   "metadata": {},
   "source": [
    "---"
   ]
  },
  {
   "cell_type": "markdown",
   "id": "3d81f3f3-bf2e-4d37-88b1-a9d82fa2254f",
   "metadata": {},
   "source": [
    "**Question:**  \n",
    "Which of the following represents the difference between the highest and lowest values in a dataset?\n",
    "1. IQR\n",
    "2. Range\n",
    "3. Variance\n",
    "4. Median\n",
    "\n",
    "**Answer:**  2"
   ]
  },
  {
   "cell_type": "markdown",
   "id": "f9c88274-46b9-4ac6-87db-58bcf1f9a7c8",
   "metadata": {},
   "source": [
    "---"
   ]
  },
  {
   "cell_type": "markdown",
   "id": "a08db6c1-da81-4eab-ae33-5060f00333d5",
   "metadata": {},
   "source": [
    "**Question:**  \n",
    "Which of the following is not a shortcoming of using the range as a measure of variability in a dataset?\n",
    "1. It depends on only the largest and the smallest values\n",
    "2. It does not take into account the distribution of the data\n",
    "3. It is affected by extreme values\n",
    "4. It provides a simple and easy-to-understand measure of variability\n",
    "\n",
    "**Answer:**  4"
   ]
  },
  {
   "cell_type": "markdown",
   "id": "a161b2ac-2a53-4169-a938-ecab38be16dd",
   "metadata": {},
   "source": [
    "---"
   ]
  },
  {
   "cell_type": "markdown",
   "id": "7b14f9ab-bf1d-4810-89be-9cf4fef6bf94",
   "metadata": {},
   "source": [
    "**Question:**  \n",
    "What does the variance represent in statistics?\n",
    "1. The difference between the highest and lowest values in a dataset\n",
    "2. The most frequently occurring value in a dataset\n",
    "3. The average deviation from the mean\n",
    "4. The average squared deviation from the mean\n",
    "\n",
    "**Answer:**  4"
   ]
  },
  {
   "cell_type": "markdown",
   "id": "ac9f81d1-8176-4701-b6a6-121ad2ff26a9",
   "metadata": {},
   "source": [
    "---"
   ]
  },
  {
   "cell_type": "markdown",
   "id": "aafe35c4-61dc-49ae-a956-791ecbe82b4a",
   "metadata": {},
   "source": [
    "**Question:**  \n",
    "Which of the following measures of variability has the unit of result being the square of the unit of the original data?\n",
    "1. Range\n",
    "2. Variance\n",
    "3. Standard deviation\n",
    "4. Interquartile range\n",
    "\n",
    "**Answer:**  2"
   ]
  },
  {
   "cell_type": "markdown",
   "id": "14070c54-6147-4d55-9425-58440fa77dfa",
   "metadata": {},
   "source": [
    "---"
   ]
  },
  {
   "cell_type": "markdown",
   "id": "9dab70f0-ea42-4b44-add7-d950f6972471",
   "metadata": {},
   "source": [
    "**Question:**  \n",
    "Which of the following is the square root of variance?\n",
    "1. Standard deviation\n",
    "2. Range\n",
    "3. IQR\n",
    "4. Mode\n",
    "\n",
    "**Answer:**  1"
   ]
  },
  {
   "cell_type": "markdown",
   "id": "a0261567-4701-48b7-9eed-4686c1ca8cb6",
   "metadata": {},
   "source": [
    "---"
   ]
  },
  {
   "cell_type": "markdown",
   "id": "c89420f5-089a-480a-b21a-ef411cd7f0d7",
   "metadata": {},
   "source": [
    "**Question:**  \n",
    "What percentage of the data in a normally distributed dataset is expected to fall within one standard deviation of the mean?\n",
    "1. 34%\n",
    "2. 50%\n",
    "3. 68%\n",
    "4. 95%\n",
    "\n",
    "**Answer:**  3"
   ]
  },
  {
   "cell_type": "markdown",
   "id": "9bf3558d-f237-4e3e-b4a2-f744745a147a",
   "metadata": {},
   "source": [
    "---"
   ]
  },
  {
   "cell_type": "markdown",
   "id": "e7444cc8-980c-495b-8b53-e3f7a2a2ebb8",
   "metadata": {},
   "source": [
    "**Question:**  \n",
    "Which of the following is the reason why the degree of freedom in the calculation of the sample standard deviation is n-1?\n",
    "1. It adjusts for the fact that the sample standard deviation is an unbiased estimator of the population standard deviation\n",
    "2. It compensates for the presence of outliers in the sample data\n",
    "3. It accounts for the fact that the sample size is smaller than the population size\n",
    "4. It is because one degree of freedom is lost because of the zero-sum restriction\n",
    "\n",
    "**Answer:**  4"
   ]
  },
  {
   "cell_type": "markdown",
   "id": "26c70b0f-7280-4c87-8fc3-be0515efe8af",
   "metadata": {},
   "source": [
    "---"
   ]
  },
  {
   "cell_type": "markdown",
   "id": "95b78398-e161-4f4a-bc23-7bf1d52e06eb",
   "metadata": {},
   "source": [
    "**Question:**  \n",
    "Which of the following represents the range of the middle 50% of the data values in a dataset?\n",
    "1. Range\n",
    "2. IQR (Interquartile Range)\n",
    "3. Mean\n",
    "4. Standard deviation\n",
    "\n",
    "**Answer:**  2"
   ]
  },
  {
   "cell_type": "markdown",
   "id": "adcdd0e4-d746-4212-a010-8ad3a0e5f11a",
   "metadata": {},
   "source": [
    "---"
   ]
  },
  {
   "cell_type": "markdown",
   "id": "0083352d-bf86-4d56-8207-c127a4660063",
   "metadata": {},
   "source": [
    "**Question:**  \n",
    "Which of the following statements are correct about measurement of variability for qualitative and ranked data?\n",
    "1. If scores are evenly divided among the various classes means maximum variability\n",
    "2. If scores are unevenly divided among the various classes means intermediate variability\n",
    "3. If scores are concentrated mostly in one class means minimum variability\n",
    "4. All of the above\n",
    "\n",
    "**Answer:**  4"
   ]
  },
  {
   "cell_type": "markdown",
   "id": "65142bf8-f80f-4c40-917e-c4bedee45f8b",
   "metadata": {},
   "source": [
    "---"
   ]
  }
 ],
 "metadata": {
  "kernelspec": {
   "display_name": "Python 3 (ipykernel)",
   "language": "python",
   "name": "python3"
  },
  "language_info": {
   "codemirror_mode": {
    "name": "ipython",
    "version": 3
   },
   "file_extension": ".py",
   "mimetype": "text/x-python",
   "name": "python",
   "nbconvert_exporter": "python",
   "pygments_lexer": "ipython3",
   "version": "3.9.16"
  }
 },
 "nbformat": 4,
 "nbformat_minor": 5
}
