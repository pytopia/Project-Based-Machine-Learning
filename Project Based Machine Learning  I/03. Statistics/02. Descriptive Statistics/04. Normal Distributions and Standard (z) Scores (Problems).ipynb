{
 "cells": [
  {
   "cell_type": "markdown",
   "id": "85706058-1ef1-4599-a96f-ba2f120a4926",
   "metadata": {},
   "source": [
    "### <img src=\"../../../images/banners/descriptive-statistics.png\" width=\"600\"/>"
   ]
  },
  {
   "cell_type": "markdown",
   "id": "current-glenn",
   "metadata": {},
   "source": [
    "# <img src=\"../../../images/logos/statistics-logo.jpeg\" width=\"27\"/> Normal Distributions and Standard `z` Scores (Problems)"
   ]
  },
  {
   "cell_type": "markdown",
   "id": "63009e9d-031b-4cf0-a255-f958d5afada1",
   "metadata": {},
   "source": [
    "**Question:**  \n",
    "Which of the following statements are true about the normal distribution?\n",
    "1. It is a symmetric distribution with a bell-shaped curve.\n",
    "2. It is completely characterized by its mean and standard deviation.\n",
    "3. It is a continuous distribution and obtained from a mathematical equation.\n",
    "4. All of the above.\n",
    "\n",
    "**Answer:**  4"
   ]
  },
  {
   "cell_type": "markdown",
   "id": "ed2f8359-5e74-4ece-993c-4ee1e4e03b65",
   "metadata": {},
   "source": [
    "---"
   ]
  },
  {
   "cell_type": "markdown",
   "id": "18accbb3-d483-4fbc-b657-53bd941953a5",
   "metadata": {},
   "source": [
    "**Question:**  \n",
    "What are the important parameters of a normal distribution?\n",
    "1. Mean and standard deviation\n",
    "2. Mean and range\n",
    "3. Median and standard deviation\n",
    "4. Median and range\n",
    "\n",
    "\n",
    "**Answer:**  1"
   ]
  },
  {
   "cell_type": "markdown",
   "id": "8b5523c5-c48d-4de6-88c3-be367a7909a2",
   "metadata": {},
   "source": [
    "---"
   ]
  },
  {
   "cell_type": "markdown",
   "id": "a511e04b-a920-4c0c-9487-9f56b39dae60",
   "metadata": {},
   "source": [
    "**Question:**  \n",
    "Which of the following is a standardized value that measures the distance of an observation from the mean in units of standard deviation?\n",
    "1. Median\n",
    "2. Mode\n",
    "3. Z-score\n",
    "4. Range\n",
    "\n",
    "**Answer:**  3\n",
    "\n"
   ]
  },
  {
   "cell_type": "markdown",
   "id": "2a425c49-6884-4e98-956d-fec7df706dd8",
   "metadata": {},
   "source": [
    "---"
   ]
  },
  {
   "cell_type": "markdown",
   "id": "381abb6f-91cb-457a-bac4-f937f236276e",
   "metadata": {},
   "source": [
    "**Question:**  \n",
    "Which of the following is a unit-free value?\n",
    "1. Mean\n",
    "2. Z-score\n",
    "3. Range\n",
    "4. Variance\n",
    "\n",
    "**Answer:** 2 "
   ]
  },
  {
   "cell_type": "markdown",
   "id": "4ba64254-d3b7-481e-aa69-a141d229cf49",
   "metadata": {},
   "source": [
    "---"
   ]
  },
  {
   "cell_type": "markdown",
   "id": "5e89c44d-2914-461d-93e7-c057c7d80244",
   "metadata": {},
   "source": [
    "**Question:**  \n",
    "What are some advantages of using z-scores?\n",
    "1. They allow for comparison of observations from different distributions.\n",
    "2. They provide a standardized measure of the distance of an observation from the mean in units of standard deviation.\n",
    "3. They can be used to identify outliers in a data set.\n",
    "4. All of the above.\n",
    "\n",
    "**Answer:**  4"
   ]
  },
  {
   "cell_type": "markdown",
   "id": "f4f7ad00-e591-4fc1-aed9-fcf4f70dfd7b",
   "metadata": {},
   "source": [
    "---"
   ]
  },
  {
   "cell_type": "markdown",
   "id": "b2a69faf-cd05-421e-8692-7294f4b69082",
   "metadata": {},
   "source": [
    "**Question:**  \n",
    "Which of the following is the mean and standard deviation of the standard normal distribution?\n",
    "1. Mean = 0, Standard deviation = 1\n",
    "2. Mean = 1, Standard deviation = 0\n",
    "3. Mean = 0, Standard deviation = 0\n",
    "4. Mean = 1, Standard deviation = 1\n",
    "\n",
    "**Answer:**  1"
   ]
  },
  {
   "cell_type": "markdown",
   "id": "0e09e8e3-4566-4840-89a9-61d27a32fa99",
   "metadata": {},
   "source": [
    "---"
   ]
  },
  {
   "cell_type": "markdown",
   "id": "134b9599-aac3-4329-89e5-58512cfaee0f",
   "metadata": {},
   "source": [
    "**Question:**  \n",
    "Which of the following measures reflects performance relative to some group rather than an absolute standard?\n",
    "1. Mean\n",
    "2. Median\n",
    "3. Range\n",
    "4. Z-score\n",
    "\n",
    "**Answer:** 4 "
   ]
  },
  {
   "cell_type": "markdown",
   "id": "9d5b8a58-b9e4-4abb-b391-0578fafd4ceb",
   "metadata": {},
   "source": [
    "---"
   ]
  }
 ],
 "metadata": {
  "kernelspec": {
   "display_name": "Python 3 (ipykernel)",
   "language": "python",
   "name": "python3"
  },
  "language_info": {
   "codemirror_mode": {
    "name": "ipython",
    "version": 3
   },
   "file_extension": ".py",
   "mimetype": "text/x-python",
   "name": "python",
   "nbconvert_exporter": "python",
   "pygments_lexer": "ipython3",
   "version": "3.9.16"
  }
 },
 "nbformat": 4,
 "nbformat_minor": 5
}
