{
 "cells": [
  {
   "cell_type": "markdown",
   "id": "eab27995-2a1c-4b3f-8846-cc63f23c5949",
   "metadata": {},
   "source": [
    "<img src=\"../../../images/banners/inferential-statistics.png\" width=\"600\"/>"
   ]
  },
  {
   "cell_type": "markdown",
   "id": "2b714a1e-203b-4a47-80a2-821bb67afe98",
   "metadata": {},
   "source": [
    "# <img src=\"../../../images/logos/statistics-logo.jpeg\" width=\"27\"/> Sampling Distribution (Problems)"
   ]
  },
  {
   "cell_type": "markdown",
   "id": "71459b9c-8442-4531-b69e-347a248b66b6",
   "metadata": {},
   "source": [
    "**Question:**  \n",
    "What parameters of a sampling distribution must be identified in order to use it?\n",
    "\n",
    "1. Mean only\n",
    "2. Standard deviation only\n",
    "3. Shape only\n",
    "4. All of the above\n",
    "\n",
    "**Answer:**  4"
   ]
  },
  {
   "cell_type": "markdown",
   "id": "9c8d5f25-01c3-4e79-b137-8ba2ebc489c7",
   "metadata": {},
   "source": [
    "---"
   ]
  },
  {
   "cell_type": "markdown",
   "id": "09095b92-d852-4ebf-9629-78f981b9be8f",
   "metadata": {},
   "source": [
    "**Question:**  \n",
    "What is a sampling distribution?\n",
    "\n",
    "1. It refers to the probability distribution of the standard deviation for all possible random samples of a given size from some population.\n",
    "2. It refers to the probability distribution of means for all possible random samples of a given size from some population.\n",
    "3. It refers to the probability distribution of the median for all possible random samples of a given size from some population.\n",
    "4. It refers to the probability distribution of the mode for all possible random samples of a given size from some population.\n",
    "\n",
    "**Answer:**  2"
   ]
  },
  {
   "cell_type": "markdown",
   "id": "adc1533a-e51b-498a-8c6f-f69fed99b803",
   "metadata": {},
   "source": [
    "---"
   ]
  },
  {
   "cell_type": "markdown",
   "id": "ec468a3e-52c3-404d-ade1-42ce3774a0dc",
   "metadata": {},
   "source": [
    "**Question:**  \n",
    "Which of the following describes $\\mu_{\\bar{X}}$ and $\\sigma_{\\bar{X}}$ ?\n",
    "\n",
    "1. Measures of the central tendency and variability of a population.\n",
    "2. Measures of the central tendency and variability of a sample.\n",
    "3. Measures of the mean and standard deviation of a population.\n",
    "4. Measures of the mean and standard error of the sampling distribution of the mean.\n",
    "\n",
    "**Answer:**  4"
   ]
  },
  {
   "cell_type": "markdown",
   "id": "90f3dcfe-a07d-4398-9ae2-36cd0da3432d",
   "metadata": {},
   "source": [
    "---"
   ]
  },
  {
   "cell_type": "markdown",
   "id": "6d25140f-ee30-44e2-94be-af2c2fc78bd9",
   "metadata": {},
   "source": [
    "**Question:**  \n",
    "Which of the following always is equal to the mean of the sampling distribution of the mean ($\\mu_{\\bar{X}}$)?\n",
    "\n",
    "1. The mean of the population.\n",
    "2. The mean of the sample.\n",
    "3. The median of the population.\n",
    "4. The median of the sample.\n",
    "\n",
    "**Answer:**  1"
   ]
  },
  {
   "cell_type": "markdown",
   "id": "4284ef81-7397-43ca-8c41-3775981d7b65",
   "metadata": {},
   "source": [
    "---"
   ]
  },
  {
   "cell_type": "markdown",
   "id": "1a2bb59a-86b0-4225-934f-9aa6ddfd4454",
   "metadata": {},
   "source": [
    "**Question:**  \n",
    "Which of the following is equal to the standard deviation of the population ($\\sigma$) divided by the square root of the sample size ($\\sqrt{n} $)?\n",
    "1. Standard deviation of the sample\n",
    "2. Variance of the sample\n",
    "3. Mean of the sample\n",
    "4. Standard error of the mean\n",
    "\n",
    "**Answer:**  4"
   ]
  },
  {
   "cell_type": "markdown",
   "id": "9c28a7e2-2af3-4246-83bd-bfcdfe4c462d",
   "metadata": {},
   "source": [
    "---"
   ]
  },
  {
   "cell_type": "markdown",
   "id": "0979024a-9dc2-44c0-89fb-9e5a6c288c17",
   "metadata": {},
   "source": [
    "**Question:**  \n",
    "Which of the following describes the effect of sample size on the standard error of the mean?\n",
    "1. As the sample size increases, the standard error of the mean decreases.\n",
    "2. As the sample size decreases, the standard error of the mean decreases.\n",
    "3. As the sample size increases, the standard error of the mean increases.\n",
    "4. As the sample size decreases, the standard error of the mean increases.\n",
    "\n",
    "**Answer:**  1"
   ]
  },
  {
   "cell_type": "markdown",
   "id": "3d2d589e-d600-4b3f-8404-857188c65cc2",
   "metadata": {},
   "source": [
    "---"
   ]
  },
  {
   "cell_type": "markdown",
   "id": "e5ade514-c777-4688-9680-c5404498966c",
   "metadata": {},
   "source": [
    "**Question:**  \n",
    "Which of the following concepts indicates that, regardless of the shape of the population, the shape of the sampling distribution of the mean approximates a normal curve if the sample size is sufficiently large?\n",
    "1. Central Limit Theorem\n",
    "2. Law of Large Numbers\n",
    "3. Standard Error of the Mean\n",
    "4. Confidence Interval\n",
    "\n",
    "**Answer:**  1"
   ]
  },
  {
   "cell_type": "markdown",
   "id": "e49a38e3-c514-4686-8fce-b55d1a4bcfe8",
   "metadata": {},
   "source": [
    "---"
   ]
  },
  {
   "cell_type": "markdown",
   "id": "cd9de4f1-1f52-4395-966e-d53ee7e3322f",
   "metadata": {},
   "source": [
    "**Question:**  \n",
    "Which of the following is a reason why the Central Limit Theorem works?\n",
    "1. Many sample means with intermediate values\n",
    "2. Few sample means with extreme values\n",
    "3. Both 1 and 2\n",
    "4. None of the above\n",
    "\n",
    "**Answer:**  3"
   ]
  },
  {
   "cell_type": "markdown",
   "id": "abf805e9-9723-4833-b1d9-74d210471485",
   "metadata": {},
   "source": [
    "---"
   ]
  }
 ],
 "metadata": {
  "kernelspec": {
   "display_name": "Python 3 (ipykernel)",
   "language": "python",
   "name": "python3"
  },
  "language_info": {
   "codemirror_mode": {
    "name": "ipython",
    "version": 3
   },
   "file_extension": ".py",
   "mimetype": "text/x-python",
   "name": "python",
   "nbconvert_exporter": "python",
   "pygments_lexer": "ipython3",
   "version": "3.9.16"
  }
 },
 "nbformat": 4,
 "nbformat_minor": 5
}
