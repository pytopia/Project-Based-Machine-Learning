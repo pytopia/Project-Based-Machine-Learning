{
 "cells": [
  {
   "cell_type": "markdown",
   "id": "11071359-a0c0-48ab-adb6-673727692bf7",
   "metadata": {},
   "source": [
    "<img src=\"../../../images/banners/inferential-statistics.png\" width=\"600\"/>"
   ]
  },
  {
   "cell_type": "markdown",
   "id": "868683a3-ddcc-42b9-b354-31a012ad15ab",
   "metadata": {},
   "source": [
    "# <img src=\"../../../images/logos/statistics-logo.jpeg\" width=\"27\"/> More on Hypothesis Testing (Problems)"
   ]
  },
  {
   "cell_type": "markdown",
   "id": "9630918f-385a-451c-8dd1-a9f57755fd7b",
   "metadata": {},
   "source": [
    "**Question:**  \n",
    "Which of the following statements about **false alarms** (a type I error) in hypothesis testing is true?\n",
    "\n",
    "1. A false alarm occurs when rejecting a true null hypothesis.\n",
    "2. A false alarm occurs when retaining a false null hypothesis\n",
    "3. A false alarm occurs when a researcher fails to reject a null hypothesis that is actually true.\n",
    "4. A false alarm is a type of error that occurs only in one-tailed hypothesis tests.\n",
    "\n",
    "**Answer:**  1"
   ]
  },
  {
   "cell_type": "markdown",
   "id": "1a8daa13-482a-4c8b-a253-6bf61c19caa0",
   "metadata": {},
   "source": [
    "---"
   ]
  },
  {
   "cell_type": "markdown",
   "id": "166642a7-1ac3-40e6-bb45-beab4d22b700",
   "metadata": {},
   "source": [
    "**Question:**  \n",
    "Which of the following statements about **miss** or type II error in hypothesis testing is true?\n",
    "\n",
    "1. A miss occurs when rejecting a true null hypothesis.\n",
    "2. A miss occurs when retaining a false null hypothesis\n",
    "3. A miss occurs when a researcher fails to reject a null hypothesis that is actually true.\n",
    "4. A miss is a type of error that occurs only in one-tailed hypothesis tests.\n",
    "\n",
    "**Answer:**  2\n",
    "\n"
   ]
  },
  {
   "cell_type": "markdown",
   "id": "5814a634-1f75-4b3c-8b1d-561032c54b11",
   "metadata": {},
   "source": [
    "---"
   ]
  },
  {
   "cell_type": "markdown",
   "id": "0392ef93-d4cc-450d-8300-8a71c9dbe506",
   "metadata": {},
   "source": [
    "**Question:**  \n",
    "Which of the following is a **weak decision** in hypothesis testing?\n",
    "\n",
    "1. Retaining $H_0$\n",
    "2. Rejecting $H_0$\n",
    "3. Failing to collect enough data\n",
    "4. Conducting a two-tailed test instead of a one-tailed test\n",
    "\n",
    "**Answer:** 1 "
   ]
  },
  {
   "cell_type": "markdown",
   "id": "98d2caf0-5d54-450e-8951-6ab9e70126b8",
   "metadata": {},
   "source": [
    "---"
   ]
  },
  {
   "cell_type": "markdown",
   "id": "8a0f14bd-c8ff-4b08-856e-1ad5206c7a57",
   "metadata": {},
   "source": [
    "**Question:**  \n",
    "Which of the following is a **strong decision** in hypothesis testing?\n",
    "\n",
    "1. Retaining $H_0$\n",
    "2. Rejecting $H_0$\n",
    "3. Failing to collect enough data\n",
    "4. Conducting a two-tailed test instead of a one-tailed test\n",
    "\n",
    "**Answer:**  2"
   ]
  },
  {
   "cell_type": "markdown",
   "id": "c2f02a20-686e-4f5f-a19b-c567a2f2df39",
   "metadata": {},
   "source": [
    "---"
   ]
  },
  {
   "cell_type": "markdown",
   "id": "dda72772-0c36-4632-b8f4-fddf3e9d419f",
   "metadata": {},
   "source": [
    "**Question:**  \n",
    "Which of the following is true in hypothesis testing?\n",
    "1. The decision to retain $H_0$ does not implies that $H_0$ is probably true\n",
    "2. The decision to retain $H_0$ only implies that $H_0$ could be true\n",
    "3. The decision to reject $H_0$ implies that $H_0$ is probably false\n",
    "4. All Of the above\n",
    "\n",
    "**Answer:**  4"
   ]
  },
  {
   "cell_type": "markdown",
   "id": "81904626-48e0-4d42-b713-dc5fb6f3d843",
   "metadata": {},
   "source": [
    "---"
   ]
  },
  {
   "cell_type": "markdown",
   "id": "8b2daca9-8718-4b49-b03b-b862ba270314",
   "metadata": {},
   "source": [
    "**Question:**  \n",
    "Which of the following is a reason why the research hypothesis isn't tested directly in hypothesis testing?\n",
    "\n",
    "1. The research hypothesis lacks the necessary precision to be tested directly.\n",
    "2. The research hypothesis is often too vague to be tested directly.\n",
    "3. The sample size is too small to test the research hypothesis directly.\n",
    "4. Testing the research hypothesis directly would require too much time and resources.\n",
    "\n",
    "\n",
    "**Answer:**  1"
   ]
  },
  {
   "cell_type": "markdown",
   "id": "1d22fcf3-ecf9-4a7f-989a-07d2ad0cf601",
   "metadata": {},
   "source": [
    "---"
   ]
  },
  {
   "cell_type": "markdown",
   "id": "609c2baf-1ef9-41d4-8e84-daa8918ee807",
   "metadata": {},
   "source": [
    "**Question:**  \n",
    "Which of the following is a reason for using a one-tailed test instead of a two-tailed test in hypothesis testing?\n",
    "\n",
    "1. A one-tailed test is more powerful than a two-tailed test.\n",
    "2. A one-tailed test is more conservative than a two-tailed test.\n",
    "3. A one-tailed test is appropriate when the researcher has a specific directional hypothesis.\n",
    "4. A one-tailed test is appropriate when the researcher is interested in detecting any difference between groups.\n",
    "\n",
    "**Answer:**  3"
   ]
  },
  {
   "cell_type": "markdown",
   "id": "328fd148-ac31-404a-8a64-c7503d94e0a0",
   "metadata": {},
   "source": [
    "---"
   ]
  },
  {
   "cell_type": "markdown",
   "id": "bebcc21c-9016-4305-a19b-fa30db2d57cb",
   "metadata": {},
   "source": [
    "**Question:**  \n",
    "How does using a one-tailed test instead of a two-tailed test affect the critical z value in hypothesis testing?\n",
    "\n",
    "A) The critical z value is larger for a one-tailed (lower tail) test than for a two-tailed test.\n",
    "B) The critical z value is smaller for a one-tailed (lower tail) test than for a two-tailed test.\n",
    "C) The critical z value is the same for a one-tailed test and a two-tailed test.\n",
    "D) The critical z value is not used in one-tailed tests.\n",
    "\n",
    "**Answer:**  1"
   ]
  },
  {
   "cell_type": "markdown",
   "id": "0f25c72e-d05b-4086-a3a2-7c344d1b90cb",
   "metadata": {},
   "source": [
    "---"
   ]
  },
  {
   "cell_type": "markdown",
   "id": "3e923517-f1ab-45dd-8ece-19d2ba5088c0",
   "metadata": {},
   "source": [
    "**Question:**  \n",
    "What are the critical z scores for a one-tailed test and a two-tailed test with a level of significance of 0.05 in hypothesis testing?\n",
    "\n",
    "1. $z=\\pm1.96$ for both one-tailed and two-tailed tests\n",
    "2. $z=\\pm1.65$ for one-tailed tests and $z=\\pm1.96$ for two-tailed tests\n",
    "3. $z=\\pm1.65$ for both one-tailed and two-tailed tests\n",
    "4. $z=\\pm1.96$ for one-tailed tests and $z=\\pm2.58$ for two-tailed tests\n",
    "\n",
    "**Answer:**  2"
   ]
  },
  {
   "cell_type": "markdown",
   "id": "23f31aea-5ef6-4179-baf8-2c6e5abda3d3",
   "metadata": {},
   "source": [
    "---"
   ]
  },
  {
   "cell_type": "markdown",
   "id": "ff417185-2ad8-4811-a500-2777f61daf41",
   "metadata": {},
   "source": [
    "**Question:**  \n",
    "When should the selection of a one- or two-tailed test be made in hypothesis testing?\n",
    "\n",
    "1. Before the data are collected.\n",
    "2. After the data are collected.\n",
    "3. It does not matter when the selection is made.\n",
    "4. The selection of a one- or two-tailed test is not relevant to hypothesis testing.\n",
    "\n",
    "**Answer:**  1"
   ]
  },
  {
   "cell_type": "markdown",
   "id": "b0493fee-5dc9-402b-b6da-328e489629c6",
   "metadata": {},
   "source": [
    "---"
   ]
  },
  {
   "cell_type": "markdown",
   "id": "ee485203-3cf8-4712-9053-6a7d50e4715d",
   "metadata": {},
   "source": [
    "**Question:**  \n",
    "Which of the following is the best description of the level of significance ($\\alpha$)?\n",
    "\n",
    "1. The probability of making a Type I error\n",
    "2. The probability of making a Type II error\n",
    "3. The probability of correctly rejecting a false null hypothesis\n",
    "4. The maximum probability of making a Type I error that the researcher is willing to accept\n",
    "\n",
    "**Answer:**  4"
   ]
  },
  {
   "cell_type": "markdown",
   "id": "de2955c9-82d5-430a-bc6c-f11ee7828f5b",
   "metadata": {},
   "source": [
    "---"
   ]
  },
  {
   "cell_type": "markdown",
   "id": "bf6d340f-3250-4a17-a3ee-a5923803ca44",
   "metadata": {},
   "source": [
    "**Question:**  \n",
    "What is the probability of a correct decision with a 0.05 level of significance?\n",
    "\n",
    "1. 0.05\n",
    "2. 0.10\n",
    "3. 0.90\n",
    "4. 0.95\n",
    "\n",
    "**Answer:**  4"
   ]
  },
  {
   "cell_type": "markdown",
   "id": "c33ab9c6-a00b-40ff-8249-dd506e3e1bc1",
   "metadata": {},
   "source": [
    "---"
   ]
  },
  {
   "cell_type": "markdown",
   "id": "9d2ca83a-8682-4b9d-8cbc-98089a78a280",
   "metadata": {},
   "source": [
    "**Question:**  \n",
    "In hypothesis testing, what is beta (β)?\n",
    "1. The probability of correctly rejecting a false null hypothesis\n",
    "2. The probability of correctly failing to reject a true null hypothesis\n",
    "3. The probability of making a Type I error\n",
    "4. The probability of making a Type II error\n",
    "\n",
    "**Answer:**  4"
   ]
  },
  {
   "cell_type": "markdown",
   "id": "98b7afdf-7bf3-408a-bacf-e8b5b61dfe0d",
   "metadata": {},
   "source": [
    "---"
   ]
  },
  {
   "cell_type": "markdown",
   "id": "b53fdb82-7855-4f5b-b24b-05e903c5a95c",
   "metadata": {},
   "source": [
    "**Question:**  \n",
    "If the level of significance becomes smaller, what effect does it have on the type I and type II error?\n",
    "1. Type I error decreases and type II error increases\n",
    "2. Type I error increases and type II error decreases\n",
    "3. Both type I and type II errors increase\n",
    "4. Both type I and type II errors decrease\n",
    "\n",
    "**Answer:**  1"
   ]
  },
  {
   "cell_type": "markdown",
   "id": "83c803a4-a3ca-4020-87e7-9d4cfce5870d",
   "metadata": {},
   "source": [
    "---"
   ]
  },
  {
   "cell_type": "markdown",
   "id": "818a43cf-722f-4831-9d87-f07eb0b26350",
   "metadata": {},
   "source": [
    "**Question:**  \n",
    "Which of the following best describes the effect of effect size on the probability of making a Type II error in hypothesis testing?\n",
    "\n",
    "1. A small effect size decreases the probability of making a Type II error, while a large effect size increases the probability of making a Type II error.\n",
    "2. The effect size has no effect on the probability of making a Type II error.\n",
    "3. A small effect size increases the probability of making a Type II error, while a large effect size decreases the probability of making a Type II error.\n",
    "4. The effect size only affects the probability of making a Type I error, not the probability of making a Type II error.\n",
    "\n",
    "**Answer:**  3"
   ]
  },
  {
   "cell_type": "markdown",
   "id": "df481429-bede-4114-b2ca-86b693a26e2f",
   "metadata": {},
   "source": [
    "---"
   ]
  },
  {
   "cell_type": "markdown",
   "id": "faaec855-aa0f-481e-827f-3abb785ba2a9",
   "metadata": {},
   "source": [
    "**Question:**  \n",
    "Which of the following statements is true regarding the effect of sample size on hypothesis testing?\n",
    "\n",
    "1. To decrease the probability of making a Type I error, increase the sample size.\n",
    "2. To decrease the probability of making a Type II error, increase the sample size.\n",
    "3. To increase the probability of detecting a true alternative hypothesis, decrease the sample size.\n",
    "4. To increase the probability of detecting a false null hypothesis, increase the sample size.\n",
    "\n",
    "**Answer:**  4"
   ]
  },
  {
   "cell_type": "markdown",
   "id": "8b5e011a-6b83-4975-803b-1412d3f3415e",
   "metadata": {},
   "source": [
    "---"
   ]
  },
  {
   "cell_type": "markdown",
   "id": "b9a9351a-b595-45a8-be27-49e579b4eac4",
   "metadata": {},
   "source": [
    "**Question:**  \n",
    "Which of the following statements is true regarding the power of a hypothesis test?\n",
    "\n",
    "1. It's the probability of making a Type I error when the null hypothesis is true.\n",
    "2. It's the probability of making a Type II error when the null hypothesis is false.\n",
    "3. It's the probability of detecting a particular effect when the null hypothesis is false.\n",
    "4. It's the probability of correctly rejecting the null hypothesis when it is true.\n",
    "\n",
    "**Answer:**  3"
   ]
  },
  {
   "cell_type": "markdown",
   "id": "c45eb4d5-0d31-4ba6-a6e6-c443162ce234",
   "metadata": {},
   "source": [
    "---"
   ]
  },
  {
   "cell_type": "markdown",
   "id": "59da1c86-5c66-4fe0-bc45-a6a68307a8f9",
   "metadata": {},
   "source": [
    "**Question:**  \n",
    "What is a power curve in hypothesis testing?\n",
    "\n",
    "1. A graph that shows the distribution of the test statistic under the null hypothesis.\n",
    "2. A graph that shows the relationship between the level of significance and the power of a statistical test.\n",
    "3. A graph that shows the relationship between the sample size, effect size, and the power of a statistical test.\n",
    "4. A graph that shows the distribution of the test statistic under the alternative hypothesis.\n",
    "\n",
    "**Answer:**  3"
   ]
  },
  {
   "cell_type": "markdown",
   "id": "91d27817-fb6f-4f24-8730-20739b3c4d0e",
   "metadata": {},
   "source": [
    "---"
   ]
  },
  {
   "cell_type": "markdown",
   "id": "ab572823-954d-4ee9-acaf-0fb8487b8889",
   "metadata": {},
   "source": [
    "**Question:**  \n",
    "How do power curves help identify an appropriate sample size for a statistical test?\n",
    "\n",
    "1. Power curves show the distribution of the test statistic under the null hypothesis, allowing for the determination of an appropriate sample size.\n",
    "2. Power curves allow for the calculation of the level of significance necessary for a given sample size.\n",
    "3. Power curves help identify a sample size that maximizes power, regardless of the effect size.\n",
    "4. Power curves help identify a sample size that is neither unduly small nor excessively large, while maintaining an acceptable level of power.\n",
    "\n",
    "**Answer:**  4"
   ]
  },
  {
   "cell_type": "markdown",
   "id": "b6a06381-7017-4290-a5d3-2abdd81907f6",
   "metadata": {},
   "source": [
    "---"
   ]
  }
 ],
 "metadata": {
  "kernelspec": {
   "display_name": "Python 3 (ipykernel)",
   "language": "python",
   "name": "python3"
  },
  "language_info": {
   "codemirror_mode": {
    "name": "ipython",
    "version": 3
   },
   "file_extension": ".py",
   "mimetype": "text/x-python",
   "name": "python",
   "nbconvert_exporter": "python",
   "pygments_lexer": "ipython3",
   "version": "3.9.16"
  }
 },
 "nbformat": 4,
 "nbformat_minor": 5
}
