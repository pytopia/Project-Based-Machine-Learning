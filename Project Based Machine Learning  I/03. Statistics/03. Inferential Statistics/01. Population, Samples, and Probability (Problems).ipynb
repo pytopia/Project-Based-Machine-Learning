{
 "cells": [
  {
   "cell_type": "markdown",
   "id": "7d2866e2-27ef-4dfa-b168-7cc8151ba6cc",
   "metadata": {},
   "source": [
    "<img src=\"../../../images/banners/inferential-statistics.png\" width=\"600\"/>"
   ]
  },
  {
   "cell_type": "markdown",
   "id": "36157210-52bc-4bd6-8bfa-469297ad6b18",
   "metadata": {},
   "source": [
    "# <img src=\"../../../images/logos/statistics-logo.jpeg\" width=\"27\"/> Population, Samples, and Probability (Problems)"
   ]
  },
  {
   "cell_type": "markdown",
   "id": "16fd47df-c8df-40f3-8a89-a3c915de46b8",
   "metadata": {},
   "source": [
    "**Question:**  \n",
    "Which of the following statements describes the definition of population in statistics?\n",
    "\n",
    "1. The population refers to a sample of individuals or objects that are randomly selected for a study.\n",
    "2. The population refers to a group of individuals or objects that share a common characteristic or trait.\n",
    "3. The population refers to any complete set of observations (or potential observations) that share a common characteristic or trait.\n",
    "4. The population refers to the mean or average value of a set of measurements or observations.\n",
    "\n",
    "**Answer:**  3"
   ]
  },
  {
   "cell_type": "markdown",
   "id": "83d3f39c-9b42-4b12-a673-288647f2460d",
   "metadata": {},
   "source": [
    "---"
   ]
  },
  {
   "cell_type": "markdown",
   "id": "7299d3c9-0cd8-4839-8692-da8a85e060af",
   "metadata": {},
   "source": [
    "**Question:**  \n",
    "Which of the following statements describes the definition of sample in statistics?\n",
    "\n",
    "1. A sample refers to a group of individuals or objects that share a common characteristic or trait.\n",
    "2. A sample refers to any complete set of observations (or potential observations) that share a common characteristic or trait.\n",
    "3. A sample refers to a sample of individuals or objects that are randomly selected for a study.\n",
    "4. A sample refers to any subset of observations from a population.\n",
    "\n",
    "**Answer:**  4"
   ]
  },
  {
   "cell_type": "markdown",
   "id": "d9116a4e-9d86-48f5-8992-1cc9486155e2",
   "metadata": {},
   "source": [
    "---"
   ]
  },
  {
   "cell_type": "markdown",
   "id": "e28172af-07df-4309-8a73-75b3db90f4ec",
   "metadata": {},
   "source": [
    "**Question:**  \n",
    "Which of the following indicates that at each stage of sampling, the selection process guarantees that all potential observations in the population have an equal chance of being included in the sample?\n",
    "\n",
    "1. Random Sampling\n",
    "2. Stratified Sampling\n",
    "3. Cluster Sampling\n",
    "4. Systematic Sampling\n",
    "\n",
    "**Answer:**  1"
   ]
  },
  {
   "cell_type": "markdown",
   "id": "bc6052d7-fa51-4d4f-80dd-c96a0c308203",
   "metadata": {},
   "source": [
    "---"
   ]
  },
  {
   "cell_type": "markdown",
   "id": "69d91c17-a2ac-4008-a56d-08d6566786de",
   "metadata": {},
   "source": [
    "**Question:**  \n",
    "Which of the following terms refers to the proportion or fraction of times that a particular event is likely to occur?\n",
    "\n",
    "1. Confidence interval\n",
    "2. Probability\n",
    "3. Hypothesis testing\n",
    "4. Regression analysis\n",
    "\n",
    "**Answer:**  2"
   ]
  },
  {
   "cell_type": "markdown",
   "id": "02ddbaff-7751-4051-8216-1eb3bc06ac09",
   "metadata": {},
   "source": [
    "---"
   ]
  },
  {
   "cell_type": "markdown",
   "id": "7cd16730-ace2-48b4-b42b-ee1c2dacd245",
   "metadata": {},
   "source": [
    "**Question:**  \n",
    "Which of the following best describes random assignment in experimental research?\n",
    "\n",
    "1. A method of selecting participants based on their availability and willingness to participate in the study.\n",
    "2. A method of selecting participants based on their pre-existing characteristics or traits.\n",
    "3. A method of manipulating an independent variable in an experiment to see its effect on a dependent variable.\n",
    "4. A method of assigning participants to different groups or conditions in an experiment, in which each participant has an equal chance of being assigned to any group or condition.\n",
    "\n",
    "**Answer:**  4"
   ]
  },
  {
   "cell_type": "markdown",
   "id": "a235fca9-b675-4a1b-9a34-26db9270840b",
   "metadata": {},
   "source": [
    "---"
   ]
  },
  {
   "cell_type": "markdown",
   "id": "3e87cbaa-64a9-4332-8ee2-e914f8a45c18",
   "metadata": {},
   "source": [
    "**Question:**  \n",
    "What is the additional rule in probability?\n",
    "\n",
    "1. The probability of the union of two events is the sum of their probabilities minus the probability of their intersection.\n",
    "2. The probability of the intersection of two independent events is the product of their probabilities.\n",
    "3. The probability of an event not occurring is equal to one minus the probability of the event occurring.\n",
    "4. The probability of an event is always between zero and one, inclusive.\n",
    "\n",
    "**Answer:**  1"
   ]
  },
  {
   "cell_type": "markdown",
   "id": "f08688f5-a483-4137-8bac-9d5c33a11315",
   "metadata": {},
   "source": [
    "---"
   ]
  },
  {
   "cell_type": "markdown",
   "id": "8fffc8af-0c5e-4bf0-a621-e796443212a9",
   "metadata": {},
   "source": [
    "**Question:**  \n",
    "What is the additional rule in probability for mutually exclusive events?\n",
    "\n",
    "1. The probability of the union of two mutually exclusive events is the difference of their probabilities.\n",
    "2. The probability of the intersection of two mutually exclusive events is zero.\n",
    "3. The probability of the intersection of two mutually exclusive events is one.\n",
    "4. The probability of the union of two mutually exclusive events is the sum of their probabilities.\n",
    "\n",
    "**Answer:**  4"
   ]
  },
  {
   "cell_type": "markdown",
   "id": "6c246743-73a4-468b-806f-adc3a18ce63e",
   "metadata": {},
   "source": [
    "---"
   ]
  },
  {
   "cell_type": "markdown",
   "id": "a43e3abb-984c-4a55-844e-16bbf99b7f2b",
   "metadata": {},
   "source": [
    "**Question:**  \n",
    "What is the multiplication rule in probability?\n",
    "\n",
    "1. The probability of the union of two events is the sum of their probabilities minus the probability of their intersection.\n",
    "2. The probability of the intersection of two independent events is the product of their probabilities.\n",
    "3. The probability of an event not occurring is equal to one minus the probability of the event occurring.\n",
    "4. The probability of an event is always between zero and one, inclusive.\n",
    "\n",
    "**Answer:**  2"
   ]
  },
  {
   "cell_type": "markdown",
   "id": "2f76d19b-c00d-4452-accb-e5fe2f7e3db1",
   "metadata": {},
   "source": [
    "---"
   ]
  },
  {
   "cell_type": "markdown",
   "id": "dfb1824a-78f6-4f9e-8a13-83fd9205ea2e",
   "metadata": {},
   "source": [
    "**Question:**  \n",
    "What is conditional probability in statistics?\n",
    "\n",
    "1. The probability of an event not occurring is equal to one minus the probability of the event occurring.\n",
    "2. The probability of an event is always between zero and one, inclusive.\n",
    "3. The probability of an event given that another event has already occurred.\n",
    "4. The probability of the intersection of two independent events is the product of their probabilities.\n",
    "\n",
    "**Answer:**  3"
   ]
  },
  {
   "cell_type": "markdown",
   "id": "95d1cf6d-6551-43a9-b516-c67dbd06798e",
   "metadata": {},
   "source": [
    "---"
   ]
  },
  {
   "cell_type": "markdown",
   "id": "21302c3d-1dd3-4b23-8844-81f48d104765",
   "metadata": {},
   "source": [
    "**Question:**  \n",
    "What is hypothesis testing in statistics?\n",
    "\n",
    "1. The process of collecting and analyzing data to make predictions or draw conclusions about a population.\n",
    "2. The process of testing a claim or statement about a population using sample data.\n",
    "3. The process of selecting a representative sample from a population.\n",
    "4. The process of estimating a population parameter from a sample statistic.\n",
    "\n",
    "**Answer:**  2"
   ]
  },
  {
   "cell_type": "markdown",
   "id": "cccba8e2-3387-4994-bae5-2ef7cc81ba64",
   "metadata": {},
   "source": [
    "---"
   ]
  },
  {
   "cell_type": "markdown",
   "id": "7855c5cf-3195-4597-9970-bbb9811683a9",
   "metadata": {},
   "source": [
    "**Question:**  \n",
    "In hypothesis testing, what do common outcomes and rare outcomes correspond to on a graph of the normal distribution?\n",
    "\n",
    "1. Common outcomes correspond to the tails of the distribution, while rare outcomes correspond to the center.\n",
    "2. Common outcomes correspond to the mean of the distribution, while rare outcomes correspond to the standard deviation.\n",
    "3. Common outcomes correspond to the variance of the distribution, while rare outcomes correspond to the skewness.\n",
    "4. Common outcomes correspond to the center of the distribution, while rare outcomes correspond to the tails.\n",
    "\n",
    "**Answer:**  4"
   ]
  },
  {
   "cell_type": "markdown",
   "id": "9cfde545-adc1-416d-82fc-96aa948c7041",
   "metadata": {},
   "source": [
    "---"
   ]
  }
 ],
 "metadata": {
  "kernelspec": {
   "display_name": "Python 3 (ipykernel)",
   "language": "python",
   "name": "python3"
  },
  "language_info": {
   "codemirror_mode": {
    "name": "ipython",
    "version": 3
   },
   "file_extension": ".py",
   "mimetype": "text/x-python",
   "name": "python",
   "nbconvert_exporter": "python",
   "pygments_lexer": "ipython3",
   "version": "3.9.16"
  }
 },
 "nbformat": 4,
 "nbformat_minor": 5
}
