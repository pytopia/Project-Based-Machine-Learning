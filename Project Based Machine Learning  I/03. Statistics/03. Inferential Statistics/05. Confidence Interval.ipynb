{
 "cells": [
  {
   "cell_type": "markdown",
   "id": "69bc2c41-7720-4e24-bf59-63237e767010",
   "metadata": {},
   "source": [
    "<img src=\"../../../images/banners/inferential-statistics.png\" width=\"600\"/>"
   ]
  },
  {
   "cell_type": "markdown",
   "id": "190f8933-3f0b-4fc9-a8d5-97096c179bad",
   "metadata": {},
   "source": [
    "# <img src=\"../../../images/logos/statistics-logo.jpeg\" width=\"27\"/> Confidence Interval (Problems)"
   ]
  },
  {
   "cell_type": "markdown",
   "id": "59ba5d2f-2c73-4aa7-9d48-f84d4bfbc426",
   "metadata": {},
   "source": [
    "**Question:**  \n",
    "What is the definition of a confidence interval?\n",
    "\n",
    "1. The range of values that is certain to contain the true value of a population parameter.\n",
    "2. The range of values that is likely to contain the true value of a population parameter with a certain level of confidence.\n",
    "3. The range of values that contains the sample statistic.\n",
    "4. The range of values that indicates the level of significance for a statistical test.\n",
    "\n",
    "**Answer:** 2 "
   ]
  },
  {
   "cell_type": "markdown",
   "id": "a4214138-9770-4e4d-93ac-d12744a4a362",
   "metadata": {},
   "source": [
    "---"
   ]
  },
  {
   "cell_type": "markdown",
   "id": "7468af63-222d-4318-8037-71110deb8c54",
   "metadata": {},
   "source": [
    "**Question:**  \n",
    "What is the formula for a confidence interval for a population mean ($\\mu$) based on z-score?\n",
    "1. $CI = \\bar{X}\\pm (z_{conf})(\\sigma_{\\bar{X}})$ \n",
    "2. $CI = \\bar{X}\\pm (z_{conf})(\\sigma)$\n",
    "3. $CI = \\bar{X}+(z_{conf})(\\sigma_{\\bar{X}})$\n",
    "4. $CI = \\bar{X}+(z_{conf})(\\sigma)$\n",
    "\n",
    "**Answer:**  1\n",
    "\n"
   ]
  },
  {
   "cell_type": "markdown",
   "id": "4fbc594e-f561-42f3-89cb-d756a0917ab2",
   "metadata": {},
   "source": [
    "---"
   ]
  },
  {
   "cell_type": "markdown",
   "id": "90ba2093-9104-439a-bcc9-3ed365f2fc60",
   "metadata": {},
   "source": [
    "**Question:**  \n",
    "What does the level of confidence indicate in a confidence interval?\n",
    "\n",
    "1. The probability that the sample mean is equal to the population mean.\n",
    "2. The probability that the population parameter falls within the confidence interval.\n",
    "3. The probability that the sample is representative of the population.\n",
    "4. The probability that a series of confidence intervals includes the unknown population parameter.\n",
    "\n",
    "**Answer:**  4"
   ]
  },
  {
   "cell_type": "markdown",
   "id": "82e1c010-c8d7-4284-a294-401b1829db72",
   "metadata": {},
   "source": [
    "---"
   ]
  },
  {
   "cell_type": "markdown",
   "id": "7b7a0824-4c85-47c9-9492-3c0207d607a0",
   "metadata": {},
   "source": [
    "**Question:**  \n",
    "What is the effect of sample size on the width of a confidence interval?\n",
    "\n",
    "1. A larger sample size leads to a wider confidence interval.\n",
    "2. A larger sample size leads to a narrower confidence interval.\n",
    "3. The sample size has no effect on the width of a confidence interval.\n",
    "4. The effect of sample size on the width of a confidence interval is unpredictable.\n",
    "\n",
    "**Answer:**  2"
   ]
  },
  {
   "cell_type": "markdown",
   "id": "2c722a3a-28b4-42b6-a24d-93dd26d473fd",
   "metadata": {},
   "source": [
    "---"
   ]
  },
  {
   "cell_type": "markdown",
   "id": "22e2c2df-d942-41c5-bc84-99194a8a9533",
   "metadata": {},
   "source": [
    "**Question:**  \n",
    "What is the difference between hypothesis tests and confidence intervals?\n",
    "\n",
    "1. Hypothesis tests indicate the possible size of an effect, whereas confidence intervals merely indicate whether or not an effect is present.\n",
    "2. Hypothesis tests and confidence intervals both indicate the possible size of an effect.\n",
    "3. Hypothesis tests merely indicate whether or not an effect is present, whereas confidence intervals indicate the possible size of the effect.\n",
    "4. Hypothesis tests and confidence intervals both indicate whether or not an effect is present.\n",
    "\n",
    "**Answer:**  3"
   ]
  },
  {
   "cell_type": "markdown",
   "id": "65c4aa1b-78ea-4aeb-b8a5-0976f6602080",
   "metadata": {},
   "source": [
    "---"
   ]
  },
  {
   "cell_type": "markdown",
   "id": "7d504aa6-595e-4360-8675-806f8bdd3ff4",
   "metadata": {},
   "source": [
    "**Question:**  \n",
    "Which kind of error do confidence intervals reflect?\n",
    "\n",
    "1. Sampling error due to measurement imprecision.\n",
    "2. Systematic error due to bias in the sample.\n",
    "3. Sampling error due to random sampling variability.\n",
    "4. Systematic error due to measurement instrument drift.\n",
    "\n",
    "**Answer:**  3"
   ]
  },
  {
   "cell_type": "markdown",
   "id": "a52d2383-2115-4159-a4a3-8a3781acc4d7",
   "metadata": {},
   "source": [
    "---"
   ]
  }
 ],
 "metadata": {
  "kernelspec": {
   "display_name": "Python 3 (ipykernel)",
   "language": "python",
   "name": "python3"
  },
  "language_info": {
   "codemirror_mode": {
    "name": "ipython",
    "version": 3
   },
   "file_extension": ".py",
   "mimetype": "text/x-python",
   "name": "python",
   "nbconvert_exporter": "python",
   "pygments_lexer": "ipython3",
   "version": "3.9.16"
  }
 },
 "nbformat": 4,
 "nbformat_minor": 5
}
