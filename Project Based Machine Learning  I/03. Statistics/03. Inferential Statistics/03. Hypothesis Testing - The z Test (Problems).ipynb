{
 "cells": [
  {
   "cell_type": "markdown",
   "id": "013e52f3-5ff8-4890-93de-a237e693e79e",
   "metadata": {},
   "source": [
    "<img src=\"../../../images/banners/inferential-statistics.png\" width=\"600\"/>"
   ]
  },
  {
   "cell_type": "markdown",
   "id": "b702894a-001c-420d-a8ce-f343ea0ec9d8",
   "metadata": {},
   "source": [
    "# <img src=\"../../../images/logos/statistics-logo.jpeg\" width=\"27\"/> Hypothesis Testing: The `z` Test (Problems)"
   ]
  },
  {
   "cell_type": "markdown",
   "id": "f18d87c4-c3f7-4193-b8a8-786ef423b439",
   "metadata": {},
   "source": [
    "**Question:**  \n",
    "What is hypothesis testing?\n",
    "1. A statistical method used to evaluate two competing hypotheses about a population parameter\n",
    "2. A statistical method used to estimate the population parameter from a sample\n",
    "3. A statistical method used to summarize the sample data using descriptive statistics\n",
    "4. A statistical method used to compare two or more populations using inferential statistics\n",
    "\n",
    "**Answer:**  1"
   ]
  },
  {
   "cell_type": "markdown",
   "id": "8371e3fd-70c0-4c73-a08a-9db9917aeea3",
   "metadata": {},
   "source": [
    "---"
   ]
  },
  {
   "cell_type": "markdown",
   "id": "06fccfc2-bbd2-4ae9-95fb-49a3811d9afd",
   "metadata": {},
   "source": [
    "**Question:**  \n",
    "What is a null hypothesis ($H_0$)?\n",
    "1. A hypothesis that represents a significant difference between the sample and the population\n",
    "2. A hypothesis that represents no significant difference between the sample and the population\n",
    "3. A hypothesis that is always rejected in hypothesis testing\n",
    "4. A hypothesis that is always accepted in hypothesis testing\n",
    "\n",
    "**Answer:**  2"
   ]
  },
  {
   "cell_type": "markdown",
   "id": "837b0259-0e12-4c73-bfbe-350f70e4a143",
   "metadata": {},
   "source": [
    "---"
   ]
  },
  {
   "cell_type": "markdown",
   "id": "4a20f08f-ddb8-47a0-a76a-b7128485328e",
   "metadata": {},
   "source": [
    "**Question:**  \n",
    "What is an alternative hypothesis ($H_a$)?\n",
    "\n",
    "1. A hypothesis that represents a significant difference between the sample and the population\n",
    "2. A hypothesis that represents no significant difference between the sample and the population\n",
    "3. A hypothesis that is always rejected in hypothesis testing\n",
    "4. A hypothesis that is always accepted in hypothesis testing\n",
    "\n",
    "**Answer:** 1"
   ]
  },
  {
   "cell_type": "markdown",
   "id": "e89f5a02-e11b-44ac-b0b5-543a0fba57ff",
   "metadata": {},
   "source": [
    "---"
   ]
  },
  {
   "cell_type": "markdown",
   "id": "10f435e9-3847-4f3a-9c92-bed22c68dd54",
   "metadata": {},
   "source": [
    "**Question:**  \n",
    "Which of the following is true about hypothesis testing?\n",
    "1. Using the sampling distribution as our frame of reference\n",
    "2. A common outcome is readily attributable to chance, and therefore, null hypothesis is retained.\n",
    "3. A rare outcome isn't readily attributable to chance, and therefore, the null hypothesis is rejected.\n",
    "4. All of the above.\n",
    "\n",
    "**Answer:**  4"
   ]
  },
  {
   "cell_type": "markdown",
   "id": "e28289ce-5c1e-4de0-9218-e2c5036daa38",
   "metadata": {},
   "source": [
    "---"
   ]
  },
  {
   "cell_type": "markdown",
   "id": "dcc011ac-67fe-481e-aa1c-0187d6a847a7",
   "metadata": {},
   "source": [
    "**Question:**  \n",
    "An observed sample mean qualifies as a **common** outcome if the difference between its value and that of the hypothesized population mean is:\n",
    "1. large enough to reject the null hypothesis.\n",
    "2. large enough to retain the null hypothesis.\n",
    "3. small enough to retain the null hypothesis.\n",
    "4. small enough to reject the null hypothesis.\n",
    "\n",
    "**Answer:**  3"
   ]
  },
  {
   "cell_type": "markdown",
   "id": "89c6e322-527b-4534-8111-f29fe4f320e1",
   "metadata": {},
   "source": [
    "---"
   ]
  },
  {
   "cell_type": "markdown",
   "id": "922a816c-26ec-4cfa-86c1-55d08fb78364",
   "metadata": {},
   "source": [
    "**Question:**  \n",
    "An observed sample mean qualifies as a **rare** outcome if the difference between its value and that of the hypothesized population mean is:\n",
    "1. large enough to reject the null hypothesis.\n",
    "2. large enough to retain the null hypothesis.\n",
    "3. small enough to retain the null hypothesis.\n",
    "4. small enough to reject the null hypothesis.\n",
    "\n",
    "**Answer:**  1"
   ]
  },
  {
   "cell_type": "markdown",
   "id": "de39257d-8029-46fa-ace3-83f58f5b77cb",
   "metadata": {},
   "source": [
    "---"
   ]
  },
  {
   "cell_type": "markdown",
   "id": "8a382fe8-d091-4226-be80-0cf8a9fb3e07",
   "metadata": {},
   "source": [
    "**Question:**  \n",
    "What is the formula for z score for a single population mean?\n",
    "1. $\\frac{\\sum X}{n}$\n",
    "2. $\\frac{\\bar{X} - \\mu_{hyp}}{\\sigma_{\\bar{X}}}$\n",
    "3. $\\frac{\\bar{X} - \\mu_{hyp}}{s/\\sqrt{n}}$\n",
    "4. $\\sqrt{\\frac{\\sum(X - \\bar{X})^2}{n-1}}$\n",
    "\n",
    "**Answer:**  2"
   ]
  },
  {
   "cell_type": "markdown",
   "id": "879077aa-1cb1-4516-9cd2-61443dae5dea",
   "metadata": {},
   "source": [
    "---"
   ]
  },
  {
   "cell_type": "markdown",
   "id": "30f3477a-f9e2-4887-a903-d2b1a41792c1",
   "metadata": {},
   "source": [
    "**Question:**  \n",
    "What is the boundary of z-scores **generally** used for common and rare outcomes?\n",
    "1. The boundary for common outcomes is between z = -1.96 and z = 1.96, while rare outcomes fall outside of this range.\n",
    "2. The boundary for common outcomes is between z = -1 and z = 1, while rare outcomes fall outside of this range.\n",
    "3. The boundary for common outcomes is between z = -0.5 and z = 0.5, while rare outcomes fall outside of this range.\n",
    "4. The boundary for common outcomes is between z = -3 and z = 3, while rare outcomes fall outside of this range.\n",
    "\n",
    "**Answer:**  1"
   ]
  },
  {
   "cell_type": "markdown",
   "id": "7c5bef6a-d00d-4155-b0e3-888b1f39acfc",
   "metadata": {},
   "source": [
    "---"
   ]
  },
  {
   "cell_type": "markdown",
   "id": "de193ccb-d9a6-4fa4-b992-c45206c7e0db",
   "metadata": {},
   "source": [
    "**Question:**  \n",
    "Which of the following is needed to the z test for a population mean be accurate?\n",
    "1. The population is normally distributed or the sample size is large enough to satisfy the requirements of the central limit theorem.\n",
    "2. The population standard deviation is known.\n",
    "3. The z test for a population mean is always accurate.\n",
    "4. Both 1 and 2\n",
    "\n",
    "**Answer:**  4"
   ]
  },
  {
   "cell_type": "markdown",
   "id": "688be711-c9bb-4ce1-89a3-6390847aa695",
   "metadata": {},
   "source": [
    "---"
   ]
  },
  {
   "cell_type": "markdown",
   "id": "0f22ce47-b98d-45ea-a0a2-607cd96ccd2b",
   "metadata": {},
   "source": [
    "**Question:**  \n",
    "What is a decision rule in hypothesis testing?\n",
    "1. The value of the test statistic that separates the critical region from the non-critical region.\n",
    "2. The level of significance used to determine the critical value.\n",
    "3. The probability of making a Type I error.\n",
    "4. The procedure used to decide whether to reject or fail to reject the null hypothesis based on the observed data.\n",
    "\n",
    "**Answer:**  4"
   ]
  },
  {
   "cell_type": "markdown",
   "id": "8886bc6e-dc50-4b4c-bf7f-d90839e87e31",
   "metadata": {},
   "source": [
    "---"
   ]
  },
  {
   "cell_type": "markdown",
   "id": "5169d679-4b75-4ba4-87e6-e81eeef872a7",
   "metadata": {},
   "source": [
    "**Question:**  \n",
    "Which of the following is the probability of rejecting the null hypothesis ($H_0$) when it is true?\n",
    "1. The level of significance\n",
    "2. The p-value\n",
    "3. The critical value\n",
    "4. The type I error rate\n",
    "\n",
    "**Answer:**  1"
   ]
  },
  {
   "cell_type": "markdown",
   "id": "fed52cb1-3eca-404c-a524-ea572cb6478a",
   "metadata": {},
   "source": [
    "---"
   ]
  }
 ],
 "metadata": {
  "kernelspec": {
   "display_name": "Python 3 (ipykernel)",
   "language": "python",
   "name": "python3"
  },
  "language_info": {
   "codemirror_mode": {
    "name": "ipython",
    "version": 3
   },
   "file_extension": ".py",
   "mimetype": "text/x-python",
   "name": "python",
   "nbconvert_exporter": "python",
   "pygments_lexer": "ipython3",
   "version": "3.9.16"
  }
 },
 "nbformat": 4,
 "nbformat_minor": 5
}
