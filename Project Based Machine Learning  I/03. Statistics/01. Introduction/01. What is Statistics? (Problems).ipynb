{
 "cells": [
  {
   "cell_type": "markdown",
   "id": "b1a92733-4e21-49af-87f7-9fecfe2fb1cb",
   "metadata": {},
   "source": [
    "<img src=\"../../../images/banners/intoroduction.png\" width=\"600\"/>"
   ]
  },
  {
   "cell_type": "markdown",
   "id": "7b9e4da7-af76-4b0a-87a7-ba0e359cea3d",
   "metadata": {},
   "source": [
    "# <img src=\"../../../images/logos/statistics-logo.jpeg\" width=\"27\"/> AI Glossary (Problems)\n"
   ]
  },
  {
   "cell_type": "markdown",
   "id": "80e41490-2bd4-4889-aafe-19a48a40059f",
   "metadata": {},
   "source": [
    "**Question:**  \n",
    "Which type of statistics involves the analysis of data that helps to describe, show and summarize data under study?\n",
    "1. Predictive statistics\n",
    "2. Prescriptive statistics\n",
    "3. Descriptive statistics\n",
    "4. Inferential statistics\n",
    "\n",
    "**Answer:** 3"
   ]
  },
  {
   "cell_type": "markdown",
   "id": "a047646b-b2cc-4b6c-9bce-91e445446bb9",
   "metadata": {},
   "source": [
    "---"
   ]
  },
  {
   "cell_type": "markdown",
   "id": "1bd54817-5791-4b81-b0f2-39de1fba08f5",
   "metadata": {},
   "source": [
    "**Question:**  \n",
    "Which type of statistics involves the analysis of a random sample of data taken from a population to describe and make inference about the population?\n",
    "\n",
    "1. Predictive statistics\n",
    "2. Prescriptive statistics\n",
    "3. Descriptive statistics\n",
    "4. Inferential statistics\n",
    "\n",
    "**Answer:** 4"
   ]
  },
  {
   "cell_type": "markdown",
   "id": "4c3f6e21-edab-45af-8ac2-47db3abb9848",
   "metadata": {},
   "source": [
    "---"
   ]
  },
  {
   "cell_type": "markdown",
   "id": "c21ab6b7-7ad3-4460-8e29-e57132f83387",
   "metadata": {},
   "source": [
    "**Question:**  \n",
    "What is a subset of the population that is selected for data collection and analysis in statistics?\n",
    "1. Population\n",
    "2. Sample\n",
    "3. Variable\n",
    "4. Parameter\n",
    "\n",
    "**Answer:** 2"
   ]
  },
  {
   "cell_type": "markdown",
   "id": "769163ef-37a4-4894-9703-5539feb1fa38",
   "metadata": {},
   "source": [
    "---"
   ]
  },
  {
   "cell_type": "markdown",
   "id": "8f64a15f-8e16-4111-be1e-811087b32744",
   "metadata": {},
   "source": [
    "**Question:**  \n",
    "What research method involves asking a set of questions to a group of individuals in order to gather data?\n",
    "1. Experimentation\n",
    "2. Observation\n",
    "3. Survey\n",
    "4. Case study\n",
    "\n",
    "**Answer:** 3"
   ]
  },
  {
   "cell_type": "markdown",
   "id": "cec5ab02-ce62-44ed-8a82-696d0e7e02ea",
   "metadata": {},
   "source": [
    "---"
   ]
  },
  {
   "cell_type": "markdown",
   "id": "4dafff23-2b57-43f8-a40e-04c811e5aaf2",
   "metadata": {},
   "source": [
    "**Question:**  \n",
    "What research method involves manipulating an independent variable and observing changes in a dependent variable between a treatment group and a control group?\n",
    "\n",
    "1. Correlational study\n",
    "2. Experiment\n",
    "3. Case study\n",
    "4. Survey\n",
    "\n",
    "**Answer:** 2"
   ]
  },
  {
   "cell_type": "markdown",
   "id": "fd88f8fb-3acb-49b6-8ff9-f0dd16792feb",
   "metadata": {},
   "source": [
    "---"
   ]
  },
  {
   "cell_type": "markdown",
   "id": "cc956bd7-74cf-4865-af6e-bf2bbbf77651",
   "metadata": {},
   "source": [
    "**Question:**  \n",
    "Which type of data does typically consist of words (Yes or No), letters (Y or N), or numerical codes (0 or 1) that represent a class or category?\n",
    "\n",
    "1. Quantitative data\n",
    "2. Continuous data\n",
    "3. Ranked data\n",
    "4. Qualitative data\n",
    "\n",
    "**Answer:** 4"
   ]
  },
  {
   "cell_type": "markdown",
   "id": "c924dfe4-7568-4796-99a1-2623f212c32d",
   "metadata": {},
   "source": [
    "---"
   ]
  },
  {
   "cell_type": "markdown",
   "id": "f449bb39-30be-4b62-a838-4af050165963",
   "metadata": {},
   "source": [
    "**Question:**  \n",
    "Which type of data consists of numbers (1st, 2nd, . . . 40th place) that represent relative standing within a group?\n",
    "1. Continuous data\n",
    "2. Discrete data\n",
    "3. Ranked data\n",
    "4. Categorical data\n",
    "\n",
    "**Answer:** 3"
   ]
  },
  {
   "cell_type": "markdown",
   "id": "e77054b8-253d-4862-af95-daecdd7fd317",
   "metadata": {},
   "source": [
    "---"
   ]
  },
  {
   "cell_type": "markdown",
   "id": "1d0e6559-8c6d-45d5-bc2e-ba552794e253",
   "metadata": {},
   "source": [
    "**Question:**  \n",
    "Which type of data consists of numbers (weights of 238, 170, . . . 185 lbs) that represent an amount or a count?\n",
    "1. Qualitative data\n",
    "2. Quantitative data\n",
    "3. Categorical data\n",
    "4. Ordinal data\n",
    "\n",
    "**Answer:** 2"
   ]
  },
  {
   "cell_type": "markdown",
   "id": "ace3f0d7-9d56-49a8-bbf7-eaf75393ef59",
   "metadata": {},
   "source": [
    "---"
   ]
  },
  {
   "cell_type": "markdown",
   "id": "e8110695-9115-4790-92b7-44cedb105d62",
   "metadata": {},
   "source": [
    "**Question:**  \n",
    "Which of the following is not an example of quantitative data?\n",
    "1. The height of a person\n",
    "2. The weight of an object\n",
    "3. The color of a car\n",
    "4. The temperature of a room\n",
    "\n",
    "**Answer:** 3"
   ]
  },
  {
   "cell_type": "markdown",
   "id": "73b25b1e-5b43-4d59-b237-243faa83ab52",
   "metadata": {},
   "source": [
    "---"
   ]
  },
  {
   "cell_type": "markdown",
   "id": "b039d463-aa40-449d-bfd3-7a6e9c65f856",
   "metadata": {},
   "source": [
    "**Question:**  \n",
    "Which of the following is not an example of qualitative data?\n",
    "1. The gender of a person\n",
    "2. The marital status of a person\n",
    "3. The height of a person\n",
    "4. The occupation of a person\n",
    "\n",
    "**Answer:** 3"
   ]
  },
  {
   "cell_type": "markdown",
   "id": "6417e7ee-ad0a-423e-8029-63e14ed1b10e",
   "metadata": {},
   "source": [
    "---"
   ]
  },
  {
   "cell_type": "markdown",
   "id": "9f3bb7cc-82e5-44f1-be0c-d81330538627",
   "metadata": {},
   "source": [
    "**Question:**  \n",
    "Which of the following is not an example of qualitative data?\n",
    "1. The brand of a car\n",
    "2. The favorite color of a person\n",
    "3. The number of siblings a person has\n",
    "4. The weight of a person\n",
    "\n",
    "**Answer:** 4"
   ]
  },
  {
   "cell_type": "markdown",
   "id": "ae6ff61b-6f0a-4e3b-9ca7-45f5c6d91d14",
   "metadata": {},
   "source": [
    "---"
   ]
  },
  {
   "cell_type": "markdown",
   "id": "69eba3e3-8563-4a93-802a-f8dba6b70e63",
   "metadata": {},
   "source": [
    "**Question:**  \n",
    "Which level of measurement is paired with qualitative data?\n",
    "1. Nominal\n",
    "2. Ordinal\n",
    "3. Interval/ratio\n",
    "\n",
    "**Answer:** 1"
   ]
  },
  {
   "cell_type": "markdown",
   "id": "0e406420-ce46-463d-8fcf-a54348da37a9",
   "metadata": {},
   "source": [
    "---"
   ]
  },
  {
   "cell_type": "markdown",
   "id": "128b1a09-43d2-4595-9ec8-8baba6e5a265",
   "metadata": {},
   "source": [
    "**Question:**  \n",
    "Which level of measurement is paired with quantitative data?\n",
    "\n",
    "1. Nominal\n",
    "2. Ordinal\n",
    "3. Interval/ratio\n",
    "\n",
    "**Answer:** 3"
   ]
  },
  {
   "cell_type": "markdown",
   "id": "f36ca59d-7df8-4169-b305-e166804a9ba5",
   "metadata": {},
   "source": [
    "---"
   ]
  },
  {
   "cell_type": "markdown",
   "id": "e19b6f6c-011c-4585-886a-00a8288db23a",
   "metadata": {},
   "source": [
    "**Question:**  \n",
    "Which level of measurement is paired with ranked data?\n",
    "\n",
    "1. Nominal\n",
    "2. Ordinal\n",
    "3. Interval/ratio\n",
    "\n",
    "**Answer:** 2"
   ]
  },
  {
   "cell_type": "markdown",
   "id": "4f56f807-011a-4b4b-abd2-dd3f46419659",
   "metadata": {},
   "source": [
    "---"
   ]
  },
  {
   "cell_type": "markdown",
   "id": "4b1f8d6e-5ba8-4a2a-93f7-f8d5175b14e8",
   "metadata": {},
   "source": [
    "**Question:**  \n",
    "A distinctive feature of which level of measurement is its bare-bones representation of any attribute?\n",
    "1. Nominal measurement\n",
    "2. Ordinal measurement\n",
    "3. Interval measurement\n",
    "4. Ratio measurement\n",
    "\n",
    "**Answer:** 1"
   ]
  },
  {
   "cell_type": "markdown",
   "id": "5bc64ae5-b8a6-4e0f-a21a-460448680a9b",
   "metadata": {},
   "source": [
    "---"
   ]
  },
  {
   "cell_type": "markdown",
   "id": "ce67ee33-1a83-4c5e-ae3f-2b5c881edb6d",
   "metadata": {},
   "source": [
    "**Question:**  \n",
    "Which level of measurement fails to reflect the actual distance between adjacent ranks, therefore making simple arithmetic operations with ranks inappropriate?\n",
    "1. Nominal measurement\n",
    "2. Ratio measurement\n",
    "3. Interval measurement\n",
    "4. Ordinal measurement\n",
    "\n",
    "**Answer:** 4"
   ]
  },
  {
   "cell_type": "markdown",
   "id": "055ece26-9e9b-4af5-90b8-910084467f65",
   "metadata": {},
   "source": [
    "---"
   ]
  },
  {
   "cell_type": "markdown",
   "id": "d25e3e36-beac-4e46-8e76-d3534c79fee2",
   "metadata": {},
   "source": [
    "**Question:**  \n",
    "Which level of measurement has the distinctive properties of equal intervals and a true zero?\n",
    "1. Nominal measurement\n",
    "2. Ordinal measurement\n",
    "3. Interval/ratio measurement\n",
    "4. Qualitative measurement\n",
    "\n",
    "**Answer:** 3"
   ]
  },
  {
   "cell_type": "markdown",
   "id": "a98a25e2-6923-4db2-a1ae-2878241792d5",
   "metadata": {},
   "source": [
    "---"
   ]
  },
  {
   "cell_type": "markdown",
   "id": "bd613fc3-abb1-4b95-8c60-a3ca30ba8daa",
   "metadata": {},
   "source": [
    "**Question:**  \n",
    "Which of the following is not an example of a discrete variable?\n",
    "1. The weight of a person\n",
    "2. The number of cars in a parking lot\n",
    "3. The number of students in a classroom\n",
    "4. The number of books on a shelf\n",
    "\n",
    "**Answer:** 1"
   ]
  },
  {
   "cell_type": "markdown",
   "id": "9faee85d-b273-434e-a6a7-81bd6534b2d7",
   "metadata": {},
   "source": [
    "---"
   ]
  },
  {
   "cell_type": "markdown",
   "id": "34640af6-de29-40c1-a4dd-8bd092caf8e7",
   "metadata": {},
   "source": [
    "**Question:**  \n",
    "Which variable is manipulated or changed by the researcher in an experiment?\n",
    "1. Independent variable\n",
    "2. Dependent variable\n",
    "3. Control variable\n",
    "4. Confounding variable\n",
    "\n",
    "**Answer:** 1"
   ]
  },
  {
   "cell_type": "markdown",
   "id": "b41672aa-7730-47f4-808b-e52fe53b4dee",
   "metadata": {},
   "source": [
    "---"
   ]
  },
  {
   "cell_type": "markdown",
   "id": "feba1397-080a-4fed-87d0-b4277c023b55",
   "metadata": {},
   "source": [
    "**Question:**  \n",
    "Which variable is measured or observed by the researcher in an experiment to determine the effect of what is changed?\n",
    "1. Control variable\n",
    "2. Confounding variable\n",
    "3. Independent variable\n",
    "4. Dependent variable\n",
    "\n",
    "**Answer:** 4"
   ]
  },
  {
   "cell_type": "markdown",
   "id": "4ab3f767-5685-4420-8817-7a07f3ed575b",
   "metadata": {},
   "source": [
    "---"
   ]
  },
  {
   "cell_type": "markdown",
   "id": "9980cbb4-b308-44ce-bd87-315cafd3f9fe",
   "metadata": {},
   "source": [
    "**Question:**  \n",
    "Which research method focuses on detecting relationships between variables not manipulated by the investigator, and yields less clear-cut conclusions about cause-effect relationships than an experiment?\n",
    "1. Experimental study\n",
    "2. Observational study\n",
    "3. Correlational study\n",
    "4. Case study\n",
    "\n",
    "**Answer:** 2"
   ]
  },
  {
   "cell_type": "markdown",
   "id": "d52aadc8-69a9-491a-838a-65994844bc28",
   "metadata": {},
   "source": [
    "---"
   ]
  },
  {
   "cell_type": "markdown",
   "id": "18cb4ccd-64d4-4ec8-9c92-b6197de99842",
   "metadata": {},
   "source": [
    "**Question:**  \n",
    "What is an uncontrolled variable that compromises the interpretation of a study?\n",
    "1. Independent variable\n",
    "2. Dependent variable\n",
    "3. Control variable\n",
    "4. Confounding variable\n",
    "\n",
    "**Answer:** 4"
   ]
  },
  {
   "cell_type": "markdown",
   "id": "c84aeb39-12ef-4bf4-8202-bfd963f3f890",
   "metadata": {},
   "source": [
    "---"
   ]
  }
 ],
 "metadata": {
  "kernelspec": {
   "display_name": "Python 3 (ipykernel)",
   "language": "python",
   "name": "python3"
  },
  "language_info": {
   "codemirror_mode": {
    "name": "ipython",
    "version": 3
   },
   "file_extension": ".py",
   "mimetype": "text/x-python",
   "name": "python",
   "nbconvert_exporter": "python",
   "pygments_lexer": "ipython3",
   "version": "3.9.16"
  }
 },
 "nbformat": 4,
 "nbformat_minor": 5
}
