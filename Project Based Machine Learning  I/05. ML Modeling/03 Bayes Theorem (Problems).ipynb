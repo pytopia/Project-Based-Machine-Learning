{
 "cells": [
  {
   "cell_type": "markdown",
   "id": "1c6e75c7-c135-4ede-9441-76ff3abe81c0",
   "metadata": {},
   "source": [
    "<img src=\"../../images/banners/ml.png\" width=\"600\"/>"
   ]
  },
  {
   "cell_type": "markdown",
   "id": "2f5ee8ef-f2ba-46f5-a304-2622e41cecaa",
   "metadata": {},
   "source": [
    "# <img src=\"../../images/logos/ml-logo.png\" width=\"23\"/> Bayes Theorem (Problems)"
   ]
  },
  {
   "cell_type": "markdown",
   "id": "b824708d-4248-4271-9101-4391afe064bf",
   "metadata": {},
   "source": [
    "**Question:**  \n",
    "What is the primary use of Bayes' theorem?\n",
    "\n",
    "1. To calculate the probability of two or more events occurring together.\n",
    "2. To calculate the probability of an event not occurring.\n",
    "3. To update our beliefs or knowledge about a hypothesis or event based on new evidence or data.\n",
    "4. To calculate the expected value of a random variable.\n",
    "\n",
    "**Answer:**  3"
   ]
  },
  {
   "cell_type": "markdown",
   "id": "e4363ed0-47cc-4bf6-a49a-add5fb4a8a79",
   "metadata": {},
   "source": [
    "---"
   ]
  },
  {
   "cell_type": "markdown",
   "id": "d061c57c-18ce-4765-860c-2ba84d2d86d6",
   "metadata": {},
   "source": [
    "**Question:**  \n",
    "Which of the following is represented by the formula $p(H|E)=\\frac{p(E|H)p(H)}{p(E)}$?\n",
    "\n",
    "1. The sum rule\n",
    "2. The product rule\n",
    "3. Bayes’ theorem\n",
    "4. The law of total probability\n",
    "\n",
    "**Answer:**  3"
   ]
  },
  {
   "cell_type": "markdown",
   "id": "93801f68-4543-4bda-bfe6-9eb6e63b7cb0",
   "metadata": {},
   "source": [
    "---"
   ]
  },
  {
   "cell_type": "markdown",
   "id": "629b0e60-7eb9-4c4f-8631-63be35a990e8",
   "metadata": {},
   "source": [
    "**Question:**  \n",
    "What role does prior probability play in Bayes' theorem?\n",
    "\n",
    "1. It represents the probability of observing the evidence or data given the hypothesis or event.\n",
    "2. It represents the probability of the hypothesis or event before considering the evidence or data.\n",
    "3. It represents the probability of the hypothesis or event given the evidence or data.\n",
    "4. It represents the probability of observing the evidence or data and the hypothesis or event together.\n",
    "\n",
    "**Answer:**  2"
   ]
  },
  {
   "cell_type": "markdown",
   "id": "4ced7420-496e-416d-b545-817c62942922",
   "metadata": {},
   "source": [
    "---"
   ]
  },
  {
   "cell_type": "markdown",
   "id": "b1739c2d-297a-4462-a46f-3dff31261b4f",
   "metadata": {},
   "source": [
    "**Question:**  \n",
    "What does the law of total probability state in the context of Bayes' theorem?\n",
    "\n",
    "1. It states that the probability of the hypothesis or event given the evidence is equal to the probability of the evidence given the hypothesis or event multiplied by the prior probability of the hypothesis or event.\n",
    "2. It states that the probability of two events occurring together is equal to the product of their individual probabilities.\n",
    "3. It states that the probability of an event not occurring is equal to one minus the probability that it does occur.\n",
    "4. It states that the probability of the evidence is equal to the sum of the probabilities of the evidence given each possible hypothesis or event, weighted by their respective prior probabilities.\n",
    "\n",
    "**Answer:**  4"
   ]
  },
  {
   "cell_type": "markdown",
   "id": "a3e9e713-7c66-468d-b8d4-5bd1d5343ddc",
   "metadata": {},
   "source": [
    "---"
   ]
  },
  {
   "cell_type": "markdown",
   "id": "66b9b1aa-5cb6-4c19-9d64-52cd330a127f",
   "metadata": {},
   "source": [
    "**Question:**  \n",
    "What does the posterior probability represent in Bayes' theorem?\n",
    "\n",
    "1. The probability of the evidence or data given the hypothesis or event.\n",
    "2. The probability of the hypothesis or event before considering the evidence or data.\n",
    "3. The probability of the hypothesis or event given the evidence or data.\n",
    "4. The combined probability of two or more events occurring together.\n",
    "\n",
    "**Answer:** 3  "
   ]
  },
  {
   "cell_type": "markdown",
   "id": "0ee37b14-8c73-49d9-8f90-96cc255f9036",
   "metadata": {},
   "source": [
    "---"
   ]
  },
  {
   "cell_type": "markdown",
   "id": "6e582f1b-17bd-4092-a027-57853d1094e6",
   "metadata": {},
   "source": [
    "**Question:**  \n",
    "What does the likelihood represent in Bayes' theorem?\n",
    "\n",
    "1. The probability of the hypothesis or event before considering the evidence or data.\n",
    "2. The probability of the evidence or data given the hypothesis or event.\n",
    "3. The probability of the hypothesis or event given the evidence or data.\n",
    "4. The combined probability of two or more events occurring together.\n",
    "\n",
    "**Answer:**  2"
   ]
  },
  {
   "cell_type": "markdown",
   "id": "ef696fbb-8085-4398-a093-1530d0976b2e",
   "metadata": {},
   "source": [
    "---"
   ]
  }
 ],
 "metadata": {
  "kernelspec": {
   "display_name": "Python 3 (ipykernel)",
   "language": "python",
   "name": "python3"
  },
  "language_info": {
   "codemirror_mode": {
    "name": "ipython",
    "version": 3
   },
   "file_extension": ".py",
   "mimetype": "text/x-python",
   "name": "python",
   "nbconvert_exporter": "python",
   "pygments_lexer": "ipython3",
   "version": "3.9.16"
  }
 },
 "nbformat": 4,
 "nbformat_minor": 5
}
