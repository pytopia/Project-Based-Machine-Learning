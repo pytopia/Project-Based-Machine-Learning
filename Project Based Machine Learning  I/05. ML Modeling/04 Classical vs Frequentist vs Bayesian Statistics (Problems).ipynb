{
 "cells": [
  {
   "cell_type": "markdown",
   "id": "1c6e75c7-c135-4ede-9441-76ff3abe81c0",
   "metadata": {},
   "source": [
    "<img src=\"../../images/banners/ml.png\" width=\"600\"/>"
   ]
  },
  {
   "cell_type": "markdown",
   "id": "2f5ee8ef-f2ba-46f5-a304-2622e41cecaa",
   "metadata": {},
   "source": [
    "# <img src=\"../../images/logos/ml-logo.png\" width=\"23\"/> Classical vs Frequentist vs Bayesian Statistics (Problems)"
   ]
  },
  {
   "cell_type": "markdown",
   "id": "b824708d-4248-4271-9101-4391afe064bf",
   "metadata": {},
   "source": [
    "**Question:**  \n",
    "Which of the following is a type of probability?\n",
    "\n",
    "1. Classical probability\n",
    "2. Frequentist probability\n",
    "3. Bayesian probability\n",
    "4. All of the above\n",
    "\n",
    "**Answer:**  4"
   ]
  },
  {
   "cell_type": "markdown",
   "id": "e4363ed0-47cc-4bf6-a49a-add5fb4a8a79",
   "metadata": {},
   "source": [
    "---"
   ]
  },
  {
   "cell_type": "markdown",
   "id": "4b9a557f-3d5d-4fbf-bf6f-5f8971819d1b",
   "metadata": {},
   "source": [
    "**Question:**  \n",
    "How does the classical theory of probability work?\n",
    "\n",
    "1. It calculates the probability of an event based on the long-run relative frequency of that event occurring in repeated, independent trials.\n",
    "2. It assigns probabilities to events based on an individual's degree of belief or subjective judgment.\n",
    "3. It assumes that all outcomes in a sample space are not equally likely to occur.\n",
    "4. It calculates the probability of an event by dividing the number of favorable outcomes by the total number of possible outcomes, assuming that all outcomes in the sample space are equally likely to occur.\n",
    "\n",
    "**Answer:**  4"
   ]
  },
  {
   "cell_type": "markdown",
   "id": "acb85ef2-2961-49a8-91b1-a555b6140f5c",
   "metadata": {},
   "source": [
    "---"
   ]
  },
  {
   "cell_type": "markdown",
   "id": "48b10590-ffc7-45b4-979e-b4cf926ec8d0",
   "metadata": {},
   "source": [
    "**Question:**  \n",
    "In which of the following situations does the classical theory of probability work?\n",
    "\n",
    "1. When events are equally likely to occur\n",
    "2. When events are not equally likely to occur\n",
    "3. When events are dependent on each other\n",
    "4. When there is uncertainty about the outcomes\n",
    "\n",
    "**Answer:**  1"
   ]
  },
  {
   "cell_type": "markdown",
   "id": "aa88a8db-f980-4a15-b76f-916edd799d2f",
   "metadata": {},
   "source": [
    "---"
   ]
  },
  {
   "cell_type": "markdown",
   "id": "7105024d-91b6-4054-8806-59993380a969",
   "metadata": {},
   "source": [
    "**Question:**  \n",
    "Which of the following is a limitation of the classical theory of probability?\n",
    "\n",
    "1. It cannot be applied to situations where events are equally likely to occur\n",
    "2. It assumes that events are independent of each other\n",
    "3. It cannot be used to calculate conditional probabilities\n",
    "4. It cannot be applied to situations where events are not equally likely to occur\n",
    "\n",
    "**Answer:**  4"
   ]
  },
  {
   "cell_type": "markdown",
   "id": "e3173095-cda2-4a7d-afd8-2a115fc41bd7",
   "metadata": {},
   "source": [
    "---"
   ]
  },
  {
   "cell_type": "markdown",
   "id": "f84b2d27-2226-4bca-8484-cb8494687308",
   "metadata": {},
   "source": [
    "**Question:**  \n",
    "How does the frequentist theory of probability work?\n",
    "\n",
    "1. It calculates the probability of an event as the long-run relative frequency of that event occurring in repeated, independent trials.\n",
    "2. It assigns probabilities to events based on an individual's degree of belief or subjective judgment.\n",
    "3. It assumes that all outcomes in a sample space are equally likely to occur.\n",
    "4. It calculates the probability of an event based on the proportion of outcomes in the sample space that are favorable to the event.\n",
    "\n",
    "**Answer:**  1"
   ]
  },
  {
   "cell_type": "markdown",
   "id": "0873173b-b85b-468e-9929-b6b2aba60ff6",
   "metadata": {},
   "source": [
    "---"
   ]
  },
  {
   "cell_type": "markdown",
   "id": "1d96401d-b2a1-4cd1-9e92-85f8be2160ed",
   "metadata": {},
   "source": [
    "**Question:**  \n",
    "In which of the following situations is the frequentist theory of probability useful?\n",
    "\n",
    "1. When events are known to be independent and identically distributed (i.i.d.)\n",
    "2. When events are not independent of each other\n",
    "3. When you don't have prior knowledge about the probabilities of events, but events can be repeated multiple times under the same conditions\n",
    "4. When events are known to be equally likely to occur\n",
    "\n",
    "**Answer:**  3"
   ]
  },
  {
   "cell_type": "markdown",
   "id": "7c517c9b-027e-4d28-b1d6-af35d6e7e318",
   "metadata": {},
   "source": [
    "---"
   ]
  },
  {
   "cell_type": "markdown",
   "id": "cff0ccc8-531c-4a3e-9122-1ee8decb4bdb",
   "metadata": {},
   "source": [
    "**Question:**  \n",
    "Which of the following is a limitation of the frequentist theory of probability?\n",
    "\n",
    "1. It cannot be used to estimate probabilities in situations where events can be repeated multiple times under the same conditions\n",
    "2. It requires that events be independent and identically distributed (i.i.d.)\n",
    "3. It relies on subjective judgments and individual beliefs\n",
    "4. It cannot calculate the probability of events that occur only once or events that cannot be repeated under the same conditions\n",
    "\n",
    "**Answer:**  4"
   ]
  },
  {
   "cell_type": "markdown",
   "id": "0817b0f8-637c-45f9-ad95-8865b989269a",
   "metadata": {},
   "source": [
    "---"
   ]
  },
  {
   "cell_type": "markdown",
   "id": "0a669e1f-a42b-4534-9d44-15c076749e4e",
   "metadata": {},
   "source": [
    "**Question:**  \n",
    "How does Bayesian probability work?\n",
    "\n",
    "1. It calculates the probability of an event based on the long-run relative frequency of that event occurring in repeated, independent trials.\n",
    "2. It assigns probabilities to events based on an individual's degree of belief or subjective judgment.\n",
    "3. It uses prior knowledge and observation data to update probabilities of events.\n",
    "4. It assumes that all outcomes in a sample space are equally likely to occur.\n",
    "\n",
    "**Answer:**  3"
   ]
  },
  {
   "cell_type": "markdown",
   "id": "d525e57c-59e5-4d8a-bddf-2110796f49ec",
   "metadata": {},
   "source": [
    "---"
   ]
  }
 ],
 "metadata": {
  "kernelspec": {
   "display_name": "Python 3 (ipykernel)",
   "language": "python",
   "name": "python3"
  },
  "language_info": {
   "codemirror_mode": {
    "name": "ipython",
    "version": 3
   },
   "file_extension": ".py",
   "mimetype": "text/x-python",
   "name": "python",
   "nbconvert_exporter": "python",
   "pygments_lexer": "ipython3",
   "version": "3.9.16"
  }
 },
 "nbformat": 4,
 "nbformat_minor": 5
}
