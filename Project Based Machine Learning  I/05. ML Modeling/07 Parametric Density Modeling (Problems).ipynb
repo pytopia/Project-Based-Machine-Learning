{
 "cells": [
  {
   "cell_type": "markdown",
   "id": "1c6e75c7-c135-4ede-9441-76ff3abe81c0",
   "metadata": {},
   "source": [
    "<img src=\"../../images/banners/ml.png\" width=\"600\"/>"
   ]
  },
  {
   "cell_type": "markdown",
   "id": "2f5ee8ef-f2ba-46f5-a304-2622e41cecaa",
   "metadata": {},
   "source": [
    "# <img src=\"../../images/logos/ml-logo.png\" width=\"23\"/> Parametric Density Modeling (Problems)"
   ]
  },
  {
   "cell_type": "markdown",
   "id": "b824708d-4248-4271-9101-4391afe064bf",
   "metadata": {},
   "source": [
    "**Question:**  \n",
    "Which of the following is not a probability distribution for discrete random variables?\n",
    "\n",
    "1. Normal distribution\n",
    "2. Multinomial distribution\n",
    "3. Poisson distribution\n",
    "4. Binomial distribution \n",
    "\n",
    "**Answer:**  1"
   ]
  },
  {
   "cell_type": "markdown",
   "id": "e4363ed0-47cc-4bf6-a49a-add5fb4a8a79",
   "metadata": {},
   "source": [
    "---"
   ]
  },
  {
   "cell_type": "markdown",
   "id": "3b156c48-8f1a-4ee7-b689-0da795dd7942",
   "metadata": {},
   "source": [
    "**Question:**  \n",
    "Which of the following best describes a parametric distribution?\n",
    "\n",
    "1. A distribution that does not make any assumptions about the underlying population\n",
    "2. A distribution that is based on a sample of data\n",
    "3. A distribution that requires a small number of parameters to fully specify its shape\n",
    "4. A distribution that is only used for continuous variables\n",
    "\n",
    "**Answer:**  3"
   ]
  },
  {
   "cell_type": "markdown",
   "id": "694c6f4b-eb34-435d-8d8d-6a8c8b26d4aa",
   "metadata": {},
   "source": [
    "---"
   ]
  },
  {
   "cell_type": "markdown",
   "id": "636dfe6d-b79a-4933-955a-c4545a878910",
   "metadata": {},
   "source": [
    "**Question:**  \n",
    "How can you find the parameters in parametric distributions?\n",
    "\n",
    "1. By making assumptions about the underlying population and using statistical inference techniques to estimate the parameter values from a sample of observations.\n",
    "2. By using non-parametric methods to estimate the parameter values from a sample of observations.\n",
    "3. By assuming that the parameter values are fixed and known, and do not need to be estimated from observations.\n",
    "4. By randomly guessing parameter values until the distribution fits the observed data.\n",
    "\n",
    "**Answer:** 1"
   ]
  },
  {
   "cell_type": "markdown",
   "id": "5859c7ca-8f3b-4a28-ac2d-4d77e5c38fc9",
   "metadata": {},
   "source": [
    "---"
   ]
  },
  {
   "cell_type": "markdown",
   "id": "c4943ff0-379d-4f83-bb7f-9815f00d9257",
   "metadata": {},
   "source": [
    "**Question:**  \n",
    "Which of the following is a limitation of the parametric approach?\n",
    "\n",
    "1. It requires a large sample size in order to estimate the parameters of the distribution accurately.\n",
    "2. It assumes that the underlying population is normally distributed, which may not be true in practice.\n",
    "3. It is only applicable to continuous variables, and cannot be used for discrete variables.\n",
    "4. It assumes a specific functional form for the distribution, which may turn out to be inappropriate for a particular application.\n",
    "\n",
    "**Answer:**  4"
   ]
  },
  {
   "cell_type": "markdown",
   "id": "8cfb4f86-ba0d-4e04-8e04-1d1c4e647a98",
   "metadata": {},
   "source": [
    "---"
   ]
  },
  {
   "cell_type": "markdown",
   "id": "a5d4b2e7-455a-4e0d-957e-77c91bb7bc4a",
   "metadata": {},
   "source": [
    "**Question:**  \n",
    "Which of the following best describes the Bernoulli distribution?\n",
    "\n",
    "1. A discrete probability distribution that models the number of successes in a fixed number of independent trials, each with the same probability of success.\n",
    "2. A continuous probability distribution that models the time between rare events occurring in a fixed interval of time or space.\n",
    "3. A discrete probability distribution that models the outcome of a single trial with two possible outcomes, such as success or failure.\n",
    "4. A continuous probability distribution that models the probability of a continuous random variable falling within a specified range.\n",
    "\n",
    "**Answer:**  3"
   ]
  },
  {
   "cell_type": "markdown",
   "id": "f565c17d-8811-451b-b955-b76e800c424c",
   "metadata": {},
   "source": [
    "---"
   ]
  },
  {
   "cell_type": "markdown",
   "id": "99c98448-2e0e-42b0-b2e6-ed701d8246ea",
   "metadata": {},
   "source": [
    "**Question:**  \n",
    "Which of the following is the formula for the Bernoulli distribution?\n",
    "\n",
    "1. $p(x|\\mu) = \\mu^{x} (1-\\mu)^{(1-x)}$\n",
    "\n",
    "2. $p(x|\\mu) = \\mu^{x} (1-\\mu)^{(x)}$\n",
    "\n",
    "3. $p(x|\\mu) = \\mu^{(1-x)} (1-\\mu)^{(1-x)}$\n",
    "\n",
    "4. $p(x|\\mu) = \\mu^{(1-x)} (1-\\mu)^{(x)}$\n",
    "\n",
    "\n",
    "**Answer:**  1"
   ]
  },
  {
   "cell_type": "markdown",
   "id": "4251acfb-ef10-40f9-a63e-6e2405a20607",
   "metadata": {},
   "source": [
    "---"
   ]
  },
  {
   "cell_type": "markdown",
   "id": "9cec350c-6297-4cbd-ab53-b4e0fc25c8ef",
   "metadata": {},
   "source": [
    "**Question:**  \n",
    "What is the maximum likelihood estimator in the Bernoulli distribution?\n",
    "\n",
    "1. $\\mu_{ML} = \\sum{x_n}$\n",
    "\n",
    "2. $\\mu_{ML} = \\sum{(x_n)^{2}}$\n",
    "\n",
    "3. $\\mu_{ML} = \\frac{1}{N}\\sum{x_n}$\n",
    "\n",
    "4. $\\mu_{ML} = \\frac{1}{N}\\sum{(x_n)^{2}}$\n",
    "\n",
    "**Answer:**  3"
   ]
  },
  {
   "cell_type": "markdown",
   "id": "272cce25-29b1-4a9b-ae5a-66d95aeae261",
   "metadata": {},
   "source": [
    "---"
   ]
  },
  {
   "cell_type": "markdown",
   "id": "80093453-52c8-4f34-8d65-c257072c564f",
   "metadata": {},
   "source": [
    "**Question:**  \n",
    "What is the difference between the Bernoulli distribution and the binomial distribution?\n",
    "\n",
    "1. The Bernoulli distribution models a binary outcome, while the binomial distribution models the number of successes in a fixed number of independent trials.\n",
    "2. The Bernoulli distribution models the number of successes in a fixed number of independent trials, while the binomial distribution models a binary outcome.\n",
    "3. The Bernoulli distribution assumes a fixed probability of success, while the binomial distribution allows the probability of success to vary across trials.\n",
    "4. The Bernoulli distribution is a continuous probability distribution, while the binomial distribution is a discrete probability distribution.\n",
    "\n",
    "**Answer:**  1"
   ]
  },
  {
   "cell_type": "markdown",
   "id": "802d939c-2427-4097-828d-a8bf610535e4",
   "metadata": {},
   "source": [
    "---"
   ]
  }
 ],
 "metadata": {
  "kernelspec": {
   "display_name": "Python 3 (ipykernel)",
   "language": "python",
   "name": "python3"
  },
  "language_info": {
   "codemirror_mode": {
    "name": "ipython",
    "version": 3
   },
   "file_extension": ".py",
   "mimetype": "text/x-python",
   "name": "python",
   "nbconvert_exporter": "python",
   "pygments_lexer": "ipython3",
   "version": "3.9.7"
  }
 },
 "nbformat": 4,
 "nbformat_minor": 5
}
