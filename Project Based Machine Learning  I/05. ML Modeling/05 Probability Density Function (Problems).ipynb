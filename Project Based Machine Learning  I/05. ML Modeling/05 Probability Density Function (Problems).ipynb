{
 "cells": [
  {
   "cell_type": "markdown",
   "id": "1c6e75c7-c135-4ede-9441-76ff3abe81c0",
   "metadata": {},
   "source": [
    "<img src=\"../../images/banners/ml.png\" width=\"600\"/>"
   ]
  },
  {
   "cell_type": "markdown",
   "id": "2f5ee8ef-f2ba-46f5-a304-2622e41cecaa",
   "metadata": {},
   "source": [
    "# <img src=\"../../images/logos/ml-logo.png\" width=\"23\"/> Probability Density Function (Problems)"
   ]
  },
  {
   "cell_type": "markdown",
   "id": "b824708d-4248-4271-9101-4391afe064bf",
   "metadata": {},
   "source": [
    "**Question:**  \n",
    "What is a probability density function?\n",
    "\n",
    "1. A function that assigns probabilities to discrete events\n",
    "2. A function that assigns probabilities to continuous events\n",
    "3. A function that assigns probabilities to both discrete and continuous events\n",
    "4. A function that assigns cumulative probabilities to events\n",
    "\n",
    "**Answer:**  2"
   ]
  },
  {
   "cell_type": "markdown",
   "id": "e4363ed0-47cc-4bf6-a49a-add5fb4a8a79",
   "metadata": {},
   "source": [
    "---"
   ]
  },
  {
   "cell_type": "markdown",
   "id": "beeb7e73-da48-4fc4-acdc-31012f835d6d",
   "metadata": {},
   "source": [
    "**Question:**  \n",
    "How is a probability density function used to calculate the probability of an event?\n",
    "\n",
    "1. By taking the derivative of the probability density function\n",
    "2. By multiplying the probability density function by the event's range\n",
    "3. By evaluating the probability density function at the event's mean value\n",
    "4. By integrating the probability density function over the event's range\n",
    "\n",
    "**Answer:**  4"
   ]
  },
  {
   "cell_type": "markdown",
   "id": "8aa1300f-7033-4cbb-973d-9d4bff9c903b",
   "metadata": {},
   "source": [
    "---"
   ]
  }
 ],
 "metadata": {
  "kernelspec": {
   "display_name": "Python 3 (ipykernel)",
   "language": "python",
   "name": "python3"
  },
  "language_info": {
   "codemirror_mode": {
    "name": "ipython",
    "version": 3
   },
   "file_extension": ".py",
   "mimetype": "text/x-python",
   "name": "python",
   "nbconvert_exporter": "python",
   "pygments_lexer": "ipython3",
   "version": "3.9.16"
  }
 },
 "nbformat": 4,
 "nbformat_minor": 5
}
