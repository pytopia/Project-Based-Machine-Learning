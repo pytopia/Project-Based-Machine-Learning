{
 "cells": [
  {
   "cell_type": "markdown",
   "id": "1c6e75c7-c135-4ede-9441-76ff3abe81c0",
   "metadata": {},
   "source": [
    "<img src=\"../../images/banners/ml.png\" width=\"600\"/>"
   ]
  },
  {
   "cell_type": "markdown",
   "id": "2f5ee8ef-f2ba-46f5-a304-2622e41cecaa",
   "metadata": {},
   "source": [
    "# <img src=\"../../images/logos/ml-logo.png\" width=\"23\"/> Non-parametric Density Modeling (Problems)"
   ]
  },
  {
   "cell_type": "markdown",
   "id": "67cfe960-e242-403a-8a4e-d1a4a8303d91",
   "metadata": {},
   "source": [
    "**Question:**  \n",
    "Which of the following best describes the definition of non-parametric density probability?\n",
    "\n",
    "1. It refers to the probability of a continuous random variable falling within a specified range, where the parameters of the distribution are known.\n",
    "2. It refers to the probability of a continuous random variable falling within a specified range, where the parameters of the distribution are not known and must be estimated from the data.\n",
    "3. It refers to the probability of a discrete random variable taking on a specific value, where the parameters of the distribution are known.\n",
    "4. It refers to the probability of a discrete random variable taking on a specific value, where the parameters of the distribution are not known and must be estimated from the data.\n",
    "\n",
    "**Answer:**  2"
   ]
  },
  {
   "cell_type": "markdown",
   "id": "080ca975-60a9-49ba-bdd1-773ec47441c5",
   "metadata": {},
   "source": [
    "---"
   ]
  },
  {
   "cell_type": "markdown",
   "id": "6f1556fa-7cf6-4764-b745-93e42d0f6f9d",
   "metadata": {},
   "source": [
    "**Question:**  \n",
    "Which of the following is a difference between parametric and nonparametric density modeling?\n",
    "1. Parametric models are only applicable to discrete variables, while nonparametric models are only applicable to continuous variables.\n",
    "2. Parametric models are only applicable to continuous variables, while nonparametric models are only applicable to discrete variables.\n",
    "3. Nonparametric models still contain parameters, but these control the model complexity rather than the form of the distribution.\n",
    "4. Parametric models are more computationally efficient than nonparametric models, but may be less accurate.\n",
    "\n",
    "**Answer:**  3"
   ]
  },
  {
   "cell_type": "markdown",
   "id": "67bfdb80-0b04-494c-baa5-f6b5dfdc00de",
   "metadata": {},
   "source": [
    "---"
   ]
  },
  {
   "cell_type": "markdown",
   "id": "ec02f1bd-6fbc-470b-a74a-adbfce726170",
   "metadata": {},
   "source": [
    "**Question:**  \n",
    "Which of the following is not a non-parametric density estimation method?\n",
    "\n",
    "1. Kernel Density Estimation\n",
    "2. Linear Regression\n",
    "3. Nearest Neighbor Estimation\n",
    "4. Histogram\n",
    "\n",
    "**Answer:**  2"
   ]
  },
  {
   "cell_type": "markdown",
   "id": "54d9fd39-3e4d-4d6d-8b09-03a42324b553",
   "metadata": {},
   "source": [
    "---"
   ]
  },
  {
   "cell_type": "markdown",
   "id": "0f8f4c0e-6387-4735-b827-422231e4a137",
   "metadata": {},
   "source": [
    "**Question:**  \n",
    "For how many variables is the histogram useful as a non-parametric density estimation method?\n",
    "\n",
    "1. One variable\n",
    "2. Two variables\n",
    "3. Three variables\n",
    "4. Any number of variables\n",
    "\n",
    "**Answer:**  1"
   ]
  },
  {
   "cell_type": "markdown",
   "id": "9ebd1f63-c5a5-4007-807f-2ca5abed0d63",
   "metadata": {},
   "source": [
    "---"
   ]
  },
  {
   "cell_type": "markdown",
   "id": "95e74d47-08b2-4fcc-911a-b4f7cdf08782",
   "metadata": {},
   "source": [
    "**Question:**  \n",
    "When is the histogram useful as a non-parametric density estimation method for estimating the probability density function of a single variable?\n",
    "\n",
    "1. When the data is discrete and has a small number of observations.\n",
    "2. When the data is continuous and has a large number of observations.\n",
    "3. When the data is continuous and has a small number of observations.\n",
    "4. When the underlying distribution of the data is known to be Gaussian.\n",
    "\n",
    "**Answer:**  2"
   ]
  },
  {
   "cell_type": "markdown",
   "id": "6d1bad7b-d776-4b01-adab-75aa50955b0d",
   "metadata": {},
   "source": [
    "---"
   ]
  },
  {
   "cell_type": "markdown",
   "id": "b8a8e408-bef9-48c9-87f9-3a37703d3341",
   "metadata": {},
   "source": [
    "**Question:**  \n",
    "Which of the following formulas indicates the density probability in a histogram?\n",
    "\n",
    "1. $f(x) = \\frac {1}{b-a}$, where a and b are the endpoints of the interval containing the data.\n",
    "\n",
    "2. $f(x) = \\frac {h}{N}$, where h is the height of each bar and N is the total number of observations.\n",
    "\n",
    "3. $f(x) = \\frac {N}{b-a}$, where a and b are the endpoints of the interval containing the data and N is the total number of observations.\n",
    "\n",
    "4. $f(x) = \\frac {n}{N\\Delta}$, where n is the observations of x falling each bin, $\\Delta$ is the width of each bin, and N is the total number of observations.\n",
    "\n",
    "**Answer:**  4"
   ]
  },
  {
   "cell_type": "markdown",
   "id": "97730e06-d4d7-430b-b161-5aa79947530e",
   "metadata": {},
   "source": [
    "---"
   ]
  },
  {
   "cell_type": "markdown",
   "id": "01d73091-c957-4287-a7f1-2f613b5e3755",
   "metadata": {},
   "source": [
    "**Question:**  \n",
    "Which of the following is the only parameter in a histogram?\n",
    "\n",
    "1. Mean\n",
    "2. Bin width\n",
    "3. Variance\n",
    "4. Standard deviation\n",
    "\n",
    "**Answer:**  2"
   ]
  },
  {
   "cell_type": "markdown",
   "id": "f857b7bd-a73b-4770-a6d0-2cd06a516874",
   "metadata": {},
   "source": [
    "---"
   ]
  },
  {
   "cell_type": "markdown",
   "id": "346c8f9b-7dac-4575-87ae-cc54bab75a38",
   "metadata": {},
   "source": [
    "**Question:**  \n",
    "What is the effect of changing the bin width in a histogram?\n",
    "\n",
    "1. Narrower bins increase the detail in the histogram, while wider bins decrease the detail.\n",
    "2. Narrower bins reduce the number of bins in the histogram, while wider bins increase the number of bins.\n",
    "3. Narrower bins increase the smoothness of the histogram, while wider bins increase the sharpness of the histogram.\n",
    "4. Narrower bins increase the skewness of the histogram, while wider bins decrease the skewness.\n",
    "\n",
    "**Answer:**  1"
   ]
  },
  {
   "cell_type": "markdown",
   "id": "54b56695-75c0-4042-8b95-7e15344f78da",
   "metadata": {},
   "source": [
    "---"
   ]
  },
  {
   "cell_type": "markdown",
   "id": "f0467d4e-f923-4f8d-a241-cd75b467a18f",
   "metadata": {},
   "source": [
    "**Question:**  \n",
    "Which of the following is a pitfall of the histogram?\n",
    "\n",
    "1. The choice of bin width can impact the appearance and interpretation of the histogram.\n",
    "2. The histogram has a limitation of scaling with dimensionality.\n",
    "3. The histogram can obscure underlying patterns and relationships in the data.\n",
    "4. All of the above.\n",
    "\n",
    "**Answer:** 4  "
   ]
  },
  {
   "cell_type": "markdown",
   "id": "f4b01420-2b06-4e6a-9b86-ec00ca603307",
   "metadata": {},
   "source": [
    "---"
   ]
  },
  {
   "cell_type": "markdown",
   "id": "52f566ed-183e-49c1-b92d-2c70dc44c814",
   "metadata": {},
   "source": [
    "**Question:**  \n",
    "Which of the following statements is/are true regarding estimating the probability density function using non-parametric density estimation methods?\n",
    "1. It should be considered the data points that lie within some local neighbourhood of each data point.\n",
    "2. The value of the smoothing parameter should be neither too large nor too small in order to obtain good results.\n",
    "3. The choice of kernel function can also affect the accuracy of the density estimate. \n",
    "4. All of the above.\n",
    "\n",
    "**Answer:**  4"
   ]
  },
  {
   "cell_type": "markdown",
   "id": "6ea0bb04-575e-491c-8cd3-881079c9a315",
   "metadata": {},
   "source": [
    "---"
   ]
  },
  {
   "cell_type": "markdown",
   "id": "378ba400-f5a3-4a95-a511-041c2dd94b3d",
   "metadata": {},
   "source": [
    "**Question:**  \n",
    "What is the difference between the K-nearest neighbor technique and the kernel approach for non-parametric density estimation?\n",
    "\n",
    "1. The K-nearest neighbor technique uses a fixed bandwidth, while the kernel approach uses a fixed number of neighbors.\n",
    "2. The K-nearest neighbor technique estimates the density based on the K nearest data points, while the kernel approach averages the kernel functions over all neighboring points within a fixed bandwidth.\n",
    "3. The K-nearest neighbor technique is more computationally efficient than the kernel approach.\n",
    "4. The K-nearest neighbor technique and the kernel approach are equivalent methods for non-parametric density estimation.\n",
    "\n",
    "**Answer:**  2"
   ]
  },
  {
   "cell_type": "markdown",
   "id": "c62e8ccb-f903-43be-82c5-1440ec138010",
   "metadata": {},
   "source": [
    "---"
   ]
  },
  {
   "cell_type": "markdown",
   "id": "c7fe5536-813c-45fc-a460-d8fd267ea59f",
   "metadata": {},
   "source": [
    "**Question:**  \n",
    "What are the parameters in kernel density estimation and k-nearest neighbor density estimation that specify the complexity of the model?\n",
    "1. The kernel function and the number of neighbors, respectively.\n",
    "2. The kernel function and the bandwidth, respectively.\n",
    "3. The bandwidth and the number of neighbors, respectively.\n",
    "4. The number of dimensions and the sample size, respectively.\n",
    "\n",
    "**Answer:**  3"
   ]
  },
  {
   "cell_type": "markdown",
   "id": "dc9f4a14-f5c3-497b-a7fd-383a70c3a2c2",
   "metadata": {},
   "source": [
    "---"
   ]
  }
 ],
 "metadata": {
  "kernelspec": {
   "display_name": "Python 3 (ipykernel)",
   "language": "python",
   "name": "python3"
  },
  "language_info": {
   "codemirror_mode": {
    "name": "ipython",
    "version": 3
   },
   "file_extension": ".py",
   "mimetype": "text/x-python",
   "name": "python",
   "nbconvert_exporter": "python",
   "pygments_lexer": "ipython3",
   "version": "3.9.7"
  }
 },
 "nbformat": 4,
 "nbformat_minor": 5
}
