{
 "cells": [
  {
   "cell_type": "markdown",
   "id": "1c6e75c7-c135-4ede-9441-76ff3abe81c0",
   "metadata": {},
   "source": [
    "<img src=\"../../images/banners/ml.png\" width=\"600\"/>"
   ]
  },
  {
   "cell_type": "markdown",
   "id": "2f5ee8ef-f2ba-46f5-a304-2622e41cecaa",
   "metadata": {},
   "source": [
    "# <img src=\"../../images/logos/ml-logo.png\" width=\"23\"/> Probability Theory (Problems)"
   ]
  },
  {
   "cell_type": "markdown",
   "id": "629b0e60-7eb9-4c4f-8631-63be35a990e8",
   "metadata": {},
   "source": [
    "**Question:**  \n",
    "Which of the following is one of the fundamental rules of probability?\n",
    "\n",
    "1. The sum rule\n",
    "2. The product rule\n",
    "3. Both 1 and 2\n",
    "4. None of the above\n",
    "\n",
    "**Answer:**  3"
   ]
  },
  {
   "cell_type": "markdown",
   "id": "4ced7420-496e-416d-b545-817c62942922",
   "metadata": {},
   "source": [
    "---"
   ]
  },
  {
   "cell_type": "markdown",
   "id": "c5f46f95-42bb-48e7-be35-f7a027ecf534",
   "metadata": {},
   "source": [
    "**Question:**  \n",
    "What does the sum rule in probability theory state?\n",
    "\n",
    "1. The probability of the intersection of two independent events is equal to the product of their individual probabilities.\n",
    "2. The probability of the union of two events is equal to the sum of their individual probabilities minus the probability of their intersection.\n",
    "3. The probability of an event not occurring is equal to one minus the probability that it does occur.\n",
    "4. The probability of the intersection of two events is equal to the sum of their individual probabilities.\n",
    "\n",
    "**Answer:**  2"
   ]
  },
  {
   "cell_type": "markdown",
   "id": "f1a2a4b5-1d38-4646-aeb7-cb70fcda4e9c",
   "metadata": {},
   "source": [
    "---"
   ]
  },
  {
   "cell_type": "markdown",
   "id": "c47161d1-9679-429d-a5d2-c20ef236f800",
   "metadata": {},
   "source": [
    "**Question:**  \n",
    "Which of the following probability rules is shown by the formula $p(X) = \\sum{p(X,Y)}$ ?\n",
    "\n",
    "1. The sum rule\n",
    "2. The product rule\n",
    "3. The complement rule\n",
    "4. None of the above\n",
    "\n",
    "**Answer:**  1"
   ]
  },
  {
   "cell_type": "markdown",
   "id": "2bab6fae-191f-48e1-bf3f-43ef803791a6",
   "metadata": {},
   "source": [
    "---"
   ]
  },
  {
   "cell_type": "markdown",
   "id": "2e52409e-6206-4d49-be60-1350cb2f5536",
   "metadata": {},
   "source": [
    "**Question:**  \n",
    "Which of the following probability rules is shown by the formula $p(X,Y) = p(Y|X)p(X)$ ?\n",
    "\n",
    "1. The sum rule\n",
    "2. The product rule\n",
    "3. The complement rule\n",
    "4. None of the above\n",
    "\n",
    "**Answer:**  2"
   ]
  },
  {
   "cell_type": "markdown",
   "id": "8d549b99-6c71-4f04-9737-716fbc230f37",
   "metadata": {},
   "source": [
    "---"
   ]
  }
 ],
 "metadata": {
  "kernelspec": {
   "display_name": "Python 3 (ipykernel)",
   "language": "python",
   "name": "python3"
  },
  "language_info": {
   "codemirror_mode": {
    "name": "ipython",
    "version": 3
   },
   "file_extension": ".py",
   "mimetype": "text/x-python",
   "name": "python",
   "nbconvert_exporter": "python",
   "pygments_lexer": "ipython3",
   "version": "3.9.16"
  }
 },
 "nbformat": 4,
 "nbformat_minor": 5
}
