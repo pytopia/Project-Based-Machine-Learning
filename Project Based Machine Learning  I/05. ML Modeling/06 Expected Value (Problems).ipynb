{
 "cells": [
  {
   "cell_type": "markdown",
   "id": "1c6e75c7-c135-4ede-9441-76ff3abe81c0",
   "metadata": {},
   "source": [
    "<img src=\"../../images/banners/ml.png\" width=\"600\"/>"
   ]
  },
  {
   "cell_type": "markdown",
   "id": "2f5ee8ef-f2ba-46f5-a304-2622e41cecaa",
   "metadata": {},
   "source": [
    "# <img src=\"../../images/logos/ml-logo.png\" width=\"23\"/> Expected Value (Problems)"
   ]
  },
  {
   "cell_type": "markdown",
   "id": "b824708d-4248-4271-9101-4391afe064bf",
   "metadata": {},
   "source": [
    "**Question:**  \n",
    "What is the expected value of a random variable in probability?\n",
    "\n",
    "1. The most frequently occurring value of the random variable\n",
    "2. The maximum value of the random variable\n",
    "3. The weighted average of the possible values of the random variable, where the weights are the probabilities of each value occurring\n",
    "4. The sum of the possible values of the random variable\n",
    "\n",
    "**Answer:**  3"
   ]
  },
  {
   "cell_type": "markdown",
   "id": "e4363ed0-47cc-4bf6-a49a-add5fb4a8a79",
   "metadata": {},
   "source": [
    "---"
   ]
  },
  {
   "cell_type": "markdown",
   "id": "02463776-f313-446e-923c-ed50e94c0db4",
   "metadata": {},
   "source": [
    "**Question:**  \n",
    "What is conditional expectation?\n",
    "\n",
    "1. The probability that an event will occur given that another event has occurred\n",
    "2. The expected value of a random variable given that another random variable has taken on a specific value\n",
    "3. The probability that two events will occur simultaneously\n",
    "4. The expected value of a random variable without any prior knowledge or information\n",
    "\n",
    "**Answer:**  2"
   ]
  },
  {
   "cell_type": "markdown",
   "id": "a8c7e35c-4a44-4135-ae2d-683958d1e8e4",
   "metadata": {},
   "source": [
    "---"
   ]
  },
  {
   "cell_type": "markdown",
   "id": "c7b513ec-2495-4bd8-9e6d-b809fb5213b3",
   "metadata": {},
   "source": [
    "**Question:**  \n",
    "What is the formula for the variance f(x)?\n",
    "\n",
    "1. $var[f] = E[f(x)^2] + E[f(x)]^2$\n",
    "2. $var[f] = E[f(x)^2] + E[f(x)]$\n",
    "3. $var[f] = E[f(x)^2] - E[f(x)]$\n",
    "4. $var[f] = E[f(x)^2] - E[f(x)]^2$\n",
    "\n",
    "**Answer:**  4"
   ]
  },
  {
   "cell_type": "markdown",
   "id": "98a5ba5a-87ca-4d16-83eb-1aa9c6a7afbc",
   "metadata": {},
   "source": [
    "---"
   ]
  }
 ],
 "metadata": {
  "kernelspec": {
   "display_name": "Python 3 (ipykernel)",
   "language": "python",
   "name": "python3"
  },
  "language_info": {
   "codemirror_mode": {
    "name": "ipython",
    "version": 3
   },
   "file_extension": ".py",
   "mimetype": "text/x-python",
   "name": "python",
   "nbconvert_exporter": "python",
   "pygments_lexer": "ipython3",
   "version": "3.9.16"
  }
 },
 "nbformat": 4,
 "nbformat_minor": 5
}
