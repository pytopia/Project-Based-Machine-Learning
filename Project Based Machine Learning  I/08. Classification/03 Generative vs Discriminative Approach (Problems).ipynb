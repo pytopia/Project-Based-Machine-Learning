{
 "cells": [
  {
   "cell_type": "markdown",
   "id": "2f5ee8ef-f2ba-46f5-a304-2622e41cecaa",
   "metadata": {
    "tags": []
   },
   "source": [
    "# <img src=\"../../images/logos/ml-logo.png\" width=\"23\"/> Generative vs Discriminative Approach (Problems)"
   ]
  },
  {
   "cell_type": "markdown",
   "id": "294d2528-2779-4ee6-96e1-f62c8bf38217",
   "metadata": {},
   "source": [
    "**Question:**  \n",
    "Which of the following is represented by the statement below?\n",
    "\n",
    "\"It learns the relationship between the input and output directly without explicitly modeling the underlying distribution of the data.\"\n",
    "1. Discriminative approach\n",
    "2. Generative approach\n",
    "3. Linear regression\n",
    "4. Poisson regression\n",
    "\n",
    "**Answer:**  1"
   ]
  },
  {
   "cell_type": "markdown",
   "id": "ae825c75-6afc-43d2-bb7c-8dc36f915369",
   "metadata": {},
   "source": [
    "---"
   ]
  },
  {
   "cell_type": "markdown",
   "id": "c8e364b2-1167-460f-8ea3-0acad418321a",
   "metadata": {},
   "source": [
    "**Question:**  \n",
    "Which of the following is represented by the statement below?\n",
    "\n",
    "\"It learns the underlying distribution of the data and uses this knowledge to generate new data samples.\"\n",
    "1. Discriminative approach\n",
    "2. Generative approach\n",
    "3. Linear regression\n",
    "4. Poisson regression\n",
    "\n",
    "**Answer:**  2"
   ]
  },
  {
   "cell_type": "markdown",
   "id": "a79d0341-c29a-4de1-baeb-fd52b217acf2",
   "metadata": {},
   "source": [
    "---"
   ]
  },
  {
   "cell_type": "markdown",
   "id": "97397623-8c76-455e-b655-7fffff284047",
   "metadata": {},
   "source": [
    "**Question:**  \n",
    "Which of the following statements is true regarding **discriminative** and **generative** approaches in machine learning?\n",
    "\n",
    "1. Discriminative models are better suited for classification tasks, while generative models are better suited for regression tasks.\n",
    "2. Discriminative models generate new data points that are similar to the training data, while generative models are used to differentiate between classes.\n",
    "3. Discriminative models learn the conditional probability of the output given the input, while generative models learn the joint probability of the input and output.\n",
    "4. Discriminative models are more complex and computationally expensive than generative models.\n",
    "\n",
    "**Answer:**  3"
   ]
  },
  {
   "cell_type": "markdown",
   "id": "27407db0-5075-41c3-91b7-58563d5e1c10",
   "metadata": {},
   "source": [
    "---"
   ]
  },
  {
   "cell_type": "markdown",
   "id": "0acad744-3bdf-4f0c-9222-2f21946c879a",
   "metadata": {},
   "source": [
    "**Question:**  \n",
    "Which of the following is NOT generally the **advantage** of `discriminative` approach?\n",
    "1. Simplicity: Direct mapping from input to output\n",
    "2. Computational efficiency\n",
    "3. Feature relevance: Focus on discriminative features\n",
    "4. Handling missing data: Can handle missing or incomplete data\n",
    "\n",
    "**Answer:**  4"
   ]
  },
  {
   "cell_type": "markdown",
   "id": "885deebc-6fa4-4153-a6a9-baf16d358d04",
   "metadata": {},
   "source": [
    "---"
   ]
  },
  {
   "cell_type": "markdown",
   "id": "3ee728e2-1a1f-492c-b5ab-3cce3bff6b42",
   "metadata": {},
   "source": [
    "**Question:**  \n",
    "Which of the following is NOT generally the **advantage** of `generative` approach?\n",
    "1. Data generation: Ability to generate new data samples\n",
    "2. Handling missing data: Can handle missing or incomplete data\n",
    "3. Computational efficiency\n",
    "4. Anomaly detection: Can identify outliers or anomalies\n",
    "\n",
    "\n",
    "**Answer:**  3"
   ]
  },
  {
   "cell_type": "markdown",
   "id": "fd4c9ab1-f887-4d15-8546-690a4b31861d",
   "metadata": {},
   "source": [
    "---"
   ]
  },
  {
   "cell_type": "markdown",
   "id": "dafe0be6-167a-485d-8045-e2d869f575c7",
   "metadata": {},
   "source": [
    "**Question:**  \n",
    "Which of the following is NOT generally the **disadvantage** of `discriminative` approach?\n",
    "1. Complexity: More parameters and computational resources required\n",
    "2. Data imbalance: Sensitive to imbalanced data\n",
    "3. No data generation: Cannot generate new data\n",
    "4. Limited information: Ignores data distribution\n",
    "\n",
    "**Answer:**  1"
   ]
  },
  {
   "cell_type": "markdown",
   "id": "112308dc-e18a-4ced-9dd7-e543bfadcbd9",
   "metadata": {},
   "source": [
    "---"
   ]
  },
  {
   "cell_type": "markdown",
   "id": "a58e9e0a-70fe-451d-8e17-f7fbb34c3026",
   "metadata": {},
   "source": [
    "**Question:**  \n",
    "Which of the following is NOT generally the **disadvantage** of `generative` approach?\n",
    "1. Computational cost: More complex and computationally expensive\n",
    "2. Overfitting risk: Prone to overfitting if not enough data available\n",
    "3. Limited information: Ignores data distribution\n",
    "4. Complexity: More parameters and computational resources required\n",
    "\n",
    "**Answer:**  3"
   ]
  },
  {
   "cell_type": "markdown",
   "id": "0c304d54-bfc4-4427-9443-5ee85f47183e",
   "metadata": {},
   "source": [
    "---"
   ]
  }
 ],
 "metadata": {
  "kernelspec": {
   "display_name": "Python 3 (ipykernel)",
   "language": "python",
   "name": "python3"
  },
  "language_info": {
   "codemirror_mode": {
    "name": "ipython",
    "version": 3
   },
   "file_extension": ".py",
   "mimetype": "text/x-python",
   "name": "python",
   "nbconvert_exporter": "python",
   "pygments_lexer": "ipython3",
   "version": "3.9.16"
  }
 },
 "nbformat": 4,
 "nbformat_minor": 5
}
