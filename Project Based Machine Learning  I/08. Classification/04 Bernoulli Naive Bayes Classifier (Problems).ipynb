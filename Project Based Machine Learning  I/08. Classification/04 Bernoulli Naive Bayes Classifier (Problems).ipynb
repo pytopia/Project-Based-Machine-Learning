{
 "cells": [
  {
   "cell_type": "markdown",
   "id": "2f5ee8ef-f2ba-46f5-a304-2622e41cecaa",
   "metadata": {
    "tags": []
   },
   "source": [
    "# <img src=\"../../images/logos/ml-logo.png\" width=\"23\"/> Bernoulli Naive Bayes Classifier (Problems)"
   ]
  },
  {
   "cell_type": "markdown",
   "id": "294d2528-2779-4ee6-96e1-f62c8bf38217",
   "metadata": {},
   "source": [
    "**Question:**  \n",
    "Which of the following is a generative approach in machine learning?\n",
    "\n",
    "1. Support Vector Machines\n",
    "2. Naive Bayes classifier\n",
    "3. Random Forest\n",
    "4. K-Nearest Neighbors\n",
    "\n",
    "**Answer:**  2"
   ]
  },
  {
   "cell_type": "markdown",
   "id": "ae825c75-6afc-43d2-bb7c-8dc36f915369",
   "metadata": {},
   "source": [
    "---"
   ]
  },
  {
   "cell_type": "markdown",
   "id": "f2107aa1-ab61-445d-9d24-8ad6ebc0342b",
   "metadata": {},
   "source": [
    "**Question:**  \n",
    "Which of the following statements best describes a **Naive Bayes** classifier in machine learning?\n",
    "\n",
    "1. A Naive Bayes classifier is a type of unsupervised learning algorithm.\n",
    "2. A Naive Bayes classifier is a type of decision tree algorithm.\n",
    "3. A Naive Bayes classifier is a probabilistic algorithm based on Bayes' theorem that assumes independence between the features.\n",
    "4. A Naive Bayes classifier is a type of deep learning algorithm.\n",
    "\n",
    "**Answer:**  3"
   ]
  },
  {
   "cell_type": "markdown",
   "id": "ed510691-9032-454f-9768-21986ebeed84",
   "metadata": {},
   "source": [
    "---"
   ]
  },
  {
   "cell_type": "markdown",
   "id": "09b31078-1227-4548-a36f-b2699d29a1a9",
   "metadata": {},
   "source": [
    "**Question:**  \n",
    "Which of the following probabilities is **NOT** learned by a Naive Bayes classifier?\n",
    "\n",
    "1. Prior probabilities of the classes\n",
    "2. Posterior probabilities of the classes\n",
    "3. Conditional probabilities of the features given the classes\n",
    "4. Joint probabilities of the features and classes\n",
    "\n",
    "**Answer:**  2"
   ]
  },
  {
   "cell_type": "markdown",
   "id": "cd770436-6d56-41b6-9a1d-5104220cf219",
   "metadata": {},
   "source": [
    "---"
   ]
  },
  {
   "cell_type": "markdown",
   "id": "3d554b48-b09c-4890-836f-ad30421f087d",
   "metadata": {},
   "source": [
    "**Question:**  \n",
    "Which of the following is the **strong assumption** made by the Naive Bayes classifier?\n",
    "\n",
    "1. The features are independent of each other.\n",
    "2. The features are dependent on each other.\n",
    "3. The classes are independent of each other.\n",
    "4. The classes are dependent on each other.\n",
    "\n",
    "**Answer:** 1 "
   ]
  },
  {
   "cell_type": "markdown",
   "id": "1ad5ab89-9470-4e63-8b1d-4712468a056b",
   "metadata": {},
   "source": [
    "---"
   ]
  },
  {
   "cell_type": "markdown",
   "id": "4cdd58b9-241a-434d-b761-9b0a37fca459",
   "metadata": {},
   "source": [
    "**Question:**  \n",
    "Which of the following represents the **decision rule** in the Naive Bayes classifier?\n",
    "\n",
    "1. Choose the class that has the highest prior probability.\n",
    "2. Choose the class that has the highest posterior probability.\n",
    "3. Choose the class that has the highest conditional probability of the features given the class.\n",
    "4. Choose the class that has the highest joint probability of the features and the class.\n",
    "\n",
    "**Answer:**  2"
   ]
  },
  {
   "cell_type": "markdown",
   "id": "2aee4429-3d53-44ff-aa64-e7b21dda5867",
   "metadata": {},
   "source": [
    "---"
   ]
  },
  {
   "cell_type": "markdown",
   "id": "fdef0f7c-a879-4a55-bfdd-f8bbe4c51578",
   "metadata": {},
   "source": [
    "**Question:**  \n",
    "Which of the following can complete the statement below?\n",
    "\n",
    "\"The Bernoulli Naive Bayes classifier is a variant of the Naive Bayes algorithm that assumes that the features are ..... \"\n",
    "1. continuous\n",
    "2. numerical\n",
    "3. categorical\n",
    "4. binary\n",
    "\n",
    "**Answer:** 4 "
   ]
  },
  {
   "cell_type": "markdown",
   "id": "38c8b8dd-65cd-470c-babb-cde8f6822c8b",
   "metadata": {},
   "source": [
    "---"
   ]
  },
  {
   "cell_type": "markdown",
   "id": "7cabc7ce-964a-48bc-b4ba-55913989693b",
   "metadata": {},
   "source": [
    "**Question:**  \n",
    "Which of the following best describes the use of the assumption that features are independent in the Naive Bayes classifier?\n",
    "\n",
    "1. It simplifies the computation of the conditional probability of the features given the classes.\n",
    "2. It allows the classifier to handle continuous-valued features.\n",
    "3. It makes it easier to incorporate additional features into the model.\n",
    "4. It reduces the risk of overfitting by reducing the complexity of the model.\n",
    "\n",
    "**Answer:** 1 "
   ]
  },
  {
   "cell_type": "markdown",
   "id": "aa27f060-98fb-4143-b4ba-a57033323503",
   "metadata": {},
   "source": [
    "---"
   ]
  },
  {
   "cell_type": "markdown",
   "id": "a050fe54-e235-485c-a867-978ad17498d0",
   "metadata": {},
   "source": [
    "**Question:**  \n",
    "Which of the following is a linear classifier?\n",
    "\n",
    "1. Random Forest\n",
    "2. Bernoulli Naive Bayes\n",
    "3. K-Nearest Neighbors\n",
    "4. None of the above\n",
    "\n",
    "**Answer:**  2"
   ]
  },
  {
   "cell_type": "markdown",
   "id": "34bf881b-754e-45f6-b617-195f33671045",
   "metadata": {},
   "source": [
    "---"
   ]
  }
 ],
 "metadata": {
  "kernelspec": {
   "display_name": "Python 3 (ipykernel)",
   "language": "python",
   "name": "python3"
  },
  "language_info": {
   "codemirror_mode": {
    "name": "ipython",
    "version": 3
   },
   "file_extension": ".py",
   "mimetype": "text/x-python",
   "name": "python",
   "nbconvert_exporter": "python",
   "pygments_lexer": "ipython3",
   "version": "3.9.16"
  }
 },
 "nbformat": 4,
 "nbformat_minor": 5
}
