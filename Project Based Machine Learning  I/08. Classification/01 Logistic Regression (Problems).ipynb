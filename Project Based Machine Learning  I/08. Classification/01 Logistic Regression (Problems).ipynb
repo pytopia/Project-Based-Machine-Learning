{
 "cells": [
  {
   "cell_type": "markdown",
   "id": "2f5ee8ef-f2ba-46f5-a304-2622e41cecaa",
   "metadata": {
    "tags": []
   },
   "source": [
    "# <img src=\"../../images/logos/ml-logo.png\" width=\"23\"/> Logistic Regression (Problems)"
   ]
  },
  {
   "cell_type": "markdown",
   "id": "294d2528-2779-4ee6-96e1-f62c8bf38217",
   "metadata": {},
   "source": [
    "**Question:**  \n",
    "Which of the following is represented by the statement below?\n",
    "\n",
    "\"It is a type of regression model used for modeling binary response variables.\"\n",
    "\n",
    "1. Linear regression\n",
    "2. Logistic regression\n",
    "3. Poisson regression\n",
    "4. Naive Bayes classifier\n",
    "\n",
    "**Answer:**  2"
   ]
  },
  {
   "cell_type": "markdown",
   "id": "ae825c75-6afc-43d2-bb7c-8dc36f915369",
   "metadata": {},
   "source": [
    "---"
   ]
  },
  {
   "cell_type": "markdown",
   "id": "20ec072d-c5b5-4894-b97b-9af2be280fc0",
   "metadata": {
    "tags": []
   },
   "source": [
    "**Question:**  \n",
    "Which of the following **transfer functions** is used in logistic regression?\n",
    "\n",
    "1. Sigmoid function\n",
    "2. Rectified linear unit (ReLU) function\n",
    "3. Hyperbolic tangent (tanh) function\n",
    "4. Softmax function\n",
    "\n",
    "**Answer:**  1"
   ]
  },
  {
   "cell_type": "markdown",
   "id": "fdf09ba9-a268-41d0-9522-e1ec3e9bafeb",
   "metadata": {},
   "source": [
    "---"
   ]
  },
  {
   "cell_type": "markdown",
   "id": "a22ca89b-14b3-485c-a5fe-33c2e1a4c7bd",
   "metadata": {},
   "source": [
    "**Question:**  \n",
    "Which of the following formulas represents the **sigmoid** function?\n",
    "\n",
    "1. $\\sigma(t) = (1 + e^{t})$\n",
    "2. $\\sigma(t) = (1 + e^{t})^ {-1}$\n",
    "3. $\\sigma(t) = (1 + e^{-t})$\n",
    "4. $\\sigma(t) = (1 + e^{-t})^ {-1}$\n",
    "\n",
    "**Answer:** 4 "
   ]
  },
  {
   "cell_type": "markdown",
   "id": "dd6fe965-6111-4221-b357-8431ac96b962",
   "metadata": {},
   "source": [
    "---"
   ]
  },
  {
   "cell_type": "markdown",
   "id": "6802185e-2a98-4103-97b9-7585731e1197",
   "metadata": {},
   "source": [
    "**Question:**  \n",
    "Which of the following is true regarding **logistic regression**?\n",
    "1. $E[y|\\mathbf{x}]=\\sigma(\\mathbf{w}^{T}\\mathbf{x})$\n",
    "\n",
    "2. $p(y|\\mathbf{x})=Bernoulli(\\alpha)$\n",
    "\n",
    "3. $\\alpha=E[y|\\mathbf{x}]$\n",
    "\n",
    "4. All of the above\n",
    "\n",
    "**Answer:**  4"
   ]
  },
  {
   "cell_type": "markdown",
   "id": "2746fef0-44b3-4f7e-8811-2e32b143c766",
   "metadata": {},
   "source": [
    "---"
   ]
  },
  {
   "cell_type": "markdown",
   "id": "dca1387a-e2b4-46b4-a0b3-ee0cdea89087",
   "metadata": {},
   "source": [
    "**Question:**  \n",
    "Which of the following formulas represent the $p(y|\\mathbf{x})$ in logistic regression if $\\alpha=\\sigma(\\mathbf{w}^{T}\\mathbf{x})$?\n",
    "\n",
    "1. $p(y|\\mathbf{x})=\\alpha^{y} (1-\\alpha)^{y}$\n",
    "\n",
    "2. $p(y|\\mathbf{x})=\\alpha^{y} (1+\\alpha)^{y}$\n",
    "\n",
    "3. $p(y|\\mathbf{x})=\\alpha^{y} (1-\\alpha)^{1-y}$\n",
    "\n",
    "4. $p(y|\\mathbf{x})=\\alpha^{y} (1+\\alpha)^{1-y}$\n",
    "\n",
    "**Answer:**  3"
   ]
  },
  {
   "cell_type": "markdown",
   "id": "0046b996-a903-4c55-ba95-465f4f6cf5f7",
   "metadata": {},
   "source": [
    "---"
   ]
  },
  {
   "cell_type": "markdown",
   "id": "0d023840-26f4-4d2e-bb23-2b9332049a03",
   "metadata": {},
   "source": [
    "**Question:**  \n",
    "Which of the following is **NOT** true regarding logistic regression with the threshold = 0.5 ?\n",
    "\n",
    "1. $P(Y=1|\\mathbf{x},\\mathbf{w}) \\ge 0.5$ only when $ \\mathbf{w}^{T}\\mathbf{x} \\ge 0$\n",
    "\n",
    "2. If $P(Y=1|\\mathbf{x},\\mathbf{w}) \\ge 0.5$ we conclude that data point $\\mathbf{x}$ should be labeled as positive (ŷ = 1).\n",
    "\n",
    "3. $P(Y=1|\\mathbf{x},\\mathbf{w}) \\lt 0.5$ only when $ \\mathbf{w}^{T}\\mathbf{x} \\lt 0$\n",
    "\n",
    "4. If $P(Y=1|\\mathbf{x},\\mathbf{w}) \\lt 0.5$ we conclude that data point $\\mathbf{x}$ should be labeled as positive (ŷ = 1).\n",
    "\n",
    "**Answer:**  4"
   ]
  },
  {
   "cell_type": "markdown",
   "id": "f9a3c1ec-4fac-4123-b099-fc37f8b2b744",
   "metadata": {},
   "source": [
    "---"
   ]
  }
 ],
 "metadata": {
  "kernelspec": {
   "display_name": "Python 3 (ipykernel)",
   "language": "python",
   "name": "python3"
  },
  "language_info": {
   "codemirror_mode": {
    "name": "ipython",
    "version": 3
   },
   "file_extension": ".py",
   "mimetype": "text/x-python",
   "name": "python",
   "nbconvert_exporter": "python",
   "pygments_lexer": "ipython3",
   "version": "3.9.16"
  }
 },
 "nbformat": 4,
 "nbformat_minor": 5
}
