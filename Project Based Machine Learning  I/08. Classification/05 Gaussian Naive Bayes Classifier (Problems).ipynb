{
 "cells": [
  {
   "cell_type": "markdown",
   "id": "2f5ee8ef-f2ba-46f5-a304-2622e41cecaa",
   "metadata": {
    "tags": []
   },
   "source": [
    "# <img src=\"../../images/logos/ml-logo.png\" width=\"23\"/> Gaussian Naive Bayes Classifier (Problems)"
   ]
  },
  {
   "cell_type": "markdown",
   "id": "1403e66b-3361-4cc9-a1cf-e97d9c0d622b",
   "metadata": {},
   "source": [
    "**Question:**  \n",
    "Which distribution is commonly used in the Naive Bayes classifier for **continuous features**?\n",
    "\n",
    "1. Poisson distribution\n",
    "2. Gaussian distribution\n",
    "3. Exponential distribution\n",
    "4. Beta distribution\n",
    "\n",
    "**Answer:**  2"
   ]
  },
  {
   "cell_type": "markdown",
   "id": "0cf4c2c0-317f-4c1f-86ce-5833f8a78564",
   "metadata": {},
   "source": [
    "---"
   ]
  },
  {
   "cell_type": "markdown",
   "id": "a906adb5-3b06-41fa-bdaa-42383f5ff3bc",
   "metadata": {},
   "source": [
    "**Question:**  \n",
    "Which of the following is **NOT** true regarding Gaussian Naive Bayes classifier?\n",
    "1. Since y is discrete, you can approximate $p(y)$ using counts as Bernoulli Naive Bayes classifier.\n",
    "2. The maximum likelihood mean and variance parameters correspond to the sample mean and sample covariance for each given class separately.\n",
    "3. You need to compute the mean and variance of feature j across the datapoints labeled with class c\n",
    "4. It is assumed that the joint probabilities of the features and classes follow a Gaussian distribution.\n",
    "\n",
    "**Answer:**  4"
   ]
  },
  {
   "cell_type": "markdown",
   "id": "81076add-a66d-4314-9520-37a56f63d82b",
   "metadata": {},
   "source": [
    "---"
   ]
  }
 ],
 "metadata": {
  "kernelspec": {
   "display_name": "Python 3 (ipykernel)",
   "language": "python",
   "name": "python3"
  },
  "language_info": {
   "codemirror_mode": {
    "name": "ipython",
    "version": 3
   },
   "file_extension": ".py",
   "mimetype": "text/x-python",
   "name": "python",
   "nbconvert_exporter": "python",
   "pygments_lexer": "ipython3",
   "version": "3.9.16"
  }
 },
 "nbformat": 4,
 "nbformat_minor": 5
}
