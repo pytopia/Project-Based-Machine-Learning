{
 "cells": [
  {
   "cell_type": "markdown",
   "id": "2f5ee8ef-f2ba-46f5-a304-2622e41cecaa",
   "metadata": {},
   "source": [
    "# <img src=\"../../images/logos/ml-logo.png\" width=\"23\"/> Weighted Error Function (Problems)"
   ]
  },
  {
   "cell_type": "markdown",
   "id": "f1f2361f-9fec-4889-89f8-a4d7315876cc",
   "metadata": {},
   "source": [
    "**Question:**  \n",
    "Which of the following statements about the weighted error function in linear regression with sample-specific costs is true?\n",
    "\n",
    "1. The weighted error function assigns equal weight to all samples in the dataset, regardless of their individual costs.\n",
    "2. The weighted error function assigns higher weight to samples with smaller costs.\n",
    "3. The weighted error function assigns higher weight to samples with larger costs.\n",
    "4. The weighted error function is not used in linear regression with sample-specific costs.\n",
    "\n",
    "**Answer:** 3 "
   ]
  },
  {
   "cell_type": "markdown",
   "id": "da06e44a-2676-4ac6-93f1-f942b0e74e5e",
   "metadata": {},
   "source": [
    "---"
   ]
  },
  {
   "cell_type": "markdown",
   "id": "79482035-96fb-4edb-ba32-988096445805",
   "metadata": {},
   "source": [
    "**Question:**  \n",
    "What is the shape of the weighted error function matrix in linear regression with n samples and d features, where each sample is assigned a weight $w_i$?\n",
    "\n",
    "1. (n, n)\n",
    "2. (m, m)\n",
    "3. (n, d)\n",
    "4. (d, n)\n",
    "\n",
    "**Answer:**  1"
   ]
  },
  {
   "cell_type": "markdown",
   "id": "ecdfb86b-090e-4a16-8826-25051b288cf2",
   "metadata": {},
   "source": [
    "---"
   ]
  },
  {
   "cell_type": "markdown",
   "id": "0b7b2e30-6d7b-4a8f-8921-28c7e430760f",
   "metadata": {},
   "source": [
    "**Question:**  \n",
    "What type of matrix is the weighted error function matrix in linear regression?\n",
    "\n",
    "1. Symmetric negetive\n",
    "2. Diagonal\n",
    "3. Triangular\n",
    "4. Singular\n",
    "\n",
    "**Answer:**  2"
   ]
  },
  {
   "cell_type": "markdown",
   "id": "a2cde7bd-07a5-4dfe-8dc1-d164b0e0988b",
   "metadata": {},
   "source": [
    "---"
   ]
  },
  {
   "cell_type": "markdown",
   "id": "c47ea80d-190a-4983-a4c6-b0f37720e3d1",
   "metadata": {},
   "source": [
    "**Question:**  \n",
    "Which of the following expressions shows the weighted least-squares solution $\\mathbf{w}_c$ in linear regression with $\\mathbf{C}=diag(c_1, c_2, ..., c_n)$ ?\n",
    "\n",
    "1. $\\mathbf{w}_c = (\\mathbf{X}^T \\mathbf{C X})^{-1} \\mathbf{X}^T \\mathbf{y}$\n",
    "\n",
    "2. $\\mathbf{w}_c = (\\mathbf{X}^T \\mathbf{X})^{-1} \\mathbf{X}^T \\mathbf{C y}$\n",
    "\n",
    "3. $\\mathbf{w}_c = (\\mathbf{X}^T \\mathbf{C X})^{-1} \\mathbf{X}^T \\mathbf{C}$\n",
    "\n",
    "4. $\\mathbf{w}_c = (\\mathbf{X}^T \\mathbf{C X})^{-1} \\mathbf{X}^T \\mathbf{C y}$\n",
    "\n",
    "**Answer:**  4"
   ]
  },
  {
   "cell_type": "markdown",
   "id": "f6563b69-7a59-461d-b43d-7fc69fdb822f",
   "metadata": {},
   "source": [
    "---"
   ]
  }
 ],
 "metadata": {
  "kernelspec": {
   "display_name": "Python 3 (ipykernel)",
   "language": "python",
   "name": "python3"
  },
  "language_info": {
   "codemirror_mode": {
    "name": "ipython",
    "version": 3
   },
   "file_extension": ".py",
   "mimetype": "text/x-python",
   "name": "python",
   "nbconvert_exporter": "python",
   "pygments_lexer": "ipython3",
   "version": "3.9.16"
  }
 },
 "nbformat": 4,
 "nbformat_minor": 5
}
