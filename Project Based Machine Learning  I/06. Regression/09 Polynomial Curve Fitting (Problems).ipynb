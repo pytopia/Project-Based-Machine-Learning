{
 "cells": [
  {
   "cell_type": "markdown",
   "id": "2f5ee8ef-f2ba-46f5-a304-2622e41cecaa",
   "metadata": {},
   "source": [
    "# <img src=\"../../images/logos/ml-logo.png\" width=\"23\"/> Polynomial Curve Fitting (Problems)"
   ]
  },
  {
   "cell_type": "markdown",
   "id": "151a7b82-ffdf-434a-86d3-e0b6b7668e94",
   "metadata": {},
   "source": [
    "**Question:**  \n",
    "Which of the following is the **polynomial function** for curve fitting a one-dimensional data in linear regression?\n",
    "\n",
    "1. $f(x) = \\sum_{j=0}^{p}{w_jx^j}$\n",
    "\n",
    "2. $f(x) = \\sum_{j=1}^{p}{w_jx^j}$\n",
    "\n",
    "3. $f(x) = \\sum_{j=0}^{p}{w_jx}$\n",
    "\n",
    "4. $f(x) = \\sum_{j=1}^{p}{w_jx}$\n",
    "\n",
    "**Answer:**  1"
   ]
  },
  {
   "cell_type": "markdown",
   "id": "2b6f2bce-95c4-431b-acd6-ccf1edcbd3d7",
   "metadata": {},
   "source": [
    "---"
   ]
  },
  {
   "cell_type": "markdown",
   "id": "69ab4214-b204-46a4-8c83-92d6cf995cff",
   "metadata": {},
   "source": [
    "**Question:**  \n",
    "Which of the following is the definition of **overfitting**?\n",
    "\n",
    "1. Fitting a model with insufficiently complex features\n",
    "2. Fitting a model with too few training examples\n",
    "3. Fitting a model that is too simple and underfits the data\n",
    "4. Fitting a model that is too complex and performs well on the training data but poorly on the test data\n",
    "\n",
    "**Answer:**  4"
   ]
  },
  {
   "cell_type": "markdown",
   "id": "a164625b-2bcc-4154-850a-66fec188517b",
   "metadata": {},
   "source": [
    "---"
   ]
  },
  {
   "cell_type": "markdown",
   "id": "e49c3f98-2924-42a2-a718-eab2725c2cdf",
   "metadata": {},
   "source": [
    "**Question:**  \n",
    "Which of the following is the definition of **underfitting**?\n",
    "\n",
    "1. Fitting a model with insufficiently complex features\n",
    "2. Fitting a model with too few training examples\n",
    "3. Fitting a model that is too simple and performs poorly on both the training and test data\n",
    "4. Fitting a model that is too complex and overfits the data\n",
    "\n",
    "**Answer:**  3"
   ]
  },
  {
   "cell_type": "markdown",
   "id": "3b229fcf-1ef0-47c7-9966-1fe42ebaf565",
   "metadata": {},
   "source": [
    "---"
   ]
  },
  {
   "cell_type": "markdown",
   "id": "90461af2-d1a6-4050-a063-7cadd26ac96e",
   "metadata": {},
   "source": [
    "**Question:**  \n",
    "Which of the following is a signal in **mean squared error** of a regression model for overfitting?\n",
    "\n",
    "1. The mean squared error is low on the test set\n",
    "2. The mean squared error is low on the training set but high on the test set\n",
    "3. The mean squared error is high on the training set but low on the test set\n",
    "4. The mean squared error is high on both the training set and the test set\n",
    "\n",
    "**Answer:**  2"
   ]
  },
  {
   "cell_type": "markdown",
   "id": "45bc82dd-b6d9-4a1c-9a14-ee9ec9a95bd6",
   "metadata": {},
   "source": [
    "---"
   ]
  },
  {
   "cell_type": "markdown",
   "id": "f3c40de6-a79b-4d25-a53f-f59a31d50426",
   "metadata": {},
   "source": [
    "**Question:**  \n",
    "Which of the following is a signal in **weights** of a regression model for overfitting?\n",
    "\n",
    "1. The weights have large magnitudes\n",
    "2. The weights have small magnitudes\n",
    "3. The weights are all the same value\n",
    "4. The weights are randomly initialized\n",
    "\n",
    "**Answer:**  1"
   ]
  },
  {
   "cell_type": "markdown",
   "id": "86c61121-0137-428c-a35b-5f370d852439",
   "metadata": {},
   "source": [
    "---"
   ]
  }
 ],
 "metadata": {
  "kernelspec": {
   "display_name": "Python 3 (ipykernel)",
   "language": "python",
   "name": "python3"
  },
  "language_info": {
   "codemirror_mode": {
    "name": "ipython",
    "version": 3
   },
   "file_extension": ".py",
   "mimetype": "text/x-python",
   "name": "python",
   "nbconvert_exporter": "python",
   "pygments_lexer": "ipython3",
   "version": "3.9.16"
  }
 },
 "nbformat": 4,
 "nbformat_minor": 5
}
