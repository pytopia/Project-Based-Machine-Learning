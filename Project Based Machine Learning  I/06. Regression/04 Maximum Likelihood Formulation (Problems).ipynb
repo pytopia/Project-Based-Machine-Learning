{
 "cells": [
  {
   "cell_type": "markdown",
   "id": "2f5ee8ef-f2ba-46f5-a304-2622e41cecaa",
   "metadata": {},
   "source": [
    "# <img src=\"../../images/logos/ml-logo.png\" width=\"23\"/> Maximum Likelihood Formulation (Problems)"
   ]
  },
  {
   "cell_type": "markdown",
   "id": "593b2c59-c4b4-4797-90fe-7aec19de07a5",
   "metadata": {},
   "source": [
    "**Question:**  \n",
    "Which of the following statements is true about linear regression models and optimization algorithms?\n",
    "\n",
    "1. Linear regression models do not require optimization algorithms, as closed-form solutions are available for estimating the model parameters.\n",
    "2. Optimization algorithms are used to estimate the input variables of the linear regression model.\n",
    "3. Optimization algorithms are used to estimate the output variable of the linear regression model.\n",
    "4. We can think of a particular optimization algorithm as the learning or training algorithm for linear regression models.\n",
    "\n",
    "**Answer:**  4"
   ]
  },
  {
   "cell_type": "markdown",
   "id": "9447df09-74f7-4adb-9f56-17da474e6377",
   "metadata": {},
   "source": [
    "---"
   ]
  },
  {
   "cell_type": "markdown",
   "id": "d1bbb660-8cc3-4871-9e69-c3dbcb8e1bf7",
   "metadata": {},
   "source": [
    "**Question:**  \n",
    "Which of the following statements is true about the assumption for noise in linear regression models?\n",
    "\n",
    "1. It is assumed to be normally distributed with a mean of 0 and a constant variance.\n",
    "2. It is assumed to be uniformly distributed with a mean of 0 and a constant variance.\n",
    "3. It is assumed to be normally distributed with a mean of 1 and a variable variance.\n",
    "4. It is assumed to be uniformly distributed with a mean of 1 and a variable variance.\n",
    "\n",
    "**Answer:**  1"
   ]
  },
  {
   "cell_type": "markdown",
   "id": "f1fc1f55-6d12-44c3-a315-143b62ff30e8",
   "metadata": {},
   "source": [
    "---"
   ]
  },
  {
   "cell_type": "markdown",
   "id": "be5c7f65-acaa-47c1-976d-a090fc272631",
   "metadata": {},
   "source": [
    "**Question:**  \n",
    "Which of the following statements is true about the distribution of likelihood in linear regression models?\n",
    "\n",
    "1. The likelihood distribution in linear regression models is always Gaussian.\n",
    "2. The likelihood distribution in linear regression models is always Poisson.\n",
    "3. The likelihood distribution in linear regression models depends on the distribution of the noise term.\n",
    "4. The likelihood distribution in linear regression models is always constant.\n",
    "\n",
    "**Answer:** 3 "
   ]
  },
  {
   "cell_type": "markdown",
   "id": "0e9c6426-9c83-4646-8a0b-840bd97a36ca",
   "metadata": {},
   "source": [
    "---"
   ]
  },
  {
   "cell_type": "markdown",
   "id": "c7750b08-6ff3-44ff-9b39-cdcc57c8e0c8",
   "metadata": {},
   "source": [
    "**Question:**  \n",
    "Which of the following formulas represents the conditional likelihood function for linear regression when assuming that the noise is normally distributed with $\\mathcal{N}(0, \\sigma^2)$ ?\n",
    "\n",
    "1. $p(y|\\mathbf{x}) = \\mathcal{N}(\\mathbf{x}, \\sigma^2)$\n",
    "\n",
    "2. $p(y|\\mathbf{x}, \\mathbf{w}) = \\mathcal{N}(\\mathbf{w}^{T}\\mathbf{x}, \\sigma^2)$\n",
    "\n",
    "3. $p(y|\\mathbf{x}) = \\mathcal{N}(\\mathbf{x}, \\sigma)$\n",
    "\n",
    "4. $p(y|\\mathbf{x}, \\mathbf{w}) = \\mathcal{N}(\\mathbf{w}^{T}\\mathbf{x}, \\sigma)$\n",
    "\n",
    "**Answer:**  2"
   ]
  },
  {
   "cell_type": "markdown",
   "id": "2b6b88b9-e22a-4bbb-80eb-537162385d14",
   "metadata": {},
   "source": [
    "---"
   ]
  },
  {
   "cell_type": "markdown",
   "id": "75d15b46-c81c-4af3-aed4-52e6ebe15d22",
   "metadata": {},
   "source": [
    "**Question:**  \n",
    "Which of the following statements is the assumptions on the samples in linear regression?\n",
    "\n",
    "1. The samples are assumed to be independent and identically distributed.\n",
    "2. The samples are assumed to be dependent and identically distributed.\n",
    "3. The samples are assumed to be independent and not identically distributed.\n",
    "4. The samples are assumed to be dependent and not identically distributed.\n",
    "\n",
    "**Answer:**  1"
   ]
  },
  {
   "cell_type": "markdown",
   "id": "ba941408-1bb9-4c93-ab03-3743d01bc4c7",
   "metadata": {},
   "source": [
    "---"
   ]
  },
  {
   "cell_type": "markdown",
   "id": "485926a4-f37c-4520-a765-d803d4d16134",
   "metadata": {},
   "source": [
    "**Question:**  \n",
    "Which of the following statements is the difference between $\\mathbf{x}$ and $\\mathbf{X}$ notation in linear regression?\n",
    "\n",
    "1. $\\mathbf{x}$ represents the output variable, while $\\mathbf{X}$ represents the input variables.\n",
    "\n",
    "2. $\\mathbf{x}$ represents the input vector for a single sample, while $\\mathbf{X}$ represents the input matrix for multiple samples.\n",
    "\n",
    "3. $\\mathbf{x}$ represents the intercept term, while $\\mathbf{X}$ represents the slope coefficients.\n",
    "\n",
    "4. There is no difference between $\\mathbf{x}$ and $\\mathbf{X}$ notation in linear regression.\n",
    "\n",
    "**Answer:**  2"
   ]
  },
  {
   "cell_type": "markdown",
   "id": "fd5dfa62-71e7-4bbf-9cc1-cffb9485f2d7",
   "metadata": {},
   "source": [
    "---"
   ]
  }
 ],
 "metadata": {
  "kernelspec": {
   "display_name": "Python 3 (ipykernel)",
   "language": "python",
   "name": "python3"
  },
  "language_info": {
   "codemirror_mode": {
    "name": "ipython",
    "version": 3
   },
   "file_extension": ".py",
   "mimetype": "text/x-python",
   "name": "python",
   "nbconvert_exporter": "python",
   "pygments_lexer": "ipython3",
   "version": "3.9.16"
  }
 },
 "nbformat": 4,
 "nbformat_minor": 5
}
