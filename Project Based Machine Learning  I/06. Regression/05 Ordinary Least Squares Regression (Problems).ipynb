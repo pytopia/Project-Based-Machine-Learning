{
 "cells": [
  {
   "cell_type": "markdown",
   "id": "2f5ee8ef-f2ba-46f5-a304-2622e41cecaa",
   "metadata": {},
   "source": [
    "# <img src=\"../../images/logos/ml-logo.png\" width=\"23\"/> Ordinary Least Squares Regression (Problems)"
   ]
  },
  {
   "cell_type": "markdown",
   "id": "8bb572d3-0ae2-4634-9443-4300f88b9889",
   "metadata": {},
   "source": [
    "**Question:**  \n",
    "Which of the following formulas represents the sum of square errors in matrix notation for linear regression?\n",
    "\n",
    "1. $Err(\\mathbf{w}) = ||\\mathbf{Xw}||_2$\n",
    "\n",
    "2. $Err(\\mathbf{w}) = ||\\mathbf{Xw-y}||_2$\n",
    "\n",
    "3. $Err(\\mathbf{w}) = {||\\mathbf{Xw}||_2}^{2}$\n",
    "\n",
    "4. $Err(\\mathbf{w}) = {||\\mathbf{Xw-y}||_2}^{2}$\n",
    "\n",
    "**Answer:**  4"
   ]
  },
  {
   "cell_type": "markdown",
   "id": "0ad821d2-4085-4ae3-8e5d-bad92b0de9a2",
   "metadata": {},
   "source": [
    "---"
   ]
  },
  {
   "cell_type": "markdown",
   "id": "df11e30d-7bee-4f19-b8b4-234b98300b25",
   "metadata": {},
   "source": [
    "**Question:**  \n",
    "How does the ordinary least squares (OLS) work in linear regression?\n",
    "\n",
    "1. It minimizes the sum of absolute errors between the predicted output values and the true output values.\n",
    "2. It minimizes the sum of squared errors between the predicted output values and the true output values.\n",
    "3. It minimizes the likelihood function of the linear regression model.\n",
    "4. It does not involve minimizing or maximizing any function.\n",
    "\n",
    "**Answer:**  2"
   ]
  },
  {
   "cell_type": "markdown",
   "id": "a3874716-9951-4739-ae77-12fa235ca684",
   "metadata": {},
   "source": [
    "---"
   ]
  },
  {
   "cell_type": "markdown",
   "id": "5ee2325f-6c45-4f26-93b0-0d31c0cb7269",
   "metadata": {},
   "source": [
    "**Question:**  \n",
    "Which of the following formulas represents the parameter vector $\\mathbf{w}$ of maximum likelihood estimation in linear regression?\n",
    "\n",
    "1. $\\mathbf{w}_{MLE} = (\\mathbf{X}^T\\mathbf{X})^{-1}\\mathbf{X}^{T}$\n",
    "\n",
    "2. $\\mathbf{w}_{MLE} = (\\mathbf{X}^T\\mathbf{X})^{-1}\\mathbf{X}$\n",
    "\n",
    "3. $\\mathbf{w}_{MLE} = (\\mathbf{X}^T\\mathbf{X})^{-1}\\mathbf{X}^{T}y$\n",
    "\n",
    "4. $\\mathbf{w}_{MLE} = (\\mathbf{X}^T\\mathbf{X})^{-1}\\mathbf{X}y$\n",
    "\n",
    "\n",
    "**Answer:**  3"
   ]
  },
  {
   "cell_type": "markdown",
   "id": "5d8d42c6-8cc7-4afe-aa89-fe767fdb397d",
   "metadata": {},
   "source": [
    "---"
   ]
  },
  {
   "cell_type": "markdown",
   "id": "c853e425-d8fb-4942-b307-d2de1b55bce4",
   "metadata": {},
   "source": [
    "**Question:**  \n",
    "What does $\\mathbf{Xw}$ mean in linear regression?\n",
    "\n",
    "\n",
    "Which of the following statements is true about the meaning of $\\mathbf{Xw}$ in linear regression?\n",
    "\n",
    "1. $\\mathbf{Xw}$ represents the output vector in the linear regression model.\n",
    "2. $\\mathbf{Xw}$ represents the parameter vector in the linear regression model.\n",
    "3. $\\mathbf{Xw}$ represents the input matrix in the linear regression model.\n",
    "4. $\\mathbf{Xw}$ represents the predicted output values based on the input matrix $\\mathbf{X}$ and the parameter vector $\\mathbf{w}$.\n",
    "\n",
    "**Answer:**  4"
   ]
  },
  {
   "cell_type": "markdown",
   "id": "9f194d75-178f-47e2-a3de-77fb70ecfe1c",
   "metadata": {},
   "source": [
    "---"
   ]
  }
 ],
 "metadata": {
  "kernelspec": {
   "display_name": "Python 3 (ipykernel)",
   "language": "python",
   "name": "python3"
  },
  "language_info": {
   "codemirror_mode": {
    "name": "ipython",
    "version": 3
   },
   "file_extension": ".py",
   "mimetype": "text/x-python",
   "name": "python",
   "nbconvert_exporter": "python",
   "pygments_lexer": "ipython3",
   "version": "3.9.16"
  }
 },
 "nbformat": 4,
 "nbformat_minor": 5
}
