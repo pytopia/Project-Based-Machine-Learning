{
 "cells": [
  {
   "cell_type": "markdown",
   "id": "2f5ee8ef-f2ba-46f5-a304-2622e41cecaa",
   "metadata": {},
   "source": [
    "# <img src=\"../../images/logos/ml-logo.png\" width=\"23\"/> Linear Regression for non-linear problems (Problems)"
   ]
  },
  {
   "cell_type": "markdown",
   "id": "efd1a7f8-c015-44b7-9338-d1b9185565af",
   "metadata": {},
   "source": [
    "**Question:**  \n",
    "What is the purpose of using **basis functions** in linear regression?\n",
    "\n",
    "1. To transform the input features into a higher-dimensional space where they are easier to separate.\n",
    "2. To create non-linear decision boundaries between the classes in a classification problem.\n",
    "3. To capture non-linear relationships between the input features and the target variable in non-linear problems and use linear regression.\n",
    "4. To regularize the model and prevent overfitting.\n",
    "\n",
    "**Answer:**  3"
   ]
  },
  {
   "cell_type": "markdown",
   "id": "84797f06-20eb-4706-9383-613f17309894",
   "metadata": {},
   "source": [
    "---"
   ]
  },
  {
   "cell_type": "markdown",
   "id": "a1dae7e6-eb40-4010-81d5-6691d0741d42",
   "metadata": {},
   "source": [
    "**Question:**  \n",
    "What is the maximum likelihood estimation (MLE) formula for the weight vector $\\mathbf{w}$ in linear regression with using the basis function to transform the martix $\\mathbf{X}$ to $\\mathbf{\\Phi}$ ?\n",
    "\n",
    "1. $\\mathbf{w}_{MLE} = (\\mathbf{\\Phi}^T \\mathbf{\\Phi})^{-1} \\mathbf{\\Phi}^T \\mathbf{y}$\n",
    "\n",
    "2. $\\mathbf{w}_{MLE} = (\\mathbf{\\Phi}^T \\mathbf{\\Phi})^{-1} \\mathbf{\\Phi} \\mathbf{y}$\n",
    "\n",
    "3. $\\mathbf{w}_{MLE} = (\\mathbf{\\Phi}^T \\mathbf{\\Phi})^{-1} \\mathbf{\\Phi}^T$\n",
    "\n",
    "4. $\\mathbf{w}_{MLE} = (\\mathbf{\\Phi}^T \\mathbf{\\Phi})^{-1} \\mathbf{\\Phi}$\n",
    "\n",
    "**Answer:**  1"
   ]
  },
  {
   "cell_type": "markdown",
   "id": "a4e437eb-76aa-48c9-9cb6-11303d7d645c",
   "metadata": {},
   "source": [
    "---"
   ]
  }
 ],
 "metadata": {
  "kernelspec": {
   "display_name": "Python 3 (ipykernel)",
   "language": "python",
   "name": "python3"
  },
  "language_info": {
   "codemirror_mode": {
    "name": "ipython",
    "version": 3
   },
   "file_extension": ".py",
   "mimetype": "text/x-python",
   "name": "python",
   "nbconvert_exporter": "python",
   "pygments_lexer": "ipython3",
   "version": "3.9.16"
  }
 },
 "nbformat": 4,
 "nbformat_minor": 5
}
