{
 "cells": [
  {
   "cell_type": "markdown",
   "id": "2f5ee8ef-f2ba-46f5-a304-2622e41cecaa",
   "metadata": {},
   "source": [
    "# <img src=\"../../images/logos/ml-logo.png\" width=\"23\"/> Machine Learning Algorithms (Problems)"
   ]
  },
  {
   "cell_type": "markdown",
   "id": "67cfe960-e242-403a-8a4e-d1a4a8303d91",
   "metadata": {},
   "source": [
    "**Question:**  \n",
    "Which of the following are essential components for building a machine learning algorithm?\n",
    "\n",
    "1. A dataset and a cost function\n",
    "2. A model and an optimization algorithm\n",
    "3. A dataset and a model\n",
    "4. All of the above\n",
    "\n",
    "**Answer:**  4"
   ]
  },
  {
   "cell_type": "markdown",
   "id": "080ca975-60a9-49ba-bdd1-773ec47441c5",
   "metadata": {},
   "source": [
    "---"
   ]
  },
  {
   "cell_type": "markdown",
   "id": "e18adbf2-cafd-4ff6-8ff3-031f92873ba6",
   "metadata": {},
   "source": [
    "**Question:**  \n",
    "Which of the following concepts is represented by the statement \"A computer program is said to learn from experience E with respect to some class of tasks T and performance measure P, if its performance at tasks in T, as measured by P, improves with experience E\"?\n",
    "\n",
    "1. Supervised learning\n",
    "2. Machine learning\n",
    "3. Reinforcement learning\n",
    "4. Unsupervised learning\n",
    "\n",
    "**Answer:**  2"
   ]
  },
  {
   "cell_type": "markdown",
   "id": "9ab56bc2-07c6-4031-b1ed-ce6a11d50d1c",
   "metadata": {},
   "source": [
    "---"
   ]
  },
  {
   "cell_type": "markdown",
   "id": "11cdb994-6c43-4a86-8997-e4bdadc12f14",
   "metadata": {},
   "source": [
    "**Question:**  \n",
    "Which of the following is used to construct machine learning algorithms?\n",
    "\n",
    "1. Experience, tasks, and performance measure\n",
    "2. Datasets, algorithms, and models\n",
    "3. Hardware, software, and data\n",
    "1. None of the above\n",
    "\n",
    "**Answer:**  1"
   ]
  },
  {
   "cell_type": "markdown",
   "id": "35c7fec3-39be-4019-9e15-bdd6cdf0df7b",
   "metadata": {},
   "source": [
    "---"
   ]
  },
  {
   "cell_type": "markdown",
   "id": "ed403a90-c15a-405b-bce1-ca130d5fb830",
   "metadata": {},
   "source": [
    "**Question:**  \n",
    "In machine learning, what is meant by the term **\"task\"**?\n",
    "1. The process of training a machine learning model using a dataset\n",
    "2. The measure of how well a machine learning model performs on new data\n",
    "3. The specific problem that a machine learning algorithm is designed to solve\n",
    "4. The set of features or attributes used to represent the data\n",
    "\n",
    "**Answer:**  3"
   ]
  },
  {
   "cell_type": "markdown",
   "id": "15094416-5416-4ef8-8c9a-3ccb624b8e4c",
   "metadata": {},
   "source": [
    "---"
   ]
  },
  {
   "cell_type": "markdown",
   "id": "3f2b8481-48f6-49d0-851c-1e498fcac7cb",
   "metadata": {},
   "source": [
    "**Question:**  \n",
    "Which of the following is NOT a common machine learning **task**?\n",
    "1. Data visualization\n",
    "2. Classification\n",
    "3. Regression\n",
    "4. Clustering\n",
    "\n",
    "**Answer:** 1"
   ]
  },
  {
   "cell_type": "markdown",
   "id": "5202a17c-07c6-40a2-b16f-f1a46081127c",
   "metadata": {},
   "source": [
    "---"
   ]
  },
  {
   "cell_type": "markdown",
   "id": "b38ea5f1-6f7b-42eb-b97e-90fc02ff1443",
   "metadata": {},
   "source": [
    "**Question:**  \n",
    "Which of the following is represented by the statement \"In this type of task, the computer program is asked to specify which of k categories some input belongs to\"?\n",
    "\n",
    "1. Regression\n",
    "2. Clustering\n",
    "3. Classification\n",
    "4. Dimensionality reduction\n",
    "\n",
    "**Answer:** 3  "
   ]
  },
  {
   "cell_type": "markdown",
   "id": "f673bace-72d7-4b03-a3a1-6acb9c803b1d",
   "metadata": {},
   "source": [
    "---"
   ]
  },
  {
   "cell_type": "markdown",
   "id": "497ce1a3-72c7-4d53-969a-4833dd3fae78",
   "metadata": {},
   "source": [
    "**Question:**  \n",
    "Which of the following is represented by the statement \"In this type of task, the computer program is asked to predict a continuous numerical given some input\"?\n",
    "\n",
    "1. Regression\n",
    "2. Clustering\n",
    "3. Classification\n",
    "4. Dimensionality reduction\n",
    "\n",
    "**Answer:** 1 "
   ]
  },
  {
   "cell_type": "markdown",
   "id": "6f9d50de-2727-4321-8212-64f32cc67caf",
   "metadata": {},
   "source": [
    "---"
   ]
  },
  {
   "cell_type": "markdown",
   "id": "72cf230d-a8e1-45a4-b80a-9a3ec5a44f7a",
   "metadata": {},
   "source": [
    "**Question:**  \n",
    "In machine learning, what is meant by the term **\"performance measure\"**?\n",
    "\n",
    "1. The accuracy of the model on the training data\n",
    "2. The speed at which the model can make predictions\n",
    "3. The complexity of the model architecture\n",
    "4. The measure of how well the model generalizes to new data\n",
    "\n",
    "**Answer:**  4"
   ]
  },
  {
   "cell_type": "markdown",
   "id": "b58c4465-6ff8-4eae-82f5-d89a7435a663",
   "metadata": {},
   "source": [
    "---"
   ]
  },
  {
   "cell_type": "markdown",
   "id": "75638d8e-cbea-46d7-969c-77799401ca9c",
   "metadata": {},
   "source": [
    "**Question:**  \n",
    "Why is a **test set** of data used in machine learning?\n",
    "\n",
    "1. To train the machine learning system\n",
    "2. To evaluate the performance of the machine learning system\n",
    "3. To preprocess the data before training the machine learning system\n",
    "4. To visualize the data before training the machine learning system\n",
    "\n",
    "**Answer:** 2 "
   ]
  },
  {
   "cell_type": "markdown",
   "id": "f37d430e-1557-4bee-95a4-e7f6c89edfb5",
   "metadata": {},
   "source": [
    "---"
   ]
  },
  {
   "cell_type": "markdown",
   "id": "07c77098-66fe-4ff8-abcf-a75be6e703bb",
   "metadata": {},
   "source": [
    "**Question:**  \n",
    "In machine learning, what is meant by the term **\"experience\"**?\n",
    "\n",
    "1. The amount of time it takes to train a machine learning model\n",
    "2. The knowledge gained from the data used to train a machine learning model\n",
    "3. The number of features used to represent the data\n",
    "4. The measure of how well a machine learning model performs on new data\n",
    "\n",
    "**Answer:**  2"
   ]
  },
  {
   "cell_type": "markdown",
   "id": "89bc2c6c-eb02-4dc6-98ee-786d4a03a9f3",
   "metadata": {},
   "source": [
    "---"
   ]
  },
  {
   "cell_type": "markdown",
   "id": "03e35678-e501-4e4e-972f-7353828302af",
   "metadata": {},
   "source": [
    "**Question:**  \n",
    "Which of the following is **NOT** a type of machine learning?\n",
    "\n",
    "1. Unsupervised learning\n",
    "2. Supervised learning\n",
    "3. Reinforcement learning\n",
    "4. All of the above are types of machine learning\n",
    "\n",
    "**Answer:**  4"
   ]
  },
  {
   "cell_type": "markdown",
   "id": "37bfd899-0244-4178-be48-c747ed5310d5",
   "metadata": {},
   "source": [
    "---"
   ]
  },
  {
   "cell_type": "markdown",
   "id": "544faebd-1508-42fe-96c1-eb51efcda877",
   "metadata": {},
   "source": [
    "**Question:**  \n",
    "Which of the following best describes **unsupervised** learning?\n",
    "\n",
    "1. Learning from labeled data to make predictions for new, unseen data\n",
    "2. Learning to take actions in an environment to maximize a reward signal\n",
    "3. Learning patterns in data that are not labeled or have no predefined categories\n",
    "4. Learning to classify input data into one of k categories\n",
    "\n",
    "**Answer:** 3 "
   ]
  },
  {
   "cell_type": "markdown",
   "id": "5ed91b71-736f-4dc1-8f3c-60f364dda4dd",
   "metadata": {},
   "source": [
    "---"
   ]
  },
  {
   "cell_type": "markdown",
   "id": "e51d0b30-84dd-4d2f-afd1-1903c9ce2e2b",
   "metadata": {},
   "source": [
    "**Question:**  \n",
    "Which of the following best describes **supervised** learning?\n",
    "\n",
    "1. Learning from labeled data to make predictions for new, unseen data\n",
    "2. Learning patterns in data that are not labeled or have no predefined categories\n",
    "3. Learning to take actions in an environment to maximize a reward signal\n",
    "4. Learning to cluster similar data points together\n",
    "\n",
    "**Answer:**  1"
   ]
  },
  {
   "cell_type": "markdown",
   "id": "2ada80b3-df91-4654-9905-c92519d30142",
   "metadata": {},
   "source": [
    "---"
   ]
  },
  {
   "cell_type": "markdown",
   "id": "0e020b54-958b-4327-982c-5354123733d3",
   "metadata": {},
   "source": [
    "**Question:**  \n",
    "Which of the following best describes **reinforcement** learning?\n",
    "\n",
    "1. Learning patterns in data that are not labeled or have no predefined categories\n",
    "2. Learning to take actions in an environment to maximize a reward signal\n",
    "3. Learning from labeled data to make predictions for new, unseen data\n",
    "4. Learning to cluster similar data points together\n",
    "\n",
    "**Answer:**  2"
   ]
  },
  {
   "cell_type": "markdown",
   "id": "aae5f6d9-4bdb-473f-829d-df93472fd3f6",
   "metadata": {},
   "source": [
    "---"
   ]
  }
 ],
 "metadata": {
  "kernelspec": {
   "display_name": "Python 3 (ipykernel)",
   "language": "python",
   "name": "python3"
  },
  "language_info": {
   "codemirror_mode": {
    "name": "ipython",
    "version": 3
   },
   "file_extension": ".py",
   "mimetype": "text/x-python",
   "name": "python",
   "nbconvert_exporter": "python",
   "pygments_lexer": "ipython3",
   "version": "3.9.16"
  }
 },
 "nbformat": 4,
 "nbformat_minor": 5
}
