{
 "cells": [
  {
   "cell_type": "markdown",
   "id": "2f5ee8ef-f2ba-46f5-a304-2622e41cecaa",
   "metadata": {
    "tags": []
   },
   "source": [
    "# <img src=\"../../images/logos/ml-logo.png\" width=\"23\"/> MAP and Maximum Likelihood Estimation (Problems)"
   ]
  },
  {
   "cell_type": "markdown",
   "id": "206425e2-9606-4991-80c7-18715665cba1",
   "metadata": {},
   "source": [
    "**Question:**  \n",
    "What does **MAP** stand for in regression?\n",
    "\n",
    "1. Maximum Accuracy Principle\n",
    "2. Maximum A Posteriori Probability\n",
    "3. Minimum Absolute Prediction\n",
    "4. Minimum Amplitude Parameter\n",
    "\n",
    "**Answer:**  2"
   ]
  },
  {
   "cell_type": "markdown",
   "id": "8330e400-0a1c-434c-8735-a42f4ccb3bf7",
   "metadata": {},
   "source": [
    "---"
   ]
  },
  {
   "cell_type": "markdown",
   "id": "b826a78f-b941-4c4b-85da-c6f9377356a2",
   "metadata": {},
   "source": [
    "**Question:**  \n",
    "What is the difference between MAP and MLE in regression?\n",
    "\n",
    "1. MAP and MLE are both supervised learning algorithms\n",
    "2. MAP and MLE are both clustering algorithms\n",
    "3. MAP incorporates prior knowledge or assumptions about the parameters, while MLE does not\n",
    "4. MAP and MLE are synonyms and refer to the same algorithm\n",
    "\n",
    "**Answer:**  3"
   ]
  },
  {
   "cell_type": "markdown",
   "id": "ebeaca33-2c2f-4d14-8ade-202f6b196797",
   "metadata": {},
   "source": [
    "---"
   ]
  },
  {
   "cell_type": "markdown",
   "id": "32280e6c-422c-43b5-bcb7-f5e9d0bd0b0c",
   "metadata": {},
   "source": [
    "**Question:**  \n",
    "What is the use of $p(f)$ in Maximum A Posteriori Probability (MAP) estimation?\n",
    "\n",
    "1. $p(f)$ is the prior probability distribution of the model parameters which is our bias\n",
    "2. $p(f)$ is the likelihood function of the data\n",
    "3. $p(f)$ is the cost function being minimized\n",
    "4. $p(f)$ is the gradient of the objective function\n",
    "\n",
    "**Answer:**  1"
   ]
  },
  {
   "cell_type": "markdown",
   "id": "777751f1-678f-4e39-ba5e-ea48ac31e618",
   "metadata": {},
   "source": [
    "---"
   ]
  }
 ],
 "metadata": {
  "kernelspec": {
   "display_name": "Python 3 (ipykernel)",
   "language": "python",
   "name": "python3"
  },
  "language_info": {
   "codemirror_mode": {
    "name": "ipython",
    "version": 3
   },
   "file_extension": ".py",
   "mimetype": "text/x-python",
   "name": "python",
   "nbconvert_exporter": "python",
   "pygments_lexer": "ipython3",
   "version": "3.9.16"
  }
 },
 "nbformat": 4,
 "nbformat_minor": 5
}
