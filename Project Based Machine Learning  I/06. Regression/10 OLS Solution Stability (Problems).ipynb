{
 "cells": [
  {
   "cell_type": "markdown",
   "id": "2f5ee8ef-f2ba-46f5-a304-2622e41cecaa",
   "metadata": {
    "tags": []
   },
   "source": [
    "# <img src=\"../../images/logos/ml-logo.png\" width=\"23\"/> OLS Solution Stability (Problems)"
   ]
  },
  {
   "cell_type": "markdown",
   "id": "206425e2-9606-4991-80c7-18715665cba1",
   "metadata": {},
   "source": [
    "**Question:**  \n",
    "What is the meaning of **instability** in OLS solution?\n",
    "\n",
    "1. It is inaccurate and does not fit the data well\n",
    "2. It is sensitive to small changes in the input data or model parameters\n",
    "3. It requires a large amount of computational resources to compute\n",
    "4. It is biased and tends to overfit the training data\n",
    "\n",
    "**Answer:**  2"
   ]
  },
  {
   "cell_type": "markdown",
   "id": "8330e400-0a1c-434c-8735-a42f4ccb3bf7",
   "metadata": {},
   "source": [
    "---"
   ]
  },
  {
   "cell_type": "markdown",
   "id": "545aca72-fbc6-4503-ae28-dce44622c4f4",
   "metadata": {},
   "source": [
    "**Question:**  \n",
    "When is an OLS solution for linear regression **unstable**?\n",
    "\n",
    "1. When $\\mathbf{X}^T \\mathbf{X}$ matrix is not invertible.\n",
    "2. When features are linearly dependent\n",
    "3. When the datasets is small\n",
    "4. All of the above\n",
    "\n",
    "**Answer:**  4"
   ]
  },
  {
   "cell_type": "markdown",
   "id": "70d5c458-5574-448c-87c2-060991f20d82",
   "metadata": {},
   "source": [
    "---"
   ]
  }
 ],
 "metadata": {
  "kernelspec": {
   "display_name": "Python 3 (ipykernel)",
   "language": "python",
   "name": "python3"
  },
  "language_info": {
   "codemirror_mode": {
    "name": "ipython",
    "version": 3
   },
   "file_extension": ".py",
   "mimetype": "text/x-python",
   "name": "python",
   "nbconvert_exporter": "python",
   "pygments_lexer": "ipython3",
   "version": "3.9.16"
  }
 },
 "nbformat": 4,
 "nbformat_minor": 5
}
