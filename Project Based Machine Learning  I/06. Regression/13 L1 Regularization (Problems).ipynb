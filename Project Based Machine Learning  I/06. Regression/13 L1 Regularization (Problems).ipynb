{
 "cells": [
  {
   "cell_type": "markdown",
   "id": "2f5ee8ef-f2ba-46f5-a304-2622e41cecaa",
   "metadata": {
    "tags": []
   },
   "source": [
    "# <img src=\"../../images/logos/ml-logo.png\" width=\"23\"/> L1 Regularization (Problems)"
   ]
  },
  {
   "cell_type": "markdown",
   "id": "3da95885-278c-4bca-8d90-59d84accef26",
   "metadata": {},
   "source": [
    "**Question:**  \n",
    "What is the effect of L1 regularization on the weights of linear regression?\n",
    "\n",
    "1. It encourages sparsity and can result in some weights being exactly zero\n",
    "2. It increases the magnitude of all weights uniformly\n",
    "3. It has no effect on the weights of linear regression\n",
    "4. It reduces the magnitude of all weights uniformly\n",
    "\n",
    "**Answer:**  1"
   ]
  },
  {
   "cell_type": "markdown",
   "id": "83986d44-205e-462b-911a-b9845b07a955",
   "metadata": {},
   "source": [
    "---"
   ]
  },
  {
   "cell_type": "markdown",
   "id": "b90d2bda-c24c-4dcb-bf28-de8a67bfa54f",
   "metadata": {},
   "source": [
    "**Question:**  \n",
    "Which kind of distribution is used in L1 regularization?\n",
    "\n",
    "1. Cauchy distribution\n",
    "2. Gaussian distribution\n",
    "3. Laplace distribution\n",
    "4. Poisson distribution\n",
    "\n",
    "**Answer:**  3"
   ]
  },
  {
   "cell_type": "markdown",
   "id": "84b29bdd-bad6-4831-bcf4-04d229209117",
   "metadata": {},
   "source": [
    "---"
   ]
  },
  {
   "cell_type": "markdown",
   "id": "deb598b4-3fee-463f-a87f-9800af32414d",
   "metadata": {},
   "source": [
    "**Question:**  \n",
    "What is the name of L1 regularization?\n",
    "\n",
    "1. Ridge regression\n",
    "2. Lasso regression\n",
    "3. Elastic Net\n",
    "4. None of the above\n",
    "\n",
    "**Answer:**  2"
   ]
  },
  {
   "cell_type": "markdown",
   "id": "9411d227-03fa-49c9-9e98-b5625e00ba18",
   "metadata": {},
   "source": [
    "---"
   ]
  },
  {
   "cell_type": "markdown",
   "id": "9a1ea570-9d08-4430-99f7-a653809c2a44",
   "metadata": {},
   "source": [
    "**Question:**  \n",
    "Which of the following is the cost function formula for linear regression using the Lasso regularization in matrix form?\n",
    "\n",
    "1. $c(\\mathbf{w})=(\\mathbf{Xw}-\\mathbf{y})^T(\\mathbf{Xw}-\\mathbf{y})+\\lambda||\\mathbf{w}||_1 $\n",
    "\n",
    "1. $c(\\mathbf{w})=(\\mathbf{Xw}-\\mathbf{y})^T(\\mathbf{Xw}-\\mathbf{y})+\\lambda||\\mathbf{w^2}||_1 $\n",
    "\n",
    "1. $c(\\mathbf{w})=(\\mathbf{Xw}-\\mathbf{y})^T(\\mathbf{Xw}-\\mathbf{y})+\\lambda $\n",
    "\n",
    "1. $c(\\mathbf{w})=(\\mathbf{Xw}-\\mathbf{y})^T(\\mathbf{Xw}-\\mathbf{y})+\\lambda^2 $\n",
    "\n",
    "**Answer:**  1"
   ]
  },
  {
   "cell_type": "markdown",
   "id": "bc8fbde0-d7c9-4a3d-82e5-b9f95381e3b0",
   "metadata": {},
   "source": [
    "---"
   ]
  },
  {
   "cell_type": "markdown",
   "id": "8d5dc361-eedc-4ed5-872f-e2df0c1663a0",
   "metadata": {},
   "source": [
    "**Question:**  \n",
    "Which of the following statements is true about L1 regularization?\n",
    "\n",
    "1. L1 regularization adds a penalty term to the objective function that is proportional to the L2 norm of the regression coefficients.\n",
    "2. L1 regularization encourages all the regression coefficients to be small, but does not force any of them to be exactly zero.\n",
    "3. L1 regularization is also known as ridge regression.\n",
    "4. Forcing entries in $\\mathbf{w}$ to zero has the effect of feature selection, because zeroing entries in $\\mathbf{w}$ is equivalent to removing the corresponding feature.\n",
    "\n",
    "**Answer:**  4"
   ]
  },
  {
   "cell_type": "markdown",
   "id": "27f3a29e-6416-42a5-816d-0f6d6e745af7",
   "metadata": {},
   "source": [
    "---"
   ]
  },
  {
   "cell_type": "markdown",
   "id": "29651de4-0782-462c-b2bf-93564c59284e",
   "metadata": {},
   "source": [
    "**Question:**  \n",
    "Which of the following methods can be used to solve L1 regularization for calculating the weights of linear regression?\n",
    "\n",
    "1. Gradient descent\n",
    "2. Ordinary least squares (OLS)\n",
    "3. Both 1 and 2\n",
    "4. None of the above\n",
    "\n",
    "**Answer:** 1 "
   ]
  },
  {
   "cell_type": "markdown",
   "id": "f045deae-22cd-49e3-8970-7773d49cbf54",
   "metadata": {},
   "source": [
    "---"
   ]
  }
 ],
 "metadata": {
  "kernelspec": {
   "display_name": "Python 3 (ipykernel)",
   "language": "python",
   "name": "python3"
  },
  "language_info": {
   "codemirror_mode": {
    "name": "ipython",
    "version": 3
   },
   "file_extension": ".py",
   "mimetype": "text/x-python",
   "name": "python",
   "nbconvert_exporter": "python",
   "pygments_lexer": "ipython3",
   "version": "3.9.16"
  }
 },
 "nbformat": 4,
 "nbformat_minor": 5
}
