{
 "cells": [
  {
   "cell_type": "markdown",
   "id": "2f5ee8ef-f2ba-46f5-a304-2622e41cecaa",
   "metadata": {
    "tags": []
   },
   "source": [
    "# <img src=\"../../images/logos/ml-logo.png\" width=\"23\"/> L2 Regularization (Problems)"
   ]
  },
  {
   "cell_type": "markdown",
   "id": "941c27f8-73cf-4c75-b1b1-802c4583ef82",
   "metadata": {},
   "source": [
    "**Question:**  \n",
    "How can regularization solve the instability of a model in regression?\n",
    "\n",
    "1. By increasing the complexity of the model\n",
    "2. By reducing the bias of the model\n",
    "3. By increasing the variance of the model\n",
    "4. By reducing the magnitude of the model parameters\n",
    "\n",
    "**Answer:**  4"
   ]
  },
  {
   "cell_type": "markdown",
   "id": "6203483a-9211-4f5e-92c2-fe14b5c6474c",
   "metadata": {},
   "source": [
    "---"
   ]
  },
  {
   "cell_type": "markdown",
   "id": "c103f473-89d1-4ad1-b758-34810e4cf22f",
   "metadata": {},
   "source": [
    "**Question:**  \n",
    "How can you use L2 regularization in regression?\n",
    "\n",
    "1. By adding a penalty term to the objective function that is proportional to the absolute value of the model parameters\n",
    "2. By adding a penalty term to the objective function that is proportional to the square of the model parameters\n",
    "3. By adding a penalty term to the objective function that is proportional to the cube of the model parameters\n",
    "4. By adding a penalty term to the objective function that is proportional to the logarithm of the model parameters\n",
    "\n",
    "**Answer:**  2"
   ]
  },
  {
   "cell_type": "markdown",
   "id": "15e03c5d-4f73-4d62-81b2-e9adc2dac3af",
   "metadata": {},
   "source": [
    "---"
   ]
  },
  {
   "cell_type": "markdown",
   "id": "364f237b-d68e-4f80-8026-5b1ecd340467",
   "metadata": {},
   "source": [
    "**Question:**  \n",
    "Which kind of distribution is used in L2 regularization?\n",
    "\n",
    "1. Laplace distribution\n",
    "2. Cauchy distribution\n",
    "3. Gaussian distribution\n",
    "4. Poisson distribution\n",
    "\n",
    "**Answer:**  3"
   ]
  },
  {
   "cell_type": "markdown",
   "id": "a0a8aacd-a218-46da-b964-592a10a5b0d0",
   "metadata": {},
   "source": [
    "---"
   ]
  },
  {
   "cell_type": "markdown",
   "id": "3aa37e99-99d3-448a-9601-5ed520b8e2bc",
   "metadata": {},
   "source": [
    "**Question:**  \n",
    "What is the effect of L2 regularization on the weights of linear regression?\n",
    "\n",
    "1. It encourages sparsity and can result in some weights being exactly zero\n",
    "2. It increases the magnitude of all weights uniformly\n",
    "3. It has no effect on the weights of linear regression\n",
    "4. It reduces the magnitude of all weights and shrinks them towards zero\n",
    "\n",
    "**Answer:**  4"
   ]
  },
  {
   "cell_type": "markdown",
   "id": "72edcbf2-ec75-433c-b84a-a7ba0e6fa379",
   "metadata": {},
   "source": [
    "---"
   ]
  },
  {
   "cell_type": "markdown",
   "id": "7dced134-5974-4601-a3b4-495e149f9c86",
   "metadata": {},
   "source": [
    "**Question:**  \n",
    "Which of the following represents the weights in the linear regression formula with Maximum A Posteriori Probability (MAP) estimation using L2 regularization?\n",
    "\n",
    "1. $\\mathbf{w}_{MAP} = (\\mathbf{X}^T \\mathbf{X} + \\lambda \\mathbf{I})^{-1} \\mathbf{X}^T \\mathbf{y}$\n",
    "\n",
    "2. $\\mathbf{w}_{MAP} = (\\mathbf{X}^T \\mathbf{X} - \\lambda \\mathbf{I})^{-1} \\mathbf{X}^T \\mathbf{y}$\n",
    "\n",
    "3. $\\mathbf{w}_{MAP} = (\\mathbf{X}^T \\mathbf{X} + \\lambda \\mathbf{I}) \\mathbf{X}^T \\mathbf{y}$\n",
    "\n",
    "4. $\\mathbf{w}_{MAP} = (\\mathbf{X}^T \\mathbf{X} - \\lambda \\mathbf{I}) \\mathbf{X}^T \\mathbf{y}$\n",
    "\n",
    "**Answer:**  1"
   ]
  },
  {
   "cell_type": "markdown",
   "id": "48846d3b-3b21-4dbf-bca7-43ccec8fe99f",
   "metadata": {},
   "source": [
    "---"
   ]
  },
  {
   "cell_type": "markdown",
   "id": "1cfb98b6-7077-40a4-8b21-946947268fb5",
   "metadata": {},
   "source": [
    "**Question:**  \n",
    "What does the $\\lambda$ parameter represent in L2 regularization?\n",
    "\n",
    "1. The number of iterations for the optimization algorithm\n",
    "2. The learning rate of the optimization algorithm\n",
    "3. The strength of the regularization penalty (our bias)\n",
    "4. The degree of the polynomial used in the regression model\n",
    "\n",
    "**Answer:**  3"
   ]
  },
  {
   "cell_type": "markdown",
   "id": "cc75802b-0388-49f6-897b-c8da5675fcd9",
   "metadata": {},
   "source": [
    "---"
   ]
  }
 ],
 "metadata": {
  "kernelspec": {
   "display_name": "Python 3 (ipykernel)",
   "language": "python",
   "name": "python3"
  },
  "language_info": {
   "codemirror_mode": {
    "name": "ipython",
    "version": 3
   },
   "file_extension": ".py",
   "mimetype": "text/x-python",
   "name": "python",
   "nbconvert_exporter": "python",
   "pygments_lexer": "ipython3",
   "version": "3.9.16"
  }
 },
 "nbformat": 4,
 "nbformat_minor": 5
}
