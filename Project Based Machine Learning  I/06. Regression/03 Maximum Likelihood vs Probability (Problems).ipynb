{
 "cells": [
  {
   "cell_type": "markdown",
   "id": "2f5ee8ef-f2ba-46f5-a304-2622e41cecaa",
   "metadata": {},
   "source": [
    "# <img src=\"../../images/logos/ml-logo.png\" width=\"23\"/> Maximum Likelihood vs Probability (Problems)"
   ]
  },
  {
   "cell_type": "markdown",
   "id": "45edc285-5496-4a48-815d-6978ebdf4db8",
   "metadata": {},
   "source": [
    "**Question:**  \n",
    "Which of the following statements is true about the weights in linear regression?\n",
    "\n",
    "1. The weights represent the output variables that the model is trying to predict.\n",
    "2. The weights represent the coefficients of the linear equation that relates the input variables to the output variable.\n",
    "3. The weights represent the input variables that the model uses to make predictions.\n",
    "4. The weights represent the intercept values of the linear equation that relates the input variables to the output variable.\n",
    "\n",
    "**Answer:**  2"
   ]
  },
  {
   "cell_type": "markdown",
   "id": "4e9c3593-0428-49de-b9d9-be765c6cfa50",
   "metadata": {},
   "source": [
    "---"
   ]
  },
  {
   "cell_type": "markdown",
   "id": "a37bbb7c-6533-43fc-998c-496896ab8d3d",
   "metadata": {},
   "source": [
    "**Question:**  \n",
    "Which of the following statements is true about $w_0$ (the intercept term) in linear regression?\n",
    "\n",
    "1. It represents the output variable that the model is trying to predict.\n",
    "2. It represents the input variables that the model uses to make predictions.\n",
    "3. It represents the coefficients of the linear equation that relates the input variables to the output variable.\n",
    "4. It represents the constant or baseline value of the output variable when all the input variables are zero.\n",
    "\n",
    "**Answer:**  4"
   ]
  },
  {
   "cell_type": "markdown",
   "id": "5618170f-5646-4ce9-bed9-ef1e940be1cb",
   "metadata": {},
   "source": [
    "---"
   ]
  },
  {
   "cell_type": "markdown",
   "id": "938f5806-5b0f-4182-b713-32187dd38115",
   "metadata": {},
   "source": [
    "**Question:**  \n",
    "Which of the following is the matrix representation of linear regression?\n",
    "\n",
    "1. $y = b_0 + b_1x_1 + b_2x_2 + ... + b_nx_n$\n",
    "\n",
    "2. $y = mx + b$\n",
    "\n",
    "3. $y(x,w) = w^TX(x)$ where $X_0=1$\n",
    "\n",
    "4. $y = e^(b_0 + b_1x_1 + b_2x_2 + ... + b_nx_n)$\n",
    "\n",
    "**Answer:** 3 "
   ]
  },
  {
   "cell_type": "markdown",
   "id": "d9d479e6-f662-40c8-b955-d760fa1768a2",
   "metadata": {},
   "source": [
    "---"
   ]
  },
  {
   "cell_type": "markdown",
   "id": "433eae21-c34c-4d2b-8f55-30dd4ab83547",
   "metadata": {},
   "source": [
    "**Question:**  \n",
    "Which of the following statements is true about the difference between likelihood and probability?\n",
    "\n",
    "1. Likelihood is used to measure the distance between two points in a dataset, while probability is used to measure the spread of the data.\n",
    "2. Likelihood is a measure of the speed of a machine learning algorithm, while probability is a measure of its accuracy.\n",
    "3. Likelihood is a measure of how well a model fits the data, while probability is a measure of how much data is available.\n",
    "4. Likelihood is used to estimate the number of clusters in a dataset, while probability is used to estimate the size of the dataset.\n",
    "\n",
    "**Answer:**  3"
   ]
  },
  {
   "cell_type": "markdown",
   "id": "dcf8ac91-8d92-441c-9865-8894490c7e7e",
   "metadata": {},
   "source": [
    "---"
   ]
  },
  {
   "cell_type": "markdown",
   "id": "e55d3b69-4dce-4345-b516-e8c0e0f0c6aa",
   "metadata": {},
   "source": [
    "**Question:**  \n",
    "Which of the following statements is true about maximum likelihood estimation (MLE)?\n",
    "\n",
    "1. MLE is a method of estimating the probability distribution of the observed data, given some assumed parameters.\n",
    "2. MLE is a method of estimating the parameters of an assumed probability distribution, given some observed data.\n",
    "3. MLE is a method of estimating the expected value of the observed data, given some assumed parameters.\n",
    "4. MLE is a method of estimating the variance of the observed data, given some assumed parameters.\n",
    "\n",
    "**Answer:**  2"
   ]
  },
  {
   "cell_type": "markdown",
   "id": "2f6e46e7-2441-4375-be3b-1428ca760ad1",
   "metadata": {},
   "source": [
    "---"
   ]
  }
 ],
 "metadata": {
  "kernelspec": {
   "display_name": "Python 3 (ipykernel)",
   "language": "python",
   "name": "python3"
  },
  "language_info": {
   "codemirror_mode": {
    "name": "ipython",
    "version": 3
   },
   "file_extension": ".py",
   "mimetype": "text/x-python",
   "name": "python",
   "nbconvert_exporter": "python",
   "pygments_lexer": "ipython3",
   "version": "3.9.16"
  }
 },
 "nbformat": 4,
 "nbformat_minor": 5
}
