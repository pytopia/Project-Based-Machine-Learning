{
 "cells": [
  {
   "cell_type": "markdown",
   "id": "2f5ee8ef-f2ba-46f5-a304-2622e41cecaa",
   "metadata": {
    "tags": []
   },
   "source": [
    "# <img src=\"../../images/logos/ml-logo.png\" width=\"23\"/> Bias Variance Trade Off (Problems)"
   ]
  },
  {
   "cell_type": "markdown",
   "id": "48323559-3790-41a7-9b34-2b16c9a86aa6",
   "metadata": {},
   "source": [
    "**Question:**  \n",
    "Which of the following can complete the statement?  \n",
    "\"Bias-variance trade-off refers to the trade-off between...\"\n",
    "\n",
    "1. the model's ability to fit the training data and its ability to generalize to new data.\n",
    "2. the number of features in the model and the number of training examples.\n",
    "3. the model's accuracy and its computation time.\n",
    "4. the training error and the testing error.\n",
    "\n",
    "**Answer:**  1"
   ]
  },
  {
   "cell_type": "markdown",
   "id": "055213d4-06b9-453a-bf67-32dbb71c9847",
   "metadata": {},
   "source": [
    "---"
   ]
  },
  {
   "cell_type": "markdown",
   "id": "316a9390-e2f7-4e68-a768-a3c158b4fb91",
   "metadata": {},
   "source": [
    "**Question:**  \n",
    "Which of the following describes the **model complexity** in machine learning?\n",
    "\n",
    "1. The amount of data used to train the model.\n",
    "2. The number of features in the input data.\n",
    "3. It is often measured by the number of parameters in the model\n",
    "4. The number of samples in the dataset.\n",
    "\n",
    "**Answer:**  3"
   ]
  },
  {
   "cell_type": "markdown",
   "id": "3fb09547-f809-4d48-8de9-7a1f33aaf933",
   "metadata": {},
   "source": [
    "---"
   ]
  },
  {
   "cell_type": "markdown",
   "id": "0c83dc15-f539-4d69-9b05-ca88a6e63385",
   "metadata": {},
   "source": [
    "**Question:**  \n",
    "Which of the following can complete the statement?   \n",
    "\"As model complexity increases...\"\n",
    "\n",
    "1. bias increases and variance decreases.\n",
    "2. bias decreases and variance increases.\n",
    "3. both bias and variance increase.\n",
    "4. both bias and variance decrease.\n",
    "\n",
    "**Answer:**  2"
   ]
  },
  {
   "cell_type": "markdown",
   "id": "e3ae890a-ddef-4f6d-8666-2eeea9b4b19b",
   "metadata": {},
   "source": [
    "---"
   ]
  },
  {
   "cell_type": "markdown",
   "id": "55cebd62-8ce2-4322-a59b-c9ae1361e4c9",
   "metadata": {},
   "source": [
    "**Question:**  \n",
    "Which of the following is true about **total error** in bias-variance trade-off?\n",
    "\n",
    "1. Total error is equal to the sum of bias and variance.\n",
    "2. Total error is equal to the difference between bias and variance.\n",
    "3. Total error is independent of both bias and variance.\n",
    "4. Total error is affected by both bias and variance, and must be minimized by finding an appropriate balance between them.\n",
    "\n",
    "**Answer:**  4"
   ]
  },
  {
   "cell_type": "markdown",
   "id": "daab9ada-d65d-4a93-a5d3-eb26b6498fad",
   "metadata": {},
   "source": [
    "---"
   ]
  },
  {
   "cell_type": "markdown",
   "id": "421944fc-f914-4851-89ee-d90bcee25c91",
   "metadata": {},
   "source": [
    "**Question:**  \n",
    "Which of the following is a way to decrease the complexity of a machine learning model?\n",
    "\n",
    "1. Increasing the regularization parameter\n",
    "2. Adding more hidden layers to a neural network\n",
    "3. Increasing the number of parameters or weights in the model\n",
    "4. Increasing the number of features\n",
    "\n",
    "**Answer:**  1"
   ]
  },
  {
   "cell_type": "markdown",
   "id": "2f687772-74dd-4c7f-a445-8f2172cf5be8",
   "metadata": {},
   "source": [
    "---"
   ]
  },
  {
   "cell_type": "markdown",
   "id": "ed10fa19-b4f9-4c53-8a47-16927a4d4546",
   "metadata": {},
   "source": [
    "**Question:**  \n",
    "Which of the following can complete the statement?  \n",
    "\"In reality, using linear regression with regularization...\"\n",
    "\n",
    "1. reduces bias by selecting a more complex function class.\n",
    "2. eliminates bias entirely.\n",
    "3. introduces bias both from selecting a simpler function class and from the regularization.\n",
    "4. has no effect on bias.\n",
    "\n",
    "**Answer:**  3"
   ]
  },
  {
   "cell_type": "markdown",
   "id": "be5b4ad6-a0d3-4888-996a-1d84b3bba07f",
   "metadata": {},
   "source": [
    "---"
   ]
  },
  {
   "cell_type": "markdown",
   "id": "e652734a-1029-4ef6-a8ea-ac46d1bbce47",
   "metadata": {},
   "source": [
    "**Question:**  \n",
    "Which of the following statements is true in the bias-variance trade-off in machine learning?\n",
    "\n",
    "1. Regularization increases the bias of model and decreases the variance of the model.\n",
    "2. Regularization decreases the bias of model and increases the variance of the model.\n",
    "3. Regularization increases both the bias and the variance of the model.\n",
    "4. Regularization decreases both the bias and the variance of the model.\n",
    "\n",
    "**Answer:**  1"
   ]
  },
  {
   "cell_type": "markdown",
   "id": "f3cb4408-7690-48a3-b398-0da967e4c4e5",
   "metadata": {},
   "source": [
    "---"
   ]
  },
  {
   "cell_type": "markdown",
   "id": "403408b2-7f6c-4af6-ab59-85efd2c013f9",
   "metadata": {},
   "source": [
    "**Question:**  \n",
    "Which of the following statements describes the effect of **model selection** on the bias of a machine learning model?\n",
    "\n",
    "1. Model selection always increases the bias of a model.\n",
    "2. Model selection always decreases the bias of a model.\n",
    "3. Model selection can either increase or decrease the bias of a model, depending on the complexity of the model and the amount of available data.\n",
    "4. Model selection has no effect on the bias of a model.\n",
    "\n",
    "**Answer:**  3"
   ]
  },
  {
   "cell_type": "markdown",
   "id": "b3e0eb6b-17b1-4956-a2c9-678ab9791ce6",
   "metadata": {},
   "source": [
    "---"
   ]
  },
  {
   "cell_type": "markdown",
   "id": "edad529c-85e4-4b99-a7d6-3ac35302e5db",
   "metadata": {},
   "source": [
    "**Question:**  \n",
    "Which of the following options correctly completes the following sentence?  \n",
    "\"Selecting a simple model generally increases the _____, while selecting a more complex model generally increases the _____.\"\n",
    "\n",
    "1. variance, variance\n",
    "2. bias, variance\n",
    "3. variance, bias\n",
    "4. bias, bias\n",
    "\n",
    "**Answer:**  2"
   ]
  },
  {
   "cell_type": "markdown",
   "id": "88f38b1a-5bdc-4831-a5af-ad1618212053",
   "metadata": {},
   "source": [
    "---"
   ]
  },
  {
   "cell_type": "markdown",
   "id": "8b2b2c40-577a-4a9f-baf6-52f8cb06285e",
   "metadata": {},
   "source": [
    "**Question:**  \n",
    "Which of the following best describes **underfitting** in machine learning?\n",
    "\n",
    "1. The model captures the underlying patterns in the training data but fails to generalize to new data.\n",
    "2. The model is too complex and captures noise and variability in addition to the underlying relationships in the data.\n",
    "3. The model is trained for too long and converges to a suboptimal solution.\n",
    "4. The model is too simple and fails to capture important relationships in the data.\n",
    "\n",
    "**Answer:**  4"
   ]
  },
  {
   "cell_type": "markdown",
   "id": "79115ebf-caa4-4115-9462-2fecebdfe3c9",
   "metadata": {},
   "source": [
    "---"
   ]
  },
  {
   "cell_type": "markdown",
   "id": "ba40ec12-040d-4335-a034-71d04bdced64",
   "metadata": {},
   "source": [
    "**Question:**  \n",
    "Which of the following options correctly completes the following sentence?  \n",
    "\"In the **underfitting** zone...\"\n",
    "1. both bias and variance are high.\n",
    "2. bias is high and variance is low.\n",
    "3. bias is low and variance is high.\n",
    "4. both bias and variance are low.\n",
    "\n",
    "**Answer:**  2"
   ]
  },
  {
   "cell_type": "markdown",
   "id": "e4378644-05d8-4e4e-a354-b29a3e816c50",
   "metadata": {},
   "source": [
    "---"
   ]
  },
  {
   "cell_type": "markdown",
   "id": "be585351-9bda-4f6a-b45a-bba8d3dac618",
   "metadata": {},
   "source": [
    "**Question:**  \n",
    "Which of the following is a symptom of **underfitting** in machine learning?\n",
    "1. High training error\n",
    "2. Training error is closed to test error\n",
    "3. High bias\n",
    "4. All of the above\n",
    "\n",
    "**Answer:**  4"
   ]
  },
  {
   "cell_type": "markdown",
   "id": "b1fbbc16-0693-4cfb-ba46-f8c8e6689677",
   "metadata": {},
   "source": [
    "---"
   ]
  },
  {
   "cell_type": "markdown",
   "id": "6dea8b41-6774-4713-9446-43d27fbe0876",
   "metadata": {},
   "source": [
    "**Question:**  \n",
    "Which of the following is a remedy for **underfitting** in machine learning?\n",
    "1. Complexifying the model\n",
    "2. Adding more features\n",
    "3. Training longer\n",
    "4. All of the above\n",
    "\n",
    "**Answer:**  4"
   ]
  },
  {
   "cell_type": "markdown",
   "id": "d359c033-a12d-460f-9825-c590924c3aa8",
   "metadata": {},
   "source": [
    "---"
   ]
  },
  {
   "cell_type": "markdown",
   "id": "90e70840-69a4-4ed5-9752-f70770031e88",
   "metadata": {},
   "source": [
    "**Question:**  \n",
    "Which of the following best describes **overfitting** in machine learning?\n",
    "\n",
    "1. The model is too simple and fails to capture important relationships in the data.\n",
    "2. The model captures the underlying patterns in the training data but fails to generalize to new data.\n",
    "3. The model is not able to capture the complexity of the data.\n",
    "4. The model is trained for too long and converges to a suboptimal solution.\n",
    "\n",
    "**Answer:**  2"
   ]
  },
  {
   "cell_type": "markdown",
   "id": "c5ce6190-c193-4e82-af3c-fe14607c704d",
   "metadata": {},
   "source": [
    "---"
   ]
  },
  {
   "cell_type": "markdown",
   "id": "2b81d86f-bfb9-4828-93db-a03e9002492a",
   "metadata": {},
   "source": [
    "**Question:**  \n",
    "Which of the following options correctly completes the following sentence?  \n",
    "\"In the **overfitting** zone...\"\n",
    "1. both bias and variance are high.\n",
    "2. bias is high and variance is low.\n",
    "3. bias is low and variance is high.\n",
    "4. both bias and variance are low.\n",
    "\n",
    "**Answer:**  3"
   ]
  },
  {
   "cell_type": "markdown",
   "id": "5d0f520f-125f-41c1-80f9-65b8aea504d9",
   "metadata": {},
   "source": [
    "---"
   ]
  },
  {
   "cell_type": "markdown",
   "id": "0f9a3183-8791-46da-9b33-ae406aa37e1c",
   "metadata": {},
   "source": [
    "**Question:**  \n",
    "Which of the following is a symptom of **overfitting** in machine learning?\n",
    "1. Very low training error\n",
    "2. Training error is much lower than test error\n",
    "3. High variance\n",
    "4. All of the above\n",
    "\n",
    "**Answer:**  4"
   ]
  },
  {
   "cell_type": "markdown",
   "id": "4f4c012d-b84b-4671-b6d8-4605cc89decb",
   "metadata": {},
   "source": [
    "---"
   ]
  },
  {
   "cell_type": "markdown",
   "id": "77d78644-82db-4813-972f-7a78762b05a1",
   "metadata": {},
   "source": [
    "**Question:**  \n",
    "Which of the following is a remedy for **overfitting** in machine learning?\n",
    "1. Performing regularization\n",
    "2. Getting more data\n",
    "3. Using feature selection\n",
    "4. All of the above\n",
    "\n",
    "**Answer:**  4"
   ]
  },
  {
   "cell_type": "markdown",
   "id": "6a1327c0-d771-465c-b1c4-d1ed9c7db457",
   "metadata": {},
   "source": [
    "---"
   ]
  }
 ],
 "metadata": {
  "kernelspec": {
   "display_name": "Python 3 (ipykernel)",
   "language": "python",
   "name": "python3"
  },
  "language_info": {
   "codemirror_mode": {
    "name": "ipython",
    "version": 3
   },
   "file_extension": ".py",
   "mimetype": "text/x-python",
   "name": "python",
   "nbconvert_exporter": "python",
   "pygments_lexer": "ipython3",
   "version": "3.9.16"
  }
 },
 "nbformat": 4,
 "nbformat_minor": 5
}
