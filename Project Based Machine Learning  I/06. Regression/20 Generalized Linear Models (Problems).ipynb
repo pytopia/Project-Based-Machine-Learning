{
 "cells": [
  {
   "cell_type": "markdown",
   "id": "2f5ee8ef-f2ba-46f5-a304-2622e41cecaa",
   "metadata": {
    "tags": []
   },
   "source": [
    "# <img src=\"../../images/logos/ml-logo.png\" width=\"23\"/> Generalized Linear Models (Problems)"
   ]
  },
  {
   "cell_type": "markdown",
   "id": "294d2528-2779-4ee6-96e1-f62c8bf38217",
   "metadata": {},
   "source": [
    "**Question:**  \n",
    "Which of the following is true regarding the definition below?\n",
    "\n",
    "\"A class of regression models that generalize linear regression by assuming that the response variable follows a probability distribution from the exponential family.\"\n",
    "\n",
    "1. Poisson regression\n",
    "2. Generalize linear models (GLMs)\n",
    "3. Nearest neighbors\n",
    "4. Kernel ridge regression \n",
    "\n",
    "**Answer:**  2"
   ]
  },
  {
   "cell_type": "markdown",
   "id": "ae825c75-6afc-43d2-bb7c-8dc36f915369",
   "metadata": {},
   "source": [
    "---"
   ]
  },
  {
   "cell_type": "markdown",
   "id": "12124b23-9aff-4265-9058-0c60aa0fe5fb",
   "metadata": {},
   "source": [
    "**Question:**  \n",
    "Which of the following is a type of generalized linear models (GLM)?\n",
    "\n",
    "1. Linear regression\n",
    "2. Logistic regression\n",
    "3. Poisson regression\n",
    "4. All of the above\n",
    "\n",
    "**Answer:**  4"
   ]
  },
  {
   "cell_type": "markdown",
   "id": "5919bddc-7f97-4647-9023-7baabf9fd2ea",
   "metadata": {},
   "source": [
    "---"
   ]
  },
  {
   "cell_type": "markdown",
   "id": "675bcd9b-ccc4-4916-bfee-9972d57a9d28",
   "metadata": {},
   "source": [
    "**Question:**  \n",
    "Which of the following is true regarding **Poisson regression**?\n",
    "\n",
    "1. It is a type of generalized linear models (GLMs)\n",
    "2. It assumes the response variable Y has a Poisson distribution\n",
    "3. It assumes the logarithm of its expected value can be modeled by a linear combination of unknown parameters. \n",
    "4. All of the above\n",
    "\n",
    "**Answer:**  4"
   ]
  },
  {
   "cell_type": "markdown",
   "id": "f9643f71-0043-4c34-8eea-8985f781752a",
   "metadata": {},
   "source": [
    "---"
   ]
  },
  {
   "cell_type": "markdown",
   "id": "6da6bd29-42fd-48af-88c9-afca7b0fa35b",
   "metadata": {},
   "source": [
    "**Question:**  \n",
    "Which of the following can complete the statement below?\n",
    "\n",
    "\"Poisson regression is used for predicting ...... target variables\"\n",
    "1. continuous\n",
    "2. binary\n",
    "3. count\n",
    "4. categorical\n",
    "\n",
    "**Answer:**  3"
   ]
  },
  {
   "cell_type": "markdown",
   "id": "fb2e8f42-c8c2-4e5b-b892-de5d6359904d",
   "metadata": {},
   "source": [
    "---"
   ]
  }
 ],
 "metadata": {
  "kernelspec": {
   "display_name": "Python 3 (ipykernel)",
   "language": "python",
   "name": "python3"
  },
  "language_info": {
   "codemirror_mode": {
    "name": "ipython",
    "version": 3
   },
   "file_extension": ".py",
   "mimetype": "text/x-python",
   "name": "python",
   "nbconvert_exporter": "python",
   "pygments_lexer": "ipython3",
   "version": "3.9.16"
  }
 },
 "nbformat": 4,
 "nbformat_minor": 5
}
