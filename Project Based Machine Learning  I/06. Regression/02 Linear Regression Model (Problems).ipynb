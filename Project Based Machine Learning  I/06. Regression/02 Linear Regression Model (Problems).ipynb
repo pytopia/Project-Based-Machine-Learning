{
 "cells": [
  {
   "cell_type": "markdown",
   "id": "2f5ee8ef-f2ba-46f5-a304-2622e41cecaa",
   "metadata": {},
   "source": [
    "# <img src=\"../../images/logos/ml-logo.png\" width=\"23\"/> Linear Regression Model (Problems)"
   ]
  },
  {
   "cell_type": "markdown",
   "id": "cbc5d0d7-387d-47f7-a821-55133ad971ee",
   "metadata": {},
   "source": [
    "**Question:**  \n",
    "Which of the following is a definition for **observations** in supervised learning?\n",
    "\n",
    "1. The output variables that the model is trying to predict.\n",
    "2. The collection of input data, each of which consists of a set of features or input variables.\n",
    "3. The same as features in supervised learning.\n",
    "4. The independent variables that the model is trying to predict.\n",
    "\n",
    "**Answer:**  2"
   ]
  },
  {
   "cell_type": "markdown",
   "id": "4b9e7ef5-48bc-412f-ae85-ca252ce89a99",
   "metadata": {},
   "source": [
    "---"
   ]
  },
  {
   "cell_type": "markdown",
   "id": "7b7c64b3-1572-45e0-a4b8-d69d7a96b7a1",
   "metadata": {},
   "source": [
    "**Question:**  \n",
    "Which of the following is a definition for **features** in supervised learning?\n",
    "1. The input variables that the model uses to make predictions.\n",
    "2. The output variables that the model is trying to predict.\n",
    "3. The same as observations in supervised learning.\n",
    "4. The independent variables that the model is trying to predict.\n",
    "\n",
    "**Answer:**  1"
   ]
  },
  {
   "cell_type": "markdown",
   "id": "1a2f4f9e-1719-4033-ab58-39d9e490f25e",
   "metadata": {},
   "source": [
    "---"
   ]
  },
  {
   "cell_type": "markdown",
   "id": "a9d65c6d-0206-46f2-988f-6ff6cc9919d1",
   "metadata": {},
   "source": [
    "**Question:**  \n",
    "Which of the following is a definition for **labels** in supervised learning?\n",
    "1. The input variables that the model uses to make predictions.\n",
    "2. The same as features in supervised learning.\n",
    "3. The independent variables that the model is trying to predict.\n",
    "4. The output variables that the model is trying to predict.\n",
    "\n",
    "**Answer:**  4"
   ]
  },
  {
   "cell_type": "markdown",
   "id": "7a3235ef-8232-4790-a209-f425a7f9fe29",
   "metadata": {},
   "source": [
    "---"
   ]
  },
  {
   "cell_type": "markdown",
   "id": "7d26bb07-208b-4fc9-a1c8-e2117a0dffa2",
   "metadata": {},
   "source": [
    "**Question:**  \n",
    "Which of the following statements is true about the goal of regression in supervised learning?\n",
    "\n",
    "1. The goal of regression is to classify data points into discrete categories.\n",
    "2. The goal of regression is to predict the value of one or more categorical target variables given the value of a D-dimensional vector x of input variables.\n",
    "3. The goal of regression is to predict the value of one or more continuous target variables t given the value of a D-dimensional vector x of input variables.\n",
    "4. The goal of regression is to reduce the dimensionality of the input data.\n",
    "\n",
    "**Answer:**  3"
   ]
  },
  {
   "cell_type": "markdown",
   "id": "5f6b5ac2-99a4-477c-99dd-9aca88d0e0fb",
   "metadata": {},
   "source": [
    "---"
   ]
  },
  {
   "cell_type": "markdown",
   "id": "222e7f0e-3e9c-417d-b2c5-c6add23dc083",
   "metadata": {},
   "source": [
    "**Question:**  \n",
    "Which of the following statements is true about **linear regression** in machine learning?\n",
    "\n",
    "1. It is a type of classification algorithm used to predict categorical target variables.\n",
    "2. It is a type of clustering algorithm used to group data points into similar clusters.\n",
    "3. It is a type of reinforcement learning algorithm used to maximize a reward signal.\n",
    "4. It is a type of regression algorithm used to establish a linear relationship between the input variables and the output variable.\n",
    "\n",
    "**Answer:**  4"
   ]
  },
  {
   "cell_type": "markdown",
   "id": "6c1d4398-0067-4876-aa38-aa94b31a0bec",
   "metadata": {},
   "source": [
    "---"
   ]
  }
 ],
 "metadata": {
  "kernelspec": {
   "display_name": "Python 3 (ipykernel)",
   "language": "python",
   "name": "python3"
  },
  "language_info": {
   "codemirror_mode": {
    "name": "ipython",
    "version": 3
   },
   "file_extension": ".py",
   "mimetype": "text/x-python",
   "name": "python",
   "nbconvert_exporter": "python",
   "pygments_lexer": "ipython3",
   "version": "3.9.16"
  }
 },
 "nbformat": 4,
 "nbformat_minor": 5
}
