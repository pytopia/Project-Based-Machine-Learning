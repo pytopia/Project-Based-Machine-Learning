{
 "cells": [
  {
   "cell_type": "markdown",
   "id": "e2ddb6b1-4d54-4539-b684-a4ffbe45d738",
   "metadata": {},
   "source": [
    "<img src=\"../../../images/banners/pandas-cropped.jpeg\" width=\"600\"/>"
   ]
  },
  {
   "cell_type": "markdown",
   "id": "9585c6c5-08c6-4791-b876-168befa52ce4",
   "metadata": {},
   "source": [
    "<a class=\"anchor\" id=\"intro_to_data_structures\"></a>\n",
    "# <img src=\"../../../images/logos/pandas.png\" width=\"23\"/> Series (Problems)"
   ]
  },
  {
   "cell_type": "markdown",
   "id": "e9729664-51b7-4149-aa80-5d7d217c6709",
   "metadata": {},
   "source": [
    "**Question:**  \n",
    "What is the definition of `Series` in pandas?\n",
    "\n",
    "**Answer:**  \n",
    "`Series` is a one-dimensional labeled array capable of holding any data type (integers, strings, floating point numbers, Python objects, etc.). The axis labels are collectively referred to as the index."
   ]
  },
  {
   "cell_type": "markdown",
   "id": "8eef780b-3eba-49d7-9097-cede3fb0d968",
   "metadata": {},
   "source": [
    "---"
   ]
  },
  {
   "cell_type": "markdown",
   "id": "f2deb226-2748-4baf-9ae3-037709f9c8ec",
   "metadata": {},
   "source": [
    "**Question:**  \n",
    "What can be used to create a pandas `Series`?\n",
    "\n",
    "**Answer:**  \n",
    "- ndarray\n",
    "- Python dict\n",
    "- scalar value"
   ]
  },
  {
   "cell_type": "markdown",
   "id": "8e102d02-c95e-4df7-ab5b-be9b8702f508",
   "metadata": {},
   "source": [
    "---"
   ]
  },
  {
   "cell_type": "markdown",
   "id": "45d11c3a-f999-449e-9e7e-00bedba1ef39",
   "metadata": {},
   "source": [
    "**Question:**  \n",
    "In the following example we want to create a pandas Series from a dictionary. What's the value for index `'b'` in the Series?\n",
    "```\n",
    "d = {'a': 10, 'c': 30, 'd': 40}\n",
    "pd.Series(d, index=['a', 'b', 'c', 'd'])\n",
    "```\n",
    "**Answer:**  \n",
    "The value for index 'b' will be `NaN` which stands for `Not a Number`.\n"
   ]
  },
  {
   "cell_type": "markdown",
   "id": "ef9e2663-da6a-4a5c-a8c1-a48f9385cde1",
   "metadata": {},
   "source": [
    "---"
   ]
  },
  {
   "cell_type": "markdown",
   "id": "a228e80c-70fb-4052-9888-a6febecba073",
   "metadata": {},
   "source": [
    "**Question:**  \n",
    "Imagine you want to create a pandas Series which has the constant value 10 in four rows. Is the following code True?\n",
    "```\n",
    "pd.Series(10)\n",
    "```\n",
    "**Answer:**  \n",
    "Given code will create just one row with value 10. You have to specify the index for Series to create four rows. Index could be as follows:\n",
    "```\n",
    "pd.Series(10, index=range(4))\n",
    "```\n"
   ]
  },
  {
   "cell_type": "markdown",
   "id": "3018f315-11c8-4921-839d-dfe502875aaf",
   "metadata": {},
   "source": [
    "---"
   ]
  },
  {
   "cell_type": "markdown",
   "id": "70af601e-7b56-48cc-ad26-bc21174146b2",
   "metadata": {},
   "source": [
    "**Question:**  \n",
    "Pandas `Series` is ndarray-like, What does it mean?\n",
    "\n",
    "**Answer:**  \n",
    "Series acts very similarly to a ndarray, and is a valid argument to most `NumPy functions`. However, operations such as slicing will also slice the index. Series can also be passed into most `NumPy methods` expecting an ndarray."
   ]
  },
  {
   "cell_type": "markdown",
   "id": "45816257-dbc7-47d9-b346-13124226d705",
   "metadata": {},
   "source": [
    "---"
   ]
  },
  {
   "cell_type": "markdown",
   "id": "1fcb0b5d-6d3d-429e-846e-2f7e575f9b1a",
   "metadata": {},
   "source": [
    "**Question:**  \n",
    "Pandas `Series` is dict-like, What does it mean?\n",
    "\n",
    "**Answer:**  \n",
    "A Series is like a fixed-size dict in that you can get and set values by index label.\n"
   ]
  },
  {
   "cell_type": "markdown",
   "id": "5dac3e35-3ec1-4f9a-bc43-7faa840b950d",
   "metadata": {},
   "source": [
    "---"
   ]
  },
  {
   "cell_type": "markdown",
   "id": "f0f03f0b-c384-477d-ba52-033aa45e102f",
   "metadata": {},
   "source": [
    "**Question:**  \n",
    "A student tries to change the name of a pandas Series with following code but as you see in the output, the name doesn't change! What is wrong in the code?\n",
    "```\n",
    "s = pd.Series([10, 20, 30], name='books')\n",
    "s.rename('cars')\n",
    "print(s)\n",
    "0    10\n",
    "1    20\n",
    "2    30\n",
    "Name: books, dtype: int64\n",
    "```\n",
    "**Answer:**  \n",
    "The method `.rename()` returns a copy of the original Series with a new name. It doesn't rename the original Series in-place. You have two options now:\n",
    "- store the output of `.rename()` method to a new parameter\n",
    "- use `s.name = 'cars'` instead of `.rename()` method.\n"
   ]
  },
  {
   "cell_type": "markdown",
   "id": "38722e5e-def8-480f-803b-34fb49ae196e",
   "metadata": {},
   "source": [
    "---"
   ]
  },
  {
   "cell_type": "markdown",
   "id": "78eee286-2d96-488e-9162-2ab4fa159207",
   "metadata": {},
   "source": [
    "**Question:**  \n",
    "Imagine you create a pandas Series from a numpy array. After that you change the first element of array. Can you guess what's the result of `print(s)`?\n",
    "```\n",
    "arr = np.array([10, 20, 30])\n",
    "s = pd.Series(arr)\n",
    "arr[0] = 500\n",
    "print(s)\n",
    "```\n",
    "**Answer:**  \n",
    "The Series s will change because it's a `memory view` of numpy array. If you change the array, the Series will be change.\n",
    "```\n",
    "0     500\n",
    "1     20\n",
    "2     30\n",
    "dtype: int64\n",
    "```"
   ]
  },
  {
   "cell_type": "markdown",
   "id": "839ba99e-8c94-4e00-aceb-eb3ae9e008af",
   "metadata": {},
   "source": [
    "---"
   ]
  }
 ],
 "metadata": {
  "kernelspec": {
   "display_name": "Python 3 (ipykernel)",
   "language": "python",
   "name": "python3"
  },
  "language_info": {
   "codemirror_mode": {
    "name": "ipython",
    "version": 3
   },
   "file_extension": ".py",
   "mimetype": "text/x-python",
   "name": "python",
   "nbconvert_exporter": "python",
   "pygments_lexer": "ipython3",
   "version": "3.9.7"
  }
 },
 "nbformat": 4,
 "nbformat_minor": 5
}
