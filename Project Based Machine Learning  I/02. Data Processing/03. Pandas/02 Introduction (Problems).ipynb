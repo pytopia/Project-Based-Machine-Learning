{
 "cells": [
  {
   "cell_type": "markdown",
   "id": "69afbdd8-d842-4562-bb59-e9da9043dcb7",
   "metadata": {},
   "source": [
    "<img src=\"../../../images/banners/pandas-cropped.jpeg\" width=\"600\"/>"
   ]
  },
  {
   "cell_type": "markdown",
   "id": "451337cc-188e-42c1-b136-78f241e21f67",
   "metadata": {},
   "source": [
    "<a class=\"anchor\" id=\"intro_to_data_structures\"></a>\n",
    "# <img src=\"../../../images/logos/pandas.png\" width=\"23\"/> Introduction (Problems)"
   ]
  },
  {
   "cell_type": "markdown",
   "id": "cd18ff87-2f01-4c3e-8119-b967a21cf62b",
   "metadata": {},
   "source": [
    "**Question:**  \n",
    "What are the three main data structures in pandas?\n",
    "\n",
    "**Answer:**  \n",
    "- Series (1D)\n",
    "- DataFrame (2D)\n",
    "- Panel (3D)"
   ]
  },
  {
   "cell_type": "markdown",
   "id": "7c5e95ce-afce-40d7-b6f5-b9272a2e85ea",
   "metadata": {},
   "source": [
    "---"
   ]
  }
 ],
 "metadata": {
  "kernelspec": {
   "display_name": "Python 3 (ipykernel)",
   "language": "python",
   "name": "python3"
  },
  "language_info": {
   "codemirror_mode": {
    "name": "ipython",
    "version": 3
   },
   "file_extension": ".py",
   "mimetype": "text/x-python",
   "name": "python",
   "nbconvert_exporter": "python",
   "pygments_lexer": "ipython3",
   "version": "3.9.16"
  }
 },
 "nbformat": 4,
 "nbformat_minor": 5
}
