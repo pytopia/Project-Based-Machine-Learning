{
 "cells": [
  {
   "cell_type": "markdown",
   "id": "04571a34-dd8f-4ad9-a77a-a46aa99199cc",
   "metadata": {},
   "source": [
    "<img src=\"../../../images/banners/pandas-cropped.jpeg\" width=\"600\"/>"
   ]
  },
  {
   "cell_type": "markdown",
   "id": "bbeed492-eb3e-4b85-b17b-35355fcf2ec3",
   "metadata": {
    "tags": []
   },
   "source": [
    "<a class=\"anchor\" id=\"essential_basic_functionality\"></a>\n",
    "# <img src=\"../../../images/logos/pandas.png\" width=\"23\"/> Data Types (Problems)"
   ]
  },
  {
   "cell_type": "markdown",
   "id": "c64ab676-5315-4f1f-8679-2769cda1b170",
   "metadata": {},
   "source": [
    "**Question:**  \n",
    "What is the difference between `dtype` attribute and `dtypes` attribute in pandas?\n",
    "\n",
    "**Answer:**  \n",
    "The `dtype` attribute is a property of a single Series or column in a DataFrame, and it returns the data type of the values in that Series or column. \n",
    "\n",
    "The `dtypes` attribute, on the other hand, is a property of a DataFrame object, and it returns a Series that contains the data types of all the columns in the DataFrame."
   ]
  },
  {
   "cell_type": "markdown",
   "id": "8ec68f0c-8349-432c-9464-a095ea5c4a6f",
   "metadata": {},
   "source": [
    "---"
   ]
  },
  {
   "cell_type": "markdown",
   "id": "0b74e301-6fd6-4a1b-aec1-59f5a499c02d",
   "metadata": {},
   "source": [
    "**Question:**  \n",
    "When does pandas **upcast** the data types?\n",
    "\n",
    "**Answer:**  \n",
    "In pandas, upcasting refers to the process of automatically converting data of a lower precision or smaller size to a higher precision or larger size. For example, if you add an integer Series to a float Series, pandas will upcast the integer values to float values.\n",
    "\n",
    "Upcasting can occur in several situations, such as when performing arithmetic operations on Series or DataFrame objects with different data types, or when reading data from a file and inferring the data types."
   ]
  },
  {
   "cell_type": "markdown",
   "id": "b376c590-ee22-4dc2-8a31-d822baa1c104",
   "metadata": {},
   "source": [
    "---"
   ]
  },
  {
   "cell_type": "markdown",
   "id": "a05c90ce-fdf5-47c4-84de-993c8b31ba0e",
   "metadata": {},
   "source": [
    "**Question:**  \n",
    "How can you specify the type of a Series or DataFrame in pandas?\n",
    "\n",
    "**Answer:**  \n",
    "You can use the `dtype` parameter ‍‍‍when‍‍‍‍‍‍ creating a new object, or use the `astype()` method to convert an existing object to a new data type.\n"
   ]
  },
  {
   "cell_type": "markdown",
   "id": "6c654ac2-cb84-4f84-8477-d12d122e4675",
   "metadata": {},
   "source": [
    "---"
   ]
  },
  {
   "cell_type": "markdown",
   "id": "3c4a620f-1b85-4f44-93ae-ec6b6adb58a4",
   "metadata": {},
   "source": [
    "**Question:**  \n",
    "How can you change the data type of several columns in DataFrame Simultaneously?\n",
    "\n",
    "**Answer:**  \n",
    "In pandas, you can change the data type of several columns in a DataFrame simultaneously by using the ‍‍‍`astype(‍)‍‍‍‍‍` method with a **dictionary** that maps column names to data types. This allows you to specify the new data types for multiple columns in a single line of code.\n"
   ]
  },
  {
   "cell_type": "markdown",
   "id": "c2fefb92-e467-49bc-bdbf-718a0b3dc034",
   "metadata": {},
   "source": [
    "---"
   ]
  },
  {
   "cell_type": "markdown",
   "id": "5bb7971f-047a-46cc-95be-5af7b193b59c",
   "metadata": {},
   "source": [
    "**Question:**  \n",
    "What is the use of `infer_objects()` method in pandas?\n",
    "\n",
    "**Answer:**  \n",
    "In pandas, the `infer_objects()` method is used to automatically infer the data types of columns in a DataFrame and convert them to the most appropriate data types.\n",
    "\n",
    "The `infer_objects()` method is useful when you have a DataFrame with columns of different data types, and you want to automatically convert them to the most appropriate data types. This is particularly useful when reading data from a file where the data types may not be specified or may be inferred incorrectly.\n",
    "\n",
    "The `infer_objects()` method works by examining the data in each column of the DataFrame and inferring the appropriate data type based on the data. For example, if a column contains only integer values, the `infer_objects()` method will convert the data type of that column to an integer data type."
   ]
  },
  {
   "cell_type": "markdown",
   "id": "1c94fb8e-0f1d-49a2-bcdf-52b1f8e2d3b8",
   "metadata": {},
   "source": [
    "---"
   ]
  },
  {
   "cell_type": "markdown",
   "id": "d60ac949-75c9-4620-be1f-ac3e3c103484",
   "metadata": {},
   "source": [
    "**Question:**  \n",
    "How can you select columns based on data type?\n",
    "\n",
    "**Answer:**  \n",
    "The `select_dtypes()` method allows you to select columns of a DataFrame based on their data type.\n",
    "You can use the `include` parameter to specify the data types you want to include in your selection. \n",
    "\n",
    "You can use the `exclude` parameter to specify the data types you don't want to be in your selection.\n",
    "\n",
    "You can also use both of `include` and `exclude` together.\n"
   ]
  },
  {
   "cell_type": "markdown",
   "id": "b590bcf9-5e87-4a2e-aaaf-4aa311d03d38",
   "metadata": {},
   "source": [
    "---"
   ]
  }
 ],
 "metadata": {
  "kernelspec": {
   "display_name": "Python 3 (ipykernel)",
   "language": "python",
   "name": "python3"
  },
  "language_info": {
   "codemirror_mode": {
    "name": "ipython",
    "version": 3
   },
   "file_extension": ".py",
   "mimetype": "text/x-python",
   "name": "python",
   "nbconvert_exporter": "python",
   "pygments_lexer": "ipython3",
   "version": "3.9.7"
  }
 },
 "nbformat": 4,
 "nbformat_minor": 5
}
