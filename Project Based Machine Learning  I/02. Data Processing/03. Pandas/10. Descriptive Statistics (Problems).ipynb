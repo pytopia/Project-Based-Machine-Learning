{
 "cells": [
  {
   "cell_type": "markdown",
   "id": "e113de1d-70d5-4fb1-9622-a130913494c4",
   "metadata": {},
   "source": [
    "<img src=\"../../../images/banners/pandas-cropped.jpeg\" width=\"600\"/>"
   ]
  },
  {
   "cell_type": "markdown",
   "id": "676f0778-9e69-4d8b-ba64-41d5da3bea81",
   "metadata": {},
   "source": [
    "<a class=\"anchor\" id=\"essential_basic_functionality\"></a>\n",
    "# <img src=\"../../../images/logos/pandas.png\" width=\"23\"/>  Descriptive Statistics (Problems)"
   ]
  },
  {
   "cell_type": "markdown",
   "id": "290fc10b-3012-49b1-8ba8-c75d7ee738fb",
   "metadata": {},
   "source": [
    "**Question:**  \n",
    "What are the common `descriptive` statistic methods in pandas?\n",
    "\n",
    "**Answer:**  \n",
    "Pandas provides several methods for computing descriptive statistics on a DataFrame or a Series. Here are some of the most commonly used descriptive statistics methods in Pandas:\n",
    "- `count()`: Returns the number of non-null values in each column.\n",
    "- `sum()`: Returns the sum of values in each column.\n",
    "- `mean()`: Returns the mean (average) of values in each column.\n",
    "- `median()`: Returns the median (middle value) of values in each column.\n",
    "- `min()`: Returns the minimum value in each column.\n",
    "- `max()`: Returns the maximum value in each column.\n",
    "- `std()`: Returns the standard deviation of values in each column.\n",
    "- `var()`: Returns the variance of values in each column.\n",
    "- `quantile()`: Returns the specified quantile of values in each column.\n",
    "- `describe()`: Returns a summary of descriptive statistics for each column, including count, mean, standard deviation, minimum value, maximum value, and quartiles.\n"
   ]
  },
  {
   "cell_type": "markdown",
   "id": "4560f7e4-d98e-495e-90f7-f2e683092824",
   "metadata": {},
   "source": [
    "---"
   ]
  },
  {
   "cell_type": "markdown",
   "id": "2b772a85-d81e-4f7c-95dd-3d9c3b995867",
   "metadata": {},
   "source": [
    "**Question:**  \n",
    "what is the **include** option in `.describe()` method in pandas?\n",
    "\n",
    "**Answer:**  \n",
    "The include option in the describe() method in Pandas is used to specify which data types should be included in the summary statistics. By default, describe() only computes statistics for numeric data types, but with the include parameter, you can also include non-numeric data types such as object and categorical data.\n",
    "\n",
    "The include option accepts a list of data types to include in the summary statistics. The possible values are:\n",
    "\n",
    "- None (default): include only numeric data types\n",
    "- 'all': include all data types\n",
    "- A list of data types to include, such as ['object', 'category']\n"
   ]
  },
  {
   "cell_type": "markdown",
   "id": "35b3d616-0137-4593-a047-ae456f631e51",
   "metadata": {},
   "source": [
    "---"
   ]
  },
  {
   "cell_type": "markdown",
   "id": "703a63d3-3cfb-4b86-ba94-d33a5af02cea",
   "metadata": {},
   "source": [
    "**Question:**  \n",
    "what's the use of `.idxmin()` and `.idxmax()` methods in pandas?\n",
    "\n",
    "**Answer:**  \n",
    "The `idxmin()` and `idxmax()` methods in Pandas are used to return the index labels of the minimum and maximum values in a Series or DataFrame, respectively. These methods are useful when you need to find the row or column label(s) associated with the minimum or maximum value(s) in a dataset.\n"
   ]
  },
  {
   "cell_type": "markdown",
   "id": "eaaa5467-299c-4697-85f8-ac24f2aadc9d",
   "metadata": {},
   "source": [
    "---"
   ]
  },
  {
   "cell_type": "markdown",
   "id": "5c545ce3-8e9d-4319-96b3-4707f75d70ae",
   "metadata": {},
   "source": [
    "**Question:**  \n",
    "How can you count the values in a Pandas DataFrame?\n",
    "\n",
    "**Answer:**  \n",
    "You can count the values in a Pandas DataFrame using the `value_counts()` method.\n",
    "\n",
    "The `value_counts()` method returns a Series containing counts of unique values in the DataFrame. The resulting Series is sorted in descending order by default, so that the most frequently-occurring values appear first. You can also specify the normalize parameter to get the relative frequencies instead of absolute counts.\n"
   ]
  },
  {
   "cell_type": "markdown",
   "id": "784c4a9b-cb2a-4ca7-a264-ceec73200bd4",
   "metadata": {},
   "source": [
    "---"
   ]
  }
 ],
 "metadata": {
  "kernelspec": {
   "display_name": "Python 3 (ipykernel)",
   "language": "python",
   "name": "python3"
  },
  "language_info": {
   "codemirror_mode": {
    "name": "ipython",
    "version": 3
   },
   "file_extension": ".py",
   "mimetype": "text/x-python",
   "name": "python",
   "nbconvert_exporter": "python",
   "pygments_lexer": "ipython3",
   "version": "3.9.7"
  }
 },
 "nbformat": 4,
 "nbformat_minor": 5
}
