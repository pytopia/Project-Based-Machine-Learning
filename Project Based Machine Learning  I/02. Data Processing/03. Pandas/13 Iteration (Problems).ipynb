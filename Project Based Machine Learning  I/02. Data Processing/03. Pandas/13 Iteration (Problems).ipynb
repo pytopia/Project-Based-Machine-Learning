{
 "cells": [
  {
   "cell_type": "markdown",
   "id": "48a44963-a965-4386-8b1f-f84e6d09666c",
   "metadata": {},
   "source": [
    "<img src=\"../../../images/banners/pandas-cropped.jpeg\" width=\"600\"/>"
   ]
  },
  {
   "cell_type": "markdown",
   "id": "c67debf7-f0de-4fb4-9359-5465e97ab520",
   "metadata": {},
   "source": [
    "<a class=\"anchor\" id=\"essential_basic_functionality\"></a>\n",
    "# <img src=\"../../../images/logos/pandas.png\" width=\"23\"/> Iteration (Problems)"
   ]
  },
  {
   "cell_type": "markdown",
   "id": "2ad1b259-1928-4d68-98b8-ce98b49c3973",
   "metadata": {},
   "source": [
    "**Question:**  \n",
    "How can you iterate over rows of a dataframe?\n",
    "\n",
    "**Answer:**  \n",
    "In Pandas, you can iterate over rows of a DataFrame using the `iterrows()` method. This method returns an iterator that yields pairs of index and row data as pandas Series objects.\n",
    "\n",
    "Note that while iterrows() is a convenient way to iterate over rows of a DataFrame, it can be slow for large DataFrames. In many cases, there are more efficient ways to accomplish the same task using **vectorized** operations or other methods.\n"
   ]
  },
  {
   "cell_type": "markdown",
   "id": "1e8d0c21-f614-43f0-98e6-095783cdac21",
   "metadata": {},
   "source": [
    "---"
   ]
  },
  {
   "cell_type": "markdown",
   "id": "2c9fabaf-f08b-4c12-b6fe-8cb44f3818ef",
   "metadata": {},
   "source": [
    "**Question:**  \n",
    "What is the difference between `.items()` method and `.iterrows()` method in pandas?\n",
    "\n",
    "**Answer:**  \n",
    "`.items()` is a method that returns an iterator over the **(column name, Series)** pairs of a DataFrame. It iterates over the column names of the DataFrame and returns each column as a Series object.\n",
    "\n",
    "`.iterrows()` is a method that returns an iterator over the **(index, Series)** pairs of a DataFrame. It iterates over the rows of the DataFrame and returns each row as a Series object."
   ]
  },
  {
   "cell_type": "markdown",
   "id": "e82433df-8ed7-4192-9851-90a85e47383c",
   "metadata": {},
   "source": [
    "---"
   ]
  },
  {
   "cell_type": "markdown",
   "id": "f99ab257-47e9-4166-8b2f-1bbbba227dc6",
   "metadata": {},
   "source": [
    "**Question:**  \n",
    "What is the difference between `.itertuples()` method and `.iterrows()` method in pandas?\n",
    "\n",
    "**Answer:**  \n",
    "`.iterrows()` returns an iterator over the rows of a DataFrame as (index, Series) pairs. The index is the row label, and the Series contains the data for each row.\n",
    "\n",
    "`.itertuples()` returns an iterator over the rows of a DataFrame as **namedtuples**. A namedtuple is a subclass of a tuple that has named fields, which correspond to the columns of the DataFrame. \n",
    "\n",
    "`.itertuples()` is generally **faster** and uses **less memory** than `.iterrows()`\n"
   ]
  },
  {
   "cell_type": "markdown",
   "id": "66132f0f-b580-4358-ac0e-d06c0e4efff6",
   "metadata": {},
   "source": [
    "---"
   ]
  }
 ],
 "metadata": {
  "kernelspec": {
   "display_name": "Python 3 (ipykernel)",
   "language": "python",
   "name": "python3"
  },
  "language_info": {
   "codemirror_mode": {
    "name": "ipython",
    "version": 3
   },
   "file_extension": ".py",
   "mimetype": "text/x-python",
   "name": "python",
   "nbconvert_exporter": "python",
   "pygments_lexer": "ipython3",
   "version": "3.9.7"
  }
 },
 "nbformat": 4,
 "nbformat_minor": 5
}
