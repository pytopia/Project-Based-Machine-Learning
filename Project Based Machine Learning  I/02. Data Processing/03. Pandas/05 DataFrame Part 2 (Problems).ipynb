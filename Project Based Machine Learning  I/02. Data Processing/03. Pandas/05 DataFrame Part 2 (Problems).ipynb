{
 "cells": [
  {
   "cell_type": "markdown",
   "id": "09d22b28-5240-459c-99c8-f506dd536c72",
   "metadata": {},
   "source": [
    "<img src=\"../../../images/banners/pandas-cropped.jpeg\" width=\"600\"/>"
   ]
  },
  {
   "cell_type": "markdown",
   "id": "8fb7f7de-5213-4c81-a20e-52184145ec9a",
   "metadata": {},
   "source": [
    "<a class=\"anchor\" id=\"intro_to_data_structures\"></a>\n",
    "# <img src=\"../../../images/logos/pandas.png\" width=\"23\"/> DataFrame Part 2 (Problems)"
   ]
  },
  {
   "cell_type": "markdown",
   "id": "63d8a747-4844-4f4a-95f1-f2f6a44f27d5",
   "metadata": {},
   "source": [
    "**Question:**  \n",
    "What's the difference between `.insert()` and `.assign()` method?\n",
    "\n",
    "**Answer:**  \n",
    "`.assign()` method allows you to easily create new columns that are potentially derived from existing columns. It always returns a copy of the data, leaving the original DataFrame untouched but `.insert()` Insert new column into DataFrame at specified location in-place.\n"
   ]
  },
  {
   "cell_type": "markdown",
   "id": "c9b00527-b240-4555-b253-c0e00a0dafcb",
   "metadata": {},
   "source": [
    "---"
   ]
  },
  {
   "cell_type": "markdown",
   "id": "aa2be0c7-3632-4de1-bd2f-905f0da5a111",
   "metadata": {},
   "source": [
    "**Question:**  \n",
    "What are the basic indexing ways in pandas?\n",
    "\n",
    "**Answer:**   \n",
    "Indexing in pandas is the process of selecting a subset of data from a DataFrame or Series. There are several ways to perform indexing in pandas, but some of the most basic methods are:\n",
    "\n",
    "- **Using square brackets**: You can use square brackets to select a single column or a subset of columns from a DataFrame.\n",
    "\n",
    "- **Using iloc**: You can use the `iloc` indexer to select rows and columns by **integer position**.\n",
    "\n",
    "- **Using loc**: You can use the `loc` indexer to select rows and columns by **label**."
   ]
  },
  {
   "cell_type": "markdown",
   "id": "7c7db0b2-2d1e-40fe-b179-66843329904f",
   "metadata": {},
   "source": [
    "---"
   ]
  },
  {
   "cell_type": "markdown",
   "id": "4a3e92e4-b32d-4284-8e34-c3987c32b22e",
   "metadata": {},
   "source": [
    "**Question:**  \n",
    "Can you use Numpy universal functions (ufuncs) in pandas?\n",
    "\n",
    "**Answer:**   \n",
    "In fact, pandas DataFrame and Series objects support many of the same ufuncs that are available in NumPy, such as `np.exp()`, `np.log()`, `np.sin()`, `np.cos()`, and many others.\n",
    "\n",
    "To use a NumPy ufunc on a pandas DataFrame or Series, you can simply call the ufunc on the DataFrame or Series object. For example, if df is a DataFrame and you want to calculate the exponential of each element in the DataFrame, you can use the `np.exp(df)`"
   ]
  },
  {
   "cell_type": "markdown",
   "id": "2e6a6720-958b-44b1-9284-8c2b48a514c8",
   "metadata": {},
   "source": [
    "---"
   ]
  },
  {
   "cell_type": "markdown",
   "id": "04fa86bd-61f8-4256-b560-bbe0db078546",
   "metadata": {},
   "source": [
    "**Question:**  \n",
    "What are the common options can you adjust with `set_option()` function in pandas?\n",
    "\n",
    "**Answer:**   \n",
    "The `set_option()` function in pandas allows you to set various options to customize the behavior and display of pandas objects. Some of the options include:\n",
    "\n",
    "- `display.max_rows`: The maximum number of **rows** to display when printing a DataFrame or Series.\n",
    "\n",
    "- `display.max_columns`: The maximum number of **columns** to display when printing a DataFrame or Series.\n",
    "\n",
    "- `display.max_colwidth`: The maximum width of columns to display when printing a DataFrame or Series.\n",
    "\n",
    "- `display.precision`: The number of decimal places to display when printing floating-point numbers."
   ]
  },
  {
   "cell_type": "markdown",
   "id": "16a327de-e28b-4f1d-b867-4a04bc4ba85d",
   "metadata": {},
   "source": [
    "---"
   ]
  },
  {
   "cell_type": "markdown",
   "id": "3dffa638-28a6-4c0c-8821-c76963317815",
   "metadata": {},
   "source": [
    "**Question:**  \n",
    "Can you access the columns of DataFrame as an attribute? Give an example.\n",
    "\n",
    "**Answer:**   \n",
    "Yes, you can access the columns of a pandas DataFrame as an attribute using dot notation. To do this, you simply replace any spaces or special characters in the column name with an underscore, and then use the resulting string as the attribute name.\n",
    "Here's an example:\n",
    "\n",
    "```\n",
    "df = pd.DataFrame({'column 1': [1, 2, 3], 'column 2': [4, 5, 6]})\n",
    "\n",
    "df.column_1\n",
    "```\n",
    "Note that this method of accessing columns as attributes only works if the column names are valid Python identifiers (i.e. they don't contain any spaces or special characters other than underscores)."
   ]
  },
  {
   "cell_type": "markdown",
   "id": "04eac061-f233-4cc5-811f-6cee59c4c95f",
   "metadata": {},
   "source": [
    "---"
   ]
  }
 ],
 "metadata": {
  "kernelspec": {
   "display_name": "Python 3 (ipykernel)",
   "language": "python",
   "name": "python3"
  },
  "language_info": {
   "codemirror_mode": {
    "name": "ipython",
    "version": 3
   },
   "file_extension": ".py",
   "mimetype": "text/x-python",
   "name": "python",
   "nbconvert_exporter": "python",
   "pygments_lexer": "ipython3",
   "version": "3.9.7"
  }
 },
 "nbformat": 4,
 "nbformat_minor": 5
}
