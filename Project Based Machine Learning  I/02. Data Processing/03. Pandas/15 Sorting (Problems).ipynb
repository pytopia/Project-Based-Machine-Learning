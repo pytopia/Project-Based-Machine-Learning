{
 "cells": [
  {
   "cell_type": "markdown",
   "id": "506e65f8-e76a-40b2-b70a-c499fe472148",
   "metadata": {},
   "source": [
    "<img src=\"../../../images/banners/pandas-cropped.jpeg\" width=\"600\"/>"
   ]
  },
  {
   "cell_type": "markdown",
   "id": "fd8a9701-0b35-4a61-b2d0-029d7fcfdabb",
   "metadata": {},
   "source": [
    "<a class=\"anchor\" id=\"essential_basic_functionality\"></a>\n",
    "# <img src=\"../../../images/logos/pandas.png\" width=\"23\"/> Sorting (Problems)"
   ]
  },
  {
   "cell_type": "markdown",
   "id": "ec5b238d-9713-4e2d-8072-7c93c8f061d8",
   "metadata": {},
   "source": [
    "**Question:**  \n",
    "What are the two important sotring methods for in pandas?\n",
    "**Answer:**  \n",
    "- `sort_index()` method: This sorts the DataFrame or Series by its **index**.\n",
    "\n",
    "- `sort_values()` method: This sorts the DataFrame or Series by its **values**."
   ]
  },
  {
   "cell_type": "markdown",
   "id": "3aa518f6-3d57-4a8a-a4d7-7ccadcb4fa1b",
   "metadata": {},
   "source": [
    "---"
   ]
  },
  {
   "cell_type": "markdown",
   "id": "962695f2-f02d-4b43-b8f0-82c1d2ac155c",
   "metadata": {},
   "source": [
    "**Question:**  \n",
    "What are the common parameters you can use in both `sort_index()` method and `sort_value()` method in pandas?\n",
    "\n",
    "**Answer:**  \n",
    "- **ascending**: This is a boolean parameter that specifies whether to sort the index in ascending or descending order. The default value is True.\n",
    "\n",
    "- **axis**: This parameter specifies whether to sort by rows (axis=0 or axis=rows) or by columns (axis=1 or axis=columns). The default value is 0 (sort by rows).\n",
    "\n",
    "- **na_position**: This parameter specifies where to place missing values in the sorted DataFrame or Series. It can take the values 'last' (missing values are placed at the end), 'first' (missing values are placed at the beginning), or None (missing values are placed according to the default behavior of the sorting algorithm). The default value is 'last'.\n",
    "\n",
    "- **key**: This parameter is used to apply a custom function to the values before sorting. It can be a callable function that transforms the values in a column before sorting."
   ]
  },
  {
   "cell_type": "markdown",
   "id": "6490d3a0-3315-4867-aec5-cf9b3da6cac5",
   "metadata": {},
   "source": [
    "---"
   ]
  },
  {
   "cell_type": "markdown",
   "id": "3d17c66f-e4e5-4c09-ad6c-8f666bba4ffe",
   "metadata": {},
   "source": [
    "**Question:**  \n",
    "What are the different parameters between `sort_index()` method and `sort_value()` method in pandas?\n",
    "\n",
    "**Answer:**  \n",
    "- **by**: The `sort_values()` method sorts by the specified **column** in ascending order by default while the *sort_index()* method sorts by the index in ascending order by default,  \n",
    "\n",
    "- **level**: The `sort_index()` method can sort by multiple levels of a multi-level index, while the *sort_values()* method cannot.\n"
   ]
  },
  {
   "cell_type": "markdown",
   "id": "b1a113fa-d2a6-44b1-8a95-087934ef47d6",
   "metadata": {},
   "source": [
    "---"
   ]
  },
  {
   "cell_type": "markdown",
   "id": "3c0846a7-89bf-4b10-b74d-01f31a610a56",
   "metadata": {},
   "source": [
    "**Question:**  \n",
    "Suppose you specify two columns for **by** parameter in `sort_values()` method in pandas. How pandas handle it?\n",
    "\n",
    "**Answer:**  \n",
    "When sorting a DataFrame or Series by two columns, pandas handles ties in the first column by using the values in the second column as a tie-breaker. If there are ties in the first column for two or more rows, the rows with the same value in the first column are then sorted by the value in the second column.\n"
   ]
  },
  {
   "cell_type": "markdown",
   "id": "4a78b7ea-c3d2-4cff-8fda-7404cd886b57",
   "metadata": {},
   "source": [
    "---"
   ]
  },
  {
   "cell_type": "markdown",
   "id": "8c2033ff-d327-4f3c-9232-bc7a27627b51",
   "metadata": {},
   "source": [
    "**Question:**  \n",
    "What's the use of `nsmallest()` method and `nlargest()` method in pandas?\n",
    "\n",
    "**Answer:**  \n",
    "- `nsmallest()`: This method returns the n smallest values from a Series or DataFrame. It takes a parameter, n, which specifies the number of smallest values to return.\n",
    "\n",
    "- `nlargest()`: This method returns the n largest values from a Series or DataFrame. It takes a parameter, n, which specifies the number of largest values to return.\n",
    "\n",
    "If they called on a DataFrame, you can specify the **column or columns** to use for the sorting using the columns parameter.\n"
   ]
  },
  {
   "cell_type": "markdown",
   "id": "335ca96d-b555-4c45-8747-42f4ad717add",
   "metadata": {},
   "source": [
    "---"
   ]
  }
 ],
 "metadata": {
  "kernelspec": {
   "display_name": "Python 3 (ipykernel)",
   "language": "python",
   "name": "python3"
  },
  "language_info": {
   "codemirror_mode": {
    "name": "ipython",
    "version": 3
   },
   "file_extension": ".py",
   "mimetype": "text/x-python",
   "name": "python",
   "nbconvert_exporter": "python",
   "pygments_lexer": "ipython3",
   "version": "3.9.7"
  }
 },
 "nbformat": 4,
 "nbformat_minor": 5
}
