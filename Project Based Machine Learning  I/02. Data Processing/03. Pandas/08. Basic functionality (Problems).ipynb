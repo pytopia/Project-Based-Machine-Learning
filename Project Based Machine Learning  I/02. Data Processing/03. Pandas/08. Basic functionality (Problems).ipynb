{
 "cells": [
  {
   "cell_type": "markdown",
   "id": "0fc38b5f-8e2a-49f0-8087-559aa77021d0",
   "metadata": {},
   "source": [
    "<img src=\"../../../images/banners/pandas-cropped.jpeg\" width=\"600\"/>"
   ]
  },
  {
   "cell_type": "markdown",
   "id": "47e4f4de-d70b-4f94-888d-1fdffd89e9b2",
   "metadata": {},
   "source": [
    "<a class=\"anchor\" id=\"essential_basic_functionality\"></a>\n",
    "# <img src=\"../../../images/logos/pandas.png\" width=\"23\"/>  Essential Basic Functionality (Problems)"
   ]
  },
  {
   "cell_type": "markdown",
   "id": "3e9f916a-7969-41a3-874e-25de2535d6ae",
   "metadata": {},
   "source": [
    "**Question:**  \n",
    "How can you create a range of date in pandas?\n",
    "\n",
    "**Answer:**  \n",
    "In Pandas, you can create a range of dates using the `date_range()` function. Here's an example:\n",
    "```\n",
    "date_range = pd.date_range(start='2023-01-01', end='2023-01-31')\n",
    "print(date_range)\n",
    "```\n",
    "In this example, we used the date_range() function to create a range of dates from January 1, 2023 to January 31, 2023. We specified the start and end dates using the start and end parameters, respectively.\n",
    "\n",
    "The date_range() function returns a `DatetimeIndex` object, which is a type of index used for date and time data. By default, the freq parameter is set to 'D', which means that the range of dates will be in daily frequency. You can specify other frequencies like 'W' for weekly frequency or 'M' for monthly frequency by setting the freq parameter accordingly."
   ]
  },
  {
   "cell_type": "markdown",
   "id": "44ff987d-79bd-41e4-8252-745e1c8cc782",
   "metadata": {},
   "source": [
    "---"
   ]
  },
  {
   "cell_type": "markdown",
   "id": "80fd4863-88be-4ca8-b8ce-5c99dde7259b",
   "metadata": {},
   "source": [
    "**Question:**  \n",
    "Which pandas methods show you a summarized information of a DataFrame?\n",
    "\n",
    "**Answer:**  \n",
    "Pandas provides several methods to display summarized information about a DataFrame. Here are some of the most commonly used methods:\n",
    "- `.info()`: Provides a summary of the DataFrame including the number of non-null values, data type of each column, and memory usage.\n",
    "- `.describe()`: Generates descriptive statistics for the DataFrame including count, mean, standard deviation, minimum value, maximum value, and quartiles.\n",
    "- `.head()`: Displays the first n rows of the DataFrame (by default n=5).\n",
    "- `.tail()`: Displays the last n rows of the DataFrame (by default n=5).\n",
    "- `.shape`: Returns a tuple representing the dimensions of the DataFrame.\n",
    "- `.dtypes`: Returns a Series with the data type of each column.\n",
    "- `.columns`: Returns a list of column names."
   ]
  },
  {
   "cell_type": "markdown",
   "id": "b829f016-6f85-4ed6-a3c8-548db4a10cf4",
   "metadata": {},
   "source": [
    "---"
   ]
  },
  {
   "cell_type": "markdown",
   "id": "a1e61aaa-89cc-4b27-8e77-714a4e8778a4",
   "metadata": {},
   "source": [
    "**Question:**  \n",
    "What are flexible binary operations in pandas?\n",
    "\n",
    "**Answer:**  \n",
    "In Pandas, flexible binary operations are operations that can be performed between two Pandas objects (Series or DataFrames) with different indexes or between a Pandas object and a scalar value, and the result will be automatically aligned and broadcasted across the input objects. This means that Pandas will try to match the indexes of the two objects and perform the operation only on the matching elements.\n",
    "\n",
    "The flexible binary operations in Pandas include:\n",
    "- `Arithmetic operations`: +, -, *, /, //, %, **\n",
    "- `Comparison operations`: ==, !=, <, >, <=, >=\n",
    "- `Logical operations`: & (and), | (or), ^ (xor), ~ (not)\n",
    "- `Reduction operations`: sum(), mean(), min(), max(), count(), std(), var(), median(), quantile(), corr(), cov(), dot(), all(), any()"
   ]
  },
  {
   "cell_type": "markdown",
   "id": "ecc483cb-e90a-4efe-88a8-dc6092923bd7",
   "metadata": {},
   "source": [
    "---"
   ]
  },
  {
   "cell_type": "markdown",
   "id": "6d787b48-f78a-4d35-8783-1c48e73e44b6",
   "metadata": {},
   "source": [
    "**Question:**  \n",
    "What is the meaning of **data alignment** in pandas?\n",
    "\n",
    "**Answer:**  \n",
    "Data alignment in Pandas refers to the process of matching the indexes of two or more Pandas objects (Series or DataFrames) before performing an operation between them. When two objects have the same index, the operation is performed on the corresponding elements of the objects. When the objects have different indexes, Pandas aligns them by matching the labels of the indexes and performs the operation only on the matching elements.\n",
    "\n",
    "Data alignment is an important feature of Pandas because it allows you to perform operations between data that may have different shapes or indexes, without having to worry about manually aligning the data. This makes it easier to work with data that may be incomplete or have missing information, and helps to ensure that the results of operations are accurate and meaningful.\n"
   ]
  },
  {
   "cell_type": "markdown",
   "id": "35a2acd9-da7b-48ad-9560-8427c7350d91",
   "metadata": {},
   "source": [
    "---"
   ]
  },
  {
   "cell_type": "markdown",
   "id": "ea7c5a4a-2c39-4410-aaf6-dc6d02c3368a",
   "metadata": {},
   "source": [
    "**Question:**  \n",
    "A students wants to add the values of columns **'one'** to the all values of DataFrame and tries the following code:\n",
    "```\n",
    "df = pd.DataFrame(\n",
    "    {\"one\": [10, 20, 30],\"two\": [100, 200, 300],}\n",
    ")\n",
    "df = df + df['one']\n",
    "print(df)\n",
    "```\n",
    "Unfortunately the output is as follows:\n",
    "```\n",
    "   one  two   0   1   2\n",
    "0  NaN  NaN NaN NaN NaN\n",
    "1  NaN  NaN NaN NaN NaN\n",
    "2  NaN  NaN NaN NaN NaN\n",
    "```\n",
    "Can you help him to solve the problem?\n",
    "\n",
    "**Answer:**  \n",
    "By default `+` operator performs on columns (axis=columns). If you want to change the axis,you have to use `.add()` method and set the `axis` equal to `rows` :\n",
    "```\n",
    "df = df.add(df['one'], axis='rows')\n",
    "print(df)\n",
    "   one  two\n",
    "0   20  110\n",
    "1   40  220\n",
    "2   60  330\n",
    "```\n"
   ]
  },
  {
   "cell_type": "markdown",
   "id": "b30d3f4d-659a-4fa7-97bf-c7c178e09281",
   "metadata": {},
   "source": [
    "---"
   ]
  },
  {
   "cell_type": "markdown",
   "id": "994f4d68-3734-4181-a776-bba8cf9c075d",
   "metadata": {},
   "source": [
    "**Question:**  \n",
    "Can you explain what will happend when you use `fill_value` option in arithmetic functions in pandas?\n",
    "\n",
    "**Answer:**  \n",
    "This option there is in functions like: `add()`, `sub()` and so on. Pandas fill existing missing (NaN) values, and any new element needed for successful DataFrame alignment, with this value before computation. If data in both corresponding DataFrame locations is missing the result will be missing.\n"
   ]
  },
  {
   "cell_type": "markdown",
   "id": "e88a126f-8712-4d17-8f63-d9eda66a3fc1",
   "metadata": {},
   "source": [
    "---"
   ]
  },
  {
   "cell_type": "markdown",
   "id": "57ddfa54-f638-449e-9cea-06ceb0dd0352",
   "metadata": {},
   "source": [
    "**Question:**  \n",
    "What is `.fillna()` method use for?\n",
    "\n",
    "**Answer:**  \n",
    "The `.fillna()` method replaces the `NULL` values with a specified value.\n",
    "\n",
    "The `.fillna()` method returns a new DataFrame object unless the inplace parameter is set to `True`, in that case the fillna() method does the replacing in the original DataFrame instead.\n"
   ]
  },
  {
   "cell_type": "markdown",
   "id": "f4b47152-a158-42ae-a617-9e83eca8b6bc",
   "metadata": {},
   "source": [
    "---"
   ]
  },
  {
   "cell_type": "markdown",
   "id": "511ab994-5790-4888-b0e1-8181a43e991b",
   "metadata": {},
   "source": [
    "**Question:**  \n",
    "What is the difference between `.all()` and `.any()` method in pandas?\n",
    "\n",
    "**Answer:**  \n",
    "- `.all()` does a logical **and** operation on a row or column of a DataFrame and returns the resultant Boolean value.\n",
    "- `.any()` does a logical **or** operation on a row or column of a DataFrame and returns the resultant Boolean value.\n"
   ]
  },
  {
   "cell_type": "markdown",
   "id": "f1a16c69-6942-484c-8427-4948b4eca0c7",
   "metadata": {},
   "source": [
    "---"
   ]
  },
  {
   "cell_type": "markdown",
   "id": "d4716981-62ba-4e6b-81fb-14e781094664",
   "metadata": {},
   "source": [
    "**Question:**  \n",
    "Can you explain why the result of the following code is `False`? How can you check the equality of two pandas DataFrames which have `NaN` values?\n",
    "```\n",
    "df1 = pd.DataFrame([10, 20, np.nan], index=list('abc'))\n",
    "df2 = df1\n",
    "print((df2 == df1).all())\n",
    "0    False\n",
    "dtype: bool\n",
    "```\n",
    "**Answer:**  \n",
    "This is because `NaNs` do not compare as equals. You can use `.equals()` method for testing equality, with NaNs in corresponding locations treated as equal.\n",
    "```\n",
    "df2.equals(df1)\n",
    "True\n",
    "```"
   ]
  },
  {
   "cell_type": "markdown",
   "id": "c0546f39-185b-4d72-acea-5cde96964ed7",
   "metadata": {},
   "source": [
    "---"
   ]
  },
  {
   "cell_type": "markdown",
   "id": "bbdcb458-67cd-460d-bcf8-19f1da5858cb",
   "metadata": {},
   "source": [
    "**Question:**  \n",
    "What does `df1.combine_first(df2)` really works?\n",
    "\n",
    "**Answer:**  \n",
    "Combine two DataFrame objects by filling null values in df1 DataFrame with non-null values from df2 DataFrame. The row and column indexes of the resulting DataFrame will be the union of the two."
   ]
  },
  {
   "cell_type": "markdown",
   "id": "abd5029e-cbc2-47d4-990c-255a644aa50a",
   "metadata": {},
   "source": [
    "---"
   ]
  }
 ],
 "metadata": {
  "kernelspec": {
   "display_name": "Python 3 (ipykernel)",
   "language": "python",
   "name": "python3"
  },
  "language_info": {
   "codemirror_mode": {
    "name": "ipython",
    "version": 3
   },
   "file_extension": ".py",
   "mimetype": "text/x-python",
   "name": "python",
   "nbconvert_exporter": "python",
   "pygments_lexer": "ipython3",
   "version": "3.9.7"
  }
 },
 "nbformat": 4,
 "nbformat_minor": 5
}
