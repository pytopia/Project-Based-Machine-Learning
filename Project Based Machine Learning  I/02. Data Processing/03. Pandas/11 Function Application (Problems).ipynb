{
 "cells": [
  {
   "cell_type": "markdown",
   "id": "c9e15b51-7aed-4eb1-a866-04545f6894e9",
   "metadata": {},
   "source": [
    "<img src=\"../../../images/banners/pandas-cropped.jpeg\" width=\"600\"/>"
   ]
  },
  {
   "cell_type": "markdown",
   "id": "4e911cf4-85de-4446-911e-fd4ecf8e3379",
   "metadata": {
    "tags": []
   },
   "source": [
    "<a class=\"anchor\" id=\"essential_basic_functionality\"></a>\n",
    "# <img src=\"../../../images/logos/pandas.png\" width=\"23\"/>  Function Application (Problems)"
   ]
  },
  {
   "cell_type": "markdown",
   "id": "75208efd-9bee-4c75-a428-a41513ad1616",
   "metadata": {},
   "source": [
    "**Question:**  \n",
    "How many kinds of function application there are in Pandas?\n",
    "\n",
    "**Answer:**  \n",
    "In Pandas, there are four kinds of function application that can be applied to Series or DataFrame objects:\n",
    "- **Tablewise**: You can apply a function to entire of a DafaFrame using the `pipe()` method. This method takes a function as an argument, and applies that function to the DataFrame or Series.\n",
    "- **Row or column-wise**: You can apply a function to each row or column of a DataFrame using the `apply()` method. The function is applied to each row or column as a Series object.\n",
    "- **Element-wise**: You can apply a function to each element of DataFrame using the `applymap()` method (for a Series using `map()` method). The function is applied to each element individually.\n",
    "- **Aggregation**: You can apply an aggregation function (e.g., sum(), mean(), max(), min()) to a Series or DataFrame using the `agg()` method. The aggregation function is applied to the entire Series or DataFrame, and the result is a scalar value.\n",
    "\n",
    "These function application methods are powerful tools for manipulating data in Pandas. They allow you to apply custom functions to your data, perform complex calculations, and transform your data into a format that is useful for analysis or visualization.\n"
   ]
  },
  {
   "cell_type": "markdown",
   "id": "4ad34f1e-0038-4f15-86c5-a1fe5d009686",
   "metadata": {},
   "source": [
    "---"
   ]
  },
  {
   "cell_type": "markdown",
   "id": "1766ce59-fd56-4d66-96cd-e4e812c3d91e",
   "metadata": {},
   "source": [
    "**Question:**  \n",
    "Can you explain what is `method chaining` in Pandas? \n",
    "\n",
    "**Answer:**  \n",
    "Method chaining is a technique that allows you to perform multiple operations on a DataFrame or Series in a single line of code.\n",
    "\n",
    "Instead of assigning the result of each operation to a new variable, method chaining allows you to chain multiple methods together, with each method operating on the result of the previous method. This can make your code more concise and easier to read, especially when performing multiple operations on a large dataset.\n"
   ]
  },
  {
   "cell_type": "markdown",
   "id": "bc7d7dee-68dc-4255-a639-77ac858c43e8",
   "metadata": {},
   "source": [
    "---"
   ]
  },
  {
   "cell_type": "markdown",
   "id": "1d747ffa-38d5-4041-a289-140d15f2cbd6",
   "metadata": {},
   "source": [
    "**Question:**  \n",
    "What's the use of `pipe()` method in pandas?\n",
    "\n",
    "**Answer:**  \n",
    "In Pandas, the `pipe()` method is used to apply a custom function to a DataFrame or Series. The `pipe()` method allows you to chain together multiple operations on a DataFrame or Series, where each operation is performed by a separate function.\n",
    "\n",
    "The `pipe()` method takes a function as an argument, and applies that function to the DataFrame or Series. The function should take a DataFrame or Series as its argument, and return a DataFrame or Series as its output."
   ]
  },
  {
   "cell_type": "markdown",
   "id": "86904bac-b356-4184-ad79-94eb32cca998",
   "metadata": {},
   "source": [
    "---"
   ]
  },
  {
   "cell_type": "markdown",
   "id": "9bcbb71e-405c-44b6-86d4-7485c5cc4039",
   "metadata": {},
   "source": [
    "**Question:**  \n",
    "How can you use the `apply()` method in pandas?\n",
    "\n",
    "**Answer:**  \n",
    "In Pandas, the apply() method is used to apply a function to each row or column of a DataFrame. The function is applied to each row or column as a Series object, and the result is returned in the form of a new DataFrame.\n",
    "\n",
    "The apply() method can be used with a wide variety of functions, including **built-in** functions, **lambda** functions, and **user-defined** functions. The function can perform any operation that is applicable to a Series object, such as arithmetic operations, string operations, or logical operations.\n",
    "\n",
    "When using the apply() method, you can choose to apply the function to either the rows or the columns of the DataFrame, by specifying the `axis` parameter:\n",
    "- If `axis=0` (the default), the function is applied to each column of the DataFrame.\n",
    "- If `axis=1`, the function is applied to each row of the DataFrame."
   ]
  },
  {
   "cell_type": "markdown",
   "id": "aa211e4d-ab6e-4a99-b06f-255f97dd5856",
   "metadata": {},
   "source": [
    "---"
   ]
  },
  {
   "cell_type": "markdown",
   "id": "2fa015f1-ed8b-4d32-a041-9b3193ce7798",
   "metadata": {},
   "source": [
    "**Question:**  \n",
    "What is the difference between `apply()` method and `agg()` method in pandas?\n",
    "\n",
    "**Answer:**  \n",
    "The apply() method is used to apply a function to each row or column of a DataFrame, while the agg() method is used to apply an aggregation function (e.g., sum(), mean(), max(), min()) to the entire DataFrame or to each column of the DataFrame.\n",
    "\n",
    "The apply() method takes one function as its argument, but the agg() method takes one aggregation function or a list of aggregation functions as its argument."
   ]
  },
  {
   "cell_type": "markdown",
   "id": "2211f7e7-742e-4594-b25b-08158e36d4e4",
   "metadata": {},
   "source": [
    "---"
   ]
  },
  {
   "cell_type": "markdown",
   "id": "ab2b33f0-a6c2-4f63-b940-162f4e3fe7f5",
   "metadata": {},
   "source": [
    "**Question:**  \n",
    "Can you customize which function is applied to which column of the DataFrame?\n",
    "\n",
    "**Answer:**  \n",
    "The `agg()` method allows you to apply different aggregation functions to different columns of a DataFrame by passing a dictionary of column names and functions to the agg() method. The keys of the dictionary represent the column names, and the values represent the aggregation functions to be applied to each column.\n"
   ]
  },
  {
   "cell_type": "markdown",
   "id": "43d44294-1139-44aa-8835-4c31c4920ff2",
   "metadata": {},
   "source": [
    "---"
   ]
  }
 ],
 "metadata": {
  "kernelspec": {
   "display_name": "Python 3 (ipykernel)",
   "language": "python",
   "name": "python3"
  },
  "language_info": {
   "codemirror_mode": {
    "name": "ipython",
    "version": 3
   },
   "file_extension": ".py",
   "mimetype": "text/x-python",
   "name": "python",
   "nbconvert_exporter": "python",
   "pygments_lexer": "ipython3",
   "version": "3.9.7"
  }
 },
 "nbformat": 4,
 "nbformat_minor": 5
}
