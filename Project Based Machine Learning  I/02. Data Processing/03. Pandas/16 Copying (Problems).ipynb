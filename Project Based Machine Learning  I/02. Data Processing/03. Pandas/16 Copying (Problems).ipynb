{
 "cells": [
  {
   "cell_type": "markdown",
   "id": "e6a396d7-b7d1-4dab-a2a2-83da474e8bd2",
   "metadata": {},
   "source": [
    "<img src=\"../../../images/banners/pandas-cropped.jpeg\" width=\"600\"/>"
   ]
  },
  {
   "cell_type": "markdown",
   "id": "6a2696b6-577d-4990-8e81-4654389d0702",
   "metadata": {},
   "source": [
    "<a class=\"anchor\" id=\"essential_basic_functionality\"></a>\n",
    "# <img src=\"../../../images/logos/pandas.png\" width=\"23\"/> Copying (Problems)"
   ]
  },
  {
   "cell_type": "markdown",
   "id": "d37c5a8a-07ce-4fbc-9ac4-6be82621e2e1",
   "metadata": {},
   "source": [
    "**Question:**  \n",
    "Is **df2** a copy of **df1** in the following code?\n",
    "```\n",
    "df2 = df1\n",
    "```\n",
    "**Answer:**  \n",
    "df2 is not a copy of df1. Instead, df2 is a reference to the same object as df1. This means that any modifications made to df2 will also affect df1.\n",
    "\n",
    "In other words, df1 and df2 are two different names referring to the same DataFrame object in memory.\n"
   ]
  },
  {
   "cell_type": "markdown",
   "id": "182bd087-6375-4b34-a042-858f0ee60b5c",
   "metadata": {},
   "source": [
    "---"
   ]
  },
  {
   "cell_type": "markdown",
   "id": "ce08412d-62b3-4951-aa0c-fe4c2fb950f5",
   "metadata": {},
   "source": [
    "**Question:**  \n",
    "What are the advantages of using shallow copy in pandas?\n",
    "\n",
    "**Answer:**  \n",
    "- Having access to frames data without copying it (memory optimization, etc.)\n",
    "- Modifying frames structure without reflecting it to the original dataframe.\n"
   ]
  },
  {
   "cell_type": "markdown",
   "id": "a7b39106-4305-41cc-bf34-c1de7cb5d265",
   "metadata": {},
   "source": [
    "---"
   ]
  }
 ],
 "metadata": {
  "kernelspec": {
   "display_name": "Python 3 (ipykernel)",
   "language": "python",
   "name": "python3"
  },
  "language_info": {
   "codemirror_mode": {
    "name": "ipython",
    "version": 3
   },
   "file_extension": ".py",
   "mimetype": "text/x-python",
   "name": "python",
   "nbconvert_exporter": "python",
   "pygments_lexer": "ipython3",
   "version": "3.9.7"
  }
 },
 "nbformat": 4,
 "nbformat_minor": 5
}
