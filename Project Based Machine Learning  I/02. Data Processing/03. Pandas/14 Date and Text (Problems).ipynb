{
 "cells": [
  {
   "cell_type": "markdown",
   "id": "994df396-6a80-4f74-91ae-902b8507ec60",
   "metadata": {},
   "source": [
    "<img src=\"../../../images/banners/pandas-cropped.jpeg\" width=\"600\"/>"
   ]
  },
  {
   "cell_type": "markdown",
   "id": "03e999ed-4b29-425f-be02-56cdd7834060",
   "metadata": {},
   "source": [
    "<a class=\"anchor\" id=\"essential_basic_functionality\"></a>\n",
    "# <img src=\"../../../images/logos/pandas.png\" width=\"23\"/> Date and Text with `.dt` and `.str` (Problems)"
   ]
  },
  {
   "cell_type": "markdown",
   "id": "d4b1110e-0cb4-44b1-8ffc-aa59d9007e16",
   "metadata": {},
   "source": [
    "**Question:**  \n",
    "What is `.dt` use for in pandas?\n",
    "\n",
    "**Answer:**  \n",
    "`.dt` is an accessor method that allows you to access the datetime properties of a column in a DataFrame or Series. datetime is like: `pd.date_range()`, `pd.period_range()`, `pd.timedelta_range()` and so on.\n",
    "For example, you can use `.dt` to extract the year, month, day, hour, minute, or second from a datetime column.\n"
   ]
  },
  {
   "cell_type": "markdown",
   "id": "b1f36286-8a5a-4282-962e-fc2c45be6047",
   "metadata": {},
   "source": [
    "---"
   ]
  },
  {
   "cell_type": "markdown",
   "id": "8a81d536-b9a7-4677-8a3c-a178c9199784",
   "metadata": {},
   "source": [
    "**Question:**  \n",
    "What is `.str` use for in pandas?\n",
    "\n",
    "**Answer:**  \n",
    "`.str` accessor is used to apply string methods to each element of a Pandas Series or DataFrame column that contains **string** data.\n",
    "\n",
    "For example, if you have a Pandas DataFrame with a column of strings called \"my_column\", you can use the `.str` accessor to apply **string methods** to each element of that column. For instance, you can use the .str.upper() method to convert all the strings in the column to uppercase.\n"
   ]
  },
  {
   "cell_type": "markdown",
   "id": "775099ad-870f-4bac-8ad1-f93f0ca0dc35",
   "metadata": {},
   "source": [
    "---"
   ]
  }
 ],
 "metadata": {
  "kernelspec": {
   "display_name": "Python 3 (ipykernel)",
   "language": "python",
   "name": "python3"
  },
  "language_info": {
   "codemirror_mode": {
    "name": "ipython",
    "version": 3
   },
   "file_extension": ".py",
   "mimetype": "text/x-python",
   "name": "python",
   "nbconvert_exporter": "python",
   "pygments_lexer": "ipython3",
   "version": "3.9.7"
  }
 },
 "nbformat": 4,
 "nbformat_minor": 5
}
