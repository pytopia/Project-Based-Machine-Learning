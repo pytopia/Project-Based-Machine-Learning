{
 "cells": [
  {
   "cell_type": "markdown",
   "id": "642072be-5885-4a67-b256-e1b175061450",
   "metadata": {},
   "source": [
    "<img src=\"../../../images/banners/pandas-cropped.jpeg\" width=\"600\"/>"
   ]
  },
  {
   "cell_type": "markdown",
   "id": "cae847da-2411-4ebf-b204-ecf5b495a468",
   "metadata": {},
   "source": [
    "<a class=\"anchor\" id=\"essential_basic_functionality\"></a>\n",
    "# <img src=\"../../../images/logos/pandas.png\" width=\"23\"/>  Reindexing and Altering Labels (Problems)"
   ]
  },
  {
   "cell_type": "markdown",
   "id": "67110bd1-53fc-48aa-b663-38ddba332553",
   "metadata": {},
   "source": [
    "**Question:**  \n",
    "Does `reindex()` method change the indexes or columns of a pandas DataFrame in-place?\n",
    "\n",
    "**Answer:**  \n",
    "The `reindex()` method creates a new DataFrame with the specified index or columns, and does not modify the original DataFrame in place. If you want to modify the original DataFrame, you need to assign the result of reindex() back to the original DataFrame.\n",
    "\n",
    "This method takes to basic parameres: **index** and **columns**. These parameters should be as the original index/columns with a new alignment. If the new index (or columns) contains labels that are not present in the original index (or columns), the reindex() method will fill the corresponding rows (or columns) with `NaN` values."
   ]
  },
  {
   "cell_type": "markdown",
   "id": "284668f9-b6ce-4eef-9976-3de0261b5774",
   "metadata": {},
   "source": [
    "---"
   ]
  },
  {
   "cell_type": "markdown",
   "id": "222319b8-c070-4c8d-8ad5-4661c36efaac",
   "metadata": {},
   "source": [
    "**Question:**  \n",
    "How can you change two Pandas DataFrames to have the same index and columns as each other?\n",
    "\n",
    "**Answer:**  \n",
    "You have two options:\n",
    "- Use the `reindex()` method and pass the index and columns of one DataFrame as the argument to the reindex() method of the other DataFrame.\n",
    "- Use the `reindex_like()` method and pass another DataFrame as its argument. It returns a new DataFrame with the same index and columns as the argument DataFrame."
   ]
  },
  {
   "cell_type": "markdown",
   "id": "628db8cf-8eca-4f65-9be6-711cc9ab42df",
   "metadata": {},
   "source": [
    "---"
   ]
  },
  {
   "cell_type": "markdown",
   "id": "2971d21a-5930-4270-8905-dd61e6f167c0",
   "metadata": {},
   "source": [
    "**Question:**  \n",
    "How many kinds of methods the `reindex()` method have to handle missing values in Pandas?\n",
    "\n",
    "**Answer:**  \n",
    "The reindex() method in Pandas has several methods to handle missing values during the reindexing process:\n",
    "\n",
    "- `'ffill'`: This method fills missing values with the last valid value. This is also known as forward fill.\n",
    "\n",
    "- `'bfill'`: This method fills missing values with the next valid value. This is also known as backward fill.\n",
    "\n",
    "- `'nearest'`: This method fills missing values with the nearest valid value.\n",
    "\n",
    "- `None`: This method does not fill missing values. Any missing values in the resulting object will be NaN.\n",
    "For example you can write as follows:\n",
    "```\n",
    "df.reindex(new_index, method='ffill')\n",
    "```\n"
   ]
  },
  {
   "cell_type": "markdown",
   "id": "8dfe181e-4d5d-435b-bac4-d152c27710e7",
   "metadata": {},
   "source": [
    "---"
   ]
  },
  {
   "cell_type": "markdown",
   "id": "3dc2d6a7-f4d4-4499-a8b1-81bf925246dc",
   "metadata": {},
   "source": [
    "**Question:**  \n",
    "What is the **join** parameter in `.align()` pandas method?\n",
    "\n",
    "**Answer:**  \n",
    "In Pandas, the `align()` method is used to align the indexes (and/or columns) of two objects. The **join** parameter is used to specify how to handle any missing values that arise during the alignment process.\n",
    "\n",
    "The **join** parameter can take one of four values:\n",
    "- `'outer'`: This is the default value. It includes all index (or column) labels from both objects in the resulting aligned objects. If a label is missing from one object, it is filled with NaN in the other object.\n",
    "\n",
    "- `'inner'`: It includes only index (or column) labels that are present in both objects in the resulting aligned objects. If a label is missing from one object, it is not included in the result.\n",
    "\n",
    "- `'left'`: It includes all index (or column) labels from the left object in the resulting aligned objects. If a label is missing from the right object, it is filled with NaN in the left object.\n",
    "\n",
    "- `'right'`: It includes all index (or column) labels from the right object in the resulting aligned objects. If a label is missing from the left object, it is filled with NaN in the right object.\n"
   ]
  },
  {
   "cell_type": "markdown",
   "id": "538d557a-d543-436d-adc9-b4df45cf2432",
   "metadata": {},
   "source": [
    "---"
   ]
  },
  {
   "cell_type": "markdown",
   "id": "348fec90-10bd-4347-8dc0-f9fbd10455ff",
   "metadata": {},
   "source": [
    "**Question:**  \n",
    "Why the result of `align()` method in pandas is a tuple?\n",
    "\n",
    "**Answer:**  \n",
    "The `align()` method in Pandas returns a tuple of two objects because it aligns the indexes (and/or columns) of two objects and returns the aligned objects as separate objects.\n",
    "\n",
    "The first object in the tuple is a copy of the first object with its index (and/or columns) aligned to the second object, while the second object in the tuple is a copy of the second object with its index (and/or columns) aligned to the first object.\n"
   ]
  },
  {
   "cell_type": "markdown",
   "id": "6dc45ae0-cd43-4f6c-abf6-e9c5a9ad087b",
   "metadata": {},
   "source": [
    "---"
   ]
  },
  {
   "cell_type": "markdown",
   "id": "fc3384d7-2556-4df6-925e-901c2498251a",
   "metadata": {},
   "source": [
    "**Question:**  \n",
    "How can you delete a row or column of a pandas DataFrame?\n",
    "\n",
    "**Answer:**  \n",
    "In Pandas, you can delete a row or column of a DataFrame using the `drop()` method.\n",
    "\n",
    "To delete a row, you can specify the **index label** of the row you want to delete, and set the axis parameter to 0 (or 'index'):\n",
    "```\n",
    "df = df.drop('row_label', axis=0)\n",
    "```\n",
    "To delete a column, you can specify the **name** of the column you want to delete, and set the axis parameter to 1 (or 'columns'):\n",
    "```\n",
    "df = df.drop('column_name', axis=1)\n",
    "```"
   ]
  },
  {
   "cell_type": "markdown",
   "id": "0f9aad79-79d9-494c-a5e1-ec1993f638c5",
   "metadata": {},
   "source": [
    "---"
   ]
  },
  {
   "cell_type": "markdown",
   "id": "856a36f2-ddde-482c-b980-f9f7cca29252",
   "metadata": {},
   "source": [
    "**Question:**  \n",
    "How can you change the name of rows or columns in a pandas DataFrame?\n",
    "\n",
    "**Answer:**  \n",
    "In Pandas, you can change the name of rows or columns in a DataFrame using the `rename()` method.\n",
    "\n",
    "To change the name of a row, you have two options:\n",
    "```\n",
    "df = df.rename(index={'old_row_label': 'new_row_label'})\n",
    "\n",
    "df = df.rename({'old_row_label': 'new_row_label'}, axis=\"index\")\n",
    "```\n",
    "To change the name of a column, you have two options:\n",
    "```\n",
    "df = df.rename(columns={'old_column_name': 'new_column_name'})\n",
    "\n",
    "df = df.rename({'old_column_name': 'new_column_name'}, axis=\"columns\")\n",
    "```"
   ]
  },
  {
   "cell_type": "markdown",
   "id": "43d9c51c-3c68-4a9a-93ab-b0d1c9e74020",
   "metadata": {},
   "source": [
    "---"
   ]
  }
 ],
 "metadata": {
  "kernelspec": {
   "display_name": "Python 3 (ipykernel)",
   "language": "python",
   "name": "python3"
  },
  "language_info": {
   "codemirror_mode": {
    "name": "ipython",
    "version": 3
   },
   "file_extension": ".py",
   "mimetype": "text/x-python",
   "name": "python",
   "nbconvert_exporter": "python",
   "pygments_lexer": "ipython3",
   "version": "3.9.7"
  }
 },
 "nbformat": 4,
 "nbformat_minor": 5
}
