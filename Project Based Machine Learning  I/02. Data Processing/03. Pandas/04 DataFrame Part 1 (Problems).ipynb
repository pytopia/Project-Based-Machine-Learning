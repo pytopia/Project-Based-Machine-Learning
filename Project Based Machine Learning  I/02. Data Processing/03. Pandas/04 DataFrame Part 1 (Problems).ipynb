{
 "cells": [
  {
   "cell_type": "markdown",
   "id": "3de2600c-a337-4c91-99ae-40d0d9815353",
   "metadata": {},
   "source": [
    "<img src=\"../../../images/banners/pandas-cropped.jpeg\" width=\"600\"/>"
   ]
  },
  {
   "cell_type": "markdown",
   "id": "dfab000f-5ee8-4554-9620-79f1cb8ef758",
   "metadata": {},
   "source": [
    "<a class=\"anchor\" id=\"intro_to_data_structures\"></a>\n",
    "# <img src=\"../../../images/logos/pandas.png\" width=\"23\"/> DataFrame Part 1 (Problems)"
   ]
  },
  {
   "cell_type": "markdown",
   "id": "112db202-f588-42b3-8ce7-95c68d6796dc",
   "metadata": {},
   "source": [
    "**Question:**  \n",
    "What is the definition of pandas `DataFrame`?\n",
    "\n",
    "**Answer:**  \n",
    "DataFrame is a 2-dimensional labeled data structure with columns of potentially different types. You can think of it like a spreadsheet or SQL table, or a dict of Series objects. It is generally the most commonly used pandas object.\n"
   ]
  },
  {
   "cell_type": "markdown",
   "id": "8653bc3f-65be-40a0-b507-541e5798fc7d",
   "metadata": {},
   "source": [
    "---"
   ]
  },
  {
   "cell_type": "markdown",
   "id": "59ae22a4-7819-4fe0-b52d-f0683cf0e80c",
   "metadata": {},
   "source": [
    "**Question:**  \n",
    "How can you create a pandas `DataFrame`?\n",
    "\n",
    "**Answer:**  \n",
    "- Dictionary of 1D ndarrays, lists, dicts, or Series\n",
    "- 2-D numpy.ndarray\n",
    "- Structured or record ndarray\n",
    "- A Series\n",
    "- Another DataFrame\n"
   ]
  },
  {
   "cell_type": "markdown",
   "id": "552c8629-20c5-4463-96ca-81fec6ae821a",
   "metadata": {},
   "source": [
    "---"
   ]
  },
  {
   "cell_type": "markdown",
   "id": "731d3724-18a9-4fed-b956-2a95a29f189e",
   "metadata": {},
   "source": [
    "**Question:**  \n",
    "A student wants to set the index of DataFrame to **'number1'** and **'number2'**.\n",
    "As you see all the data is missed. Can you explain what happend and fix the code?\n",
    "```\n",
    "data = {\n",
    "    'name': pd.Series(['Ali', 'Reza']),\n",
    "    'age': pd.Series([25, 30]),\n",
    "}\n",
    "df = pd.DataFrame(data, index = ['number1', 'number2'])\n",
    "print(df)\n",
    "        name  age\n",
    "number1  NaN  NaN\n",
    "number2  NaN  NaN\n",
    "```\n",
    "\n",
    "**Answer:**  \n",
    "You are creating pandas DataFrame from dictionary of Series. A Series by default has indeces: 0, 1, 2, ...\n",
    "\n",
    "When you use `index` inside the `pd.DataFrame()` it selects the indices from the Series indices. Because there is no 'number1' and 'number2' indeces, the result is `NaN`. If you want to change the indeces, you can write the following code:\n",
    "```\n",
    "df = pd.DataFrame(data)\n",
    "df.index = ['number1', 'number2']\n",
    "print(df)\n",
    "         name  age\n",
    "number1   Ali   25\n",
    "number2  Reza   30\n",
    "```\n"
   ]
  },
  {
   "cell_type": "markdown",
   "id": "c8b2b4a7-df35-41e8-9e79-cd89d2f096ed",
   "metadata": {},
   "source": [
    "---"
   ]
  },
  {
   "cell_type": "markdown",
   "id": "b618f71b-5e5c-4410-9e46-43436a8bd8c1",
   "metadata": {},
   "source": [
    "**Question:**  \n",
    "What is the difference between this question and previous question? Why the result isn't `NaN` in this question? What is changed?\n",
    "\n",
    "**Answer:**  \n",
    "```\n",
    "data = {\n",
    "    'name': ['Ali', 'Reza'],\n",
    "    'age': [25, 30],\n",
    "}\n",
    "df = pd.DataFrame(data, index = ['number1', 'number2'])\n",
    "print(df)\n",
    "         name  age\n",
    "number1   Ali   25\n",
    "number2  Reza   30\n",
    "```\n",
    "Unlike the previous question, in this question the values of dictionary are `list` and Lists don't have indeces by default. When you use `index` inside the `pd.DataFrame()` there are no indeces to select, so it assigns the 'number1' and 'number2' as indeces."
   ]
  },
  {
   "cell_type": "markdown",
   "id": "a9e97452-3f2b-4ebc-8cac-769906fc920f",
   "metadata": {},
   "source": [
    "---"
   ]
  },
  {
   "cell_type": "markdown",
   "id": "fd47335a-5d18-4de5-baf4-94e93b871435",
   "metadata": {},
   "source": [
    "**Question:**  \n",
    "When you create a pandas DataFrame from a list of dictionaries, the keys of dictionary will be indeces or columns of DataFrame? Give an example.\n",
    "\n",
    "**Answer:**  \n",
    "They will be `columns` of DataFrame, for example:\n",
    "```\n",
    "data = [\n",
    "    {'name': 'Ali', 'Age': 25},\n",
    "    {'name': 'Reza', 'Age': 30},\n",
    "]\n",
    "df = pd.DataFrame(data)\n",
    "print(df)\n",
    "   name  Age\n",
    "0   Ali   25\n",
    "1  Reza   30\n",
    "```\n"
   ]
  },
  {
   "cell_type": "markdown",
   "id": "95a5e3ca-a8c1-4f39-b631-4943c7a54fa6",
   "metadata": {},
   "source": [
    "---"
   ]
  },
  {
   "cell_type": "markdown",
   "id": "c79d95cc-5118-4ef1-a8b4-21d37022fb2a",
   "metadata": {},
   "source": [
    "**Question:**  \n",
    "How can you select a `column` from a pandas DataFrame (df)?\n",
    "\n",
    "**Answer:**  \n",
    "You select a column of DataFrame with its column_name. For example:\n",
    "```\n",
    "df['name']\n",
    "```\n"
   ]
  },
  {
   "cell_type": "markdown",
   "id": "002a469a-b8b8-4fd6-b1da-47a12da52f54",
   "metadata": {},
   "source": [
    "---"
   ]
  },
  {
   "cell_type": "markdown",
   "id": "caa3b610-99d6-4ddb-a964-912c302a8985",
   "metadata": {},
   "source": [
    "**Question:**  \n",
    "How can you add a new `column` to a pandas DataFrame (df)?\n",
    "\n",
    "**Answer:**  \n",
    "Simply you can use `df[new_column] = new things` or you can use `.insert()` method if you want to add new column in particular location.\n"
   ]
  },
  {
   "cell_type": "markdown",
   "id": "0bf4bb83-3179-4427-abed-73b16e525559",
   "metadata": {},
   "source": [
    "---"
   ]
  },
  {
   "cell_type": "markdown",
   "id": "57c80443-09a2-4e6a-9c49-dd51afb914fc",
   "metadata": {},
   "source": [
    "**Question:**  \n",
    "How can you delete a `column` from a pandas DataFrame (df)?\n",
    "\n",
    "**Answer:**  \n",
    "You can use `del df[column_name]` or `.pop()` method to delete a column. \n"
   ]
  },
  {
   "cell_type": "markdown",
   "id": "00ac0778-7703-43dc-b9f1-4b539e7ef487",
   "metadata": {},
   "source": [
    "---"
   ]
  }
 ],
 "metadata": {
  "kernelspec": {
   "display_name": "Python 3 (ipykernel)",
   "language": "python",
   "name": "python3"
  },
  "language_info": {
   "codemirror_mode": {
    "name": "ipython",
    "version": 3
   },
   "file_extension": ".py",
   "mimetype": "text/x-python",
   "name": "python",
   "nbconvert_exporter": "python",
   "pygments_lexer": "ipython3",
   "version": "3.9.7"
  }
 },
 "nbformat": 4,
 "nbformat_minor": 5
}
