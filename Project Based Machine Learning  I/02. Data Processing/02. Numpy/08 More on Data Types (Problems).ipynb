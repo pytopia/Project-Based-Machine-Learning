{
 "cells": [
  {
   "cell_type": "markdown",
   "id": "7f5625d4-1cfe-496e-8043-9a42f6fceab9",
   "metadata": {
    "tags": []
   },
   "source": [
    "<img src=\"../../../images/banners/data_processing.png\" width=\"600\"/>"
   ]
  },
  {
   "cell_type": "markdown",
   "id": "f6d95ada-1c09-4517-880b-0dd3933d8b36",
   "metadata": {
    "tags": []
   },
   "source": [
    "# <img src=\"../../../images/logos/python.png\" width=\"23\"/> Available Data Types in NumPy (Problems)"
   ]
  },
  {
   "cell_type": "markdown",
   "id": "60af4953-1075-4091-9ce1-e6309c2d42e2",
   "metadata": {},
   "source": [
    "**Question:**  \n",
    "What if you modify the first element of following array to `'working'`?\n",
    "```\n",
    "x = np.array(['help', 'name', 'book'])\n",
    "x[0] = 'working'\n",
    "```\n",
    "**Answer:**  \n",
    "Array x would be:\n",
    "```\n",
    "['work' 'name' 'book']\n",
    "```\n",
    "NumPy truncates `'working'`, gets four characters and the rest get lost in the void.\n"
   ]
  },
  {
   "cell_type": "markdown",
   "id": "cbc68f6d-dd91-450d-84c9-e5654969afd9",
   "metadata": {},
   "source": [
    "---"
   ]
  },
  {
   "cell_type": "markdown",
   "id": "a2e91adb-5588-4153-95ba-b7451947e92b",
   "metadata": {},
   "source": [
    "**Question:**  \n",
    "What are the structured arrays in Numpy?\n",
    "\n",
    "**Answer:**  \n",
    "Structured arrays in NumPy are arrays in which each element can have a different data type. Structured arrays are useful when you need to work with structured data, such as tables or databases, where each record has multiple fields or columns. Structured arrays provide a convenient way to store and manipulate such data in NumPy arrays.\n",
    "\n",
    "A structured array is defined using a compound data type, which is a data type that consists of one or more fields, each with its own data type. The fields can be accessed using field names or indices, and can be of any NumPy data type."
   ]
  },
  {
   "cell_type": "markdown",
   "id": "99416c57-03eb-435e-a5e5-37375ee2cd4f",
   "metadata": {},
   "source": [
    "---"
   ]
  },
  {
   "cell_type": "markdown",
   "id": "3ad6ef41-910c-477a-a356-5ca23de7b82d",
   "metadata": {},
   "source": [
    "**Question:**  \n",
    "What's the difference between functions `datetime64()` and `timedelta64()` in NumPy?\n",
    "\n",
    "**Answer:**  \n",
    "The main difference between the two is that `datetime64` represents a specific date and time, while `timedelta64` represents a duration or time interval.\n",
    "\n",
    "`datetime64` values can be used to perform arithmetic operations on dates and times with `timedelta64` values."
   ]
  },
  {
   "cell_type": "markdown",
   "id": "11b9dfa6-6a15-4e3e-8e5e-f5179eb56c52",
   "metadata": {},
   "source": [
    "---"
   ]
  },
  {
   "cell_type": "markdown",
   "id": "8926a872-8e98-497e-a388-29d077074657",
   "metadata": {},
   "source": [
    "**Question:**  \n",
    "Create a numpy array named data contains following information to `print(data['Age'].mean())` returns 22.\n",
    "```\n",
    "Reza, 19\n",
    "Amir, 25\n",
    "Hamed, 22\n",
    "```\n",
    "**Answer:**\n",
    "```\n",
    "data = np.array([\n",
    "    ('Reza', 19),\n",
    "    ('Amir', 25),\n",
    "    ('Hamed', 22),\n",
    "],\n",
    "dtype = {\n",
    "    'names': ('Name', 'Age'),\n",
    "    'formats': ('U10', 'i2'),\n",
    "})\n",
    "print(data['Age'].mean())\n",
    "```"
   ]
  },
  {
   "cell_type": "markdown",
   "id": "6a7e068d-7879-40e2-bb49-2297ec42acb0",
   "metadata": {},
   "source": [
    "---"
   ]
  }
 ],
 "metadata": {
  "kernelspec": {
   "display_name": "Python 3 (ipykernel)",
   "language": "python",
   "name": "python3"
  },
  "language_info": {
   "codemirror_mode": {
    "name": "ipython",
    "version": 3
   },
   "file_extension": ".py",
   "mimetype": "text/x-python",
   "name": "python",
   "nbconvert_exporter": "python",
   "pygments_lexer": "ipython3",
   "version": "3.9.7"
  }
 },
 "nbformat": 4,
 "nbformat_minor": 5
}
