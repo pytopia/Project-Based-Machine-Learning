{
 "cells": [
  {
   "cell_type": "markdown",
   "id": "3512011a-a41a-4c68-b975-4978eb57d7f9",
   "metadata": {},
   "source": [
    "<img src=\"../../../images/banners/data_processing.png\" width=\"600\"/>"
   ]
  },
  {
   "cell_type": "markdown",
   "id": "f378450a-615b-49b8-8be2-588e7213142c",
   "metadata": {
    "tags": []
   },
   "source": [
    "# <img src=\"../../../images/logos/python.png\" width=\"23\"/> Indexing and Filter (Problems)\n"
   ]
  },
  {
   "cell_type": "markdown",
   "id": "479df46c-98c9-471c-b4d8-cd1d3d56a743",
   "metadata": {},
   "source": [
    "**Question:**  \n",
    "How many kinds of indexing there are in NumPy?\n",
    "\n",
    "**Answer:**  \n",
    "There are different kinds of indexing available depending on obj:\n",
    "- Basic indexing\n",
    "- Advanced indexing\n",
    "- Field access"
   ]
  },
  {
   "cell_type": "markdown",
   "id": "4d3404c3-a53e-4e18-aa34-5c8af78132ef",
   "metadata": {},
   "source": [
    "---"
   ]
  },
  {
   "cell_type": "markdown",
   "id": "e8014c97-3e8a-4c2c-b9ba-86cc56ae024c",
   "metadata": {},
   "source": [
    "**Question:**  \n",
    "What's the different between indexing and slicing in NumPy?\n",
    "\n",
    "**Answer:**  \n",
    "`Indexing` refers to the process of accessing a **single element or a group of elements** in an array by specifying their index or indices. In NumPy, indexing an array is done using square brackets `[]`.\n",
    "\n",
    "`Slicing` refers to the process of accessing **a subset of elements** in an array by specifying a range of indices. Slicing is done using the colon `:` operator inside the square brackets `[]`. \n",
    "\n",
    "For example:\n",
    "```\n",
    "arr = np.array([[1, 2, 3], [4, 5, 6], [7, 8, 9]])\n",
    "element = arr[0, 1]  # indexing: access element at row 0, column 1\n",
    "subset = arr[:2, :2]  # slicing: slice first two rows and first two columns\n",
    "```"
   ]
  },
  {
   "cell_type": "markdown",
   "id": "eb8c74ee-91f0-44cd-b0da-9c6588cc9037",
   "metadata": {},
   "source": [
    "---"
   ]
  },
  {
   "cell_type": "markdown",
   "id": "6be01c05-9c8d-49ab-901f-beafab6df070",
   "metadata": {},
   "source": [
    "**Question:**  \n",
    "NumPy basic slicing creates a view or a copy of the array?\n",
    "\n",
    "**Answer:**  \n",
    "NumPy basic slicing creates a view instead of a copy as in the case of built-in Python sequences such as string, tuple and list. Care must be taken when extracting a small portion from a large array which becomes useless after the extraction, because the small portion extracted contains a reference to the large original array whose memory will not be released until all arrays derived from it are garbage-collected. In such cases an explicit copy() is recommended."
   ]
  },
  {
   "cell_type": "markdown",
   "id": "8eddf919-4c6d-42be-b5bd-bc81a7ea63cf",
   "metadata": {},
   "source": [
    "---"
   ]
  },
  {
   "cell_type": "markdown",
   "id": "60613f36-e1bb-47dd-8edd-7b594386412e",
   "metadata": {},
   "source": [
    "**Question:**\n",
    "What is the difference between `x[2]` and `x[0:2]` in the code below?\n",
    "```\n",
    "import numpy as np\n",
    "x = np.array([\n",
    "    [2, 0, 8, 4],\n",
    "    [9, 4, 6, 8],\n",
    "    [1, 3, 4, 6],\n",
    "])\n",
    "print(x[2])\n",
    "print(x[0:2])\n",
    "```\n",
    "**Answer:**  \n",
    "The output of `x[2]` (indexing) is the entire row with index 2 of array `x` that is equal to:\n",
    "```\n",
    "[1 3 4 6]\n",
    "```\n",
    "The output of `x[0:2]` (slicing) is a array with shape (2, 4) contains two rows of array `x` with index 0 and 1 that is equal to:\n",
    "```\n",
    "[[2 0 8 4]\n",
    " [9 4 6 8]]\n",
    "```"
   ]
  },
  {
   "cell_type": "markdown",
   "id": "9fbe9720-b80e-4617-86b8-31867379b02d",
   "metadata": {},
   "source": [
    "---"
   ]
  },
  {
   "cell_type": "markdown",
   "id": "8d4f53f7-1401-4e95-966c-8015a6be2f01",
   "metadata": {},
   "source": [
    "**Question:**  \n",
    "What's NumPy advanced indexing?\n",
    "\n",
    "**Answer:**  \n",
    "Advanced indexing always returns a copy of the data (contrast with basic slicing that returns a view) and there are two types of advanced indexing in NumPy:\n",
    "- **Integer array indexing**: This type of indexing is used when you want to access a specific set of elements in an array by specifying an array of indices. The indices can be provided as a single array, or as multiple arrays with the same shape.\n",
    "\n",
    "- **Boolean array indexing**: This type of indexing is used when you want to select elements in an array based on a Boolean mask. The mask is an array of the same shape as the original array, where each element is either True or False. When you index an array with a Boolean mask, the resulting array contains only the elements where the corresponding value in the mask is True. \n",
    "\n",
    "For example:\n",
    "```\n",
    "arr = np.array([[1, 2, 3], [4, 5, 6], [7, 8, 9]])\n",
    "\n",
    "indices1 = np.array([0, 2])\n",
    "indices2 = np.array([1, 2])\n",
    "subset = arr[indices1, indices2]  # select elements at (0,1) and (2,2)\n",
    "mask = arr > 5\n",
    "subset = arr[mask]  # select elements greater than 5\n",
    "```"
   ]
  },
  {
   "cell_type": "markdown",
   "id": "c9ee95b6-034e-434c-b2be-6c73e84ca303",
   "metadata": {},
   "source": [
    "---"
   ]
  },
  {
   "cell_type": "markdown",
   "id": "fdb41c21-1ec1-44aa-ab7b-c1c3e9826d84",
   "metadata": {},
   "source": [
    "**Question:**  \n",
    "We have an array like below. What is the difference between `x[0, 2]` and `x[[0, 2]]`?\n",
    "```\n",
    "x = np.array([\n",
    "    [10, 20, 30],\n",
    "    [40, 50, 60],\n",
    "    [70, 80, 90],\n",
    "])\n",
    "```\n",
    "**Answer:**  \n",
    "`x[0, 2]` is bacic indexing and the output is 30  \n",
    "`x[[0, 2]]` is advanced indexing and returns a copy of row 0 and row 2 of array x:\n",
    "```\n",
    "[[10 20 30]\n",
    " [70 80 90]]\n",
    " ```"
   ]
  },
  {
   "cell_type": "markdown",
   "id": "fd2b9a6b-e14f-4b5d-9183-f62137125b48",
   "metadata": {},
   "source": [
    "---"
   ]
  },
  {
   "cell_type": "markdown",
   "id": "02565a5c-bd3c-48f0-8a29-24dde3662024",
   "metadata": {},
   "source": [
    "**Question:**  \n",
    "Can You use `and`, `or` operators in advanced indexing?\n",
    "\n",
    "**Answer:**  \n",
    "No, because the `and` , `or`  operate on the truth value of the whole array, not element by element.  \n",
    "You have to use `binary` operators such as `&`, `|`, `~` and etc.  NumPy designates them as the vectorized, element-wise operators to combine Booleans.\n"
   ]
  },
  {
   "cell_type": "markdown",
   "id": "5e0b7738-dc41-43b3-ac85-da60a70f328a",
   "metadata": {},
   "source": [
    "---"
   ]
  },
  {
   "cell_type": "markdown",
   "id": "c3000ea7-f41f-4120-9c17-09adc74fb860",
   "metadata": {},
   "source": [
    "**Question:**  \n",
    "Consider the following array. Calculate the `sum` of elements greater than 20 and less than 90.\n",
    "```\n",
    "x = np.array([\n",
    "    [10, 20, 30],\n",
    "    [40, 50, 60],\n",
    "    [70, 80, 90],\n",
    "])\n",
    "```\n",
    "**Answer:**  \n",
    "```\n",
    "x[(x > 20) & (x < 90)].sum()\n",
    "```\n",
    "result = 330"
   ]
  },
  {
   "cell_type": "markdown",
   "id": "b5fb0479-e492-44ce-89ee-1deb3433b87d",
   "metadata": {},
   "source": [
    "---"
   ]
  }
 ],
 "metadata": {
  "kernelspec": {
   "display_name": "Python 3 (ipykernel)",
   "language": "python",
   "name": "python3"
  },
  "language_info": {
   "codemirror_mode": {
    "name": "ipython",
    "version": 3
   },
   "file_extension": ".py",
   "mimetype": "text/x-python",
   "name": "python",
   "nbconvert_exporter": "python",
   "pygments_lexer": "ipython3",
   "version": "3.9.7"
  }
 },
 "nbformat": 4,
 "nbformat_minor": 5
}
