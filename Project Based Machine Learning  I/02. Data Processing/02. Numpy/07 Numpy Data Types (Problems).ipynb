{
 "cells": [
  {
   "cell_type": "markdown",
   "id": "8dddebab-05af-4fa8-af8b-9036cd7551da",
   "metadata": {},
   "source": [
    "<img src=\"../../../images/banners/data_processing.png\" width=\"600\"/>"
   ]
  },
  {
   "cell_type": "markdown",
   "id": "184084da-e208-4f7b-8bf3-326f8ca1fd05",
   "metadata": {},
   "source": [
    "# <img src=\"../../../images/logos/python.png\" width=\"23\"/> Numpy Data Types (Problems)"
   ]
  },
  {
   "cell_type": "markdown",
   "id": "3016dddc-275d-4414-983b-37fdc927d45c",
   "metadata": {},
   "source": [
    "**Question:**  \n",
    "How many data types does NumPy have?\n",
    "\n",
    "**Answer:**  \n",
    "NumPy provides a rich collection of data types that can be used to represent various kinds of data in arrays, including:\n",
    "\n",
    "1. Integer types: `int8`, `int16`, `int32`, `int64`, `uint8`, `uint16`, `uint32`, and `uint64`.\n",
    "2. Floating-point types: `float16`, `float32`, `float64`, and `float128`.\n",
    "3. Complex types: `complex64` and `complex128`.\n",
    "4. Boolean type: `bool`.\n",
    "5. String type: `string_` and `unicode_`.\n",
    "6. Object type: `object`.\n",
    "7. Dates and times: `datetime64` and `timedelta64`\n",
    "\n",
    "Each data type in NumPy has a specific size and range of values that it can represent. For example, the `int8` data type can represent integers in the range of -128 to 127, while the `float64` data type can represent floating-point numbers with up to 15 decimal places of precision."
   ]
  },
  {
   "cell_type": "markdown",
   "id": "170ad90f-f56f-4c4d-bf40-fcea26add6a2",
   "metadata": {},
   "source": [
    "---"
   ]
  }
 ],
 "metadata": {
  "kernelspec": {
   "display_name": "Python 3 (ipykernel)",
   "language": "python",
   "name": "python3"
  },
  "language_info": {
   "codemirror_mode": {
    "name": "ipython",
    "version": 3
   },
   "file_extension": ".py",
   "mimetype": "text/x-python",
   "name": "python",
   "nbconvert_exporter": "python",
   "pygments_lexer": "ipython3",
   "version": "3.9.7"
  }
 },
 "nbformat": 4,
 "nbformat_minor": 5
}
