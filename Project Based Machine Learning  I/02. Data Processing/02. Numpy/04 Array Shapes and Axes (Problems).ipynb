{
 "cells": [
  {
   "cell_type": "markdown",
   "id": "98a3fddd-acf7-411e-8d97-3b954ef2e61c",
   "metadata": {},
   "source": [
    "<img src=\"../../../images/banners/data_processing.png\" width=\"600\"/>"
   ]
  },
  {
   "cell_type": "markdown",
   "id": "4a2a01cc-5649-4bab-92a2-6cdde0d9219a",
   "metadata": {},
   "source": [
    "# <img src=\"../../../images/logos/python.png\" width=\"23\"/>Array Shapes and Axes Problems\n"
   ]
  },
  {
   "cell_type": "markdown",
   "id": "9f6a92f3-2e9b-4d9c-9935-ed8aa95b5ee1",
   "metadata": {
    "tags": []
   },
   "source": [
    "**Question:**  \n",
    "Which methods use axis argument in NumPy?\n",
    "\n",
    "**Answer:**   \n",
    "In NumPy, many of the functions and methods take an optional axis argument, which allows you to perform operations along a specific axis of an array. Here are some examples of NumPy methods that use the axis argument:\n",
    "\n",
    "- sum()\n",
    "- mean()\n",
    "- std()\n",
    "- min()\n",
    "- max()\n",
    "- argmin()\n",
    "- argmax()\n",
    "- cumsum()\n",
    "- prod()\n",
    "- all()\n",
    "- any()"
   ]
  },
  {
   "cell_type": "markdown",
   "id": "8fb93848-a11a-4346-9c39-7775530ecc10",
   "metadata": {},
   "source": [
    "---"
   ]
  },
  {
   "cell_type": "markdown",
   "id": "bedb695d-62f9-4ee2-8c04-50077e33ec6f",
   "metadata": {},
   "source": [
    "**Question:**  \n",
    "Can you guess what the output is? Explain your answer.\n",
    "```\n",
    "import numpy as np\n",
    "x = np.array([\n",
    "    [[5, 3, 7, 1, 2],\n",
    "     [2, 6, 4, 6 ,3]],\n",
    "    [[6, 1, 5, 1, 8],\n",
    "     [4, 3, 2, 0, 9],]\n",
    "])\n",
    "print(x.max(axis=2))\n",
    "```\n",
    "\n",
    "**Answer:**  \n",
    "```\n",
    "[[7 6]\n",
    " [8 9]]\n",
    "```\n",
    "Shape of this array is (2, 2, 5). Method `x.max(axis=2)` collapse and delete the third dimension and result array has shape (2, 2) with each value in the new array equal to the max of the corresponding collapsed values."
   ]
  },
  {
   "cell_type": "markdown",
   "id": "41056f15-f99a-4937-b9e0-39a0331716fd",
   "metadata": {},
   "source": [
    "---"
   ]
  },
  {
   "cell_type": "markdown",
   "id": "354e6827-18fa-42e1-a001-3baf3e462718",
   "metadata": {
    "tags": []
   },
   "source": [
    "**Question:**  \n",
    "How NumPy handles the `axis=1` in the `sum()` method?\n",
    "\n",
    "**Answer:**   \n",
    "For example in a 2D array, when `axis=1` is specified, NumPy sums the values in each row of the input array (sum the column values) and returns an array of sums with the same number of rows as the input array."
   ]
  },
  {
   "cell_type": "markdown",
   "id": "19e2c46b-1451-41cb-8cdb-891fad765cfd",
   "metadata": {},
   "source": [
    "---"
   ]
  },
  {
   "cell_type": "markdown",
   "id": "92ab9122-2072-431c-8159-8aedf07aa9ee",
   "metadata": {},
   "source": [
    "**Question:**  \n",
    "Explain `broadcasting` in NumPy? What are the broadcasting rules?\n",
    "\n",
    "**Answer:**  \n",
    "Broadcasting is a powerful feature in NumPy that allows arithmetic operations to be performed on arrays with different shapes. The basic idea behind broadcasting is to match the shapes of the input arrays by adding axes of length 1 to the smaller array until their shapes are compatible.\n",
    "\n",
    "The broadcasting rules in NumPy are as follows:\n",
    "\n",
    "- If the input arrays have different numbers of dimensions, the smaller array is padded with ones on its left side until it has the same number of dimensions as the larger array.\n",
    "\n",
    "- If the shape of any dimension of the input arrays does not match, the array with shape equal to 1 in that dimension is stretched to match the shape of the other array along that dimension.\n",
    "\n",
    "- If the shape of any dimension of the input arrays is not equal to 1 and does not match, a ValueError is raised."
   ]
  },
  {
   "cell_type": "markdown",
   "id": "8c25be45-9292-40a7-b261-96846e4cd5ec",
   "metadata": {},
   "source": [
    "---"
   ]
  }
 ],
 "metadata": {
  "kernelspec": {
   "display_name": "Python 3 (ipykernel)",
   "language": "python",
   "name": "python3"
  },
  "language_info": {
   "codemirror_mode": {
    "name": "ipython",
    "version": 3
   },
   "file_extension": ".py",
   "mimetype": "text/x-python",
   "name": "python",
   "nbconvert_exporter": "python",
   "pygments_lexer": "ipython3",
   "version": "3.9.7"
  }
 },
 "nbformat": 4,
 "nbformat_minor": 5
}
