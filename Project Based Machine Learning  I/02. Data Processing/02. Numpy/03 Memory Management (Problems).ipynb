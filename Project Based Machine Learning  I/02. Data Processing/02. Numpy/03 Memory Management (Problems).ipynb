{
 "cells": [
  {
   "cell_type": "markdown",
   "id": "03511393-3a63-48a4-ae44-898d283ba30d",
   "metadata": {},
   "source": [
    "<img src=\"../../../images/banners/data_processing.png\" width=\"600\"/>"
   ]
  },
  {
   "cell_type": "markdown",
   "id": "fa6a3366-c165-446b-96b8-6e4aee5f92a5",
   "metadata": {},
   "source": [
    "# <img src=\"../../../images/logos/python.png\" width=\"23\"/> Memory Management in NumPy Problems"
   ]
  },
  {
   "cell_type": "markdown",
   "id": "b955bf5f-8741-43d5-86ae-ef6972038077",
   "metadata": {},
   "source": [
    "**Question:**  \n",
    "What's the difference between `C_CONTIGUOUS` flag and `F_CONTIGUOUS` flag of a NumPy array?\n",
    "\n",
    "**Answer:**  \n",
    "The difference between C and F is just whether the array is row major or column major (i.e. either row or column entries are stored in adjacent memory address). C_CONTIGUOUS means that operating row-rise on the array will be slightly quicker. F_CONTIGUOUS means that column-wise operations will be faster."
   ]
  },
  {
   "cell_type": "markdown",
   "id": "e11d161b-0ee5-418c-b8e9-549519c6173c",
   "metadata": {},
   "source": [
    "---"
   ]
  },
  {
   "cell_type": "markdown",
   "id": "64e6abfc-d5c4-4baa-8a79-ac64315b2926",
   "metadata": {},
   "source": [
    "**Question:**  \n",
    "What's the difference between `view` and `copy` of a NumPy array?\n",
    "\n",
    "**Answer:**\n",
    "A view is a reference of the original array modifying a view modifies the original array too. This is not true for copies."
   ]
  },
  {
   "cell_type": "markdown",
   "id": "b4471559-c0fe-4d06-8df1-13e7fdcb5ea4",
   "metadata": {},
   "source": [
    "---"
   ]
  },
  {
   "cell_type": "markdown",
   "id": "8afa3e24-192f-44a0-92c4-ab95284387bd",
   "metadata": {},
   "source": [
    "**Question:**  \n",
    "How can you determine whether two arrays are copies or views of each other?\n",
    "\n",
    "**Answer:**  \n",
    "By using `np.may_share_memory(array1, array2)` function in NumPy."
   ]
  },
  {
   "cell_type": "markdown",
   "id": "d23b9ac6-6530-497a-b9ea-20407296eb48",
   "metadata": {},
   "source": [
    "---"
   ]
  },
  {
   "cell_type": "markdown",
   "id": "b076556e-5af8-475a-8fd2-a32f49eac6b1",
   "metadata": {},
   "source": [
    "**Question:**  \n",
    "What's the meaning of strides in `numpy.ndarray`?\n",
    "\n",
    "**Answer:**  \n",
    "Strides are the indexing scheme in NumPy arrays, and indicate the number of bytes to jump to find the next element."
   ]
  },
  {
   "cell_type": "markdown",
   "id": "58a546cf-2849-4f79-a387-a3344c1de091",
   "metadata": {},
   "source": [
    "---"
   ]
  },
  {
   "cell_type": "markdown",
   "id": "c4736f5d-4da6-4533-97f4-efda5ef27c57",
   "metadata": {},
   "source": [
    "**Question:**  \n",
    "What's the output of the following code? Explain your answer.\n",
    "```\n",
    "import numpy as np\n",
    "x = np.arange(24, dtype = np.int16).reshape(2, 3, 4)\n",
    "x.strides\n",
    "```\n",
    "**Answer:**  \n",
    "24, 8, 2  \n",
    "The data type of this array is integer 16, which means each element in the array is an 16-bit integer (2-byte).\n",
    "This means the elements in the first dimension are 24 bytes apart, and the array need to jump 24 bytes to find the next element in this dimension. The elements in the second dimension are 8 byte apart, jumping 8 byte to find the next element in this dimension. And the elements in the last dimension are 2 bytes apart.\n"
   ]
  },
  {
   "cell_type": "markdown",
   "id": "7440fd19-9f9a-4014-97e0-9a864bcbef3c",
   "metadata": {},
   "source": [
    "---"
   ]
  }
 ],
 "metadata": {
  "kernelspec": {
   "display_name": "Python 3 (ipykernel)",
   "language": "python",
   "name": "python3"
  },
  "language_info": {
   "codemirror_mode": {
    "name": "ipython",
    "version": 3
   },
   "file_extension": ".py",
   "mimetype": "text/x-python",
   "name": "python",
   "nbconvert_exporter": "python",
   "pygments_lexer": "ipython3",
   "version": "3.9.7"
  }
 },
 "nbformat": 4,
 "nbformat_minor": 5
}
