{
 "cells": [
  {
   "cell_type": "markdown",
   "id": "99af6ff6-e8a4-4b4c-a3f7-ec85f4911bdb",
   "metadata": {},
   "source": [
    "<img src=\"../../../images/banners/data_processing.png\" width=\"600\"/>"
   ]
  },
  {
   "cell_type": "markdown",
   "id": "81104f97-2c7b-4228-9416-22306f126a99",
   "metadata": {
    "tags": []
   },
   "source": [
    "# <img src=\"../../../images/logos/python.png\" width=\"23\"/> NumPy Basics Problems"
   ]
  },
  {
   "cell_type": "markdown",
   "id": "4c5e313d-5d82-4850-8cf4-68cb915999fd",
   "metadata": {},
   "source": [
    "**Question:**  \n",
    "Explain four top benefits of NumPy?\n",
    "\n",
    "**Answer:**\n",
    "1. **More speed:** NumPy uses algorithms written in C that complete in nanoseconds rather than seconds.\n",
    "2. **Fewer loops:** NumPy helps you to reduce loops and keep from getting tangled up in iteration indices.\n",
    "3. **Clearer code:** Without loops, your code will look more like the equations you’re trying to calculate.\n",
    "4. **Better quality:** There are thousands of contributors working to keep NumPy fast, friendly, and bug free.   "
   ]
  },
  {
   "cell_type": "markdown",
   "id": "abddbd93-23ee-4acc-96cf-efff0cc44864",
   "metadata": {},
   "source": [
    "---"
   ]
  },
  {
   "cell_type": "markdown",
   "id": "d1f7f484-38a0-4006-9d45-02d7c60c74cc",
   "metadata": {},
   "source": [
    "**Question:**  \n",
    "What does `ndarray` means?\n",
    "\n",
    "**Answer:**  \n",
    "An ndarray is a (usually fixed-size) multidimensional container of items of the same type and size."
   ]
  },
  {
   "cell_type": "markdown",
   "id": "c1e46599-69b0-4933-982c-1615e65137b8",
   "metadata": {},
   "source": [
    "---"
   ]
  },
  {
   "cell_type": "markdown",
   "id": "bf928bb0-7190-44ff-b786-1d8310127b5a",
   "metadata": {},
   "source": [
    "**Question:**  \n",
    "What is the use of `shape` in NumPy?\n",
    "\n",
    "**Answer:**  \n",
    "The number of dimensions and items in an array is defined by its shape, which is a tuple of N non-negative integers that specify the sizes of each dimension."
   ]
  },
  {
   "cell_type": "markdown",
   "id": "955468c9-9761-4fcf-91b3-02099020113a",
   "metadata": {},
   "source": [
    "---"
   ]
  },
  {
   "cell_type": "markdown",
   "id": "6e311eb5-f9c7-44a7-aeaa-2ff334a2db94",
   "metadata": {},
   "source": [
    "**Question:**   \n",
    "How can you specify the type of items in NumPy?\n",
    "\n",
    "**Answer:**  \n",
    "The type of items in the array is specified by a data-type object `dtype`, one of which is associated with each ndarray."
   ]
  },
  {
   "cell_type": "markdown",
   "id": "8559a1a1-4999-4e9f-87f6-f1a4acfc2b4f",
   "metadata": {},
   "source": [
    "---"
   ]
  },
  {
   "cell_type": "markdown",
   "id": "80875b25-827d-4ba4-901a-39b26dc50cba",
   "metadata": {},
   "source": [
    "**Question:**  \n",
    "Is it possible an ndarray be a `view` to another ndarray?\n",
    "\n",
    "**Answer:**  \n",
    "Yes, different ndarrays can share the same data, so that changes made in one ndarray may be visible in another. So, an ndarray can be a “view” to another ndarray, and the data it is referring to is taken care of by the “base” ndarray."
   ]
  },
  {
   "cell_type": "markdown",
   "id": "c90aa55b-f611-49d0-849c-6611735b1f9b",
   "metadata": {},
   "source": [
    "---"
   ]
  },
  {
   "cell_type": "markdown",
   "id": "d02cd254-64b2-4148-9a4b-e1a656001c4d",
   "metadata": {},
   "source": [
    "**Question:**  \n",
    "When you are creating an array from lists or tuples, what if the input consists of different data types? \n",
    "\n",
    "**Answer:**  \n",
    "The `array` function will normally cast all input elements into the most suitable data type required for the array. For example, if a list contains both floats and integers, the resulting array will be of type float. If it contains an integer and a boolean, the resulting array will consist of integers."
   ]
  },
  {
   "cell_type": "markdown",
   "id": "ac3e8bb1-9147-4f72-baca-4f454dc77915",
   "metadata": {},
   "source": [
    "---"
   ]
  },
  {
   "cell_type": "markdown",
   "id": "bd2393c5-0acf-40eb-a463-214338185940",
   "metadata": {},
   "source": [
    "**Question:**  \n",
    "What's the meaning of `vectorization` in NumPy?\n",
    "\n",
    "**Answer:**  \n",
    "Vectorization is the process of performing the same operation in the same way for each element in an array. This removes `for` loops from your code but achieves the same result."
   ]
  },
  {
   "cell_type": "markdown",
   "id": "19032981-8187-4e75-ab36-1e73031d7bbe",
   "metadata": {},
   "source": [
    "---"
   ]
  },
  {
   "cell_type": "markdown",
   "id": "ae7d6f6d-2b2b-4a5b-ad11-1629e738fb53",
   "metadata": {},
   "source": [
    "**Question:**  \n",
    "Which NumPy operations are vectorized?\n",
    "\n",
    "**Answer:**  \n",
    "All NumPy operations are vectorized, where you apply operations to the whole array instead of on each element individually. This is not just neat and handy but also improves the performance of computation compared to using loops."
   ]
  },
  {
   "cell_type": "markdown",
   "id": "fdb65fe8-a53b-4846-9355-a0c28630c60b",
   "metadata": {},
   "source": [
    "---"
   ]
  }
 ],
 "metadata": {
  "kernelspec": {
   "display_name": "Python 3 (ipykernel)",
   "language": "python",
   "name": "python3"
  },
  "language_info": {
   "codemirror_mode": {
    "name": "ipython",
    "version": 3
   },
   "file_extension": ".py",
   "mimetype": "text/x-python",
   "name": "python",
   "nbconvert_exporter": "python",
   "pygments_lexer": "ipython3",
   "version": "3.9.7"
  }
 },
 "nbformat": 4,
 "nbformat_minor": 5
}
