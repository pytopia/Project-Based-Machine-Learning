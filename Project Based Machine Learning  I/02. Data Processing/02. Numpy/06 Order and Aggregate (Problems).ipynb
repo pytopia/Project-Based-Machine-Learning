{
 "cells": [
  {
   "cell_type": "markdown",
   "id": "18b4545f-85aa-4354-90e7-08de7fb8909d",
   "metadata": {},
   "source": [
    "<img src=\"../../../images/banners/data_processing.png\" width=\"600\"/>"
   ]
  },
  {
   "cell_type": "markdown",
   "id": "b9c2b9a0-059e-4788-82eb-aff8bda4a488",
   "metadata": {},
   "source": [
    "# <img src=\"../../../images/logos/python.png\" width=\"23\"/>Order and Aggregate (Problems)"
   ]
  },
  {
   "cell_type": "markdown",
   "id": "01db971b-1835-416f-a463-b6aeb8b5d89d",
   "metadata": {},
   "source": [
    "**Question:**  \n",
    "What is the default axis in `np.sort()` and what is the difference between this function and `.sort()` method?\n",
    "\n",
    "**Answer:**  \n",
    "The default axis is `-1` which means the last axis (the innermost dimension). The difference is `np.sort()` function returns a copy sorted array but `.sort()` method sorts the array in-place.\n"
   ]
  },
  {
   "cell_type": "markdown",
   "id": "051ad9fa-a286-40b8-b31a-78335ab77436",
   "metadata": {},
   "source": [
    "---"
   ]
  },
  {
   "cell_type": "markdown",
   "id": "5bf04739-1b08-49a3-91b3-ca17e2c6e278",
   "metadata": {},
   "source": [
    "**Question:**   \n",
    "Consider following array. Explain what's the difference between`np.sort(x, axis=0)` and `np.sort(x, axis=1)`?\n",
    "```\n",
    "x = np.array([\n",
    "    [20, 70, 60],\n",
    "    [80, 50, 30],\n",
    "    [40, 10, 90],\n",
    "])\n",
    "```\n",
    "**Answer:**  \n",
    "In output of `np.sort(x, axis=0)`, each column of the array still has all of its elements but they have been sorted low-to-high inside that column:\n",
    "```\n",
    "[[20 10 30]\n",
    " [40 50 60]\n",
    " [80 70 90]]\n",
    "```\n",
    "Similarly `np.sort(x, axis=1)` do the same for rows:\n",
    "```\n",
    "[[20 60 70]\n",
    " [30 50 80]\n",
    " [10 40 90]]\n",
    "```\n"
   ]
  },
  {
   "cell_type": "markdown",
   "id": "3a0f13b4-c7a8-4f84-b56d-3ae1181913b8",
   "metadata": {},
   "source": [
    "---"
   ]
  },
  {
   "cell_type": "markdown",
   "id": "ee6a9a14-6edc-4e9c-b418-4d4748f35bef",
   "metadata": {},
   "source": [
    "**Question:**  \n",
    "What's the use of `concatenate()` function in NumPy?\n",
    "\n",
    "**Answer:**  \n",
    "The `concatenate()` function in NumPy is used to join two or more arrays along a **specified axis**. It takes a sequence of arrays as input and returns a new array that contains the concatenated elements of the input arrays.\n",
    "\n",
    "The arrays must have the same shape, **except** in the dimension corresponding to `axis`.\n",
    "\n",
    "Note that if `axis=None` then the input arrays are flattened before concatenation. "
   ]
  },
  {
   "cell_type": "markdown",
   "id": "b2cbeda1-e07e-4757-92b2-f04bac555fda",
   "metadata": {},
   "source": [
    "---"
   ]
  },
  {
   "cell_type": "markdown",
   "id": "4df8b269-a883-4254-b0af-a70e6cb1e7cb",
   "metadata": {},
   "source": [
    "**Question:**  \n",
    "What's the difference the `hstack()` and `vstack()` functions in NumPy?\n",
    "\n",
    "**Answer:**  \n",
    "The main difference is the axis along which the arrays are stacked. `hstack()` stacks arrays horizontally along the second axis, while `vstack()` stacks arrays vertically along the first axis."
   ]
  },
  {
   "cell_type": "markdown",
   "id": "bbff4e54-d453-4d61-8b3d-cfef92927b87",
   "metadata": {},
   "source": [
    "---"
   ]
  },
  {
   "cell_type": "markdown",
   "id": "ed5da8de-05ef-4d6d-98db-ee05d9703a4f",
   "metadata": {},
   "source": [
    "**Question:**  \n",
    "What are the aggregating functions in NumPy? Give some examples.\n",
    "\n",
    "**Answer:**  \n",
    "These functions are used to perform operations on arrays that aggregate the elements along one or more axes, resulting in a single value or a smaller array.\n",
    "\n",
    "Here are some of the aggregating functions in NumPy:\n",
    "\n",
    "- `np.sum()`\n",
    "- `np.mean()`\n",
    "- `np.min()`\n",
    "- `np.max()`\n",
    "- `np.prod()`\n",
    "- `np.std()`\n",
    "- `np.var()`\n",
    "- `np.any()`\n",
    "- `np.all()`\n",
    "- `np.argmin()`\n",
    "- `np.argmax()`\n",
    "- `np.median()`\n",
    "- `np.percentile()`\n",
    "- `np.quantile()`"
   ]
  },
  {
   "cell_type": "markdown",
   "id": "83931e68-a8c2-41f1-be86-dc5bfad69c72",
   "metadata": {},
   "source": [
    "---"
   ]
  }
 ],
 "metadata": {
  "kernelspec": {
   "display_name": "Python 3 (ipykernel)",
   "language": "python",
   "name": "python3"
  },
  "language_info": {
   "codemirror_mode": {
    "name": "ipython",
    "version": 3
   },
   "file_extension": ".py",
   "mimetype": "text/x-python",
   "name": "python",
   "nbconvert_exporter": "python",
   "pygments_lexer": "ipython3",
   "version": "3.9.7"
  }
 },
 "nbformat": 4,
 "nbformat_minor": 5
}
