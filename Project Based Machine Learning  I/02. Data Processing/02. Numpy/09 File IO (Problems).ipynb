{
 "cells": [
  {
   "cell_type": "markdown",
   "id": "739e72b0-609a-46e4-be64-5ecb3626da8b",
   "metadata": {
    "tags": []
   },
   "source": [
    "<img src=\"../../../images/banners/data_processing.png\" width=\"600\"/>"
   ]
  },
  {
   "cell_type": "markdown",
   "id": "81f17e7b-cb36-4b01-94ba-858451312081",
   "metadata": {
    "tags": []
   },
   "source": [
    "# <img src=\"../../../images/logos/python.png\" width=\"23\"/> File I/O and NumPy (Problems)"
   ]
  },
  {
   "cell_type": "markdown",
   "id": "60064abe-a410-48d2-a031-b42048ca48c6",
   "metadata": {},
   "source": [
    "**Question:**  \n",
    "How can you store a Numpy array into a file as a text or csv file?\n",
    "\n",
    "\n",
    "**Answer:**  \n",
    "You can use the `np.savetxt()` function to handle the exporting. This function accepts:\n",
    "- first argument: exported file path\n",
    "- second argument: array name\n",
    "- third argument: context formating using the `fmt` keyword\n"
   ]
  },
  {
   "cell_type": "markdown",
   "id": "247fd3c0-1d8d-41fb-9a89-2d804453883b",
   "metadata": {},
   "source": [
    "---"
   ]
  },
  {
   "cell_type": "markdown",
   "id": "5122da4f-90ca-4ae1-8495-259ece0e7f22",
   "metadata": {},
   "source": [
    "**Question:**  \n",
    "How can you read a text or csv file as a numpy array?\n",
    "\n",
    "**Answer:**  \n",
    "You can use `np.genfromtxt()` function and pass the followin to it:\n",
    "- file path\n",
    "- dtype\n",
    "- delimiter\n",
    "- and etc...  \n",
    "\n",
    "This functions returns a numpy array."
   ]
  },
  {
   "cell_type": "markdown",
   "id": "e5a8272e-2092-41e7-99ea-d44af5c0bddd",
   "metadata": {},
   "source": [
    "---"
   ]
  },
  {
   "cell_type": "markdown",
   "id": "04951546-3269-424a-839b-39d9cb6edf9b",
   "metadata": {},
   "source": [
    "**Question:**  \n",
    "How can you save or load numpy arrays as numpy binary files?\n",
    "\n",
    "\n",
    "**Answer:**  \n",
    "In NumPy, the `load()`, `save()`, `savez()`, and `savez_compressed()` functions help you to load and save NumPy binary files.  \n",
    "NumPy binary files can store information about an array, even when you open the file on another machine with a different architecture. You can store your array shape and data type as well."
   ]
  },
  {
   "cell_type": "markdown",
   "id": "742a19af-77b9-49be-8227-7133528d293d",
   "metadata": {},
   "source": [
    "---"
   ]
  },
  {
   "cell_type": "markdown",
   "id": "2842bb39-c57e-49d6-a732-7fba56568a7f",
   "metadata": {},
   "source": [
    "**Question:**  \n",
    "How can you use `save()` function in NumPy?\n",
    "\n",
    "**Answer:**  \n",
    "The `save()` function in NumPy is used to save a single array to a binary file in NumPy's `.npy` format. Here's the syntax for using the `save()` function:\n",
    "```\n",
    "numpy.save(file, arr, allow_pickle=True)\n",
    "```\n",
    "where:\n",
    "\n",
    "- `file`: The name of the output `.npy` file.\n",
    "- `arr`: The array to be saved.\n",
    "- `allow_pickle`: A boolean indicating whether to allow pickling of Python objects. The default is `True`."
   ]
  },
  {
   "cell_type": "markdown",
   "id": "4726a711-927c-4d98-be22-08a3790e0bbd",
   "metadata": {},
   "source": [
    "---"
   ]
  },
  {
   "cell_type": "markdown",
   "id": "62546598-7b4a-4e0a-a9e1-86176ca1510f",
   "metadata": {},
   "source": [
    "**Question:**  \n",
    "What is the difference between `save()` and `savez()` function in NumPy? What should be the extension of the file?\n",
    "\n",
    "**Answer:**  \n",
    "By using `save()` you can save one NumPy array and the file extension should be `.npy`, whereas by using `savez()` you can save multiple arrays in the file with extension `.npz`"
   ]
  },
  {
   "cell_type": "markdown",
   "id": "f6c918d3-086c-40fc-b4a4-c91b0bcdfdad",
   "metadata": {},
   "source": [
    "---"
   ]
  },
  {
   "cell_type": "markdown",
   "id": "44327c8b-c958-4f9b-88c5-cddb7afc23f3",
   "metadata": {},
   "source": [
    "**Question:**  \n",
    "How can you use `savez()` or `savez_compressed()` function in NumPy?\n",
    "\n",
    "**Answer:**  \n",
    "The `savez()` function in NumPy is used to save multiple arrays into a single compressed `.npz` file. Here's the syntax for using the `savez()` function:\n",
    "\n",
    "```\n",
    "numpy.savez(file, *args, **kwds)\n",
    "```\n",
    "where:\n",
    "\n",
    "- `file`: The name of the output `.npz` file.\n",
    "- `*args`: The arrays to be saved. You can pass any number of arrays as arguments.\n",
    "- `**kwds`: Additional keyword arguments, such as `allow_pickle` and `fix_imports`.\n",
    "\n",
    "`savez_compressed()` is similar to `savez()`, but it compresses the output `.npz` file using the gzip compression algorithm. This can result in even smaller file sizes compared to savez().\n",
    "\n",
    "Here's an example of how to use the `savez()` function to save multiple arrays into a single `.npz` file:\n",
    "\n",
    "```\n",
    "import numpy as np\n",
    "\n",
    "# Create some arrays to save\n",
    "a = np.array([1, 2, 3])\n",
    "b = np.array([4, 5, 6])\n",
    "c = np.array([7, 8, 9])\n",
    "\n",
    "# Save the arrays to a single compressed file\n",
    "np.savez('my_arrays.npz', a=a, b=b, c=c)\n",
    "```\n",
    "\n",
    "In this example, we create three NumPy arrays `a`, `b`, and `c`. We then use the `savez()` function to save these arrays to a single compressed `.npz` file named `my_arrays.npz`. The arrays are saved with names `a`, `b`, and `c` within the `.npz` file."
   ]
  },
  {
   "cell_type": "markdown",
   "id": "a8aed68c-77fb-4e5c-9412-fcb5d26e1cb1",
   "metadata": {},
   "source": [
    "---"
   ]
  }
 ],
 "metadata": {
  "kernelspec": {
   "display_name": "Python 3 (ipykernel)",
   "language": "python",
   "name": "python3"
  },
  "language_info": {
   "codemirror_mode": {
    "name": "ipython",
    "version": 3
   },
   "file_extension": ".py",
   "mimetype": "text/x-python",
   "name": "python",
   "nbconvert_exporter": "python",
   "pygments_lexer": "ipython3",
   "version": "3.9.7"
  }
 },
 "nbformat": 4,
 "nbformat_minor": 5
}
