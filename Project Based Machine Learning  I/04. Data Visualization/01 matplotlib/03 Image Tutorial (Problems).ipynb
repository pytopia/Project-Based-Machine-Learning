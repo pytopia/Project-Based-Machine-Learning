{
 "cells": [
  {
   "cell_type": "markdown",
   "id": "00c6be30-ac0b-4252-8588-1aa6f97f25a9",
   "metadata": {},
   "source": [
    "<img src=\"../../../images/banners/mpl.jpg\" width=\"500\"/>"
   ]
  },
  {
   "cell_type": "markdown",
   "id": "a19e2659-7b3e-4300-9d7c-85276f3a42ec",
   "metadata": {},
   "source": [
    "# <img src=\"../../../images/logos/mpl.png\" width=\"23\"/>  Image tutorial (Problems)"
   ]
  },
  {
   "cell_type": "markdown",
   "id": "a1670c9f-679c-4af4-8532-b33a7093a378",
   "metadata": {},
   "source": [
    "**Question:**  \n",
    "How can you read an image in Matplotlib?\n",
    "\n",
    "**Answer:**  \n",
    "One of the most commonly used functions is `imread()`, which can be used to read an image from a file and convert it into a NumPy array that represents the pixel values of the image.\n",
    "\n",
    "Once you have read an image into a NumPy array, you can perform various operations on it, such as resizing, cropping, and filtering, using NumPy or other image processing libraries.\n",
    "\n",
    "Here's an example:\n",
    "```\n",
    "import matplotlib.pyplot as plt\n",
    "import matplotlib.image as mpimg\n",
    "\n",
    "img = mpimg.imread('myimage.jpg')\n",
    "plt.imshow(img)\n",
    "plt.show()\n",
    "```"
   ]
  },
  {
   "cell_type": "markdown",
   "id": "7f10abbd-76b2-44f0-9344-138cb3e3a58f",
   "metadata": {},
   "source": [
    "---"
   ]
  },
  {
   "cell_type": "markdown",
   "id": "f2abf4f7-118f-4ce5-b252-8e4f989e0629",
   "metadata": {},
   "source": [
    "**Question:**  \n",
    "How can you read an image with **Pillow** library in Python?\n",
    "\n",
    "**Answer:**  \n",
    "You can use the `Image` module, which is part of the Pillow library. The `Image` module provides a function called `open()` that can be used to read an image file and return an `Image` object.\n",
    "\n",
    "Here's an example of how to use the `open()` function to read an image file and display it using Matplotlib:\n",
    "\n",
    "```\n",
    "from PIL import Image\n",
    "import matplotlib.pyplot as plt\n",
    "\n",
    "img = Image.open('myimage.jpg')\n",
    "plt.imshow(img)\n",
    "plt.show()\n",
    "```"
   ]
  },
  {
   "cell_type": "markdown",
   "id": "c5c72699-6ea3-4b05-b32d-d70ccf8ec4a9",
   "metadata": {},
   "source": [
    "---"
   ]
  },
  {
   "cell_type": "markdown",
   "id": "b0679894-2d1b-4f3b-8c7e-f10668827199",
   "metadata": {},
   "source": [
    "**Question:**  \n",
    "What is the use of `thumbnail()` method in **Pillow** library?\n",
    "\n",
    "**Answer:**  \n",
    "It is used to create a smaller version of an image by resizing it with a fixed aspect ratio. The method takes one argument, which is a tuple containing the maximum width and height of the thumbnail.\n",
    "\n",
    "Here's an example:\n",
    "```\n",
    "from PIL import Image\n",
    "\n",
    "img = Image.open('myimage.jpg')\n",
    "img.thumbnail((300, 300))\n",
    "img.save('mythumbnail.jpg')\n",
    "```\n",
    "Note that `thumbnail()` modifies the original image in place, so if you want to keep the original image intact, you should make a copy of it before calling `thumbnail()`. You can make a copy of an `Image` object by calling the `copy()` method.\n"
   ]
  },
  {
   "cell_type": "markdown",
   "id": "b504a8b1-7322-4c93-b834-41d9c500612b",
   "metadata": {},
   "source": [
    "---"
   ]
  }
 ],
 "metadata": {
  "kernelspec": {
   "display_name": "Python 3 (ipykernel)",
   "language": "python",
   "name": "python3"
  },
  "language_info": {
   "codemirror_mode": {
    "name": "ipython",
    "version": 3
   },
   "file_extension": ".py",
   "mimetype": "text/x-python",
   "name": "python",
   "nbconvert_exporter": "python",
   "pygments_lexer": "ipython3",
   "version": "3.9.7"
  }
 },
 "nbformat": 4,
 "nbformat_minor": 5
}
