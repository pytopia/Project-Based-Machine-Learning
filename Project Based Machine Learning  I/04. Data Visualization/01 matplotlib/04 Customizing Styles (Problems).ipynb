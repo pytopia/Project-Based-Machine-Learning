{
 "cells": [
  {
   "cell_type": "markdown",
   "id": "9073cdc6-30a6-4ef2-97aa-1cd654916fd3",
   "metadata": {},
   "source": [
    "<img src=\"../../../images/banners/mpl.jpg\" width=\"500\"/>"
   ]
  },
  {
   "cell_type": "markdown",
   "id": "3e9bb2ce-ca73-4f3b-8c56-30e7049f9fe9",
   "metadata": {},
   "source": [
    "# <img src=\"../../../images/logos/mpl.png\" width=\"23\"/>  Customizing Matplotlib with style sheets and rcParams (Problems)"
   ]
  },
  {
   "cell_type": "markdown",
   "id": "7bbb2f79-6e91-45fc-9132-4f638a651b0a",
   "metadata": {},
   "source": [
    "**Question:**  \n",
    "What is `rcParams` in Matplotlib? How can you use it for customizing the properties and default styles of Matplotlib?\n",
    "\n",
    "**Answer:**  \n",
    "In Matplotlib, `rcParams` (mpl.rcParams) is a dictionary-like object that contains the default settings for various parameters that control the appearance and behavior of plots. The `rc` in `rcParams` stands for \"run configuration\", and the `Params` refers to the parameters that control the behavior of Matplotlib.\n",
    "\n",
    "`rcParams` is used to set the default values of various parameters that control the appearance and behavior of plots, such as the **font size**, **line width**, and **color maps**. These default values can be overridden by setting the corresponding arguments when creating a plot or by modifying the `rcParams` dictionary directly.\n",
    "\n",
    "Note that modifying `rcParams` affects the default values of the parameters **globally**, so any subsequent plots will use the modified default values unless theyare explicitly overridden. It is therefore recommended to modify `rcParams` only at the beginning of a script or in a configuration file, to ensure that the modifications are applied consistently throughout the script or application."
   ]
  },
  {
   "cell_type": "markdown",
   "id": "a2357e4c-8ef4-40dd-818f-0e044f3d7cc0",
   "metadata": {},
   "source": [
    "---"
   ]
  },
  {
   "cell_type": "markdown",
   "id": "ff13318c-03a9-4d0c-acde-e1b3127f950d",
   "metadata": {},
   "source": [
    "**Question:**  \n",
    "What 's the use of `rc()` function in Matplotlib?\n",
    "\n",
    "**Answer:**  \n",
    "In Matplotlib, the `rc()` function is used to modify the global settings of Matplotlib. It is a shorthand for modifying the `rcParams` dictionary.\n",
    "\n",
    "The `rc()` function can be particularly useful when you need to modify multiple parameters at once, or when you want to apply the same modifications to multiple plots in your script.\n",
    "\n",
    "For example: \n",
    "```\n",
    "plt.rc('font', size=12)\n",
    "plt.rc('lines', linewidth=2)\n",
    "```"
   ]
  },
  {
   "cell_type": "markdown",
   "id": "4667c48b-563e-4c64-9639-363fe70c2c46",
   "metadata": {},
   "source": [
    "---"
   ]
  },
  {
   "cell_type": "markdown",
   "id": "9da49c36-b83b-42ec-8a75-b4c724c4e2a0",
   "metadata": {},
   "source": [
    "**Question:**  \n",
    "How can you change the rcParams temporarily in Matplotlib?\n",
    "\n",
    "**Answer:**  \n",
    "The `rc_context()` function returns a context manager that can be used with the `with` statement to temporarily modify the `rcParams` dictionary for a block of code. The modifications made to the `rcParams` dictionary within the `with` block are reverted back to their original values when the block is exited, so they do not affect the default values of the parameters.\n",
    "\n",
    "You can modify multiple parameters at once by passing a dictionary of parameter values to `rc_context()`. For example:\n",
    "```\n",
    "with plt.rc_context({'font.size': 16, 'lines.linewidth': 2}):\n",
    "    plt.plot([1, 2, 3, 4], [1, 4, 2, 3])\n",
    "```"
   ]
  },
  {
   "cell_type": "markdown",
   "id": "0786b03b-fdd4-4471-99aa-758bce2cfcc0",
   "metadata": {},
   "source": [
    "---"
   ]
  },
  {
   "cell_type": "markdown",
   "id": "992c247e-f8b3-438c-a776-c203dcde8ad2",
   "metadata": {},
   "source": [
    "**Question:**  \n",
    "Which function of Matplotlib reset the `rcParams` to default?\n",
    "\n",
    "**Answer:**  \n",
    "In Matplotlib, the `rcdefaults()` function can be used to reset the `rcParams` dictionary to its default values. This function restores the default values of all the parameters that control the appearance and behavior of plots."
   ]
  },
  {
   "cell_type": "markdown",
   "id": "fa290662-bc1b-43e2-9fd5-a0fa1442403c",
   "metadata": {},
   "source": [
    "---"
   ]
  },
  {
   "cell_type": "markdown",
   "id": "55ec2ab0-b982-4371-acd7-c59c9aba14a2",
   "metadata": {},
   "source": [
    "**Question:**  \n",
    "How can you see all the Matplotlib styles? How can you use them?\n",
    "\n",
    "**Answer:**  \n",
    "You can see a list of all available styles printing the `plt.style.available` attribute.\n",
    "\n",
    "To use a specific style, you can use the `style.use()` function to set the active style.\n",
    "\n",
    "For example: `plt.style.use('ggplot')`\n",
    "\n",
    "Note that you can apply multiple styles by passing a list of style names to the `style.use()` function."
   ]
  },
  {
   "cell_type": "markdown",
   "id": "f4d73ced-dc4d-4080-bd44-575d3a5b28e0",
   "metadata": {},
   "source": [
    "---"
   ]
  },
  {
   "cell_type": "markdown",
   "id": "66b2a8ac-b134-4547-8972-e6c3a81a143b",
   "metadata": {},
   "source": [
    "**Question:**  \n",
    "Is it possible to create your own Matplotlib style in a file?\n",
    "\n",
    "**Answer:**  \n",
    "To create a custom style file, you can create a `.mplstyle` file that contains a dictionary of parameter values that you want to modify. The keys of the dictionary are the names of the parameters, and the values are the new values of the parameters. \n",
    "\n",
    "Here's an example of a custom style file that modifies the default font size and line width:\n",
    "\n",
    "```\n",
    "# mystyle.mplstyle\n",
    "\n",
    "font.size: 14\n",
    "lines.linewidth: 2\n",
    "```\n",
    "\n",
    "To use the custom style file, you can pass its filepath to the `style.use()` function, like this:\n",
    "```\n",
    "plt.style.use('mystyle.mplstyle')\n",
    "```"
   ]
  },
  {
   "cell_type": "markdown",
   "id": "07b0b0c1-0b1f-4623-8e85-f801e94b750a",
   "metadata": {},
   "source": [
    "---"
   ]
  },
  {
   "cell_type": "markdown",
   "id": "5edc6a1f-80c4-445c-821a-02b079e9b1ca",
   "metadata": {},
   "source": [
    "**Question:**  \n",
    "How can you use a Matplotlib style temporarily?\n",
    "\n",
    "**Answer:**  \n",
    "The `style.context()` function returns a context manager that can be used with the `with` statement to temporarily apply a style to a block of code. The modifications made to the active style within the `with` block are reverted back to their original values when the block is exited, so they do not affect the active style or the default values of the parameters.\n",
    "\n",
    "For example:\n",
    "```\n",
    "with plt.style.context('ggplot'):\n",
    "    plt.plot([1, 2, 3, 4], [4, 2, 1, 3])\n",
    "```\n",
    "Note that you can apply multiple styles by passing a list of style names to the `style.context()` function."
   ]
  },
  {
   "cell_type": "markdown",
   "id": "fd89ac1a-8ca1-4750-acc2-65bd6ffeb821",
   "metadata": {},
   "source": [
    "---"
   ]
  }
 ],
 "metadata": {
  "kernelspec": {
   "display_name": "Python 3 (ipykernel)",
   "language": "python",
   "name": "python3"
  },
  "language_info": {
   "codemirror_mode": {
    "name": "ipython",
    "version": 3
   },
   "file_extension": ".py",
   "mimetype": "text/x-python",
   "name": "python",
   "nbconvert_exporter": "python",
   "pygments_lexer": "ipython3",
   "version": "3.9.7"
  }
 },
 "nbformat": 4,
 "nbformat_minor": 5
}
