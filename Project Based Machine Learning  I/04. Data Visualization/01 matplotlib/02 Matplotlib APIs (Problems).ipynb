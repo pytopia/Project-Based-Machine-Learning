{
 "cells": [
  {
   "cell_type": "markdown",
   "id": "8d8f2d34-5251-4071-9c01-1044382dfcd1",
   "metadata": {},
   "source": [
    "<img src=\"../../../images/banners/mpl.jpg\" width=\"500\"/>"
   ]
  },
  {
   "cell_type": "markdown",
   "id": "7c3a3b88-4b9c-4d58-a57b-50a423b16d53",
   "metadata": {},
   "source": [
    "# <img src=\"../../../images/logos/mpl.png\" width=\"23\"/>  Matplotlib Application Interfaces (APIs) (Problems)"
   ]
  },
  {
   "cell_type": "markdown",
   "id": "b4f07b52-27d0-47a3-81ad-704e411bdc1b",
   "metadata": {},
   "source": [
    "**Question:**  \n",
    "What are the two major Matplotlib application interfaces?\n",
    "\n",
    "**Answer:**  \n",
    "- `pyplot` API: This is the most commonly used API in Matplotlib, and it provides a procedural interface for creating and manipulating plots. It's also called implicit \"pyplot\" interface. This API is designed to be similar to the MATLAB plotting interface, and it is often used for quick and simple plots.\n",
    "\n",
    "- `Object-oriented` API: This API provides an object-oriented interface for creating and manipulating plots. It is also called explicit \"Axes\" interface. With this API, you create a figure object, add one or more axes objects to the figure, and then use methods of the axes objects to create and customize the plot. This API is more flexible and powerful than the `pyplot` API, and it is often used for more complex plots."
   ]
  },
  {
   "cell_type": "markdown",
   "id": "bbb87e6f-5bb6-4937-9a1b-a5084028ce77",
   "metadata": {},
   "source": [
    "---"
   ]
  },
  {
   "cell_type": "markdown",
   "id": "d6b44f98-1af8-4594-98c6-3d2a1785606f",
   "metadata": {},
   "source": [
    "**Question:**  \n",
    "When is it better to use the **explicit** interface and when to use the **implicit** interface of Matplotlib?\n",
    "\n",
    "**Answer:**  \n",
    "The choice of interface depends on the specific needs of your project. For simple and quick plots, the implicit interface may be sufficient and more convenient, while for more complex plots, the explicit interface may be more appropriate and provide more control. In general, it is recommended to use the explicit interface for larger or more complex projects, and to use the implicit interface for quick and simple plots.\n",
    "\n",
    "(In Pytopia we suggest you always use the **explicit** interface!)\n"
   ]
  },
  {
   "cell_type": "markdown",
   "id": "7ff0e038-7b47-46bf-9b8c-93c89ef6276d",
   "metadata": {},
   "source": [
    "---"
   ]
  },
  {
   "cell_type": "markdown",
   "id": "47c5c781-f49d-4034-8648-851660f134d8",
   "metadata": {},
   "source": [
    "**Question:**  \n",
    "What are the methods `gcf()` and `gca()` use for in Matplotlib?\n",
    "\n",
    "**Answer:**  \n",
    "`gcf()` stands for \"get current figure\", and it returns a reference to the current figure object. \n",
    "\n",
    "`gca()` stands for \"get current axes\", and it returns a reference to the current axes object. "
   ]
  },
  {
   "cell_type": "markdown",
   "id": "f4dcaaa3-a90e-4721-963f-432df73924cd",
   "metadata": {},
   "source": [
    "---"
   ]
  }
 ],
 "metadata": {
  "kernelspec": {
   "display_name": "Python 3 (ipykernel)",
   "language": "python",
   "name": "python3"
  },
  "language_info": {
   "codemirror_mode": {
    "name": "ipython",
    "version": 3
   },
   "file_extension": ".py",
   "mimetype": "text/x-python",
   "name": "python",
   "nbconvert_exporter": "python",
   "pygments_lexer": "ipython3",
   "version": "3.9.7"
  }
 },
 "nbformat": 4,
 "nbformat_minor": 5
}
