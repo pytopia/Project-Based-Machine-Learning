{
 "cells": [
  {
   "cell_type": "markdown",
   "id": "07afec0a-efa4-498c-96bf-e1c981ea78f4",
   "metadata": {},
   "source": [
    "<img src=\"../../../images/banners/mpl.jpg\" width=\"500\"/>"
   ]
  },
  {
   "cell_type": "markdown",
   "id": "68c62c01-aa2e-4ec7-9b5a-e81fc7a03310",
   "metadata": {},
   "source": [
    "# <img src=\"../../../images/logos/mpl.png\" width=\"25\"/> An introduction to `matplotlib` (Problems)"
   ]
  },
  {
   "cell_type": "markdown",
   "id": "c242143f-17da-4e3e-80d6-1ae05527b97f",
   "metadata": {},
   "source": [
    "**Question:**  \n",
    "What are the components of a Matplotlib Figure?\n",
    "\n",
    "**Answer:**  \n",
    "In Matplotlib, a figure is a top-level container that holds all the plot elements. The components of a Matplotlib figure include:\n",
    "\n",
    "1. **Figure**: The Figure is the top-level container for all the plot elements. It is the outermost container that holds the plot and all its components.\n",
    "\n",
    "2. **Axes**: The Axes is the region of the plot that displays the data. It is the area inside the Figure where the data is plotted. A Figure can have one or more Axes.\n",
    "\n",
    "3. **Axis**: The Axis is the x-axis or the y-axis of the plot. It is responsible for setting the limits of the plot, creating ticks and tick labels, and providing the grid lines that make it easy to read the plot.\n",
    "\n",
    "4. **Title**: The Title is a string that appears at the top of the Figure and provides a brief description of the plot.\n",
    "\n",
    "5. **Legend**: The Legend is a box that appears on the plot and provides a key to the various components of the plot.\n",
    "\n",
    "6. **Labels**: The Labels are the text that appears next to the Axis ticks and provides a description of the data that is being plotted.\n",
    "\n",
    "7. **Grid**: The Grid is a set of lines that appear on the plot and make it easy to read the data. It is created using the Axis component.\n",
    "\n",
    "8. **Spines**: The Spines are the lines that form the borders of the Axes. They can be used to adjust the layout of the plot and to add annotations to the plot.\n",
    "\n",
    "9. **Ticks**: The Ticks are the marks on the Axis that indicate the location of data points. They are used to label the data and to provide a reference for the user to understand the scale of the plot.\n",
    "\n",
    "10. **Artists**: The Artists are the individual plot elements that are drawn on the Figure, such as lines, markers, and text. They can be modified to customize the appearance of the plot.\n"
   ]
  },
  {
   "cell_type": "markdown",
   "id": "bab8e160-84e9-4b7a-b8cb-8949f8dc6719",
   "metadata": {},
   "source": [
    "---"
   ]
  },
  {
   "cell_type": "markdown",
   "id": "98a2259e-dc4f-49d5-9daa-1c5465643957",
   "metadata": {},
   "source": [
    "**Question:**  \n",
    "What are the commonly used plotting methods in Matplotlib?\n",
    "\n",
    "**Answer:**  \n",
    "Here are some of the commonly used plotting methods in Matplotlib:\n",
    "\n",
    "1. Line plot: `plot()`\n",
    "2. Scatter plot: `scatter()`\n",
    "3. Bar plot: `bar()`, `barh()`\n",
    "4. Histogram: `hist()`\n",
    "5. Box plot: `boxplot()`\n",
    "6. Pie chart: `pie()`\n",
    "7. Heatmap: `imshow()`\n",
    "8. Contour plot: `contour()`, `contourf()`\n",
    "9. Polar plot: `polar()`"
   ]
  },
  {
   "cell_type": "markdown",
   "id": "882f5713-9e7d-4f7c-97fe-18fbb0781b7f",
   "metadata": {},
   "source": [
    "---"
   ]
  },
  {
   "cell_type": "markdown",
   "id": "ad4c4180-43c8-459c-82d7-8d2de13005a2",
   "metadata": {},
   "source": [
    "**Question:**  \n",
    "Which kinds of data is acceptable for Matplotlib functions?\n",
    "\n",
    "**Answer:**  \n",
    "Here are some of the commonly used data types that are acceptable for Matplotlib functions:\n",
    "\n",
    "- Python Lists\n",
    "- NumPy arrays\n",
    "- Pandas dataframes\n",
    "- Time-series data\n",
    "- Image data"
   ]
  },
  {
   "cell_type": "markdown",
   "id": "2d19df9c-c674-4d2a-9936-d6f4ca8e6eb8",
   "metadata": {},
   "source": [
    "---"
   ]
  },
  {
   "cell_type": "markdown",
   "id": "f667f686-8456-4163-9c95-d7b4f9c0c438",
   "metadata": {},
   "source": [
    "**Question:**  \n",
    "Can you explain what is the use of `data` keyword argument in Matplotlib functions?\n",
    "\n",
    "**Answer:**  \n",
    "In Matplotlib, the `data` keyword argument is used to specify the data source for a plot. This argument is commonly used in conjunction with the x and y keyword arguments to specify the variables that should be plotted on the x and y axes.\n",
    "\n",
    "The data keyword argument can accept various data types, such as `Pandas dataframes`, `numpy arrays`, and `Python lists`. When data is specified, the x and y arguments should be specified as **column names** in the dataframe, or as **keys** in a dictionary, rather than as separate arrays or lists.\n",
    "\n",
    "Here is an example:\n",
    "```\n",
    "data = pd.DataFrame({'x': [1, 2, 3, 4], 'y': [10, 20, 30, 40]})\n",
    "plt.plot('x', 'y', data=data)\n",
    "```"
   ]
  },
  {
   "cell_type": "markdown",
   "id": "6d53680a-6463-4f35-9db8-cd869201706c",
   "metadata": {},
   "source": [
    "---"
   ]
  },
  {
   "cell_type": "markdown",
   "id": "ee64a9ad-36d4-4da5-935e-4495edb4513f",
   "metadata": {},
   "source": [
    "**Question:**  \n",
    "What are the differences between `Object-Oriented` Style and `Pyplot` Style in Matplotlib?\n",
    "\n",
    "**Answer:**  \n",
    "In Matplotlib, pyplot is a module that provides a stateful interface for creating and modifying plots, while the Axes class is a fundamental object that represents an individual plot within a figure.\n",
    "\n",
    "For example in **Pyplot** style if you call `plt.plot()` to create a line plot, it will automatically create a new figure and axis if none exists, or use the current one if it does, while in the **Object-Oriented** style, you explicitly create figure and axis objects by `fig, ax = plt.subplots()` and then call methods on these objects (fig, ax) to create and customize your plot. "
   ]
  },
  {
   "cell_type": "markdown",
   "id": "219e54e8-923d-4027-ba78-0f347eb3d54d",
   "metadata": {},
   "source": [
    "---"
   ]
  },
  {
   "cell_type": "markdown",
   "id": "67685606-2fa7-49ea-8fd1-72500f30da36",
   "metadata": {},
   "source": [
    "**Question:**  \n",
    "Compare the methods which have different shapes in `Axes` class and `pyplot` module using for styling?\n",
    "\n",
    "**Answer:**  \n",
    "Here are some examples of methods available in each:\n",
    "\n",
    "| **Axes methods** | **Pyplot methods** |\n",
    "|:--|:--|\n",
    "| set_title() | title() |\n",
    "| set_xlabel() | xlabel() |\n",
    "| set_ylabel() | ylabel() |\n",
    "| set_xticks() | xticks() |\n",
    "| set_yticks() | yticks() |\n",
    "| set_xlim() | xlim() |\n",
    "| set_ylim() | ylim() |\n",
    "| set_xscale() | xscale() |\n",
    "| set_yscale() | yscale() |\n",
    "| set_xticks() | xticks() |\n",
    "| set_yticks() | ytiks() |"
   ]
  },
  {
   "cell_type": "markdown",
   "id": "f98dbe38-09ea-400c-95a3-59d34dcad9b8",
   "metadata": {},
   "source": [
    "---"
   ]
  },
  {
   "cell_type": "markdown",
   "id": "837f9b7e-03f6-41e5-9ae8-184366bbdbf0",
   "metadata": {},
   "source": [
    "**Question:**  \n",
    "What are the commonly used styling options for the artists in the `plot()` method:\n",
    "\n",
    "**Answer:**  \n",
    "- `color`: Sets the color of the lines and markers.\n",
    "- `linestyle`: Sets the style of the lines.\n",
    "- `linewidth`: Sets the width of the lines.\n",
    "- `label`: Sets the label for the line.\n",
    "- `marker`: Sets the style of the markers.\n",
    "- `markersize`: Sets the size of the markers.\n",
    "- `markeredgecolor`: Sets the color of the marker edges.\n",
    "- `markerfacecolor`: Sets the color of the marker faces.\n"
   ]
  },
  {
   "cell_type": "markdown",
   "id": "3350b6e2-8bdd-4ad7-b89e-ad4c65a52cdb",
   "metadata": {},
   "source": [
    "---"
   ]
  },
  {
   "cell_type": "markdown",
   "id": "6a9dbacf-18c9-49ce-a800-08f14884d334",
   "metadata": {},
   "source": [
    "**Question:**  \n",
    "What's the use of `annotate()` method in Matplotlib?\n",
    "\n",
    "**Answer:**  \n",
    "The `annotate()` method in Matplotlib is used to create an annotation, which is a text label that is attached to a specific point on a plot. Annotations are useful for providing additional information about the data being plotted, highlighting specific features of the plot, or adding explanatory notes.\n",
    "\n",
    "The `annotate()` method takes several arguments, including the text to be displayed, the coordinates of the point to annotate, and optional arguments to control the appearance of the annotation such as the font size, color, and arrow properties.\n"
   ]
  },
  {
   "cell_type": "markdown",
   "id": "8b42e689-fe17-4ed1-858d-1abb70ebcf20",
   "metadata": {},
   "source": [
    "---"
   ]
  },
  {
   "cell_type": "markdown",
   "id": "39fd02bf-4d9b-4469-a745-11024900e233",
   "metadata": {},
   "source": [
    "**Question:**  \n",
    "How can you save the plot to the disk in Matplotlib?\n",
    "\n",
    "**Answer:**  \n",
    "You can save a plot in Matplotlib to disk using the `savefig()` function. This function takes one required argument, which is the **filename** to save the plot to, and several optional arguments to control the format, resolution, and other settings of the saved image.\n",
    "\n",
    "For example if you are using Axes class, you have to call `savefig()` method on the **fig**:\n",
    "```\n",
    "fig, ax = plt.subplots()\n",
    "ax.plot(x, y)\n",
    "fig.savefig(\"myplot.png\", dpi=300, format=\"jpg\")\n",
    "```\n",
    "Or if you are using pyplot module, you have to call `savefig()` method on the **plt**:\n",
    "```\n",
    "plt.plot(x, y)\n",
    "plt.savefig(\"myplot.png\", dpi=300, format=\"jpg\")\n",
    "```"
   ]
  },
  {
   "cell_type": "markdown",
   "id": "e4f9f425-f236-416c-a5b9-eea0e529292d",
   "metadata": {},
   "source": [
    "---"
   ]
  },
  {
   "cell_type": "markdown",
   "id": "8264f70f-d8bf-442b-94a0-16d5c2384fcf",
   "metadata": {},
   "source": [
    "**Question:**  \n",
    "What is a user-defined helper function in Matplotlib?\n",
    "\n",
    "**Answer:**  \n",
    "User-defined helper functions can be especially useful when you need to create plots with customized features or when you want to reuse commonly used plot customization operations across multiple plots. By encapsulating these operations into a reusable function, you can simplify your code and make it easier to create high-quality plots.\n"
   ]
  },
  {
   "cell_type": "markdown",
   "id": "c2d6aefa-17d3-431e-9175-3d902d7b68a5",
   "metadata": {},
   "source": [
    "---"
   ]
  }
 ],
 "metadata": {
  "kernelspec": {
   "display_name": "Python 3 (ipykernel)",
   "language": "python",
   "name": "python3"
  },
  "language_info": {
   "codemirror_mode": {
    "name": "ipython",
    "version": 3
   },
   "file_extension": ".py",
   "mimetype": "text/x-python",
   "name": "python",
   "nbconvert_exporter": "python",
   "pygments_lexer": "ipython3",
   "version": "3.9.7"
  }
 },
 "nbformat": 4,
 "nbformat_minor": 5
}
