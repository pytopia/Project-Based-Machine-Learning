{
 "cells": [
  {
   "cell_type": "markdown",
   "id": "42d5b0e3-fde5-4a0b-a979-557fd50c13cf",
   "metadata": {},
   "source": [
    "<img src=\"../../../images/banners/seaborn.png\" width=\"500\"/>"
   ]
  },
  {
   "cell_type": "markdown",
   "id": "9993d031-9f34-41ec-9df1-50e6b183b9af",
   "metadata": {},
   "source": [
    "# <img src=\"../../../images/logos/seaborn.png\" width=\"23\"/>  An introduction to seaborn (Problems)"
   ]
  },
  {
   "cell_type": "markdown",
   "id": "60576ea7-fe31-4360-ae61-ae5dff1f603b",
   "metadata": {},
   "source": [
    "**Question:**  \n",
    "What are the advantages of using  Seaborn over Matplotlib?\n",
    "\n",
    "**Answer:**  \n",
    "Seaborn is `dataset-oriented`, `declarative API` lets you focus on **what** the different elements of your plots mean, rather than on the details of **how** to draw them.\n",
    "\n",
    "This declarative approach lets you stay focused on the questions that you want to answer, rather than on the details of how to control matplotlib.\n",
    "\n",
    "It builds on top of Matplotlib and integrates closely with Pandas data structures."
   ]
  },
  {
   "cell_type": "markdown",
   "id": "71f81cd8-bece-42f7-9555-20e476153dec",
   "metadata": {},
   "source": [
    "---"
   ]
  },
  {
   "cell_type": "markdown",
   "id": "afe3b82b-34f7-4828-b1f7-bf48b5dc6fde",
   "metadata": {},
   "source": [
    "**Question:**  \n",
    "Does Seaborn support statistical graphics?\n",
    "\n",
    "**Answer:**  \n",
    "Seaborn provides a range of statistical graphics such as:\n",
    "\n",
    "- **Regression**: lmplot(), relplot(), scatterplot() and lineplot().\n",
    "\n",
    "- **Distribution**: displot(), histplot(), kdeplot(), rugplot(), and violinplot().\n",
    "\n",
    "- **Categorical**: catplot(), barplot(), pointplot(), boxplot(), and violinplot().\n",
    "\n",
    "- **Multivariate**: jointplot() , pairplot()"
   ]
  },
  {
   "cell_type": "markdown",
   "id": "99b841df-b688-4a51-b0b1-cd374d6771fd",
   "metadata": {},
   "source": [
    "---"
   ]
  },
  {
   "cell_type": "markdown",
   "id": "d9b0fe27-599b-4f38-9272-6f3128636f53",
   "metadata": {},
   "source": [
    "**Question:**  \n",
    "What's the difference between low level and high level interface in Seaborn?\n",
    "\n",
    "**Answer:**  \n",
    "In Seaborn, the high-level interface provides a convenient and easy-to-use set of functions for creating common statistical visualizations, while the low-level interface provides more flexibility and customization options for creating complex and customized visualizations."
   ]
  },
  {
   "cell_type": "markdown",
   "id": "582ac747-e9a1-41b9-9862-71d2e8ff3704",
   "metadata": {},
   "source": [
    "---"
   ]
  }
 ],
 "metadata": {
  "kernelspec": {
   "display_name": "Python 3 (ipykernel)",
   "language": "python",
   "name": "python3"
  },
  "language_info": {
   "codemirror_mode": {
    "name": "ipython",
    "version": 3
   },
   "file_extension": ".py",
   "mimetype": "text/x-python",
   "name": "python",
   "nbconvert_exporter": "python",
   "pygments_lexer": "ipython3",
   "version": "3.9.7"
  }
 },
 "nbformat": 4,
 "nbformat_minor": 5
}
