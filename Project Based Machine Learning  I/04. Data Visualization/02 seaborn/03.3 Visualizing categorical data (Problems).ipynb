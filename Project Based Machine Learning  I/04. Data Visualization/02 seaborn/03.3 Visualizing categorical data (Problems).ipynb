{
 "cells": [
  {
   "cell_type": "markdown",
   "id": "b98a74aa-bed7-42fc-8255-e4f92bdf8938",
   "metadata": {},
   "source": [
    "<img src=\"../../../images/banners/seaborn.png\" width=\"500\"/>"
   ]
  },
  {
   "cell_type": "markdown",
   "id": "5d7b4b58",
   "metadata": {},
   "source": [
    "# <img src=\"../../../images/logos/seaborn.png\" width=\"23\"/>  Visualizing categorical data (Problems)"
   ]
  },
  {
   "cell_type": "markdown",
   "id": "b1a1d665-fc0c-49e5-a87f-6cc9ed98231a",
   "metadata": {},
   "source": [
    "**Question:**  \n",
    "Categorical plots are divided into how many general families?\n",
    "\n",
    "**Answer:**  \n",
    "Categorical plots are usually divided into three general families:\n",
    "\n",
    "Categorical scatter plots:\n",
    "- `stripplot()`\n",
    "- `swarmplot()`\n",
    "\n",
    "Categorical distribution plots:\n",
    "- `boxplot()`\n",
    "- `violinplot()`\n",
    "- `boxenplot()`\n",
    "\n",
    "Categorical estimate plots:\n",
    "- `pointplot()`\n",
    "- `barplot()`\n",
    "- `countplot()`\n",
    "\n",
    "**Hint:** All the above axes-level plotting functions are underlying the `catplot()` figure-level function."
   ]
  },
  {
   "cell_type": "markdown",
   "id": "8a17b64f-668b-4961-9635-075af91bcb6f",
   "metadata": {},
   "source": [
    "---"
   ]
  },
  {
   "cell_type": "markdown",
   "id": "58d4baac-e0ff-4d2a-a0ad-a5d98ecfe8dc",
   "metadata": {},
   "source": [
    "**Question:**  \n",
    "What is the use of `stripplot()` and `swarmplot()` in Seaborn?\n",
    "\n",
    "**Answer:**  \n",
    "In Seaborn, `stripplot()` and `swarmplot()` are both functions that create categorical scatter plots of one variable against a categorical variable. However, they differ in the way they handle overlapping points.\n",
    "\n",
    "`stripplot()` places the points from each category in a strip that is aligned with the categorical axis. The points can overlap each other, making it difficult to see the density of points in each category. It is useful when you want to show each data point in the plot, and when there are only a few points in each category.\n",
    "\n",
    "`swarmplot()` is similar to `stripplot()`, but it adjusts the positions of the points in each category so that they do not overlap. The result is a plot where the density of points in each category is clear. It is useful when there are many points in each category, and when you want to see the distribution of the points in each category."
   ]
  },
  {
   "cell_type": "markdown",
   "id": "13a406b2-a975-4543-98e6-b62eb5b63749",
   "metadata": {},
   "source": [
    "---"
   ]
  },
  {
   "cell_type": "markdown",
   "id": "9b95e915-0306-46e0-9461-e49096207cd2",
   "metadata": {},
   "source": [
    "**Question:**  \n",
    "What is the use of `boxplot()` and `violinplot()` in Seaborn?\n",
    "\n",
    "**Answer:**  \n",
    "`boxplot()` creates a box-and-whisker plot, which shows the distribution of the data across the quartiles, as well as any outliers. The box in the plot represents the interquartile range (IQR), which contains the middle 50% of the data. The whiskers extend from the box to the minimum and maximum values within 1.5 times the IQR. Any data points outside the whiskers are considered outliers and are plotted as individual points.\n",
    "\n",
    "`violinplot()` creates a violin plot, which is similar to a box-and-whisker plot but shows the distribution of the data in a different way. The plot consists of a kernel density plot on each side of a central box plot. The kernel density plot shows the density of the data at different values, while the box plot shows the quartiles and any outliers."
   ]
  },
  {
   "cell_type": "markdown",
   "id": "f6b4d82e-9365-4fd9-b740-b7fb82646493",
   "metadata": {},
   "source": [
    "---"
   ]
  },
  {
   "cell_type": "markdown",
   "id": "94e2f79b-06c2-4a52-961e-abda590f52f1",
   "metadata": {},
   "source": [
    "**Question:**  \n",
    "What is the use of `pointplot()` and `barplot()` in Seaborn?\n",
    "\n",
    "**Answer:**  \n",
    "`pointplot()` creates a point plot, which shows the point estimate of the data for each category as a point and a confidence interval around the point estimate as a line. The point estimate can be the mean, median, or another measure of central tendency of the data for each category, and the confidence interval represents the uncertainty around the estimate.\n",
    "\n",
    "`barplot()` creates a bar chart, which shows the average of the numeric variable for each category as a bar, with error bars indicating a confidence interval around the mean. The summary statistic used to compute the average can be the mean, median, or another summary statistic specified using the `estimator` parameter."
   ]
  },
  {
   "cell_type": "markdown",
   "id": "40b0ac5f-4f36-4525-8cfc-dbe9a08a2484",
   "metadata": {},
   "source": [
    "---"
   ]
  },
  {
   "cell_type": "markdown",
   "id": "3a96e400-dbc0-434d-8861-6b2a7de470dd",
   "metadata": {},
   "source": [
    "**Question:**  \n",
    "What is the use of `countplot()` in Seaborn?\n",
    "\n",
    "**Answer:**  \n",
    "`countplot()` is a function that creates a bar chart of a categorical variable that shows the count of observations in each category of the categorical variable."
   ]
  },
  {
   "cell_type": "markdown",
   "id": "9245aa32-4a22-4bd6-a482-4a2cc28a9825",
   "metadata": {},
   "source": [
    "---"
   ]
  },
  {
   "cell_type": "markdown",
   "id": "3a6de3aa-182c-408e-ae46-2ce2ce8eecba",
   "metadata": {},
   "source": [
    "**Question:**  \n",
    "How can you change the kind of a `catplot()` in Seaborn?\n",
    "\n",
    "**Answer:**  \n",
    "The `kind` parameter specifies the type of plot to be created by `catplot()`, which can be one of the following values:\n",
    "- **strip**: creates a `stripplot()`\n",
    "- **swarm**: creates a `swarmplot()`\n",
    "- **box**: creates a `boxplot()`\n",
    "- **violin**: creates a`violinplot()`\n",
    "- **boxen**: creates a`boxenplot()`\n",
    "- **point**: creates a `pointplot()`\n",
    "- **bar**: creates a `barplot()`\n",
    "- **count**: creates a`countplot()`"
   ]
  },
  {
   "cell_type": "markdown",
   "id": "15d146c6-f04d-4dc9-907a-c914392e71a6",
   "metadata": {},
   "source": [
    "---"
   ]
  },
  {
   "cell_type": "markdown",
   "id": "4656e59e-9197-41cf-967d-81c2797987ec",
   "metadata": {},
   "source": [
    "**Question:**  \n",
    "What is the **jitter** parameter used for in `catplot()` ?\n",
    "\n",
    "**Answer:**  \n",
    "This parameter is used to add random noise to the data points in a categorical scatter plot (strip or swarm)."
   ]
  },
  {
   "cell_type": "markdown",
   "id": "2dc5cf42-3e8b-4134-b6f1-8db8cd029522",
   "metadata": {},
   "source": [
    "---"
   ]
  },
  {
   "cell_type": "markdown",
   "id": "ff425cfd-be60-4cab-b01d-27972365270d",
   "metadata": {},
   "source": [
    "**Question:**  \n",
    "What is the **order** parameter used for in `catplot()` ?\n",
    "\n",
    "**Answer:**  \n",
    "This parameter allows you to specify the order in which the categories should be plotted along the categorical axis."
   ]
  },
  {
   "cell_type": "markdown",
   "id": "4f07d2f8-e070-47ed-a8e3-b1c43e73864d",
   "metadata": {},
   "source": [
    "---"
   ]
  },
  {
   "cell_type": "markdown",
   "id": "f4894999-4a9a-4516-8521-a4bdacefb471",
   "metadata": {},
   "source": [
    "**Question:**  \n",
    "What is the **dodge** parameter used for in `catplot()` ?\n",
    "\n",
    "**Answer:**  \n",
    "This parameter is used to separate the points or bars for different levels of a categorical variable along the categorical axis. It takes a boolean value that determines whether to separate the points or bars (True) or to stack them (False)."
   ]
  },
  {
   "cell_type": "markdown",
   "id": "4cd4d264-8543-413f-a10e-4884b2601315",
   "metadata": {},
   "source": [
    "---"
   ]
  },
  {
   "cell_type": "markdown",
   "id": "3e56fbc8-02d9-4f24-91e0-0a0281edabd1",
   "metadata": {},
   "source": [
    "**Question:**  \n",
    "What is the **split** parameter used for in `violinplot()` ?\n",
    "\n",
    "**Answer:**  \n",
    "This parameter is used to split the violins for each category along the x-axis, with half of the violin for each category on either side of the vertical axis. It takes a boolean value that determines whether to split the violins (True) or to keep them side-by-side (False).\n"
   ]
  },
  {
   "cell_type": "markdown",
   "id": "fe0b96ad-cc27-4f6f-a22f-4bd7fa878cde",
   "metadata": {},
   "source": [
    "---"
   ]
  },
  {
   "cell_type": "markdown",
   "id": "06d02d2e-eddc-407b-b338-a07a96a32426",
   "metadata": {},
   "source": [
    "**Question:**  \n",
    "What is the **inner** parameter used for in `violinplot()` ?\n",
    "\n",
    "**Answer:**  \n",
    "This parameter is used to specify the type of plot to draw inside the violins. It takes one of the following values:\n",
    "\n",
    "- **box**: Draw a box plot inside the violins to show the quartiles and the median.\n",
    "- **quartiles**: Draw horizontal lines inside the violins to show the quartiles.\n",
    "- **point**: Draw individual data points inside the violins to show the distribution of the data.\n",
    "- **stick**: Draw stick markers inside the violins to show the distribution of the data.\n",
    "- **None**: Do not draw any plot inside the violins."
   ]
  },
  {
   "cell_type": "markdown",
   "id": "cd09913f-9c58-4f01-b534-580bc7f55e50",
   "metadata": {},
   "source": [
    "---"
   ]
  }
 ],
 "metadata": {
  "kernelspec": {
   "display_name": "Python 3 (ipykernel)",
   "language": "python",
   "name": "python3"
  },
  "language_info": {
   "codemirror_mode": {
    "name": "ipython",
    "version": 3
   },
   "file_extension": ".py",
   "mimetype": "text/x-python",
   "name": "python",
   "nbconvert_exporter": "python",
   "pygments_lexer": "ipython3",
   "version": "3.9.16"
  }
 },
 "nbformat": 4,
 "nbformat_minor": 5
}
