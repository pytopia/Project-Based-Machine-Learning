{
 "cells": [
  {
   "cell_type": "markdown",
   "id": "d758efe4-310f-4b46-923e-a4a0705b47bc",
   "metadata": {},
   "source": [
    "<img src=\"../../../images/banners/seaborn.png\" width=\"500\"/>"
   ]
  },
  {
   "cell_type": "markdown",
   "id": "6ca77710",
   "metadata": {},
   "source": [
    "# <img src=\"../../../images/logos/seaborn.png\" width=\"23\"/>  Overview of seaborn plotting functions (Problems)"
   ]
  },
  {
   "cell_type": "markdown",
   "id": "57ed7c5e-89f9-4a8d-83c7-6b8febe217e6",
   "metadata": {},
   "source": [
    "**Question:**  \n",
    "Compare the figure-level and the axes-level functions in Seaborn.\n",
    "\n",
    "**Answer:**  \n",
    "The main difference between figure-level and axes-level functions is the level of abstraction they provide. \n",
    "\n",
    "Figure-level functions are higher-level functions that provide a more abstracted interface for creating complex visualizations with multiple subplots or facets. They are ideal for creating complex visualizations with minimal code.\n",
    "\n",
    "Axes-level functions are lower-level functions that provide more fine-grained control over the details of a single subplot or axis. They are ideal for creating simple visualizations that require more customization. "
   ]
  },
  {
   "cell_type": "markdown",
   "id": "fd8518e9-e2c8-4070-aba9-f5c0b327721a",
   "metadata": {},
   "source": [
    "---"
   ]
  },
  {
   "cell_type": "markdown",
   "id": "13a41865-c9f5-48a9-935e-ecf7e9db1d3a",
   "metadata": {},
   "source": [
    "**Question:**  \n",
    "What is a `FacetGrid()` in Seaborn?\n",
    "\n",
    "**Answer:**  \n",
    "`FacetGrid()` is a class in Seaborn that you can use the `row` and `col` parameters for creating grids of subplots based on one or more categorical variables. You can use the `map()` method to apply axes-level functions to each subset of the data defined by the categorical variables.\n",
    "\n",
    "For example:\n",
    "```\n",
    "tips = sns.load_dataset(\"tips\")\n",
    "g = sns.FacetGrid(tips, row=\"time\", col=\"day\")\n",
    "g.map(sns.scatterplot, \"total_bill\", \"tip\")\n",
    "```\n",
    "This code creates a `FacetGrid` with one row for each unique value of the `time` variable and one column for each unique value of the `day` variable."
   ]
  },
  {
   "cell_type": "markdown",
   "id": "c6db4699-4fd9-46f3-bfd7-1169fbbcb0f0",
   "metadata": {},
   "source": [
    "---"
   ]
  },
  {
   "cell_type": "markdown",
   "id": "e12540c7-c9c8-4a51-bfdb-06eaa51fb8a2",
   "metadata": {},
   "source": [
    "**Question:**  \n",
    "How can you create a new plot on the existing FacetGrid of a figure-level function in Seaborn?\n",
    "\n",
    "**Answer:**  \n",
    "The `map()` method allows you to apply a plotting function to each subset of the data defined by the facets of the `FacetGrid`.\n",
    "\n",
    "For example:\n",
    "```\n",
    "tips = sns.load_dataset(\"tips\")\n",
    "g = sns.FacetGrid(tips, height=4)\n",
    "g.map(sns.scatterplot, \"total_bill\", \"tip\")\n",
    "```\n",
    "Note that when using `map()` to create a new plot on an existing`FacetGrid`, you need to specify the plotting function as the first argument to `map()`, followed by the names of the variables to be plotted. You can also pass additional arguments to the plotting function as keyword arguments to `map()`, such as `hue`, `style`, or `size`.\n",
    "\n",
    "Another way is to use `ax=g.ax`:\n",
    "```\n",
    "sns.scatterplot(data=tips, x=\"total_bill\", y='tip', ax=g.ax)\n",
    "```"
   ]
  },
  {
   "cell_type": "markdown",
   "id": "4ffa3f4a-fb6a-45e1-aecb-daa2ae6ee55e",
   "metadata": {},
   "source": [
    "---"
   ]
  },
  {
   "cell_type": "markdown",
   "id": "5c73e65f-cb8d-4ee0-9077-d3f020b25f36",
   "metadata": {},
   "source": [
    "**Question:**  \n",
    "What are the three main figure-level plotting functions in Seaborn?\n",
    "\n",
    "**Answer:**  \n",
    "- `relplot()`: shows the relationship between two variables\n",
    "- `displot()`: shows the distribution of variables\n",
    "- `catplot()`: shows the relationship between a categorical variable and a numerical variable"
   ]
  },
  {
   "cell_type": "markdown",
   "id": "3a3e1fef-095f-4036-8e1a-e5b048c61171",
   "metadata": {},
   "source": [
    "---"
   ]
  },
  {
   "cell_type": "markdown",
   "id": "62ef3f1f-a7a1-44c9-8d67-f3227128a548",
   "metadata": {},
   "source": [
    "**Question:**  \n",
    "What are the common arguments of the figure-level plotting functions in Seaborn?\n",
    "\n",
    "**Answer:**  \n",
    "- `data`: This argument is used to specify the dataset that you want to plot. It can be a Pandas DataFrame, NumPy array, or a list of arrays.\n",
    "\n",
    "- `x`, `y`: These arguments are used to specify the variables that you want to plot on the x- and y-axes, respectively. They can be column names if data is a DataFrame or array, or array-like objects if data is a list of arrays.\n",
    "\n",
    "- `row`, `col`: These arguments are used to create a grid of subplots based on one or more categorical variables. **row** and **col** specify the variables that you want to use for the rows and columns of the grid, respectively.\n",
    "\n",
    "- `kind`: This argument is used to specify the type of plot you want to create and select the **underlying plotting function**.\n",
    "\n",
    "- `hue`: This argument is a vector or key in data and it is a semantic variable that is mapped to determine the color of plot elements."
   ]
  },
  {
   "cell_type": "markdown",
   "id": "4c050df9-6ef9-4e2e-af0c-613eb3e2ba61",
   "metadata": {},
   "source": [
    "---"
   ]
  },
  {
   "cell_type": "markdown",
   "id": "6a325f6a-0778-47fe-abc9-6a1d2872eb4a",
   "metadata": {},
   "source": [
    "**Question:**  \n",
    "Which axes-level plotting functions are used for showing the relationship between two variables?\n",
    "\n",
    "**Answer:**  \n",
    "- `scaterplot()`\n",
    "- `lineplot()`\n"
   ]
  },
  {
   "cell_type": "markdown",
   "id": "808c10d7-8c5d-4848-a775-d3f30abd99f2",
   "metadata": {},
   "source": [
    "---"
   ]
  },
  {
   "cell_type": "markdown",
   "id": "17659407-8d9f-4f40-95ac-200dfff77c7c",
   "metadata": {},
   "source": [
    "**Question:**  \n",
    "Which axes-level plotting functions are used for showing the distribution of variables?\n",
    "\n",
    "**Answer:**  \n",
    "- `histplot()`\n",
    "- `kdeplot()`\n",
    "- `ecdfplot()`\n",
    "- `rugplot()`\n"
   ]
  },
  {
   "cell_type": "markdown",
   "id": "9200ff00-9c0c-4892-bed4-f702f1f7fc9f",
   "metadata": {},
   "source": [
    "---"
   ]
  },
  {
   "cell_type": "markdown",
   "id": "b19d921e-505b-4094-aa3f-259e6dd99de0",
   "metadata": {},
   "source": [
    "**Question:**  \n",
    "How many parts are categorical axes-level plotting functions divided into?\n",
    "\n",
    "**Answer:**  \n",
    "Categorical scatterplots:\n",
    "- `stripplot()`\n",
    "- `swarmplot()`\n",
    "\n",
    "Categorical distribution plots:\n",
    "- `boxplot()`\n",
    "- `violinplot()`\n",
    "- `boxenplot()`\n",
    "\n",
    "Categorical estimate plots:\n",
    "- `pointplot()`\n",
    "- `barplot()`\n",
    "- `countplot()`\n"
   ]
  },
  {
   "cell_type": "markdown",
   "id": "bc494a79-be7b-431e-9772-71fa06144273",
   "metadata": {},
   "source": [
    "---"
   ]
  },
  {
   "cell_type": "markdown",
   "id": "15296d34-47ff-465b-ba58-ac66f0fab714",
   "metadata": {},
   "source": [
    "**Question:**  \n",
    "Imagine you have created an axes with following code. Is it possible to use this axes in the Seaborn axes-level functions?\n",
    "```\n",
    "fix, ax = plt.subplots()\n",
    "```\n",
    "**Answer:**  \n",
    "Seaborn axes-level functions accept a `ax` parameter that allows you to specify the axes on which to create the plot. To use the `ax` created with `plt.subplots()`, you can simply pass it as an argument to the Seaborn plotting function."
   ]
  },
  {
   "cell_type": "markdown",
   "id": "a595b73a-4522-4d10-a90b-388b5d5454b1",
   "metadata": {},
   "source": [
    "---"
   ]
  },
  {
   "cell_type": "markdown",
   "id": "c4cf7a28-dbbd-4079-b269-ffeb42f948ab",
   "metadata": {},
   "source": [
    "**Question:**  \n",
    "Sort the plotting functions of Matplotlib, Seaborn axes-level, and Seaborn figure-level based on their level of abstraction in ascending order.\n",
    "\n",
    "**Answer:**  \n",
    "1. Matplotlib plotting functions\n",
    "2. Seaborn axes-level functions\n",
    "3. Seaborn figure-level functions"
   ]
  },
  {
   "cell_type": "markdown",
   "id": "88202fc3-92e1-47b8-b2a8-c389ca01eb0a",
   "metadata": {},
   "source": [
    "---"
   ]
  },
  {
   "cell_type": "markdown",
   "id": "7b4a213e-dbb2-4021-a67a-0950d5819bed",
   "metadata": {},
   "source": [
    "**Question:**  \n",
    "How can you specify the size of a `FacetGrid()`?\n",
    "\n",
    "**Answer:**  \n",
    "In Seaborn, you can specify the size of a `FacetGrid()` by using the `height` and `aspect` parameters. \n",
    "\n",
    "The `height` parameter specifies the height of each facet in inches, while the `aspect` parameter specifies the aspect ratio of each facet (width / height). Together, these parameters allow you to control the overall size and shape of the `FacetGrid()`."
   ]
  },
  {
   "cell_type": "markdown",
   "id": "761b6961-a21d-4c16-9ff8-89872279c42f",
   "metadata": {},
   "source": [
    "---"
   ]
  }
 ],
 "metadata": {
  "kernelspec": {
   "display_name": "Python 3 (ipykernel)",
   "language": "python",
   "name": "python3"
  },
  "language_info": {
   "codemirror_mode": {
    "name": "ipython",
    "version": 3
   },
   "file_extension": ".py",
   "mimetype": "text/x-python",
   "name": "python",
   "nbconvert_exporter": "python",
   "pygments_lexer": "ipython3",
   "version": "3.9.16"
  }
 },
 "nbformat": 4,
 "nbformat_minor": 5
}
