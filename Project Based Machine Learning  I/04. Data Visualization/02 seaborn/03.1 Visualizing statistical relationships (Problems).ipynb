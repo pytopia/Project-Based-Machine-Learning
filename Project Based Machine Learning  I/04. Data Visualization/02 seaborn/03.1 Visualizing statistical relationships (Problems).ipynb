{
 "cells": [
  {
   "cell_type": "markdown",
   "id": "22f20524-cbe2-4af2-ad61-5f8a915ffb28",
   "metadata": {},
   "source": [
    "<img src=\"../../../images/banners/seaborn.png\" width=\"500\"/>"
   ]
  },
  {
   "cell_type": "markdown",
   "id": "826e8351",
   "metadata": {},
   "source": [
    "# <img src=\"../../../images/logos/seaborn.png\" width=\"23\"/>  Visualizing Statistical Relationships (Problems)"
   ]
  },
  {
   "cell_type": "markdown",
   "id": "fddaef60-0831-453f-854d-5f7398e6e485",
   "metadata": {},
   "source": [
    "**Question:**  \n",
    "How can you change the kind of a `relplot()` in Seaborn?\n",
    "\n",
    "**Answer:**  \n",
    "The `kind` parameter specifies the type of plot to be created by `relplot()`, which can be one of the following values:\n",
    "- **scatter** (default): Creates a scatter plot\n",
    "- **line**: Creates a line plot\n"
   ]
  },
  {
   "cell_type": "markdown",
   "id": "82f1fc29-a88f-4827-b908-16f6ffecea84",
   "metadata": {},
   "source": [
    "---"
   ]
  },
  {
   "cell_type": "markdown",
   "id": "98778890-74ab-4066-88df-2b5c766e089e",
   "metadata": {},
   "source": [
    "**Question:**  \n",
    "Which axes-level plotting functions are underlying the `relplot()`?\n",
    "\n",
    "**Answer:**  \n",
    "- `scaterplot()`\n",
    "- `lineplot()`\n"
   ]
  },
  {
   "cell_type": "markdown",
   "id": "562fc201-8d10-4c77-b041-2ee3c448c135",
   "metadata": {},
   "source": [
    "---"
   ]
  },
  {
   "cell_type": "markdown",
   "id": "161b4e39-58c1-4311-8861-04f0bb9d5cbf",
   "metadata": {},
   "source": [
    "**Question:**  \n",
    "What is the **hue** parameter used for in `relplot()` ?\n",
    "\n",
    "**Answer:**  \n",
    "This parameter is used to group data points by a categorical variable, and apply **different colors** to the groups. This makes it easy to visually distinguish between different categories of data points."
   ]
  },
  {
   "cell_type": "markdown",
   "id": "4f74c520-4d0e-4cf1-b0c8-bc85902539c3",
   "metadata": {},
   "source": [
    "---"
   ]
  },
  {
   "cell_type": "markdown",
   "id": "66e5cf3b-0602-4d05-83d1-fa18e615248b",
   "metadata": {},
   "source": [
    "**Question:**  \n",
    "What is the **style** parameter used for in `relplot()`?\n",
    "\n",
    "**Answer:**  \n",
    "This parameter is used to distinguish between groups using **different symbols or markers**. This makes it easy to visually distinguish between different groups of data points based on a categorical variable."
   ]
  },
  {
   "cell_type": "markdown",
   "id": "78a1e12e-b82f-4507-857c-527424000c52",
   "metadata": {},
   "source": [
    "---"
   ]
  },
  {
   "cell_type": "markdown",
   "id": "cd919d09-a504-4ec3-9c34-195a98a1959f",
   "metadata": {},
   "source": [
    "**Question:**  \n",
    "What is the **size** parameter used for in `relplot()`?\n",
    "\n",
    "**Answer:**  \n",
    "This parameter is used to vary the size of the symbols or markers based on a numeric variable. This makes it easy to visualize the relationship between two variables, one of which is categorical and the other is numeric."
   ]
  },
  {
   "cell_type": "markdown",
   "id": "091f4c7a-afdb-4117-acfb-62e84e722977",
   "metadata": {},
   "source": [
    "---"
   ]
  },
  {
   "cell_type": "markdown",
   "id": "b4830687-085f-42c1-8657-3ab9e0e0404c",
   "metadata": {},
   "source": [
    "**Question:**  \n",
    "What is the **sizes** parameter use for in `relplot()`?\n",
    "\n",
    "**Answer:**  \n",
    "This parameter is used to set the range of sizes for the symbols or markers. By default, `sizes` is set to `1`, which means that the size of the markers is determined entirely by the `size` parameter. However, you can set `sizes` to a tuple of two values to specify the minimum and maximum sizes for the markers."
   ]
  },
  {
   "cell_type": "markdown",
   "id": "98987dac-f238-48d5-9d50-219b2fcca039",
   "metadata": {},
   "source": [
    "---"
   ]
  },
  {
   "cell_type": "markdown",
   "id": "16466344-90c0-417d-a61e-09ae67be2a90",
   "metadata": {},
   "source": [
    "**Question:**  \n",
    "What is the **errorbar** parameter used for in `relplot()`?\n",
    "\n",
    "**Answer:**  \n",
    "This parameter is used to add error bars to the plot. Error bars can be used to visualize the uncertainty or variability of the data points. You can set `errorbar=True` to add error bars to the plot, or set `errorbar=\"ci\"` to add confidence intervals as error bars.\n"
   ]
  },
  {
   "cell_type": "markdown",
   "id": "1771a588-6e4d-495d-bc5a-3e8394fe42a0",
   "metadata": {},
   "source": [
    "---"
   ]
  },
  {
   "cell_type": "markdown",
   "id": "81c4726f-f084-4761-82c4-4007c73f7960",
   "metadata": {},
   "source": [
    "**Question:**  \n",
    "What is the **estimator** parameter used for in `relplot()`?\n",
    "\n",
    "**Answer:**  \n",
    "This parameter is used to specify a function that will be used to **aggregate** the data and compute a summary statistic for each group. This can be useful for visualizing summary statistics such as the **mean**, **median**, **minimum value** or **maximum value** of a variable for each group. estimator parameter can be a user defined function."
   ]
  },
  {
   "cell_type": "markdown",
   "id": "8ca5ac99-c2a5-4d7e-ab5e-75fe12d763ba",
   "metadata": {},
   "source": [
    "---"
   ]
  },
  {
   "cell_type": "markdown",
   "id": "618f2d6e-28a3-4935-8459-a9ce435e4bdc",
   "metadata": {},
   "source": [
    "**Question:**  \n",
    "What is the **sort** parameter used for in `relplot()`?\n",
    "\n",
    "**Answer:**  \n",
    "This parameter is used to sort the data based on the values of the `x` variable. When you set `sort=True`, `relplot()` will sort the groups based on the values of the `x` variable, and reorder the data points accordingly."
   ]
  },
  {
   "cell_type": "markdown",
   "id": "b6270b3a-462d-4603-ab93-7b3c9df2673d",
   "metadata": {},
   "source": [
    "---"
   ]
  },
  {
   "cell_type": "markdown",
   "id": "1c2e0250-043c-42b0-81e4-aebb2dc8f905",
   "metadata": {},
   "source": [
    "**Question:**  \n",
    "What is the **row** and **col** parameters used for in `relplot()`?\n",
    "\n",
    "**Answer:**  \n",
    "These parameters are used to create a grid of subplots, where each subplot shows a different subset of the data.\n",
    "\n",
    "When you set `row` or `col`, `relplot()` creates a grid of subplots, where each row or column shows a different level of a categorical variable."
   ]
  },
  {
   "cell_type": "markdown",
   "id": "5cfa1cb5-f646-4fec-bd62-451f1d9afad2",
   "metadata": {},
   "source": [
    "---"
   ]
  },
  {
   "cell_type": "markdown",
   "id": "67a91b4e-b6e0-4b8e-bcb8-a9199f42db81",
   "metadata": {},
   "source": [
    "**Question:**  \n",
    "What is the **col_wrap** parameter used for in `relplot()`?\n",
    "\n",
    "**Answer:**  \n",
    "This parameter is used to specify the maximum number of columns in the grid of subplots created by the `col` parameter."
   ]
  },
  {
   "cell_type": "markdown",
   "id": "cb3cb3dd-a080-4bbe-a46d-e0b3492161f9",
   "metadata": {},
   "source": [
    "---"
   ]
  }
 ],
 "metadata": {
  "kernelspec": {
   "display_name": "Python 3 (ipykernel)",
   "language": "python",
   "name": "python3"
  },
  "language_info": {
   "codemirror_mode": {
    "name": "ipython",
    "version": 3
   },
   "file_extension": ".py",
   "mimetype": "text/x-python",
   "name": "python",
   "nbconvert_exporter": "python",
   "pygments_lexer": "ipython3",
   "version": "3.9.16"
  }
 },
 "nbformat": 4,
 "nbformat_minor": 5
}
