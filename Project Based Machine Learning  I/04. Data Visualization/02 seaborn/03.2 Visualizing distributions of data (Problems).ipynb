{
 "cells": [
  {
   "cell_type": "markdown",
   "id": "9b5c5a2d-ed70-4581-a464-19587db1d364",
   "metadata": {},
   "source": [
    "<img src=\"../../../images/banners/seaborn.png\" width=\"500\"/>"
   ]
  },
  {
   "cell_type": "markdown",
   "id": "e7c468dc",
   "metadata": {},
   "source": [
    "# <img src=\"../../../images/logos/seaborn.png\" width=\"23\"/>  Visualizing distributions of data (Problems)"
   ]
  },
  {
   "cell_type": "markdown",
   "id": "b4693501-7214-43e2-9f6e-634c7e386512",
   "metadata": {},
   "source": [
    "**Question:**  \n",
    "How can you change the kind of a `displot()` in Seaborn?\n",
    "\n",
    "**Answer:**  \n",
    "The `kind` parameter specifies the type of plot to be created by `displot()`, which can be one of the following values:\n",
    "- **hist**: creates a histogram (default)\n",
    "- **kde**: creates a kernel density estimate plot\n",
    "- **ecdf**: represents the proportion or count of observations falling below each unique value in a dataset.\n",
    "\n",
    "Additionally, a `rugplot()` can be added to any kind of plot to show individual observations."
   ]
  },
  {
   "cell_type": "markdown",
   "id": "c868e806-7cff-42ca-ad9c-e28a7d0ae765",
   "metadata": {},
   "source": [
    "---"
   ]
  },
  {
   "cell_type": "markdown",
   "id": "6bdf6540-3fac-4349-88ab-6c9c6e21057b",
   "metadata": {},
   "source": [
    "**Question:**  \n",
    "Which axes-level plotting functions are underlying the `displot()`?\n",
    "\n",
    "**Answer:**  \n",
    "- `histplot()`\n",
    "- `kdeplot()`\n",
    "- `ecdfplot()`\n",
    "- `rugplot()`\n"
   ]
  },
  {
   "cell_type": "markdown",
   "id": "a198b25b-0ab0-4cb9-b2f1-8568ebe150a1",
   "metadata": {},
   "source": [
    "---"
   ]
  },
  {
   "cell_type": "markdown",
   "id": "5f957338-4c8e-4fdf-97b3-cd3ade345758",
   "metadata": {},
   "source": [
    "**Question:**  \n",
    "What is the use of `histplot()` in Seaborn?\n",
    "\n",
    "**Answer:**  \n",
    "In Seaborn, `histplot()` is a function that creates a histogram of a single variable in a dataset.\n",
    "\n",
    "A histogram is a graphical representation of the distribution of a dataset, showing the frequency or proportion of observations that fall within certain ranges or \"bins\" of the variable being measured."
   ]
  },
  {
   "cell_type": "markdown",
   "id": "b8e6ef61-95a8-495d-b5e7-a979de46d1a8",
   "metadata": {},
   "source": [
    "---"
   ]
  },
  {
   "cell_type": "markdown",
   "id": "50aaf8e0-c015-4a56-ba7c-21d02f331ba9",
   "metadata": {},
   "source": [
    "**Question:**  \n",
    "What is the use of `kdeplot()` in Seaborn?\n",
    "\n",
    "**Answer:**  \n",
    "In Seaborn, `kdeplot()` is a function that creates a kernel density estimate (KDE) plot of a single variable in a dataset.\n",
    "\n",
    "A kernel density estimate plot is a non-parametric way to estimate the probability density function of a random variable. It provides a smoothed estimate of the distribution of the data, which can be useful for visualizing the shape of the distribution and identifying any patterns or trends in the data.\n"
   ]
  },
  {
   "cell_type": "markdown",
   "id": "ba32ac14-7d17-4624-b67b-94ab27916f9b",
   "metadata": {},
   "source": [
    "---"
   ]
  },
  {
   "cell_type": "markdown",
   "id": "4d103f29-96ab-4841-b834-96fa0c70bb40",
   "metadata": {},
   "source": [
    "**Question:**  \n",
    "What are the disadvantages of `kdeplot()` in Seaborn?\n",
    "\n",
    "**Answer:**  \n",
    "1. **Computationally intensive**: Calculating the kernel density estimate for a large dataset can be computationally intensive, especially if you want a smooth estimate with a narrow bandwidth. This can make KDE plots slow to generate and may require more computing resources than other types of plots.\n",
    "\n",
    "2. **Sensitive to bandwidth choice**: The shape of the KDE plot is highly dependent on the bandwidth parameter, which controls the width of the kernels used to estimate the density. If the bandwidth is too narrow, the estimate may be oversmoothed and miss important features of the distribution. If the bandwidth is too wide, the estimate may be undersmoothed and show too much noise. Choosing an appropriate bandwidth can be challenging, especially if the data has complex or multimodal distributions.\n",
    "\n",
    "3. **Underlying distribution is smooth and unbounded**: This means that the distribution has no discontinuities or sharp corners, and that it extends infinitely in all directions. If the underlying distribution is not smooth or unbounded, KDE may not be an appropriate method for estimating the probability density function."
   ]
  },
  {
   "cell_type": "markdown",
   "id": "a648ceb8-2ee8-4566-a7ce-f06f2de55d07",
   "metadata": {},
   "source": [
    "---"
   ]
  },
  {
   "cell_type": "markdown",
   "id": "8e05f185-1604-4ac0-983a-64673eb9d867",
   "metadata": {},
   "source": [
    "**Question:**  \n",
    "What is the use of  `ecdfplot()` in Seaborn?\n",
    "\n",
    "**Answer:**  \n",
    "The `ecdfplot()` function in Seaborn is used to visualize the empirical cumulative distribution function (ECDF) of a dataset. The ECDF is a non-parametric way to describe the distribution of a variable.\n",
    "The `ecdfplot()` function in Seaborn creates a step function that plots the proportion or cumulative fraction of observations that are less than or equal to a given value on the x-axis. The y-axis shows the proportion or cumulative fraction of observations that fall in that range. "
   ]
  },
  {
   "cell_type": "markdown",
   "id": "999564a9-f78e-4363-8dc6-46fe15d6b85f",
   "metadata": {},
   "source": [
    "---"
   ]
  },
  {
   "cell_type": "markdown",
   "id": "c9967dce-291e-4bef-b7bc-8cddde29a735",
   "metadata": {},
   "source": [
    "**Question:**  \n",
    "What is the use of `rugplot()` in Seaborn?\n",
    "\n",
    "**Answer:**  \n",
    "A `rugplot()` is a plot of data points on the x-axis or y-axis that gives a sense of the density of the data. Each data point is represented by a short vertical line or a \"tick\" on the axis, so the rug plot looks like a rug with the data points representing the fibers of the rug.\n"
   ]
  },
  {
   "cell_type": "markdown",
   "id": "9f0ed3e8-f22e-474f-be83-21824e01fae3",
   "metadata": {},
   "source": [
    "---"
   ]
  },
  {
   "cell_type": "markdown",
   "id": "3e9c67b3-5e34-430f-bd95-5ccf2629eca3",
   "metadata": {},
   "source": [
    "**Question:**  \n",
    "\n",
    "**Answer:**  \n",
    "Univariate, bivariate, and multivariate are terms used to describe the number of variables or dimensions being analyzed in a statistical or data analysis context.\n",
    "\n",
    "- **Univariate analysis**: It is the analysis of one variable at a time, without considering its relationship with other variables. Common univariate techniques include measures of central tendency (e.g., mean, median, mode), measures of dispersion (e.g., range, variance, standard deviation), and graphical displays such as histograms, box plots, and density plots.\n",
    "\n",
    "- **Bivariate analysis**: It is the analysis of the relationship between two variables. Common bivariate techniques include correlation analysis, regression analysis, and scatter plots.\n",
    "\n",
    "- **Multivariate analysis**: It is the analysis of the relationship between multiple variables. Common multivariate plotting in Seaborn are `pairplot()` and `jointplot()`\n"
   ]
  },
  {
   "cell_type": "markdown",
   "id": "f76d3410-145f-40bf-8b49-3e7ad13f2fd0",
   "metadata": {},
   "source": [
    "---"
   ]
  },
  {
   "cell_type": "markdown",
   "id": "5b39dbba-bdea-4fb4-8f67-021b428c70e6",
   "metadata": {},
   "source": [
    "**Question:**  \n",
    "How can you use `displot()` function to plot **bivariate** distributions?\n",
    "\n",
    "**Answer:**  \n",
    "By specifying both the **x** and **y** variables using the x and y parameters. When both x and y parameters are specified, `displot()` creates a bivariate plot.\n"
   ]
  },
  {
   "cell_type": "markdown",
   "id": "2fb2fc2c-5bac-470b-ae77-99ccd2af40a3",
   "metadata": {},
   "source": [
    "---"
   ]
  },
  {
   "cell_type": "markdown",
   "id": "3e985657-fb54-4608-84c3-7fbfd7423c3f",
   "metadata": {},
   "source": [
    "**Question:**  \n",
    "What is the **binwidth** parameter used for in `displot()` ?\n",
    "\n",
    "**Answer:**  \n",
    "This parameter sets the width of the bins used in the histogram. By default, `displot()` chooses an appropriate bin width based on the data, but you can specify a custom bin width using this parameter."
   ]
  },
  {
   "cell_type": "markdown",
   "id": "f101abc7-da0e-4e85-95f7-f85a53fb2738",
   "metadata": {},
   "source": [
    "---"
   ]
  },
  {
   "cell_type": "markdown",
   "id": "5f70816b-58ac-48db-a324-cc6d460671e0",
   "metadata": {},
   "source": [
    "**Question:**  \n",
    "What is the **bins** parameter used for in `displot()` ?\n",
    "\n",
    "**Answer:**  \n",
    "This parameter sets the number of bins used in the histogram. If `binwidth` is also specified, `bins` will be ignored."
   ]
  },
  {
   "cell_type": "markdown",
   "id": "e9aa04fb-bcbe-41d3-8a0c-6c2fa5f2bc27",
   "metadata": {},
   "source": [
    "---"
   ]
  },
  {
   "cell_type": "markdown",
   "id": "3269f659-b0b0-472f-9d6e-26f2d1c3cea6",
   "metadata": {},
   "source": [
    "**Question:**  \n",
    "What is the **discrete** parameter used for in `displot()` ?\n",
    "\n",
    "**Answer:**  \n",
    "This parameter is a boolean that indicates whether the data is discrete or continuous. If `discrete=True`, `displot()` will create a histogram with discrete bins and no kernel density estimate. If `discrete=False` (the default), `displot()` will create a histogram with continuous bins and a kernel density estimate."
   ]
  },
  {
   "cell_type": "markdown",
   "id": "6c2d8387-b269-4b42-928f-93cab6711356",
   "metadata": {},
   "source": [
    "---"
   ]
  },
  {
   "cell_type": "markdown",
   "id": "8e160c25-d6e2-4cf4-b7c8-284c307780c6",
   "metadata": {},
   "source": [
    "**Question:**  \n",
    "What is the **shrink** parameter used for in `displot()` ?\n",
    "\n",
    "**Answer:**  \n",
    "This parameter is a float between 0 and 1 that is used with `discrete=True` and specifies the fraction of the total bar width that should be empty space between the bars. By default, shrink=0.8, which means that 80% of the total bar width is used for the bars, and the remaining 20% is empty space between the bars."
   ]
  },
  {
   "cell_type": "markdown",
   "id": "2ea56f14-72cb-4410-829d-2e6428a43e21",
   "metadata": {},
   "source": [
    "---"
   ]
  },
  {
   "cell_type": "markdown",
   "id": "9352762e-6aaa-44e9-9e2a-dc12dac60585",
   "metadata": {},
   "source": [
    "**Question:**  \n",
    "What is the **element** parameter used for in `displot()` ?\n",
    "\n",
    "**Answer:**  \n",
    "This parameter is used to specify the type of plot element to use in the visualization and can take one of following values:\n",
    "- **\"bars\"**: This is the default value and creates a histogram with bars.\n",
    "- **\"step\"**: This creates a histogram with stepped bars.\n",
    "- **\"poly\"**: This creates a histogram with a filled curve that connects the tops of the bars."
   ]
  },
  {
   "cell_type": "markdown",
   "id": "e77e92c9-73a2-4113-8434-6ba350f60444",
   "metadata": {},
   "source": [
    "---"
   ]
  },
  {
   "cell_type": "markdown",
   "id": "59f6b550-28c8-4c6e-9cf1-64faf50d0991",
   "metadata": {},
   "source": [
    "**Question:**  \n",
    "What is the **multiple** parameter used for in `displot()` ?\n",
    "\n",
    "**Answer:**  \n",
    "This parameter is used with `kind='hist'` to specify the approach to resolving multiple elements when semantic mapping creates subsets. Only relevant with univariate data.\n",
    "\n",
    "This parameter can take one of the following values:\n",
    "- **\"layer\"**\n",
    "- **\"dodge\"**\n",
    "- **\"stack\"**\n",
    "- **\"fill\"**"
   ]
  },
  {
   "cell_type": "markdown",
   "id": "ebaeb6ec-2dd1-43c3-84d5-ceff3b2ab669",
   "metadata": {},
   "source": [
    "---"
   ]
  },
  {
   "cell_type": "markdown",
   "id": "1c45e908-d8c9-4e8c-951c-c0761b800e28",
   "metadata": {},
   "source": [
    "**Question:**  \n",
    "What is the **stat** parameter used for in `displot()` ?\n",
    "\n",
    "**Answer:**  \n",
    "This parameter is used to specify the type of statistic to compute for each bin in the histogram and can take following values:    \n",
    "- **\"count\"**: show the number of observations in each bin\n",
    "- **\"frequency\"**: show the number of observations divided by the bin width\n",
    "- **\"percent\"**: normalize such that bar heights sum to 100\n",
    "- **\"density\"**: normalize such that the total area of the histogram equals 1\n",
    "- **\"probability** or **\"proportion\"**: normalize such that bar heights sum to 1"
   ]
  },
  {
   "cell_type": "markdown",
   "id": "7b2a6523-bfe3-4c43-bd5a-3d0d59629585",
   "metadata": {},
   "source": [
    "---"
   ]
  },
  {
   "cell_type": "markdown",
   "id": "845f9158-b5c5-49e9-91cc-08e396668043",
   "metadata": {},
   "source": [
    "**Question:**  \n",
    "What is the **bw_adjust** parameter used for in `displot()` ?\n",
    "\n",
    "**Answer:**  \n",
    "This parameter is used to adjust the bandwidth of the kernel density estimate. A value greater than 1 will result in a wider bandwidth and a smoother density estimate, while a value less than 1 will result in a narrower bandwidth and a more jagged density estimate."
   ]
  },
  {
   "cell_type": "markdown",
   "id": "9446c913-e13b-47c0-af5e-714b2df30435",
   "metadata": {},
   "source": [
    "---"
   ]
  },
  {
   "cell_type": "markdown",
   "id": "a0626b67-95fc-440c-ba92-5a30e822a259",
   "metadata": {},
   "source": [
    "**Question:**  \n",
    "What is the **fill** parameter used for in `displot()` ?\n",
    "\n",
    "**Answer:**  \n",
    "This parameter is used to fill the area between the histogram bars with color. If `fill=True`, the area between the bars will be filled, and if `fill=False` (the default), it will not be filled."
   ]
  },
  {
   "cell_type": "markdown",
   "id": "3c6a921e-6957-4977-8fd7-809ae233a4b3",
   "metadata": {},
   "source": [
    "---"
   ]
  },
  {
   "cell_type": "markdown",
   "id": "7a6a771f-1cb6-4427-be95-bc6d79118582",
   "metadata": {},
   "source": [
    "**Question:**  \n",
    "What is the **log_scale** parameter used for in `displot()`?\n",
    "\n",
    "**Answer:**  \n",
    "This parameter controls whether the x-axis or y-axis of a `displot()` is displayed on a logarithmic scale.\n",
    "\n",
    "Setting log_scale to True applies a logarithmic transformation to the corresponding axis, which can be useful for visualizing data that spans several orders of magnitude or that follows an exponential distribution.\n"
   ]
  },
  {
   "cell_type": "markdown",
   "id": "ead94ca9-979a-4005-8da1-49b0deb5f51b",
   "metadata": {},
   "source": [
    "---"
   ]
  },
  {
   "cell_type": "markdown",
   "id": "40fafea9-48c3-4f16-a72e-9790b026a493",
   "metadata": {},
   "source": [
    "**Question:**  \n",
    "What is the **rug** parameter used for in `displot()`?\n",
    "\n",
    "**Answer:**  \n",
    "This parameter controls whether a rug plot is added to the plot.\n",
    "\n",
    "When `rug=True` is set in `displot()`, a rug plot will be added to the plot. The rug plot can be used to show the density of data points and to identify any gaps or outliers in the data. "
   ]
  },
  {
   "cell_type": "markdown",
   "id": "77d7e819-c18a-4f95-8a8a-89ab47700727",
   "metadata": {},
   "source": [
    "---"
   ]
  },
  {
   "cell_type": "markdown",
   "id": "2718baf2-8901-46b9-9deb-93b6a7ebf7aa",
   "metadata": {},
   "source": [
    "**Question:**  \n",
    "What is the use of `jointplot()` in Seaborn?\n",
    "\n",
    "**Answer:**  \n",
    "The `jointplot()` is a way of understanding the relationship between two variables and the distribution of individuals of each variable. The joint plot mainly consists of three separate plots in which, one of it was the middle figure that is used to see the relationship between x and y. So, this area will give the information about the joint distribution, while the remaining two areas will provide us with the marginal distribution for the x-axis and y-axis.\n"
   ]
  },
  {
   "cell_type": "markdown",
   "id": "295c2f5f-4a9a-40c1-97d9-f0036dc36018",
   "metadata": {},
   "source": [
    "---"
   ]
  },
  {
   "cell_type": "markdown",
   "id": "4a16a748-dabc-4a62-aca4-c1146bd2d1e0",
   "metadata": {},
   "source": [
    "**Question:**  \n",
    "What is the `JointGrid()` in Seaborn?\n",
    "\n",
    "**Answer:**  \n",
    "In Seaborn, `JointGrid()` is a class that allows you to create a custom joint plot with more flexibility and control than the `jointplot()` function. \n",
    "\n",
    "The `JointGrid()` class provides methods for customizing the plot, including `plot_joint()` and `plot_marginals()`.\n",
    "\n",
    "For example:\n",
    "```\n",
    "grid = sns.JointGrid(data, x='x', y='y')\n",
    "grid.plot_joint(sns.scatterplot)\n",
    "grid.plot_marginals(sns.histplot, kde=True)\n",
    "```"
   ]
  },
  {
   "cell_type": "markdown",
   "id": "27ed65fa-e31a-4e69-bffa-a297869e5982",
   "metadata": {},
   "source": [
    "---"
   ]
  },
  {
   "cell_type": "markdown",
   "id": "9f463730-be2d-4e63-8dd9-e09ed7fbeec2",
   "metadata": {},
   "source": [
    "**Question:**  \n",
    "What is the use of `pairplot()` in Seaborn?\n",
    "\n",
    "**Answer:**  \n",
    "In Seaborn, `pairplot()` is a powerful visualization tool that creates a matrix of **scatter plots** (upper and lower the matrix diameter) and **histograms** (on the matrix diameter) to visualize the pairwise relationships between multiple variables in a dataset. \n",
    "\n",
    "`pairplot()` can be used to quickly visualize the distribution of data, the relationships between variables, and potential patterns or trends in the data. It's particularly useful when you have many variables and want to explore how they are related to each other."
   ]
  },
  {
   "cell_type": "markdown",
   "id": "243c964b-80fd-4877-bb1c-050eeaa80653",
   "metadata": {},
   "source": [
    "---"
   ]
  },
  {
   "cell_type": "markdown",
   "id": "a04780f8-0ceb-48a9-90fc-ef64b1dcb119",
   "metadata": {},
   "source": [
    "**Question:**  \n",
    "What is the `PairGrid()` in Seaborn?\n",
    "\n",
    "**Answer:**  \n",
    "In Seaborn, `PairGrid()` is a class that allows you to create a custom pair plot with more flexibility and control than the `pairplot()` function. \n",
    "\n",
    "The `PairGrid()` class provides methods, including: `map_diag()`, `map_offdiag()`, `map_lower()` and `map_upper()`"
   ]
  },
  {
   "cell_type": "markdown",
   "id": "56fe53aa-950d-4d09-9a43-8c47bee0aff1",
   "metadata": {},
   "source": [
    "---"
   ]
  }
 ],
 "metadata": {
  "kernelspec": {
   "display_name": "Python 3 (ipykernel)",
   "language": "python",
   "name": "python3"
  },
  "language_info": {
   "codemirror_mode": {
    "name": "ipython",
    "version": 3
   },
   "file_extension": ".py",
   "mimetype": "text/x-python",
   "name": "python",
   "nbconvert_exporter": "python",
   "pygments_lexer": "ipython3",
   "version": "3.9.16"
  }
 },
 "nbformat": 4,
 "nbformat_minor": 5
}
